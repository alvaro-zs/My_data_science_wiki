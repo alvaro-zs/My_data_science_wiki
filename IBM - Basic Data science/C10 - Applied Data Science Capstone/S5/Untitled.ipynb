{
 "cells": [
  {
   "cell_type": "markdown",
   "id": "4f194ece-9bcf-433c-88d7-ddc2875b98d4",
   "metadata": {},
   "source": [
    "In this week, you will continue working on your capstone project. Please remember by the end of this week, you will need to submit the following:\n",
    "\n",
    "1) A full report consisting of all of the following components (15 marks):\n",
    "- Introduction where you discuss the business problem and who would be interested in this project.\n",
    "- Data where you describe the data that will be used to solve the problem and the source of the data.\n",
    "- Methodology section which represents the main component of the report where you discuss and describe any exploratory data analysis that you did, any inferential statistical testing that you performed, if any, and what machine learnings were used and why.\n",
    "- Results section where you discuss the results.\n",
    "- Discussion section where you discuss any observations you noted and any recommendations you can make based on the results.\n",
    "- Conclusion section where you conclude the report.\n",
    "\n",
    "2) A link to your Notebook on your Github repository pushed showing your code. (15 marks)\n",
    "\n",
    "3) Your choice of a presentation or blogpost. (10 marks)\n",
    "\n",
    "Here are examples of previous outstanding submissions that should give you an idea of what your report would look like, what your notebook would look like in terms of clean, clear, and well-commented code, and what your presentation would look like or your blogpost would look like:\n",
    "\n",
    "Report: https://cf-courses-data.s3.us.cloud-object-storage.appdomain.cloud/IBMDeveloperSkillsNetwork-DS0701EN-SkillsNetwork/labs_v1/sample_reports/Predicting_the_Improvement_of_NBA_players_Report.pdf\n",
    "\n",
    "Notebook: Notebook Template\n",
    "\n",
    "Presentation: https://cf-courses-data.s3.us.cloud-object-storage.appdomain.cloud/IBMDeveloperSkillsNetwork-DS0701EN-SkillsNetwork/labs_v1/sample_reports/Predicting_the_Improvement_of_NBA_players_Presentation.pdf\n",
    "\n",
    "Blogpost: https://www.linkedin.com/pulse/housing-sales-prices-venues-data-analysis-ofistanbul-sercan-\n",
    "y%C4%B1ld%C4%B1z/"
   ]
  },
  {
   "cell_type": "code",
   "execution_count": null,
   "id": "23c09356-1095-433d-b075-7330ed4f853d",
   "metadata": {},
   "outputs": [],
   "source": []
  }
 ],
 "metadata": {
  "kernelspec": {
   "display_name": "data_test1",
   "language": "python",
   "name": "data_test1"
  },
  "language_info": {
   "codemirror_mode": {
    "name": "ipython",
    "version": 3
   },
   "file_extension": ".py",
   "mimetype": "text/x-python",
   "name": "python",
   "nbconvert_exporter": "python",
   "pygments_lexer": "ipython3",
   "version": "3.9.4"
  }
 },
 "nbformat": 4,
 "nbformat_minor": 5
}
