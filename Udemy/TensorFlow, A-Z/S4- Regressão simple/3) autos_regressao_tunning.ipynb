{
 "cells": [
  {
   "cell_type": "code",
   "execution_count": 1,
   "id": "01980779-f5cc-4128-bb34-599af9711c05",
   "metadata": {},
   "outputs": [],
   "source": [
    "import pandas as pd\n",
    "import keras\n",
    "from keras.models import Sequential\n",
    "from keras.layers import Dense, Dropout\n",
    "from keras.wrappers.scikit_learn import KerasRegressor\n",
    "from sklearn.model_selection import GridSearchCV\n",
    "import time"
   ]
  },
  {
   "cell_type": "code",
   "execution_count": 2,
   "id": "9f8356f6-3fd6-4771-af29-29b069e37d8b",
   "metadata": {},
   "outputs": [],
   "source": [
    "base = pd.read_csv('autos.csv', encoding = 'ISO-8859-1')\n",
    "\n",
    "base = base.drop('dateCrawled', axis = 1)\n",
    "base = base.drop('dateCreated', axis = 1)\n",
    "base = base.drop('nrOfPictures', axis = 1)\n",
    "base = base.drop('postalCode', axis = 1)\n",
    "base = base.drop('lastSeen', axis = 1)\n",
    "base = base.drop('name', axis = 1)\n",
    "base = base.drop('seller', axis = 1)\n",
    "base = base.drop('offerType', axis = 1)\n",
    "\n",
    "base = base[base.price > 10]\n",
    "base = base.loc[base.price < 350000]\n",
    "\n",
    "valores = {'vehicleType': 'limousine', 'gearbox': 'manuell',\n",
    "           'model': 'golf', 'fuelType': 'benzin',\n",
    "           'notRepairedDamage': 'nein'}\n",
    "base = base.fillna(value = valores)\n",
    "\n",
    "previsores = base.iloc[:, 1:13].values\n",
    "preco_real = base.iloc[:, 0].values"
   ]
  },
  {
   "cell_type": "code",
   "execution_count": 3,
   "id": "a10ccb7a-ecc5-4483-8a9f-3c1b82b8d79c",
   "metadata": {},
   "outputs": [],
   "source": [
    "from sklearn.preprocessing import OneHotEncoder\n",
    "from sklearn.compose import ColumnTransformer\n",
    " \n",
    "onehotencorder = ColumnTransformer(transformers=[(\"OneHot\", OneHotEncoder(), [0,1,3,5,8,9,10])],remainder='passthrough')\n",
    "previsores = onehotencorder.fit_transform(previsores).toarray()"
   ]
  },
  {
   "cell_type": "code",
   "execution_count": null,
   "id": "21273366-1a44-4b87-9b07-fc520edb685c",
   "metadata": {},
   "outputs": [],
   "source": [
    "def criar_rede(unit1, unit2, drop1, drop2, kernel_initializer1, kernel_initializer2, optimizer):\n",
    "    \n",
    "    regressor = Sequential()\n",
    "    \n",
    "    regressor.add(Dense(units = unit1, activation = 'relu',  kernel_initializer = kernel_initializer1, input_dim = 316))\n",
    "    \n",
    "    classificador.add(Dropout(drop1))\n",
    "    \n",
    "    regressor.add(Dense(units = unit2, activation = 'relu',  kernel_initializer = kernel_initializer2))\n",
    "    \n",
    "    classificador.add(Dropout(drop2))\n",
    "    \n",
    "    regressor.add(Dense(units = 1, activation = 'linear'))\n",
    "    \n",
    "    regressor.compile(loss = 'mean_absolute_error', optimizer = optimizer,\n",
    "                      metrics = ['mean_absolute_error'])\n",
    "    \n",
    "    return regressor"
   ]
  },
  {
   "cell_type": "code",
   "execution_count": null,
   "id": "b882c8d0-6061-48de-9fb8-6c523b99b546",
   "metadata": {},
   "outputs": [],
   "source": [
    "classificador = KerasRegressor(build_fn = criarRede)\n",
    "parametros = {'batch_size': [300],\n",
    "              'epochs': [100],\n",
    "              #'callbacks': [ClearMemory()],\n",
    "              'drop1': [0.2, 0.3],\n",
    "              'drop2': [0.2, 0.3],\n",
    "              'unit1': [158],\n",
    "              'unit2': [158],\n",
    "              'kernel_initializer1': ['random_uniform'],\n",
    "              'kernel_initializer2': ['random_uniform'],\n",
    "              'optimizer': ['RMSprop', 'adam', 'sgd']\n",
    "              #'clipvalue': [0.5, 0.1, 0.05]\n",
    "             }"
   ]
  },
  {
   "cell_type": "code",
   "execution_count": null,
   "id": "803fb0a4-3c45-4cc1-8ad0-7fd90d5c56e2",
   "metadata": {},
   "outputs": [],
   "source": [
    "grid_search = GridSearchCV(estimator = classificador,\n",
    "                           param_grid = parametros,\n",
    "                           scoring = 'neg_mean_absolute_error',\n",
    "                           cv = 4,\n",
    "                           n_jobs=1)"
   ]
  },
  {
   "cell_type": "code",
   "execution_count": null,
   "id": "0244abd9-8c20-4a84-b757-33fd3abc1d0f",
   "metadata": {},
   "outputs": [],
   "source": [
    "grid_search = grid_search.fit(previsores, preco_real)"
   ]
  },
  {
   "cell_type": "code",
   "execution_count": null,
   "id": "35a98e56-01fc-47ed-b5de-36a32be76970",
   "metadata": {},
   "outputs": [],
   "source": []
  }
 ],
 "metadata": {
  "kernelspec": {
   "display_name": "data_1",
   "language": "python",
   "name": "data_1"
  },
  "language_info": {
   "codemirror_mode": {
    "name": "ipython",
    "version": 3
   },
   "file_extension": ".py",
   "mimetype": "text/x-python",
   "name": "python",
   "nbconvert_exporter": "python",
   "pygments_lexer": "ipython3",
   "version": "3.8.10"
  }
 },
 "nbformat": 4,
 "nbformat_minor": 5
}
