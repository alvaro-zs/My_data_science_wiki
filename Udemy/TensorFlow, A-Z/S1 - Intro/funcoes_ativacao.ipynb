{
 "cells": [
  {
   "cell_type": "code",
   "execution_count": 2,
   "id": "d778af40-a316-4e8c-9418-d2d5c2b87b32",
   "metadata": {},
   "outputs": [],
   "source": [
    "import numpy as np\n",
    "# transfer function\n",
    "\n",
    "def stepFunction(soma):\n",
    "    if (soma >= 1):\n",
    "        return 1\n",
    "    return 0\n",
    " \n",
    "def sigmoidFunction(soma):\n",
    "    return 1 / (1 + np.exp(-soma))\n",
    "\n",
    "def tahnFunction(soma):\n",
    "    return (np.exp(soma) - np.exp(-soma)) / (np.exp(soma) + np.exp(-soma))\n",
    "\n",
    "def reluFunction(soma):\n",
    "    if soma >= 0:\n",
    "        return soma\n",
    "    return 0\n",
    "\n",
    "def linearFunction(soma):\n",
    "    return soma\n",
    "\n",
    "def softmaxFunction(x):\n",
    "    ex = np.exp(x)\n",
    "    return ex / ex.sum()"
   ]
  },
  {
   "cell_type": "code",
   "execution_count": 3,
   "id": "3a71b213-feb7-4917-8527-a63b37a00406",
   "metadata": {},
   "outputs": [
    {
     "data": {
      "text/plain": [
       "0"
      ]
     },
     "execution_count": 3,
     "metadata": {},
     "output_type": "execute_result"
    }
   ],
   "source": [
    "teste = stepFunction(-1)\n",
    "teste"
   ]
  },
  {
   "cell_type": "code",
   "execution_count": 10,
   "id": "7b93d2f7-facb-4016-9ca6-39323c27db6d",
   "metadata": {},
   "outputs": [
    {
     "data": {
      "text/plain": [
       "0.8909031788043871"
      ]
     },
     "execution_count": 10,
     "metadata": {},
     "output_type": "execute_result"
    }
   ],
   "source": [
    "teste = sigmoidFunction(2.1)\n",
    "teste"
   ]
  },
  {
   "cell_type": "code",
   "execution_count": 11,
   "id": "2d1aaf8c-9939-4dc7-bd65-af5478679346",
   "metadata": {},
   "outputs": [
    {
     "data": {
      "text/plain": [
       "0.9704519366134541"
      ]
     },
     "execution_count": 11,
     "metadata": {},
     "output_type": "execute_result"
    }
   ],
   "source": [
    "teste = tahnFunction(2.1)\n",
    "teste"
   ]
  },
  {
   "cell_type": "code",
   "execution_count": 6,
   "id": "d518fd44-a0e0-414e-86d2-0b86edafe4ef",
   "metadata": {},
   "outputs": [
    {
     "data": {
      "text/plain": [
       "0.358"
      ]
     },
     "execution_count": 6,
     "metadata": {},
     "output_type": "execute_result"
    }
   ],
   "source": [
    "teste = reluFunction(0.358)\n",
    "teste"
   ]
  },
  {
   "cell_type": "code",
   "execution_count": 7,
   "id": "11c6ac2c-8ef1-488b-8ccb-05b24a10aae1",
   "metadata": {},
   "outputs": [
    {
     "data": {
      "text/plain": [
       "-0.358"
      ]
     },
     "execution_count": 7,
     "metadata": {},
     "output_type": "execute_result"
    }
   ],
   "source": [
    "teste = linearFunction(-0.358)\n",
    "teste"
   ]
  },
  {
   "cell_type": "code",
   "execution_count": 8,
   "id": "2ce43bfd-bab1-427f-8b72-e8eb541cd069",
   "metadata": {},
   "outputs": [
    {
     "name": "stdout",
     "output_type": "stream",
     "text": [
      "[0.99001676 0.00667068 0.00331256]\n"
     ]
    }
   ],
   "source": [
    "valores = [7.0, 2.0, 1.3]\n",
    "print(softmaxFunction(valores))"
   ]
  },
  {
   "cell_type": "code",
   "execution_count": 9,
   "id": "55a9d949-044d-4ae3-8c27-4ecb460452ec",
   "metadata": {},
   "outputs": [
    {
     "data": {
      "text/plain": [
       "2.1"
      ]
     },
     "execution_count": 9,
     "metadata": {},
     "output_type": "execute_result"
    }
   ],
   "source": [
    "5*0.2+2*0.5+1*0.1"
   ]
  },
  {
   "cell_type": "code",
   "execution_count": 13,
   "id": "8a3861db-3429-42fa-963f-95eaf90dcf5f",
   "metadata": {},
   "outputs": [],
   "source": [
    "y_true = [1, 0, 1, 0]\n",
    "y_pred = [0.3, 0.02, 0.89, 0.32]"
   ]
  },
  {
   "cell_type": "code",
   "execution_count": 14,
   "id": "9219b741-5eae-45e6-8457-5379df5250e0",
   "metadata": {},
   "outputs": [
    {
     "data": {
      "text/plain": [
       "0.2875"
      ]
     },
     "execution_count": 14,
     "metadata": {},
     "output_type": "execute_result"
    }
   ],
   "source": [
    "from sklearn.metrics import mean_absolute_error\n",
    "mean_absolute_error(y_true, y_pred)"
   ]
  },
  {
   "cell_type": "code",
   "execution_count": 15,
   "id": "20958748-c9e3-4288-869c-1e56a2250043",
   "metadata": {},
   "outputs": [
    {
     "data": {
      "text/plain": [
       "0.151225"
      ]
     },
     "execution_count": 15,
     "metadata": {},
     "output_type": "execute_result"
    }
   ],
   "source": [
    "from sklearn.metrics import mean_squared_error\n",
    "mean_squared_error(y_true, y_pred)"
   ]
  },
  {
   "cell_type": "code",
   "execution_count": null,
   "id": "6324d7de-a3f9-4398-8bd0-84d43eadb8d7",
   "metadata": {},
   "outputs": [],
   "source": []
  }
 ],
 "metadata": {
  "kernelspec": {
   "display_name": "data_1",
   "language": "python",
   "name": "data_1"
  },
  "language_info": {
   "codemirror_mode": {
    "name": "ipython",
    "version": 3
   },
   "file_extension": ".py",
   "mimetype": "text/x-python",
   "name": "python",
   "nbconvert_exporter": "python",
   "pygments_lexer": "ipython3",
   "version": "3.8.10"
  }
 },
 "nbformat": 4,
 "nbformat_minor": 5
}
