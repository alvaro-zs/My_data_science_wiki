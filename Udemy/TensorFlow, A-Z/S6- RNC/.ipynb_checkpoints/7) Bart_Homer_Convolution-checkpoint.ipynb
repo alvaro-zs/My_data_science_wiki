{
 "cells": [
  {
   "cell_type": "code",
   "execution_count": 1,
   "id": "eb0af4d0-cb25-4848-934a-f0f5bcf595de",
   "metadata": {},
   "outputs": [],
   "source": [
    "from keras.models import Sequential\n",
    "from keras.layers import Conv2D, MaxPooling2D, Flatten, Dense, Dropout\n",
    "from keras.layers.normalization import BatchNormalization\n",
    "from keras.preprocessing.image import ImageDataGenerator\n",
    "import numpy as np\n",
    "from keras.preprocessing import image"
   ]
  },
  {
   "cell_type": "code",
   "execution_count": 2,
   "id": "b230c686-cfaa-4427-88be-5819b755a0e0",
   "metadata": {},
   "outputs": [],
   "source": [
    "classificador = Sequential()\n",
    "classificador.add(Conv2D(32, (3,3), input_shape = (64, 64, 3), activation = 'relu'))\n",
    "classificador.add(BatchNormalization())\n",
    "classificador.add(MaxPooling2D(pool_size = (2,2)))\n",
    "\n",
    "classificador.add(Conv2D(32, (3,3), input_shape = (64, 64, 3), activation = 'relu'))\n",
    "classificador.add(BatchNormalization())\n",
    "classificador.add(MaxPooling2D(pool_size = (2,2)))\n",
    "\n",
    "classificador.add(Flatten())\n",
    "\n",
    "classificador.add(Dense(units = 128, activation = 'relu'))\n",
    "classificador.add(Dropout(0.2))\n",
    "classificador.add(Dense(units = 128, activation = 'relu'))\n",
    "classificador.add(Dropout(0.2))\n",
    "classificador.add(Dense(units = 1, activation = 'sigmoid'))\n",
    "\n",
    "classificador.compile(optimizer = 'adam', loss = 'binary_crossentropy',\n",
    "                      metrics = ['accuracy'])"
   ]
  },
  {
   "cell_type": "code",
   "execution_count": 3,
   "id": "86cdf368-425d-4e51-bfa2-436884c653f1",
   "metadata": {},
   "outputs": [],
   "source": [
    "gerador_treinamento = ImageDataGenerator(rescale = 1./255,\n",
    "                                         rotation_range = 7, # Grau a rotar a imagem\n",
    "                                         horizontal_flip = True, # Giros horizontais nas imagens\n",
    "                                         shear_range = 0.2, # Mudança dos pixels para outra direção\n",
    "                                         height_shift_range = 0.07,\n",
    "                                         zoom_range = 0.2)\n",
    "gerador_teste = ImageDataGenerator(rescale = 1./255)"
   ]
  },
  {
   "cell_type": "code",
   "execution_count": 4,
   "id": "22e8a17c-4914-4a10-9eb4-41ac630544d6",
   "metadata": {},
   "outputs": [
    {
     "name": "stdout",
     "output_type": "stream",
     "text": [
      "Found 4000 images belonging to 2 classes.\n",
      "Found 1000 images belonging to 2 classes.\n"
     ]
    }
   ],
   "source": [
    "base_treinamento = gerador_treinamento.flow_from_directory('dataset/training_set',\n",
    "                                                           target_size = (64, 64),\n",
    "                                                           batch_size = 32,\n",
    "                                                           class_mode = 'binary')\n",
    "base_teste = gerador_teste.flow_from_directory('dataset/test_set',\n",
    "                                               target_size = (64, 64),\n",
    "                                               batch_size = 32,\n",
    "                                               class_mode = 'binary')"
   ]
  },
  {
   "cell_type": "code",
   "execution_count": 37,
   "id": "da4b4312-fef0-42c7-bef6-efe5d3ed4bf7",
   "metadata": {},
   "outputs": [
    {
     "data": {
      "text/plain": [
       "125"
      ]
     },
     "execution_count": 37,
     "metadata": {},
     "output_type": "execute_result"
    }
   ],
   "source": [
    "len(base_treinamento)"
   ]
  },
  {
   "cell_type": "raw",
   "id": "c98ec362-7cd5-4023-9d5b-dbdddec1bbf2",
   "metadata": {},
   "source": [
    "# melhor performance\n",
    "\n",
    "classificador.fit_generator(base_treinamento, steps_per_epoch = 4000, # (numero de fotos/ batch_size)\n",
    "                            epochs = 20, validation_data = base_teste,\n",
    "                            validation_steps = 1000)"
   ]
  },
  {
   "cell_type": "code",
   "execution_count": 5,
   "id": "1013b283-fba7-408b-a730-06645d609f03",
   "metadata": {},
   "outputs": [
    {
     "name": "stdout",
     "output_type": "stream",
     "text": [
      "WARNING:tensorflow:From <ipython-input-5-f5c8085024ec>:1: Model.fit_generator (from tensorflow.python.keras.engine.training) is deprecated and will be removed in a future version.\n",
      "Instructions for updating:\n",
      "Please use Model.fit, which supports generators.\n",
      "Epoch 1/10\n",
      "125/125 [==============================] - 33s 262ms/step - loss: 0.7793 - accuracy: 0.5857 - val_loss: 1.2769 - val_accuracy: 0.5000\n",
      "Epoch 2/10\n",
      "125/125 [==============================] - 32s 260ms/step - loss: 0.6736 - accuracy: 0.6095 - val_loss: 1.5651 - val_accuracy: 0.5030\n",
      "Epoch 3/10\n",
      "125/125 [==============================] - 32s 256ms/step - loss: 0.6295 - accuracy: 0.6540 - val_loss: 0.6904 - val_accuracy: 0.6070\n",
      "Epoch 4/10\n",
      "125/125 [==============================] - 32s 255ms/step - loss: 0.6065 - accuracy: 0.6725 - val_loss: 0.7085 - val_accuracy: 0.6230\n",
      "Epoch 5/10\n",
      "125/125 [==============================] - 32s 254ms/step - loss: 0.5823 - accuracy: 0.6945 - val_loss: 0.9660 - val_accuracy: 0.5630\n",
      "Epoch 6/10\n",
      "125/125 [==============================] - 33s 263ms/step - loss: 0.5651 - accuracy: 0.7080 - val_loss: 0.6168 - val_accuracy: 0.6750\n",
      "Epoch 7/10\n",
      "125/125 [==============================] - 33s 262ms/step - loss: 0.5422 - accuracy: 0.7237 - val_loss: 0.6138 - val_accuracy: 0.6660\n",
      "Epoch 8/10\n",
      "125/125 [==============================] - 32s 255ms/step - loss: 0.5293 - accuracy: 0.7287 - val_loss: 0.5347 - val_accuracy: 0.7400\n",
      "Epoch 9/10\n",
      "125/125 [==============================] - 32s 254ms/step - loss: 0.4985 - accuracy: 0.7542 - val_loss: 0.5382 - val_accuracy: 0.7370\n",
      "Epoch 10/10\n",
      "125/125 [==============================] - 32s 255ms/step - loss: 0.4842 - accuracy: 0.7607 - val_loss: 0.5571 - val_accuracy: 0.7420\n"
     ]
    },
    {
     "data": {
      "text/plain": [
       "<tensorflow.python.keras.callbacks.History at 0x24183385070>"
      ]
     },
     "execution_count": 5,
     "metadata": {},
     "output_type": "execute_result"
    }
   ],
   "source": [
    "classificador.fit_generator(base_treinamento, steps_per_epoch = 4000 / 32, # (numero de fotos/ batch_size)\n",
    "                            epochs = 10, validation_data = base_teste,\n",
    "                            validation_steps = 1000 / 32)"
   ]
  },
  {
   "cell_type": "code",
   "execution_count": 23,
   "id": "4c88538a-e535-47af-8e25-a65e786aa75c",
   "metadata": {},
   "outputs": [
    {
     "data": {
      "text/plain": [
       "{'cachorro': 0, 'gato': 1}"
      ]
     },
     "execution_count": 23,
     "metadata": {},
     "output_type": "execute_result"
    }
   ],
   "source": [
    "base_treinamento.class_indices"
   ]
  },
  {
   "cell_type": "code",
   "execution_count": 31,
   "id": "2456e72c-e1b6-4225-9d6d-b0f7a6138e6c",
   "metadata": {},
   "outputs": [],
   "source": [
    "imagem_teste = image.load_img('dataset/test_set/cachorro/dog.3555.jpg',\n",
    "                              target_size = (64,64))"
   ]
  },
  {
   "cell_type": "code",
   "execution_count": 32,
   "id": "b6cbe215-2755-4aac-8b34-c569bce20da4",
   "metadata": {},
   "outputs": [
    {
     "data": {
      "text/plain": [
       "Text(0.5, 1.0, 'Classe Cachorro')"
      ]
     },
     "execution_count": 32,
     "metadata": {},
     "output_type": "execute_result"
    },
    {
     "data": {
      "image/png": "[encoded data removed]",
      "text/plain": [
       "<Figure size 432x288 with 1 Axes>"
      ]
     },
     "metadata": {
      "needs_background": "light"
     },
     "output_type": "display_data"
    }
   ],
   "source": [
    "import matplotlib.pyplot as plt\n",
    "plt.imshow(imagem_teste)\n",
    "plt.title('Classe Cachorro' )"
   ]
  },
  {
   "cell_type": "code",
   "execution_count": 33,
   "id": "f8606610-570a-4963-b9a2-ad9734ce939c",
   "metadata": {},
   "outputs": [],
   "source": [
    "imagem_teste = image.img_to_array(imagem_teste)\n",
    "imagem_teste /= 255\n",
    "imagem_teste = np.expand_dims(imagem_teste, axis = 0)"
   ]
  },
  {
   "cell_type": "code",
   "execution_count": 34,
   "id": "ec486a88-e06a-409a-9af5-74eb97e15110",
   "metadata": {},
   "outputs": [
    {
     "data": {
      "text/plain": [
       "array([[2.4066487e-05]], dtype=float32)"
      ]
     },
     "execution_count": 34,
     "metadata": {},
     "output_type": "execute_result"
    }
   ],
   "source": [
    "previsao = classificador.predict(imagem_teste)\n",
    "previsao"
   ]
  },
  {
   "cell_type": "code",
   "execution_count": 35,
   "id": "eac044fb-d46f-424a-bb19-cc2045d9c353",
   "metadata": {},
   "outputs": [
    {
     "data": {
      "text/plain": [
       "array([[False]])"
      ]
     },
     "execution_count": 35,
     "metadata": {},
     "output_type": "execute_result"
    }
   ],
   "source": [
    "previsao = (previsao > 0.5)\n",
    "previsao"
   ]
  },
  {
   "cell_type": "code",
   "execution_count": 41,
   "id": "2e6f91e2-c564-48c3-9ade-691513925a8c",
   "metadata": {},
   "outputs": [
    {
     "data": {
      "text/plain": [
       "Text(0.5, 1.0, 'Classe Gato')"
      ]
     },
     "execution_count": 41,
     "metadata": {},
     "output_type": "execute_result"
    },
    {
     "data": {
      "image/png": "[encoded data removed]",
      "text/plain": [
       "<Figure size 432x288 with 1 Axes>"
      ]
     },
     "metadata": {
      "needs_background": "light"
     },
     "output_type": "display_data"
    }
   ],
   "source": [
    "imagem_teste2 = image.load_img('dataset/test_set/gato/cat.3837.jpg',\n",
    "                              target_size = (64,64))\n",
    "import matplotlib.pyplot as plt\n",
    "plt.imshow(imagem_teste2)\n",
    "plt.title('Classe Gato' )"
   ]
  },
  {
   "cell_type": "code",
   "execution_count": 42,
   "id": "477d0e6f-b882-454a-99dc-396e2dc674e4",
   "metadata": {},
   "outputs": [],
   "source": [
    "imagem_teste2 = image.img_to_array(imagem_teste2)\n",
    "imagem_teste2 /= 255\n",
    "\n",
    "# Expandir as dimensões from (64, 64, 3) to (1, 64, 64, 3)\n",
    "# Um tensor, com um batch size\n",
    "imagem_teste2 = np.expand_dims(imagem_teste2, axis = 0)"
   ]
  },
  {
   "cell_type": "code",
   "execution_count": 43,
   "id": "87cd9468-b62f-4005-b96f-8b7cbfc81ff7",
   "metadata": {},
   "outputs": [
    {
     "name": "stdout",
     "output_type": "stream",
     "text": [
      "[[0.8957392]]\n",
      "[[ True]]\n"
     ]
    }
   ],
   "source": [
    "previsao = classificador.predict(imagem_teste2)\n",
    "print(previsao)\n",
    "previsao = (previsao > 0.5)\n",
    "print(previsao)"
   ]
  }
 ],
 "metadata": {
  "kernelspec": {
   "display_name": "data_1",
   "language": "python",
   "name": "data_1"
  },
  "language_info": {
   "codemirror_mode": {
    "name": "ipython",
    "version": 3
   },
   "file_extension": ".py",
   "mimetype": "text/x-python",
   "name": "python",
   "nbconvert_exporter": "python",
   "pygments_lexer": "ipython3",
   "version": "3.8.10"
  }
 },
 "nbformat": 4,
 "nbformat_minor": 5
}
