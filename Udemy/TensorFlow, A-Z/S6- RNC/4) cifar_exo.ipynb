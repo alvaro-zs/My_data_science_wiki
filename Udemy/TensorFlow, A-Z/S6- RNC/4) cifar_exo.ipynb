{
 "cells": [
  {
   "cell_type": "code",
   "execution_count": 1,
   "id": "ba1202d0-62ee-4709-b9ff-7e9942ac0e7e",
   "metadata": {},
   "outputs": [],
   "source": [
    "import matplotlib.pyplot as plt\n",
    "from keras.datasets import cifar10\n",
    "from keras.models import Sequential\n",
    "from keras.layers import Dense, Flatten, Dropout\n",
    "from keras.utils import np_utils\n",
    "from keras.layers import Conv2D, MaxPooling2D\n",
    "from keras.layers.normalization import BatchNormalization"
   ]
  },
  {
   "cell_type": "code",
   "execution_count": 2,
   "id": "61b24c38-db55-48da-abf0-0d851c5b9492",
   "metadata": {},
   "outputs": [],
   "source": [
    "(X_treinamento, y_treinamento), (X_teste, y_teste) = cifar10.load_data()"
   ]
  },
  {
   "cell_type": "code",
   "execution_count": 3,
   "id": "81b669bf-aa0c-420b-9fcc-cf30211d6cf5",
   "metadata": {},
   "outputs": [
    {
     "name": "stdout",
     "output_type": "stream",
     "text": [
      "(50000, 32, 32, 3)\n",
      "(50000, 1)\n"
     ]
    }
   ],
   "source": [
    "print(X_treinamento.shape)\n",
    "print(y_treinamento.shape)"
   ]
  },
  {
   "cell_type": "code",
   "execution_count": 4,
   "id": "c082f6ce-afdd-458d-acb7-6930e588cc19",
   "metadata": {},
   "outputs": [
    {
     "name": "stdout",
     "output_type": "stream",
     "text": [
      "(10000, 32, 32, 3)\n",
      "(10000, 1)\n"
     ]
    }
   ],
   "source": [
    "print(X_teste.shape)\n",
    "print(y_teste.shape)"
   ]
  },
  {
   "cell_type": "code",
   "execution_count": 5,
   "id": "67b6de25-0f01-40c2-8842-8ba044846d86",
   "metadata": {},
   "outputs": [
    {
     "data": {
      "text/plain": [
       "Text(0.5, 1.0, 'Classe [9]')"
      ]
     },
     "execution_count": 5,
     "metadata": {},
     "output_type": "execute_result"
    },
    {
     "data": {
      "image/png": "[encoded data removed]",
      "text/plain": [
       "<Figure size 432x288 with 1 Axes>"
      ]
     },
     "metadata": {
      "needs_background": "light"
     },
     "output_type": "display_data"
    }
   ],
   "source": [
    "index=15\n",
    "plt.imshow(X_treinamento[index])\n",
    "plt.title('Classe ' + str(y_treinamento[index]))"
   ]
  },
  {
   "cell_type": "code",
   "execution_count": 6,
   "id": "68e5ed75-0c40-46f9-bf78-9f9a66c2a379",
   "metadata": {},
   "outputs": [
    {
     "data": {
      "text/plain": [
       "Text(0.5, 1.0, 'Classe [9]')"
      ]
     },
     "execution_count": 6,
     "metadata": {},
     "output_type": "execute_result"
    },
    {
     "data": {
      "image/png": "[encoded data removed]",
      "text/plain": [
       "<Figure size 432x288 with 1 Axes>"
      ]
     },
     "metadata": {
      "needs_background": "light"
     },
     "output_type": "display_data"
    }
   ],
   "source": [
    "index=15\n",
    "plt.imshow(X_treinamento[index], cmap = 'gray')\n",
    "plt.title('Classe ' + str(y_treinamento[index]))"
   ]
  },
  {
   "cell_type": "code",
   "execution_count": 7,
   "id": "7fd1b42e-5445-432b-80ea-b9a417a90ea1",
   "metadata": {},
   "outputs": [],
   "source": [
    "previsores_treinamento = X_treinamento.reshape(X_treinamento.shape[0],\n",
    "                                               32, 32, 3)\n",
    "previsores_teste = X_teste.reshape(X_teste.shape[0], 32, 32, 3)"
   ]
  },
  {
   "cell_type": "code",
   "execution_count": 8,
   "id": "886d26fe-6826-4484-a176-877af1b267bb",
   "metadata": {},
   "outputs": [],
   "source": [
    "previsores_treinamento = previsores_treinamento.astype('float32')\n",
    "previsores_teste = previsores_teste.astype('float32')"
   ]
  },
  {
   "cell_type": "code",
   "execution_count": 9,
   "id": "909724cd-a872-40a6-a81b-2402ecdcc944",
   "metadata": {},
   "outputs": [],
   "source": [
    "previsores_treinamento /= 255\n",
    "previsores_teste /= 255"
   ]
  },
  {
   "cell_type": "code",
   "execution_count": 10,
   "id": "9afa67ab-448b-48d9-af82-3c867061578f",
   "metadata": {},
   "outputs": [
    {
     "data": {
      "text/plain": [
       "Text(0.5, 1.0, 'Classe [9]')"
      ]
     },
     "execution_count": 10,
     "metadata": {},
     "output_type": "execute_result"
    },
    {
     "data": {
      "image/png": "[encoded data removed]",
      "text/plain": [
       "<Figure size 432x288 with 1 Axes>"
      ]
     },
     "metadata": {
      "needs_background": "light"
     },
     "output_type": "display_data"
    }
   ],
   "source": [
    "plt.imshow(previsores_treinamento[index])\n",
    "plt.title('Classe ' + str(y_treinamento[index]))"
   ]
  },
  {
   "cell_type": "code",
   "execution_count": 11,
   "id": "0273aaa6-a730-49a1-812f-452116c4530a",
   "metadata": {},
   "outputs": [],
   "source": [
    "classe_treinamento = np_utils.to_categorical(y_treinamento, 10)\n",
    "classe_teste = np_utils.to_categorical(y_teste, 10)"
   ]
  },
  {
   "cell_type": "code",
   "execution_count": 12,
   "id": "6c4c05c7-23e1-4acd-8b96-73fef23e4334",
   "metadata": {},
   "outputs": [
    {
     "data": {
      "text/plain": [
       "(32, 32, 3)"
      ]
     },
     "execution_count": 12,
     "metadata": {},
     "output_type": "execute_result"
    }
   ],
   "source": [
    "previsores_treinamento.shape[1:]"
   ]
  },
  {
   "cell_type": "code",
   "execution_count": 19,
   "id": "61cf89b2-7f70-44bd-9ecf-4bd1f0e1ec15",
   "metadata": {},
   "outputs": [],
   "source": [
    "classificador = Sequential()\n",
    "\n",
    "#classificador Conv2D 1\n",
    "\n",
    "classificador.add(Conv2D(128, # 32 detectors (64 é o recomendado inicial)\n",
    "                         (3,3), # tamanho do kernel\n",
    "                         input_shape=previsores_treinamento.shape[1:],\n",
    "                         activation = 'relu'))\n",
    "\n",
    "classificador.add(BatchNormalization())\n",
    "\n",
    "classificador.add(MaxPooling2D(pool_size = (2,2)))\n",
    "\n",
    "#classificador Conv2D 2\n",
    "\n",
    "classificador.add(Conv2D(128, (3,3), activation = 'relu'))\n",
    "\n",
    "classificador.add(BatchNormalization())\n",
    "\n",
    "classificador.add(MaxPooling2D(pool_size = (2,2)))\n",
    "\n",
    "classificador.add(Flatten())\n",
    "classificador.add(Dropout(0.2))\n",
    "\n",
    "classificador.add(Dense(units = 128, activation = 'relu'))\n",
    "classificador.add(Dropout(0.2))\n",
    "\n",
    "classificador.add(Dense(units = (512), activation = 'relu'))\n",
    "classificador.add(Dropout(0.2))\n",
    "\n",
    "classificador.add(Dense(units = 10, \n",
    "                        activation = 'softmax'))\n",
    "\n",
    "classificador.compile(loss = 'categorical_crossentropy',\n",
    "                      optimizer = 'adam', metrics = ['accuracy'])"
   ]
  },
  {
   "cell_type": "code",
   "execution_count": 20,
   "id": "5e98f9f9-33d8-4d61-9bf3-427a98a54dba",
   "metadata": {},
   "outputs": [
    {
     "name": "stdout",
     "output_type": "stream",
     "text": [
      "Model: \"sequential_4\"\n",
      "_________________________________________________________________\n",
      "Layer (type)                 Output Shape              Param #   \n",
      "=================================================================\n",
      "conv2d_13 (Conv2D)           (None, 30, 30, 64)        1792      \n",
      "_________________________________________________________________\n",
      "batch_normalization_12 (Batc (None, 30, 30, 64)        256       \n",
      "_________________________________________________________________\n",
      "max_pooling2d_12 (MaxPooling (None, 15, 15, 64)        0         \n",
      "_________________________________________________________________\n",
      "conv2d_14 (Conv2D)           (None, 13, 13, 128)       73856     \n",
      "_________________________________________________________________\n",
      "batch_normalization_13 (Batc (None, 13, 13, 128)       512       \n",
      "_________________________________________________________________\n",
      "max_pooling2d_13 (MaxPooling (None, 6, 6, 128)         0         \n",
      "_________________________________________________________________\n",
      "conv2d_15 (Conv2D)           (None, 4, 4, 128)         147584    \n",
      "_________________________________________________________________\n",
      "batch_normalization_14 (Batc (None, 4, 4, 128)         512       \n",
      "_________________________________________________________________\n",
      "max_pooling2d_14 (MaxPooling (None, 2, 2, 128)         0         \n",
      "_________________________________________________________________\n",
      "flatten_3 (Flatten)          (None, 512)               0         \n",
      "_________________________________________________________________\n",
      "dropout_9 (Dropout)          (None, 512)               0         \n",
      "_________________________________________________________________\n",
      "dense_9 (Dense)              (None, 128)               65664     \n",
      "_________________________________________________________________\n",
      "dropout_10 (Dropout)         (None, 128)               0         \n",
      "_________________________________________________________________\n",
      "dense_10 (Dense)             (None, 512)               66048     \n",
      "_________________________________________________________________\n",
      "dropout_11 (Dropout)         (None, 512)               0         \n",
      "_________________________________________________________________\n",
      "dense_11 (Dense)             (None, 10)                5130      \n",
      "=================================================================\n",
      "Total params: 361,354\n",
      "Trainable params: 360,714\n",
      "Non-trainable params: 640\n",
      "_________________________________________________________________\n"
     ]
    }
   ],
   "source": [
    "classificador.summary()"
   ]
  },
  {
   "cell_type": "code",
   "execution_count": 21,
   "id": "7898c4f1-bcc4-4be1-8173-33d1eba0089c",
   "metadata": {},
   "outputs": [
    {
     "name": "stdout",
     "output_type": "stream",
     "text": [
      "Epoch 1/5\n",
      "391/391 [==============================] - 191s 489ms/step - loss: 1.4251 - accuracy: 0.4896 - val_loss: 3.6534 - val_accuracy: 0.1988\n",
      "Epoch 2/5\n",
      "391/391 [==============================] - 204s 521ms/step - loss: 1.0527 - accuracy: 0.6301 - val_loss: 1.1407 - val_accuracy: 0.5998\n",
      "Epoch 3/5\n",
      "391/391 [==============================] - 216s 553ms/step - loss: 0.9052 - accuracy: 0.6845 - val_loss: 1.0701 - val_accuracy: 0.6318\n",
      "Epoch 4/5\n",
      "391/391 [==============================] - 215s 550ms/step - loss: 0.8019 - accuracy: 0.7205 - val_loss: 1.1803 - val_accuracy: 0.5827\n",
      "Epoch 5/5\n",
      "391/391 [==============================] - 199s 510ms/step - loss: 0.7223 - accuracy: 0.7484 - val_loss: 0.9360 - val_accuracy: 0.6812\n"
     ]
    },
    {
     "data": {
      "text/plain": [
       "<tensorflow.python.keras.callbacks.History at 0x1f7a4b46b20>"
      ]
     },
     "execution_count": 21,
     "metadata": {},
     "output_type": "execute_result"
    }
   ],
   "source": [
    "classificador.fit(previsores_treinamento, classe_treinamento,\n",
    "                  batch_size = 128, epochs = 5,\n",
    "                  validation_data = (previsores_teste, classe_teste))"
   ]
  },
  {
   "cell_type": "code",
   "execution_count": null,
   "id": "8e28cb24-5e95-4af5-b230-b21a44236be3",
   "metadata": {},
   "outputs": [],
   "source": []
  }
 ],
 "metadata": {
  "kernelspec": {
   "display_name": "data_1",
   "language": "python",
   "name": "data_1"
  },
  "language_info": {
   "codemirror_mode": {
    "name": "ipython",
    "version": 3
   },
   "file_extension": ".py",
   "mimetype": "text/x-python",
   "name": "python",
   "nbconvert_exporter": "python",
   "pygments_lexer": "ipython3",
   "version": "3.8.10"
  }
 },
 "nbformat": 4,
 "nbformat_minor": 5
}
