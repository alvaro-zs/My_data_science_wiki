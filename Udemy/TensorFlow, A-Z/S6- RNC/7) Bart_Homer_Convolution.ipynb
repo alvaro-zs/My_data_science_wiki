{
 "cells": [
  {
   "cell_type": "code",
   "execution_count": 1,
   "id": "eb0af4d0-cb25-4848-934a-f0f5bcf595de",
   "metadata": {},
   "outputs": [],
   "source": [
    "from keras.models import Sequential\n",
    "from keras.layers import Conv2D, MaxPooling2D, Flatten, Dense, Dropout\n",
    "from keras.layers.normalization import BatchNormalization\n",
    "from keras.preprocessing.image import ImageDataGenerator\n",
    "import numpy as np\n",
    "from keras.preprocessing import image"
   ]
  },
  {
   "cell_type": "code",
   "execution_count": 2,
   "id": "b230c686-cfaa-4427-88be-5819b755a0e0",
   "metadata": {},
   "outputs": [],
   "source": [
    "classificador = Sequential()\n",
    "classificador.add(Conv2D(64, (3,3), input_shape = (64, 64, 3), activation = 'relu'))\n",
    "classificador.add(BatchNormalization())\n",
    "classificador.add(MaxPooling2D(pool_size = (2,2)))\n",
    "\n",
    "classificador.add(Conv2D(128, (3,3), input_shape = (64, 64, 3), activation = 'relu'))\n",
    "classificador.add(BatchNormalization())\n",
    "classificador.add(MaxPooling2D(pool_size = (2,2)))\n",
    "\n",
    "#classificador Conv2D 3\n",
    "\n",
    "classificador.add(Conv2D(128, (3,3), activation = 'relu'))\n",
    "\n",
    "classificador.add(BatchNormalization())\n",
    "\n",
    "classificador.add(MaxPooling2D(pool_size = (2,2)))\n",
    "\n",
    "classificador.add(Flatten())\n",
    "\n",
    "classificador.add(Dense(units = 512, activation = 'relu'))\n",
    "classificador.add(Dropout(0.2))\n",
    "classificador.add(Dense(units = 128, activation = 'relu'))\n",
    "classificador.add(Dropout(0.2))\n",
    "classificador.add(Dense(units = 1, activation = 'sigmoid'))\n",
    "\n",
    "classificador.compile(optimizer = 'adam', loss = 'binary_crossentropy',\n",
    "                      metrics = ['accuracy'])"
   ]
  },
  {
   "cell_type": "code",
   "execution_count": 3,
   "id": "86cdf368-425d-4e51-bfa2-436884c653f1",
   "metadata": {},
   "outputs": [],
   "source": [
    "gerador_treinamento = ImageDataGenerator(rescale = 1./255,\n",
    "                                         rotation_range = 7, # Grau a rotar a imagem\n",
    "                                         horizontal_flip = True, # Giros horizontais nas imagens\n",
    "                                         shear_range = 0.2, # Mudança dos pixels para outra direção\n",
    "                                         height_shift_range = 0.07,\n",
    "                                         zoom_range = 0.2)\n",
    "gerador_teste = ImageDataGenerator(rescale = 1./255)"
   ]
  },
  {
   "cell_type": "code",
   "execution_count": 4,
   "id": "22e8a17c-4914-4a10-9eb4-41ac630544d6",
   "metadata": {},
   "outputs": [
    {
     "name": "stdout",
     "output_type": "stream",
     "text": [
      "Found 196 images belonging to 2 classes.\n",
      "Found 74 images belonging to 2 classes.\n"
     ]
    }
   ],
   "source": [
    "batch = 4\n",
    "base_treinamento = gerador_treinamento.flow_from_directory('dataset_personagens/training_set',\n",
    "                                                           target_size = (64, 64),\n",
    "                                                           batch_size = batch,\n",
    "                                                           class_mode = 'binary')\n",
    "base_teste = gerador_teste.flow_from_directory('dataset_personagens/test_set',\n",
    "                                               target_size = (64, 64),\n",
    "                                               batch_size = batch,\n",
    "                                               class_mode = 'binary')"
   ]
  },
  {
   "cell_type": "code",
   "execution_count": 5,
   "id": "da4b4312-fef0-42c7-bef6-efe5d3ed4bf7",
   "metadata": {},
   "outputs": [
    {
     "data": {
      "text/plain": [
       "49"
      ]
     },
     "execution_count": 5,
     "metadata": {},
     "output_type": "execute_result"
    }
   ],
   "source": [
    "len(base_treinamento)"
   ]
  },
  {
   "cell_type": "raw",
   "id": "c98ec362-7cd5-4023-9d5b-dbdddec1bbf2",
   "metadata": {},
   "source": [
    "# melhor performance\n",
    "\n",
    "classificador.fit_generator(base_treinamento, steps_per_epoch = 4000, # (numero de fotos/ batch_size)\n",
    "                            epochs = 20, validation_data = base_teste,\n",
    "                            validation_steps = 1000)"
   ]
  },
  {
   "cell_type": "code",
   "execution_count": 8,
   "id": "1013b283-fba7-408b-a730-06645d609f03",
   "metadata": {
    "scrolled": true,
    "tags": []
   },
   "outputs": [
    {
     "name": "stdout",
     "output_type": "stream",
     "text": [
      "Epoch 1/100\n",
      "49/49 [==============================] - 4s 88ms/step - loss: 0.2512 - accuracy: 0.9184 - val_loss: 2.0434 - val_accuracy: 0.6351\n",
      "Epoch 2/100\n",
      "49/49 [==============================] - 4s 89ms/step - loss: 0.2173 - accuracy: 0.9337 - val_loss: 2.5528 - val_accuracy: 0.7297\n",
      "Epoch 3/100\n",
      "49/49 [==============================] - 4s 88ms/step - loss: 0.1634 - accuracy: 0.9184 - val_loss: 2.1618 - val_accuracy: 0.6486\n",
      "Epoch 4/100\n",
      "49/49 [==============================] - 4s 88ms/step - loss: 0.1990 - accuracy: 0.9439 - val_loss: 0.5569 - val_accuracy: 0.8514\n",
      "Epoch 5/100\n",
      "49/49 [==============================] - 4s 85ms/step - loss: 0.0809 - accuracy: 0.9643 - val_loss: 0.8123 - val_accuracy: 0.8514\n",
      "Epoch 6/100\n",
      "49/49 [==============================] - 4s 86ms/step - loss: 0.1578 - accuracy: 0.9541 - val_loss: 0.2744 - val_accuracy: 0.9054\n",
      "Epoch 7/100\n",
      "49/49 [==============================] - 4s 87ms/step - loss: 0.1093 - accuracy: 0.9541 - val_loss: 0.7083 - val_accuracy: 0.8378\n",
      "Epoch 8/100\n",
      "49/49 [==============================] - 4s 86ms/step - loss: 0.2585 - accuracy: 0.9286 - val_loss: 0.2117 - val_accuracy: 0.8784\n",
      "Epoch 9/100\n",
      "49/49 [==============================] - 4s 86ms/step - loss: 0.1498 - accuracy: 0.9541 - val_loss: 0.6640 - val_accuracy: 0.8378\n",
      "Epoch 10/100\n",
      "49/49 [==============================] - 5s 94ms/step - loss: 0.3320 - accuracy: 0.8827 - val_loss: 1.0858 - val_accuracy: 0.7027\n",
      "Epoch 11/100\n",
      "49/49 [==============================] - 5s 92ms/step - loss: 0.1572 - accuracy: 0.9388 - val_loss: 0.7505 - val_accuracy: 0.8243\n",
      "Epoch 12/100\n",
      "49/49 [==============================] - 5s 101ms/step - loss: 0.1303 - accuracy: 0.9592 - val_loss: 0.1597 - val_accuracy: 0.9459\n",
      "Epoch 13/100\n",
      "49/49 [==============================] - 5s 105ms/step - loss: 0.1618 - accuracy: 0.9541 - val_loss: 0.3936 - val_accuracy: 0.8649\n",
      "Epoch 14/100\n",
      "49/49 [==============================] - 5s 101ms/step - loss: 0.2218 - accuracy: 0.9337 - val_loss: 0.2556 - val_accuracy: 0.8919\n",
      "Epoch 15/100\n",
      "49/49 [==============================] - 4s 90ms/step - loss: 0.0542 - accuracy: 0.9847 - val_loss: 0.2633 - val_accuracy: 0.9054\n",
      "Epoch 16/100\n",
      "49/49 [==============================] - 5s 97ms/step - loss: 0.0704 - accuracy: 0.9745 - val_loss: 0.2617 - val_accuracy: 0.9189\n",
      "Epoch 17/100\n",
      "49/49 [==============================] - 4s 91ms/step - loss: 0.0852 - accuracy: 0.9694 - val_loss: 0.5597 - val_accuracy: 0.8108\n",
      "Epoch 18/100\n",
      "49/49 [==============================] - 5s 93ms/step - loss: 0.2322 - accuracy: 0.9541 - val_loss: 0.5791 - val_accuracy: 0.8784\n",
      "Epoch 19/100\n",
      "49/49 [==============================] - 5s 93ms/step - loss: 0.2100 - accuracy: 0.9337 - val_loss: 0.5497 - val_accuracy: 0.8378\n",
      "Epoch 20/100\n",
      "49/49 [==============================] - 5s 94ms/step - loss: 0.0894 - accuracy: 0.9694 - val_loss: 0.2200 - val_accuracy: 0.9324\n",
      "Epoch 21/100\n",
      "49/49 [==============================] - 5s 94ms/step - loss: 0.0483 - accuracy: 0.9796 - val_loss: 0.3578 - val_accuracy: 0.8919\n",
      "Epoch 22/100\n",
      "49/49 [==============================] - 5s 92ms/step - loss: 0.1231 - accuracy: 0.9490 - val_loss: 0.3441 - val_accuracy: 0.8108\n",
      "Epoch 23/100\n",
      "49/49 [==============================] - 5s 92ms/step - loss: 0.0835 - accuracy: 0.9694 - val_loss: 0.4018 - val_accuracy: 0.9189\n",
      "Epoch 24/100\n",
      "49/49 [==============================] - 4s 87ms/step - loss: 0.0597 - accuracy: 0.9694 - val_loss: 0.6146 - val_accuracy: 0.8649\n",
      "Epoch 25/100\n",
      "49/49 [==============================] - 4s 92ms/step - loss: 0.0482 - accuracy: 0.9745 - val_loss: 0.3025 - val_accuracy: 0.9189\n",
      "Epoch 26/100\n",
      "49/49 [==============================] - 4s 87ms/step - loss: 0.0345 - accuracy: 0.9898 - val_loss: 0.6603 - val_accuracy: 0.8784\n",
      "Epoch 27/100\n",
      "49/49 [==============================] - 4s 90ms/step - loss: 0.0792 - accuracy: 0.9745 - val_loss: 0.4236 - val_accuracy: 0.8784\n",
      "Epoch 28/100\n",
      "49/49 [==============================] - 4s 87ms/step - loss: 0.0486 - accuracy: 0.9796 - val_loss: 0.5193 - val_accuracy: 0.8649\n",
      "Epoch 29/100\n",
      "49/49 [==============================] - 4s 88ms/step - loss: 0.0470 - accuracy: 0.9847 - val_loss: 0.3453 - val_accuracy: 0.9054\n",
      "Epoch 30/100\n",
      "49/49 [==============================] - 4s 90ms/step - loss: 0.0504 - accuracy: 0.9898 - val_loss: 0.4092 - val_accuracy: 0.8784\n",
      "Epoch 31/100\n",
      "49/49 [==============================] - 5s 96ms/step - loss: 0.1788 - accuracy: 0.9541 - val_loss: 0.5772 - val_accuracy: 0.8514\n",
      "Epoch 32/100\n",
      "49/49 [==============================] - 5s 97ms/step - loss: 0.1816 - accuracy: 0.9388 - val_loss: 0.9459 - val_accuracy: 0.7703\n",
      "Epoch 33/100\n",
      "49/49 [==============================] - 5s 94ms/step - loss: 0.0863 - accuracy: 0.9745 - val_loss: 0.2532 - val_accuracy: 0.8649\n",
      "Epoch 34/100\n",
      "49/49 [==============================] - 5s 93ms/step - loss: 0.0922 - accuracy: 0.9694 - val_loss: 0.3501 - val_accuracy: 0.8514\n",
      "Epoch 35/100\n",
      "49/49 [==============================] - 5s 95ms/step - loss: 0.0389 - accuracy: 0.9898 - val_loss: 0.4867 - val_accuracy: 0.8784\n",
      "Epoch 36/100\n",
      "49/49 [==============================] - 5s 102ms/step - loss: 0.1227 - accuracy: 0.9643 - val_loss: 0.8753 - val_accuracy: 0.8108\n",
      "Epoch 37/100\n",
      "49/49 [==============================] - 5s 96ms/step - loss: 0.1187 - accuracy: 0.9592 - val_loss: 0.6880 - val_accuracy: 0.8514\n",
      "Epoch 38/100\n",
      "49/49 [==============================] - 5s 107ms/step - loss: 0.1015 - accuracy: 0.9745 - val_loss: 0.6309 - val_accuracy: 0.9054\n",
      "Epoch 39/100\n",
      "49/49 [==============================] - 5s 109ms/step - loss: 0.0227 - accuracy: 0.9898 - val_loss: 0.2496 - val_accuracy: 0.9324\n",
      "Epoch 40/100\n",
      "49/49 [==============================] - 6s 120ms/step - loss: 0.0242 - accuracy: 0.9898 - val_loss: 0.2255 - val_accuracy: 0.9459\n",
      "Epoch 41/100\n",
      "49/49 [==============================] - 6s 119ms/step - loss: 0.0712 - accuracy: 0.9745 - val_loss: 0.4063 - val_accuracy: 0.8784\n",
      "Epoch 42/100\n",
      "49/49 [==============================] - 6s 122ms/step - loss: 0.1154 - accuracy: 0.9694 - val_loss: 0.2794 - val_accuracy: 0.9459\n",
      "Epoch 43/100\n",
      "49/49 [==============================] - 5s 95ms/step - loss: 0.0839 - accuracy: 0.9796 - val_loss: 0.5592 - val_accuracy: 0.8919\n",
      "Epoch 44/100\n",
      "49/49 [==============================] - 4s 88ms/step - loss: 0.0473 - accuracy: 0.9796 - val_loss: 0.4816 - val_accuracy: 0.8919\n",
      "Epoch 45/100\n",
      "49/49 [==============================] - 4s 88ms/step - loss: 0.0157 - accuracy: 0.9898 - val_loss: 0.2914 - val_accuracy: 0.9324\n",
      "Epoch 46/100\n",
      "49/49 [==============================] - 5s 94ms/step - loss: 0.0629 - accuracy: 0.9796 - val_loss: 0.4406 - val_accuracy: 0.8919\n",
      "Epoch 47/100\n",
      "49/49 [==============================] - 5s 100ms/step - loss: 0.0277 - accuracy: 0.9898 - val_loss: 0.5552 - val_accuracy: 0.9054\n",
      "Epoch 48/100\n",
      "49/49 [==============================] - 4s 92ms/step - loss: 0.0879 - accuracy: 0.9796 - val_loss: 0.4573 - val_accuracy: 0.9054\n",
      "Epoch 49/100\n",
      "49/49 [==============================] - 4s 91ms/step - loss: 0.1609 - accuracy: 0.9694 - val_loss: 0.4390 - val_accuracy: 0.8378\n",
      "Epoch 50/100\n",
      "49/49 [==============================] - 4s 88ms/step - loss: 0.0930 - accuracy: 0.9592 - val_loss: 0.4352 - val_accuracy: 0.8919\n",
      "Epoch 51/100\n",
      "49/49 [==============================] - 4s 88ms/step - loss: 0.0595 - accuracy: 0.9694 - val_loss: 0.4124 - val_accuracy: 0.9189\n",
      "Epoch 52/100\n",
      "49/49 [==============================] - 5s 96ms/step - loss: 0.0164 - accuracy: 0.9949 - val_loss: 0.3007 - val_accuracy: 0.9324\n",
      "Epoch 53/100\n",
      "49/49 [==============================] - 6s 114ms/step - loss: 0.0704 - accuracy: 0.9796 - val_loss: 0.4754 - val_accuracy: 0.8649\n",
      "Epoch 54/100\n",
      "49/49 [==============================] - 6s 117ms/step - loss: 0.0822 - accuracy: 0.9592 - val_loss: 0.3902 - val_accuracy: 0.9189\n",
      "Epoch 55/100\n",
      "49/49 [==============================] - 6s 116ms/step - loss: 0.1241 - accuracy: 0.9796 - val_loss: 0.2894 - val_accuracy: 0.9189\n",
      "Epoch 56/100\n",
      "49/49 [==============================] - 6s 117ms/step - loss: 0.0556 - accuracy: 0.9847 - val_loss: 0.4210 - val_accuracy: 0.9054\n",
      "Epoch 57/100\n",
      "49/49 [==============================] - 6s 113ms/step - loss: 0.2379 - accuracy: 0.9541 - val_loss: 0.2744 - val_accuracy: 0.9054\n",
      "Epoch 58/100\n",
      "49/49 [==============================] - 6s 115ms/step - loss: 0.0714 - accuracy: 0.9847 - val_loss: 0.2431 - val_accuracy: 0.9324\n",
      "Epoch 59/100\n",
      "49/49 [==============================] - 5s 93ms/step - loss: 0.0138 - accuracy: 1.0000 - val_loss: 0.4086 - val_accuracy: 0.9054\n",
      "Epoch 60/100\n",
      "49/49 [==============================] - 4s 90ms/step - loss: 0.0251 - accuracy: 0.9847 - val_loss: 0.6016 - val_accuracy: 0.8514\n",
      "Epoch 61/100\n",
      "49/49 [==============================] - 4s 89ms/step - loss: 0.0749 - accuracy: 0.9796 - val_loss: 0.1624 - val_accuracy: 0.9595\n",
      "Epoch 62/100\n",
      "49/49 [==============================] - 4s 89ms/step - loss: 0.0521 - accuracy: 0.9847 - val_loss: 0.1632 - val_accuracy: 0.9459\n",
      "Epoch 63/100\n",
      "49/49 [==============================] - 4s 90ms/step - loss: 0.0351 - accuracy: 0.9745 - val_loss: 1.2099 - val_accuracy: 0.8378\n",
      "Epoch 64/100\n",
      "49/49 [==============================] - 4s 87ms/step - loss: 0.0690 - accuracy: 0.9745 - val_loss: 0.1368 - val_accuracy: 0.9324\n",
      "Epoch 65/100\n",
      "49/49 [==============================] - 4s 90ms/step - loss: 0.1177 - accuracy: 0.9745 - val_loss: 0.3831 - val_accuracy: 0.8784\n",
      "Epoch 66/100\n",
      "49/49 [==============================] - 4s 91ms/step - loss: 0.0384 - accuracy: 0.9796 - val_loss: 0.5428 - val_accuracy: 0.8649\n",
      "Epoch 67/100\n",
      "49/49 [==============================] - 4s 91ms/step - loss: 0.1029 - accuracy: 0.9694 - val_loss: 1.2723 - val_accuracy: 0.7297\n",
      "Epoch 68/100\n",
      "49/49 [==============================] - 5s 94ms/step - loss: 0.0055 - accuracy: 1.0000 - val_loss: 0.4101 - val_accuracy: 0.9054\n",
      "Epoch 69/100\n",
      "49/49 [==============================] - 5s 104ms/step - loss: 0.0161 - accuracy: 0.9949 - val_loss: 0.5209 - val_accuracy: 0.9054\n",
      "Epoch 70/100\n",
      "49/49 [==============================] - 6s 115ms/step - loss: 0.1072 - accuracy: 0.9643 - val_loss: 0.8792 - val_accuracy: 0.8784\n",
      "Epoch 71/100\n",
      "49/49 [==============================] - 5s 109ms/step - loss: 0.1108 - accuracy: 0.9643 - val_loss: 0.9067 - val_accuracy: 0.8514\n",
      "Epoch 72/100\n",
      "49/49 [==============================] - 5s 111ms/step - loss: 0.1255 - accuracy: 0.9847 - val_loss: 0.6700 - val_accuracy: 0.8243\n",
      "Epoch 73/100\n",
      "49/49 [==============================] - 5s 112ms/step - loss: 0.1006 - accuracy: 0.9745 - val_loss: 0.5858 - val_accuracy: 0.8649\n",
      "Epoch 74/100\n",
      "49/49 [==============================] - 4s 91ms/step - loss: 0.0433 - accuracy: 0.9796 - val_loss: 0.4704 - val_accuracy: 0.9189\n",
      "Epoch 75/100\n",
      "49/49 [==============================] - 5s 92ms/step - loss: 0.0467 - accuracy: 0.9898 - val_loss: 0.5271 - val_accuracy: 0.8649\n",
      "Epoch 76/100\n",
      "49/49 [==============================] - 4s 89ms/step - loss: 0.0114 - accuracy: 0.9949 - val_loss: 0.5724 - val_accuracy: 0.9054\n",
      "Epoch 77/100\n",
      "49/49 [==============================] - 5s 98ms/step - loss: 0.0135 - accuracy: 0.9949 - val_loss: 0.9155 - val_accuracy: 0.8378\n",
      "Epoch 78/100\n",
      "49/49 [==============================] - 4s 90ms/step - loss: 0.0610 - accuracy: 0.9898 - val_loss: 0.3575 - val_accuracy: 0.8784\n",
      "Epoch 79/100\n",
      "49/49 [==============================] - 4s 89ms/step - loss: 0.0287 - accuracy: 0.9898 - val_loss: 0.5039 - val_accuracy: 0.9324\n",
      "Epoch 80/100\n",
      "49/49 [==============================] - 5s 101ms/step - loss: 0.0308 - accuracy: 0.9898 - val_loss: 0.5627 - val_accuracy: 0.8919\n",
      "Epoch 81/100\n",
      "49/49 [==============================] - 5s 102ms/step - loss: 0.0357 - accuracy: 0.9898 - val_loss: 0.2821 - val_accuracy: 0.9324\n",
      "Epoch 82/100\n",
      "49/49 [==============================] - 5s 112ms/step - loss: 0.0283 - accuracy: 0.9898 - val_loss: 0.5864 - val_accuracy: 0.8919\n",
      "Epoch 83/100\n",
      "49/49 [==============================] - 6s 120ms/step - loss: 0.0199 - accuracy: 0.9898 - val_loss: 0.5367 - val_accuracy: 0.8919\n",
      "Epoch 84/100\n",
      "49/49 [==============================] - 6s 124ms/step - loss: 0.0386 - accuracy: 0.9898 - val_loss: 0.3649 - val_accuracy: 0.9054\n",
      "Epoch 85/100\n",
      "49/49 [==============================] - 6s 114ms/step - loss: 0.0211 - accuracy: 0.9898 - val_loss: 0.3354 - val_accuracy: 0.9459\n",
      "Epoch 86/100\n",
      "49/49 [==============================] - 4s 91ms/step - loss: 0.1035 - accuracy: 0.9796 - val_loss: 0.4089 - val_accuracy: 0.9189\n",
      "Epoch 87/100\n",
      "49/49 [==============================] - 4s 88ms/step - loss: 0.1805 - accuracy: 0.9490 - val_loss: 0.6794 - val_accuracy: 0.8649\n",
      "Epoch 88/100\n",
      "49/49 [==============================] - 4s 88ms/step - loss: 0.0872 - accuracy: 0.9847 - val_loss: 0.4331 - val_accuracy: 0.8919\n",
      "Epoch 89/100\n",
      "49/49 [==============================] - 4s 88ms/step - loss: 0.0161 - accuracy: 0.9898 - val_loss: 0.3787 - val_accuracy: 0.8649\n",
      "Epoch 90/100\n",
      "49/49 [==============================] - 5s 94ms/step - loss: 0.1176 - accuracy: 0.9745 - val_loss: 0.6256 - val_accuracy: 0.8784\n",
      "Epoch 91/100\n",
      "49/49 [==============================] - 5s 92ms/step - loss: 0.0785 - accuracy: 0.9796 - val_loss: 0.2466 - val_accuracy: 0.9054\n",
      "Epoch 92/100\n",
      "49/49 [==============================] - 5s 102ms/step - loss: 0.0137 - accuracy: 1.0000 - val_loss: 0.3677 - val_accuracy: 0.8784\n",
      "Epoch 93/100\n",
      "49/49 [==============================] - 6s 120ms/step - loss: 0.0407 - accuracy: 0.9898 - val_loss: 0.6300 - val_accuracy: 0.8919\n",
      "Epoch 94/100\n",
      "49/49 [==============================] - 5s 111ms/step - loss: 0.0385 - accuracy: 0.9898 - val_loss: 0.5313 - val_accuracy: 0.9324\n",
      "Epoch 95/100\n",
      "49/49 [==============================] - 6s 113ms/step - loss: 0.0711 - accuracy: 0.9745 - val_loss: 1.0302 - val_accuracy: 0.9054\n",
      "Epoch 96/100\n",
      "49/49 [==============================] - 6s 114ms/step - loss: 0.0993 - accuracy: 0.9694 - val_loss: 0.7420 - val_accuracy: 0.8919\n",
      "Epoch 97/100\n",
      "49/49 [==============================] - 6s 114ms/step - loss: 0.0636 - accuracy: 0.9694 - val_loss: 0.7041 - val_accuracy: 0.9054\n",
      "Epoch 98/100\n",
      "49/49 [==============================] - 6s 120ms/step - loss: 0.0051 - accuracy: 1.0000 - val_loss: 0.5436 - val_accuracy: 0.8919\n",
      "Epoch 99/100\n",
      "49/49 [==============================] - 5s 96ms/step - loss: 0.0108 - accuracy: 0.9949 - val_loss: 0.6770 - val_accuracy: 0.9054\n",
      "Epoch 100/100\n",
      "49/49 [==============================] - 5s 94ms/step - loss: 0.0162 - accuracy: 0.9949 - val_loss: 2.4381 - val_accuracy: 0.8108\n"
     ]
    },
    {
     "data": {
      "text/plain": [
       "<tensorflow.python.keras.callbacks.History at 0x23f37cd1fd0>"
      ]
     },
     "execution_count": 8,
     "metadata": {},
     "output_type": "execute_result"
    }
   ],
   "source": [
    "classificador.fit_generator(base_treinamento, steps_per_epoch = 196/batch, # (numero de fotos/ batch_size)\n",
    "                            epochs = 100, validation_data = base_teste,\n",
    "                            validation_steps = 74/batch)"
   ]
  },
  {
   "cell_type": "code",
   "execution_count": 9,
   "id": "4c88538a-e535-47af-8e25-a65e786aa75c",
   "metadata": {},
   "outputs": [
    {
     "data": {
      "text/plain": [
       "{'bart': 0, 'homer': 1}"
      ]
     },
     "execution_count": 9,
     "metadata": {},
     "output_type": "execute_result"
    }
   ],
   "source": [
    "base_treinamento.class_indices"
   ]
  },
  {
   "cell_type": "code",
   "execution_count": 10,
   "id": "2456e72c-e1b6-4225-9d6d-b0f7a6138e6c",
   "metadata": {},
   "outputs": [],
   "source": [
    "imagem_teste = image.load_img('dataset_personagens/test_set/homer/homer30.bmp',\n",
    "                              target_size = (64,64))"
   ]
  },
  {
   "cell_type": "code",
   "execution_count": 11,
   "id": "b6cbe215-2755-4aac-8b34-c569bce20da4",
   "metadata": {},
   "outputs": [
    {
     "data": {
      "text/plain": [
       "Text(0.5, 1.0, 'Classe Cachorro')"
      ]
     },
     "execution_count": 11,
     "metadata": {},
     "output_type": "execute_result"
    },
    {
     "data": {
      "image/png": "[encoded data removed]",
      "text/plain": [
       "<Figure size 432x288 with 1 Axes>"
      ]
     },
     "metadata": {
      "needs_background": "light"
     },
     "output_type": "display_data"
    }
   ],
   "source": [
    "import matplotlib.pyplot as plt\n",
    "plt.imshow(imagem_teste)\n",
    "plt.title('Classe Cachorro' )"
   ]
  },
  {
   "cell_type": "code",
   "execution_count": 12,
   "id": "f8606610-570a-4963-b9a2-ad9734ce939c",
   "metadata": {},
   "outputs": [],
   "source": [
    "imagem_teste = image.img_to_array(imagem_teste)\n",
    "imagem_teste /= 255\n",
    "imagem_teste = np.expand_dims(imagem_teste, axis = 0)"
   ]
  },
  {
   "cell_type": "code",
   "execution_count": 13,
   "id": "ec486a88-e06a-409a-9af5-74eb97e15110",
   "metadata": {},
   "outputs": [
    {
     "data": {
      "text/plain": [
       "array([[1.]], dtype=float32)"
      ]
     },
     "execution_count": 13,
     "metadata": {},
     "output_type": "execute_result"
    }
   ],
   "source": [
    "previsao = classificador.predict(imagem_teste)\n",
    "previsao"
   ]
  },
  {
   "cell_type": "code",
   "execution_count": 14,
   "id": "eac044fb-d46f-424a-bb19-cc2045d9c353",
   "metadata": {},
   "outputs": [
    {
     "data": {
      "text/plain": [
       "array([[ True]])"
      ]
     },
     "execution_count": 14,
     "metadata": {},
     "output_type": "execute_result"
    }
   ],
   "source": [
    "previsao = (previsao > 0.5)\n",
    "previsao"
   ]
  },
  {
   "cell_type": "code",
   "execution_count": 15,
   "id": "2e6f91e2-c564-48c3-9ade-691513925a8c",
   "metadata": {},
   "outputs": [
    {
     "data": {
      "text/plain": [
       "Text(0.5, 1.0, 'Classe Gato')"
      ]
     },
     "execution_count": 15,
     "metadata": {},
     "output_type": "execute_result"
    },
    {
     "data": {
      "image/png": "[encoded data removed]",
      "text/plain": [
       "<Figure size 432x288 with 1 Axes>"
      ]
     },
     "metadata": {
      "needs_background": "light"
     },
     "output_type": "display_data"
    }
   ],
   "source": [
    "imagem_teste2 = image.load_img('dataset_personagens/test_set/bart/bart25.bmp',\n",
    "                              target_size = (64,64))\n",
    "import matplotlib.pyplot as plt\n",
    "plt.imshow(imagem_teste2)\n",
    "plt.title('Classe Gato' )"
   ]
  },
  {
   "cell_type": "code",
   "execution_count": 16,
   "id": "477d0e6f-b882-454a-99dc-396e2dc674e4",
   "metadata": {},
   "outputs": [],
   "source": [
    "imagem_teste2 = image.img_to_array(imagem_teste2)\n",
    "imagem_teste2 /= 255\n",
    "\n",
    "# Expandir as dimensões from (64, 64, 3) to (1, 64, 64, 3)\n",
    "# Um tensor, com um batch size\n",
    "imagem_teste2 = np.expand_dims(imagem_teste2, axis = 0)"
   ]
  },
  {
   "cell_type": "code",
   "execution_count": 17,
   "id": "87cd9468-b62f-4005-b96f-8b7cbfc81ff7",
   "metadata": {},
   "outputs": [
    {
     "name": "stdout",
     "output_type": "stream",
     "text": [
      "[[7.533551e-09]]\n",
      "[[False]]\n"
     ]
    }
   ],
   "source": [
    "previsao = classificador.predict(imagem_teste2)\n",
    "print(previsao)\n",
    "previsao = (previsao > 0.5)\n",
    "print(previsao)"
   ]
  },
  {
   "cell_type": "code",
   "execution_count": null,
   "id": "6f119f82-1256-4f7c-9f91-b4782c7d5b20",
   "metadata": {},
   "outputs": [],
   "source": []
  }
 ],
 "metadata": {
  "kernelspec": {
   "display_name": "data_1",
   "language": "python",
   "name": "data_1"
  },
  "language_info": {
   "codemirror_mode": {
    "name": "ipython",
    "version": 3
   },
   "file_extension": ".py",
   "mimetype": "text/x-python",
   "name": "python",
   "nbconvert_exporter": "python",
   "pygments_lexer": "ipython3",
   "version": "3.8.10"
  }
 },
 "nbformat": 4,
 "nbformat_minor": 5
}
