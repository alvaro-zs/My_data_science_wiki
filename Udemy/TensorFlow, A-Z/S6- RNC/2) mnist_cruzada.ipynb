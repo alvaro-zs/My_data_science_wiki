{
 "cells": [
  {
   "cell_type": "code",
   "execution_count": 1,
   "id": "4e584a35-f7c1-49a3-9c9f-4aa63d28f680",
   "metadata": {},
   "outputs": [],
   "source": [
    "from keras.datasets import mnist\n",
    "from keras.models import Sequential\n",
    "from keras.layers import Dense, Flatten, Conv2D, MaxPooling2D\n",
    "from keras.utils import np_utils\n",
    "import numpy as np\n",
    "from sklearn.model_selection import StratifiedKFold"
   ]
  },
  {
   "cell_type": "code",
   "execution_count": 2,
   "id": "3dd473fd-fef1-4fd3-a527-6a3a9d3f7226",
   "metadata": {},
   "outputs": [],
   "source": [
    "seed = 5\n",
    "np.random.seed(seed)"
   ]
  },
  {
   "cell_type": "code",
   "execution_count": 3,
   "id": "d263d980-a728-4ec1-944f-ef416afbc9d2",
   "metadata": {},
   "outputs": [],
   "source": [
    "(X, y), (X_teste, y_teste) = mnist.load_data()\n",
    "previsores = X.reshape(X.shape[0], 28, 28, 1)\n",
    "previsores = previsores.astype('float32')\n",
    "previsores /= 255\n",
    "classe = np_utils.to_categorical(y, 10)"
   ]
  },
  {
   "cell_type": "code",
   "execution_count": 4,
   "id": "228b3ce7-c2c5-4a32-8775-eca2b97fd812",
   "metadata": {},
   "outputs": [],
   "source": [
    "kfold = StratifiedKFold(n_splits = 5, # n de folds\n",
    "                        shuffle = True, # Pegar os dados aleatoriamente\n",
    "                        random_state = seed)\n",
    "resultados = [] # resultado de cada execução"
   ]
  },
  {
   "cell_type": "code",
   "execution_count": 5,
   "id": "7d535789-b5dc-4853-823d-8f7c090408da",
   "metadata": {},
   "outputs": [
    {
     "data": {
      "text/plain": [
       "array([0., 0., 0., 0., 0.])"
      ]
     },
     "execution_count": 5,
     "metadata": {},
     "output_type": "execute_result"
    }
   ],
   "source": [
    "a = np.zeros(5)\n",
    "a"
   ]
  },
  {
   "cell_type": "code",
   "execution_count": 6,
   "id": "34734558-5597-4efe-8e50-48944d998570",
   "metadata": {},
   "outputs": [
    {
     "data": {
      "text/plain": [
       "array([[0.],\n",
       "       [0.],\n",
       "       [0.],\n",
       "       ...,\n",
       "       [0.],\n",
       "       [0.],\n",
       "       [0.]])"
      ]
     },
     "execution_count": 6,
     "metadata": {},
     "output_type": "execute_result"
    }
   ],
   "source": [
    "b = np.zeros(shape = (classe.shape[0], 1))\n",
    "b"
   ]
  },
  {
   "cell_type": "code",
   "execution_count": 7,
   "id": "6461a22f-c32b-429d-afb6-3eb0d17b7da4",
   "metadata": {
    "scrolled": true,
    "tags": []
   },
   "outputs": [
    {
     "name": "stdout",
     "output_type": "stream",
     "text": [
      "Índices treinamento:  [    0     1     2 ... 59997 59998 59999] Índice teste [    5     7    10 ... 59983 59985 59993]\n",
      "Epoch 1/5\n",
      "375/375 [==============================] - 13s 36ms/step - loss: 0.2675 - accuracy: 0.9237\n",
      "Epoch 2/5\n",
      "375/375 [==============================] - 13s 35ms/step - loss: 0.0850 - accuracy: 0.9749\n",
      "Epoch 3/5\n",
      "375/375 [==============================] - 13s 36ms/step - loss: 0.0568 - accuracy: 0.9838\n",
      "Epoch 4/5\n",
      "375/375 [==============================] - 13s 36ms/step - loss: 0.0408 - accuracy: 0.9873\n",
      "Epoch 5/5\n",
      "375/375 [==============================] - 14s 36ms/step - loss: 0.0310 - accuracy: 0.9906\n",
      "375/375 [==============================] - 2s 4ms/step - loss: 0.0584 - accuracy: 0.9827\n",
      "Índices treinamento:  [    1     2     5 ... 59995 59996 59999] Índice teste [    0     3     4 ... 59989 59997 59998]\n",
      "Epoch 1/5\n",
      "375/375 [==============================] - 13s 36ms/step - loss: 0.2464 - accuracy: 0.9296\n",
      "Epoch 2/5\n",
      "375/375 [==============================] - 14s 36ms/step - loss: 0.0736 - accuracy: 0.9782\n",
      "Epoch 3/5\n",
      "375/375 [==============================] - 14s 36ms/step - loss: 0.0491 - accuracy: 0.9852\n",
      "Epoch 4/5\n",
      "375/375 [==============================] - 13s 36ms/step - loss: 0.0354 - accuracy: 0.9900\n",
      "Epoch 5/5\n",
      "375/375 [==============================] - 13s 35ms/step - loss: 0.0267 - accuracy: 0.9918\n",
      "375/375 [==============================] - 2s 4ms/step - loss: 0.0560 - accuracy: 0.9831\n",
      "Índices treinamento:  [    0     1     3 ... 59996 59997 59998] Índice teste [    2    27    33 ... 59991 59995 59999]\n",
      "Epoch 1/5\n",
      "375/375 [==============================] - 13s 35ms/step - loss: 0.2382 - accuracy: 0.9308\n",
      "Epoch 2/5\n",
      "375/375 [==============================] - 13s 35ms/step - loss: 0.0766 - accuracy: 0.9774\n",
      "Epoch 3/5\n",
      "375/375 [==============================] - 13s 36ms/step - loss: 0.0493 - accuracy: 0.9856\n",
      "Epoch 4/5\n",
      "375/375 [==============================] - 13s 36ms/step - loss: 0.0364 - accuracy: 0.9889\n",
      "Epoch 5/5\n",
      "375/375 [==============================] - 13s 35ms/step - loss: 0.0267 - accuracy: 0.9923\n",
      "375/375 [==============================] - 2s 4ms/step - loss: 0.0476 - accuracy: 0.9868\n",
      "Índices treinamento:  [    0     2     3 ... 59997 59998 59999] Índice teste [    1     6     9 ... 59967 59975 59977]\n",
      "Epoch 1/5\n",
      "375/375 [==============================] - 13s 35ms/step - loss: 0.2556 - accuracy: 0.9271\n",
      "Epoch 2/5\n",
      "375/375 [==============================] - 13s 35ms/step - loss: 0.0784 - accuracy: 0.9772\n",
      "Epoch 3/5\n",
      "375/375 [==============================] - 13s 35ms/step - loss: 0.0511 - accuracy: 0.9850\n",
      "Epoch 4/5\n",
      "375/375 [==============================] - 13s 35ms/step - loss: 0.0379 - accuracy: 0.9889\n",
      "Epoch 5/5\n",
      "375/375 [==============================] - 13s 35ms/step - loss: 0.0282 - accuracy: 0.9916\n",
      "375/375 [==============================] - 2s 4ms/step - loss: 0.0510 - accuracy: 0.9848\n",
      "Índices treinamento:  [    0     1     2 ... 59997 59998 59999] Índice teste [   12    16    53 ... 59992 59994 59996]\n",
      "Epoch 1/5\n",
      "375/375 [==============================] - 13s 36ms/step - loss: 0.2587 - accuracy: 0.9265\n",
      "Epoch 2/5\n",
      "375/375 [==============================] - 13s 35ms/step - loss: 0.0781 - accuracy: 0.9776\n",
      "Epoch 3/5\n",
      "375/375 [==============================] - 13s 35ms/step - loss: 0.0525 - accuracy: 0.9842\n",
      "Epoch 4/5\n",
      "375/375 [==============================] - 13s 36ms/step - loss: 0.0383 - accuracy: 0.9883\n",
      "Epoch 5/5\n",
      "375/375 [==============================] - 13s 35ms/step - loss: 0.0291 - accuracy: 0.9915\n",
      "375/375 [==============================] - 2s 4ms/step - loss: 0.0536 - accuracy: 0.9854\n"
     ]
    }
   ],
   "source": [
    "for indice_treinamento, indice_teste in kfold.split(previsores, \n",
    "                                                    np.zeros(shape = (classe.shape[0], 1))):\n",
    "    \n",
    "    print('Índices treinamento: ', indice_treinamento, 'Índice teste', indice_teste)\n",
    "    \n",
    "    classificador = Sequential()\n",
    "    \n",
    "    classificador.add(Conv2D(32, (3,3), input_shape=(28,28,1), activation = 'relu'))\n",
    "    \n",
    "    classificador.add(MaxPooling2D(pool_size = (2,2)))\n",
    "    \n",
    "    classificador.add(Flatten())\n",
    "    \n",
    "    classificador.add(Dense(units = 128, activation = 'relu'))\n",
    "    \n",
    "    classificador.add(Dense(units = 10, activation = 'softmax'))\n",
    "    \n",
    "    classificador.compile(loss = 'categorical_crossentropy', optimizer = 'adam',\n",
    "                          metrics = ['accuracy'])\n",
    "    \n",
    "    classificador.fit(previsores[indice_treinamento], classe[indice_treinamento],\n",
    "                      batch_size = 128, epochs = 5)\n",
    "    \n",
    "    precisao = classificador.evaluate(previsores[indice_teste], classe[indice_teste])\n",
    "    \n",
    "    resultados.append(precisao[1])"
   ]
  },
  {
   "cell_type": "code",
   "execution_count": 9,
   "id": "d61eac37-5b7b-42bf-a58c-a59168f80ab0",
   "metadata": {},
   "outputs": [
    {
     "data": {
      "text/plain": [
       "0.9845666646957397"
      ]
     },
     "execution_count": 9,
     "metadata": {},
     "output_type": "execute_result"
    }
   ],
   "source": [
    "#media = resultados.mean()\n",
    "media = sum(resultados) / len(resultados)\n",
    "media"
   ]
  },
  {
   "cell_type": "code",
   "execution_count": null,
   "id": "85ebaf6c-6989-4d5b-8401-adfa1125b24b",
   "metadata": {},
   "outputs": [],
   "source": []
  }
 ],
 "metadata": {
  "kernelspec": {
   "display_name": "data_1",
   "language": "python",
   "name": "data_1"
  },
  "language_info": {
   "codemirror_mode": {
    "name": "ipython",
    "version": 3
   },
   "file_extension": ".py",
   "mimetype": "text/x-python",
   "name": "python",
   "nbconvert_exporter": "python",
   "pygments_lexer": "ipython3",
   "version": "3.8.10"
  }
 },
 "nbformat": 4,
 "nbformat_minor": 5
}
