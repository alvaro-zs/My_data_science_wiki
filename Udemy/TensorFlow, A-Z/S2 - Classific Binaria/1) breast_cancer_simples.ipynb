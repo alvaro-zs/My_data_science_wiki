{
 "cells": [
  {
   "cell_type": "code",
   "execution_count": 77,
   "id": "d0c9f86b-5d9f-4c4e-b801-c26ae4b49540",
   "metadata": {},
   "outputs": [
    {
     "data": {
      "text/html": [
       "<div>\n",
       "<style scoped>\n",
       "    .dataframe tbody tr th:only-of-type {\n",
       "        vertical-align: middle;\n",
       "    }\n",
       "\n",
       "    .dataframe tbody tr th {\n",
       "        vertical-align: top;\n",
       "    }\n",
       "\n",
       "    .dataframe thead th {\n",
       "        text-align: right;\n",
       "    }\n",
       "</style>\n",
       "<table border=\"1\" class=\"dataframe\">\n",
       "  <thead>\n",
       "    <tr style=\"text-align: right;\">\n",
       "      <th></th>\n",
       "      <th>radius_mean</th>\n",
       "      <th>texture_mean</th>\n",
       "      <th>perimeter_mean</th>\n",
       "      <th>area_mean</th>\n",
       "      <th>smoothness_mean</th>\n",
       "      <th>compactness_mean</th>\n",
       "      <th>concavity_mean</th>\n",
       "      <th>concave_points_mean</th>\n",
       "      <th>symmetry_mean</th>\n",
       "      <th>fractal_dimension_mean</th>\n",
       "      <th>...</th>\n",
       "      <th>radius_worst</th>\n",
       "      <th>texture_worst</th>\n",
       "      <th>perimeter_worst</th>\n",
       "      <th>area_worst</th>\n",
       "      <th>smoothness_worst</th>\n",
       "      <th>compactness_worst</th>\n",
       "      <th>concavity_worst</th>\n",
       "      <th>concave_points_worst</th>\n",
       "      <th>symmetry_worst</th>\n",
       "      <th>fractal_dimension_worst</th>\n",
       "    </tr>\n",
       "  </thead>\n",
       "  <tbody>\n",
       "    <tr>\n",
       "      <th>0</th>\n",
       "      <td>17.99</td>\n",
       "      <td>10.38</td>\n",
       "      <td>122.8</td>\n",
       "      <td>1001.0</td>\n",
       "      <td>0.11840</td>\n",
       "      <td>0.27760</td>\n",
       "      <td>0.3001</td>\n",
       "      <td>0.14710</td>\n",
       "      <td>0.2419</td>\n",
       "      <td>0.07871</td>\n",
       "      <td>...</td>\n",
       "      <td>25.38</td>\n",
       "      <td>17.33</td>\n",
       "      <td>184.6</td>\n",
       "      <td>2019.0</td>\n",
       "      <td>0.1622</td>\n",
       "      <td>0.6656</td>\n",
       "      <td>0.7119</td>\n",
       "      <td>0.2654</td>\n",
       "      <td>0.4601</td>\n",
       "      <td>0.11890</td>\n",
       "    </tr>\n",
       "    <tr>\n",
       "      <th>1</th>\n",
       "      <td>20.57</td>\n",
       "      <td>17.77</td>\n",
       "      <td>132.9</td>\n",
       "      <td>1326.0</td>\n",
       "      <td>0.08474</td>\n",
       "      <td>0.07864</td>\n",
       "      <td>0.0869</td>\n",
       "      <td>0.07017</td>\n",
       "      <td>0.1812</td>\n",
       "      <td>0.05667</td>\n",
       "      <td>...</td>\n",
       "      <td>24.99</td>\n",
       "      <td>23.41</td>\n",
       "      <td>158.8</td>\n",
       "      <td>1956.0</td>\n",
       "      <td>0.1238</td>\n",
       "      <td>0.1866</td>\n",
       "      <td>0.2416</td>\n",
       "      <td>186.0000</td>\n",
       "      <td>275.0000</td>\n",
       "      <td>0.08902</td>\n",
       "    </tr>\n",
       "  </tbody>\n",
       "</table>\n",
       "<p>2 rows × 30 columns</p>\n",
       "</div>"
      ],
      "text/plain": [
       "    radius_mean   texture_mean   perimeter_mean   area_mean   smoothness_mean  \\\n",
       "0         17.99          10.38            122.8      1001.0           0.11840   \n",
       "1         20.57          17.77            132.9      1326.0           0.08474   \n",
       "\n",
       "    compactness_mean   concavity_mean  concave_points_mean   symmetry_mean  \\\n",
       "0            0.27760           0.3001              0.14710          0.2419   \n",
       "1            0.07864           0.0869              0.07017          0.1812   \n",
       "\n",
       "    fractal_dimension_mean  ...   radius_worst   texture_worst  \\\n",
       "0                  0.07871  ...          25.38           17.33   \n",
       "1                  0.05667  ...          24.99           23.41   \n",
       "\n",
       "    perimeter_worst   area_worst   smoothness_worst   compactness_worst  \\\n",
       "0             184.6       2019.0             0.1622              0.6656   \n",
       "1             158.8       1956.0             0.1238              0.1866   \n",
       "\n",
       "    concavity_worst   concave_points_worst   symmetry_worst  \\\n",
       "0            0.7119                 0.2654           0.4601   \n",
       "1            0.2416               186.0000         275.0000   \n",
       "\n",
       "    fractal_dimension_worst  \n",
       "0                   0.11890  \n",
       "1                   0.08902  \n",
       "\n",
       "[2 rows x 30 columns]"
      ]
     },
     "execution_count": 77,
     "metadata": {},
     "output_type": "execute_result"
    }
   ],
   "source": [
    "import pandas as pd\n",
    "\n",
    "previsores = pd.read_csv('entradas_breast.csv')\n",
    "previsores.head(2)"
   ]
  },
  {
   "cell_type": "code",
   "execution_count": 78,
   "id": "754005be-7b85-415c-9de2-b06a72d6e599",
   "metadata": {},
   "outputs": [
    {
     "data": {
      "text/html": [
       "<div>\n",
       "<style scoped>\n",
       "    .dataframe tbody tr th:only-of-type {\n",
       "        vertical-align: middle;\n",
       "    }\n",
       "\n",
       "    .dataframe tbody tr th {\n",
       "        vertical-align: top;\n",
       "    }\n",
       "\n",
       "    .dataframe thead th {\n",
       "        text-align: right;\n",
       "    }\n",
       "</style>\n",
       "<table border=\"1\" class=\"dataframe\">\n",
       "  <thead>\n",
       "    <tr style=\"text-align: right;\">\n",
       "      <th></th>\n",
       "      <th>0</th>\n",
       "    </tr>\n",
       "  </thead>\n",
       "  <tbody>\n",
       "    <tr>\n",
       "      <th>0</th>\n",
       "      <td>0</td>\n",
       "    </tr>\n",
       "    <tr>\n",
       "      <th>1</th>\n",
       "      <td>0</td>\n",
       "    </tr>\n",
       "  </tbody>\n",
       "</table>\n",
       "</div>"
      ],
      "text/plain": [
       "   0\n",
       "0  0\n",
       "1  0"
      ]
     },
     "execution_count": 78,
     "metadata": {},
     "output_type": "execute_result"
    }
   ],
   "source": [
    "classe = pd.read_csv('saidas_breast.csv')\n",
    "classe.head(2)"
   ]
  },
  {
   "cell_type": "code",
   "execution_count": 79,
   "id": "2d2d3b1e-9586-4e2b-94ae-c3bac5bdb86a",
   "metadata": {},
   "outputs": [],
   "source": [
    "from sklearn.model_selection import train_test_split\n",
    "previsores_treinamento, previsores_teste, classe_treinamento, classe_teste = train_test_split(previsores, classe, test_size=0.25)"
   ]
  },
  {
   "cell_type": "code",
   "execution_count": 80,
   "id": "abd140c0-52f1-45cc-8329-691cbbf2360b",
   "metadata": {},
   "outputs": [
    {
     "name": "stdout",
     "output_type": "stream",
     "text": [
      "Model: \"sequential_10\"\n",
      "_________________________________________________________________\n",
      "Layer (type)                 Output Shape              Param #   \n",
      "=================================================================\n",
      "dense_30 (Dense)             (None, 16)                496       \n",
      "_________________________________________________________________\n",
      "dense_31 (Dense)             (None, 16)                272       \n",
      "_________________________________________________________________\n",
      "dense_32 (Dense)             (None, 1)                 17        \n",
      "=================================================================\n",
      "Total params: 785\n",
      "Trainable params: 785\n",
      "Non-trainable params: 0\n",
      "_________________________________________________________________\n"
     ]
    }
   ],
   "source": [
    "import keras\n",
    "from keras.models import Sequential\n",
    "from keras.layers import Dense\n",
    "classificador = Sequential()\n",
    "#Hidden Layer and initial layer\n",
    "classificador.add(Dense(units = 16, # initial values ( (N de entradas + N de saidas)/2 -----> (30(colunas)+1(saida binaria))/2 = 15.5 )\n",
    "                        activation = 'relu', \n",
    "                        kernel_initializer = 'random_uniform', # Pesos Iniciais \n",
    "                        input_dim = 30))\n",
    "\n",
    "classificador.add(Dense(units = 16, activation = 'relu', kernel_initializer = 'random_uniform'))\n",
    "\n",
    "\n",
    "# Output Layer\n",
    "classificador.add(Dense(units = 1, # Saida binaria, 1 saida \n",
    "                        activation = 'sigmoid'))\n",
    "\n",
    "# Adam, otimizador gradiente escotastico, recomendado\n",
    "otimizador = keras.optimizers.Adam(lr = 0.001, decay = 0.0001, clipvalue = 0.5)\n",
    "otimizador = keras.optimizers.Adam(lr = 0.0001, decay = 0.0001)\n",
    "\n",
    "classificador.compile(optimizer = otimizador,\n",
    "                      loss = 'binary_crossentropy', #categorical_crossentropy se nao for binaria\n",
    "                      metrics = ['binary_accuracy']) #categorical_accuracy\n",
    "\n",
    "#classificador.compile(optimizer = 'adam', loss = 'binary_crossentropy',\n",
    "#                      metrics = ['binary_accuracy'])\n",
    "\n",
    "#Model summary\n",
    "classificador.summary()"
   ]
  },
  {
   "cell_type": "code",
   "execution_count": 81,
   "id": "14b6ad3e-8793-4fe9-a1f2-c4173026cec9",
   "metadata": {
    "scrolled": true,
    "tags": []
   },
   "outputs": [
    {
     "name": "stdout",
     "output_type": "stream",
     "text": [
      "Epoch 1/100\n",
      "43/43 [==============================] - 0s 1ms/step - loss: 1.6046 - binary_accuracy: 0.5376\n",
      "Epoch 2/100\n",
      "43/43 [==============================] - 0s 1ms/step - loss: 0.9644 - binary_accuracy: 0.5892\n",
      "Epoch 3/100\n",
      "43/43 [==============================] - 0s 1ms/step - loss: 0.7402 - binary_accuracy: 0.6127\n",
      "Epoch 4/100\n",
      "43/43 [==============================] - 0s 1ms/step - loss: 0.6213 - binary_accuracy: 0.6432\n",
      "Epoch 5/100\n",
      "43/43 [==============================] - 0s 1ms/step - loss: 0.5561 - binary_accuracy: 0.6761\n",
      "Epoch 6/100\n",
      "43/43 [==============================] - 0s 1ms/step - loss: 0.5113 - binary_accuracy: 0.6854\n",
      "Epoch 7/100\n",
      "43/43 [==============================] - 0s 1ms/step - loss: 0.4779 - binary_accuracy: 0.7676\n",
      "Epoch 8/100\n",
      "43/43 [==============================] - 0s 1ms/step - loss: 0.4667 - binary_accuracy: 0.7559\n",
      "Epoch 9/100\n",
      "43/43 [==============================] - 0s 1ms/step - loss: 0.4539 - binary_accuracy: 0.7629\n",
      "Epoch 10/100\n",
      "43/43 [==============================] - 0s 1ms/step - loss: 0.4444 - binary_accuracy: 0.7606\n",
      "Epoch 11/100\n",
      "43/43 [==============================] - 0s 1ms/step - loss: 0.4336 - binary_accuracy: 0.7958\n",
      "Epoch 12/100\n",
      "43/43 [==============================] - 0s 1ms/step - loss: 0.4252 - binary_accuracy: 0.8052\n",
      "Epoch 13/100\n",
      "43/43 [==============================] - 0s 1ms/step - loss: 0.4165 - binary_accuracy: 0.8052\n",
      "Epoch 14/100\n",
      "43/43 [==============================] - 0s 1ms/step - loss: 0.4104 - binary_accuracy: 0.8099\n",
      "Epoch 15/100\n",
      "43/43 [==============================] - 0s 1ms/step - loss: 0.4086 - binary_accuracy: 0.8310\n",
      "Epoch 16/100\n",
      "43/43 [==============================] - 0s 1ms/step - loss: 0.3983 - binary_accuracy: 0.8357\n",
      "Epoch 17/100\n",
      "43/43 [==============================] - 0s 1ms/step - loss: 0.3923 - binary_accuracy: 0.8263\n",
      "Epoch 18/100\n",
      "43/43 [==============================] - 0s 976us/step - loss: 0.3839 - binary_accuracy: 0.8638\n",
      "Epoch 19/100\n",
      "43/43 [==============================] - 0s 999us/step - loss: 0.3837 - binary_accuracy: 0.8685\n",
      "Epoch 20/100\n",
      "43/43 [==============================] - 0s 1ms/step - loss: 0.3765 - binary_accuracy: 0.8638\n",
      "Epoch 21/100\n",
      "43/43 [==============================] - 0s 1ms/step - loss: 0.3758 - binary_accuracy: 0.8685\n",
      "Epoch 22/100\n",
      "43/43 [==============================] - 0s 1ms/step - loss: 0.3661 - binary_accuracy: 0.8779\n",
      "Epoch 23/100\n",
      "43/43 [==============================] - 0s 1ms/step - loss: 0.3586 - binary_accuracy: 0.8944\n",
      "Epoch 24/100\n",
      "43/43 [==============================] - 0s 1ms/step - loss: 0.3487 - binary_accuracy: 0.8873\n",
      "Epoch 25/100\n",
      "43/43 [==============================] - 0s 1ms/step - loss: 0.3386 - binary_accuracy: 0.8873\n",
      "Epoch 26/100\n",
      "43/43 [==============================] - 0s 1ms/step - loss: 0.3381 - binary_accuracy: 0.9085\n",
      "Epoch 27/100\n",
      "43/43 [==============================] - 0s 953us/step - loss: 0.3331 - binary_accuracy: 0.8826\n",
      "Epoch 28/100\n",
      "43/43 [==============================] - 0s 976us/step - loss: 0.3238 - binary_accuracy: 0.8944\n",
      "Epoch 29/100\n",
      "43/43 [==============================] - 0s 999us/step - loss: 0.3213 - binary_accuracy: 0.8897\n",
      "Epoch 30/100\n",
      "43/43 [==============================] - 0s 1ms/step - loss: 0.3164 - binary_accuracy: 0.8920\n",
      "Epoch 31/100\n",
      "43/43 [==============================] - 0s 1ms/step - loss: 0.3095 - binary_accuracy: 0.8920\n",
      "Epoch 32/100\n",
      "43/43 [==============================] - 0s 1ms/step - loss: 0.3115 - binary_accuracy: 0.8850\n",
      "Epoch 33/100\n",
      "43/43 [==============================] - 0s 1ms/step - loss: 0.3061 - binary_accuracy: 0.8920\n",
      "Epoch 34/100\n",
      "43/43 [==============================] - 0s 999us/step - loss: 0.3004 - binary_accuracy: 0.8944\n",
      "Epoch 35/100\n",
      "43/43 [==============================] - 0s 1ms/step - loss: 0.2935 - binary_accuracy: 0.8944\n",
      "Epoch 36/100\n",
      "43/43 [==============================] - 0s 1ms/step - loss: 0.2875 - binary_accuracy: 0.8991\n",
      "Epoch 37/100\n",
      "43/43 [==============================] - 0s 1ms/step - loss: 0.2867 - binary_accuracy: 0.8944\n",
      "Epoch 38/100\n",
      "43/43 [==============================] - 0s 1ms/step - loss: 0.2876 - binary_accuracy: 0.8967\n",
      "Epoch 39/100\n",
      "43/43 [==============================] - 0s 1ms/step - loss: 0.2821 - binary_accuracy: 0.8967\n",
      "Epoch 40/100\n",
      "43/43 [==============================] - 0s 977us/step - loss: 0.2793 - binary_accuracy: 0.8967\n",
      "Epoch 41/100\n",
      "43/43 [==============================] - 0s 1ms/step - loss: 0.2736 - binary_accuracy: 0.9061\n",
      "Epoch 42/100\n",
      "43/43 [==============================] - 0s 962us/step - loss: 0.2769 - binary_accuracy: 0.9014\n",
      "Epoch 43/100\n",
      "43/43 [==============================] - 0s 1ms/step - loss: 0.2731 - binary_accuracy: 0.9061\n",
      "Epoch 44/100\n",
      "43/43 [==============================] - 0s 1ms/step - loss: 0.2655 - binary_accuracy: 0.8991\n",
      "Epoch 45/100\n",
      "43/43 [==============================] - 0s 1ms/step - loss: 0.2698 - binary_accuracy: 0.9038\n",
      "Epoch 46/100\n",
      "43/43 [==============================] - 0s 1ms/step - loss: 0.2582 - binary_accuracy: 0.9108\n",
      "Epoch 47/100\n",
      "43/43 [==============================] - 0s 1ms/step - loss: 0.2635 - binary_accuracy: 0.9014\n",
      "Epoch 48/100\n",
      "43/43 [==============================] - 0s 1ms/step - loss: 0.2524 - binary_accuracy: 0.9085\n",
      "Epoch 49/100\n",
      "43/43 [==============================] - 0s 999us/step - loss: 0.2526 - binary_accuracy: 0.9155\n",
      "Epoch 50/100\n",
      "43/43 [==============================] - 0s 1ms/step - loss: 0.2506 - binary_accuracy: 0.9108\n",
      "Epoch 51/100\n",
      "43/43 [==============================] - 0s 1ms/step - loss: 0.2457 - binary_accuracy: 0.9178\n",
      "Epoch 52/100\n",
      "43/43 [==============================] - 0s 1ms/step - loss: 0.2516 - binary_accuracy: 0.9108\n",
      "Epoch 53/100\n",
      "43/43 [==============================] - 0s 1ms/step - loss: 0.2433 - binary_accuracy: 0.9108\n",
      "Epoch 54/100\n",
      "43/43 [==============================] - 0s 1ms/step - loss: 0.2445 - binary_accuracy: 0.9155\n",
      "Epoch 55/100\n",
      "43/43 [==============================] - 0s 1ms/step - loss: 0.2455 - binary_accuracy: 0.9155\n",
      "Epoch 56/100\n",
      "43/43 [==============================] - 0s 992us/step - loss: 0.2449 - binary_accuracy: 0.9225\n",
      "Epoch 57/100\n",
      "43/43 [==============================] - 0s 999us/step - loss: 0.2338 - binary_accuracy: 0.9202\n",
      "Epoch 58/100\n",
      "43/43 [==============================] - 0s 999us/step - loss: 0.2365 - binary_accuracy: 0.9014\n",
      "Epoch 59/100\n",
      "43/43 [==============================] - 0s 1ms/step - loss: 0.2318 - binary_accuracy: 0.9202\n",
      "Epoch 60/100\n",
      "43/43 [==============================] - 0s 1ms/step - loss: 0.2296 - binary_accuracy: 0.9202\n",
      "Epoch 61/100\n",
      "43/43 [==============================] - 0s 1ms/step - loss: 0.2304 - binary_accuracy: 0.9155\n",
      "Epoch 62/100\n",
      "43/43 [==============================] - 0s 1ms/step - loss: 0.2272 - binary_accuracy: 0.9272\n",
      "Epoch 63/100\n",
      "43/43 [==============================] - 0s 1ms/step - loss: 0.2265 - binary_accuracy: 0.9155\n",
      "Epoch 64/100\n",
      "43/43 [==============================] - 0s 1ms/step - loss: 0.2226 - binary_accuracy: 0.9249\n",
      "Epoch 65/100\n",
      "43/43 [==============================] - 0s 1ms/step - loss: 0.2239 - binary_accuracy: 0.9202\n",
      "Epoch 66/100\n",
      "43/43 [==============================] - 0s 1ms/step - loss: 0.2202 - binary_accuracy: 0.9272\n",
      "Epoch 67/100\n",
      "43/43 [==============================] - 0s 1ms/step - loss: 0.2205 - binary_accuracy: 0.9249\n",
      "Epoch 68/100\n",
      "43/43 [==============================] - 0s 1ms/step - loss: 0.2293 - binary_accuracy: 0.9178\n",
      "Epoch 69/100\n",
      "43/43 [==============================] - 0s 1ms/step - loss: 0.2179 - binary_accuracy: 0.9155\n",
      "Epoch 70/100\n",
      "43/43 [==============================] - 0s 999us/step - loss: 0.2170 - binary_accuracy: 0.9225\n",
      "Epoch 71/100\n",
      "43/43 [==============================] - 0s 1ms/step - loss: 0.2249 - binary_accuracy: 0.9202\n",
      "Epoch 72/100\n",
      "43/43 [==============================] - 0s 1ms/step - loss: 0.2125 - binary_accuracy: 0.9225\n",
      "Epoch 73/100\n",
      "43/43 [==============================] - 0s 976us/step - loss: 0.2142 - binary_accuracy: 0.9202\n",
      "Epoch 74/100\n",
      "43/43 [==============================] - 0s 930us/step - loss: 0.2161 - binary_accuracy: 0.9272\n",
      "Epoch 75/100\n",
      "43/43 [==============================] - 0s 1ms/step - loss: 0.2164 - binary_accuracy: 0.9131\n",
      "Epoch 76/100\n",
      "43/43 [==============================] - 0s 1ms/step - loss: 0.2082 - binary_accuracy: 0.9272\n",
      "Epoch 77/100\n",
      "43/43 [==============================] - 0s 1ms/step - loss: 0.2098 - binary_accuracy: 0.9178\n",
      "Epoch 78/100\n",
      "43/43 [==============================] - 0s 1ms/step - loss: 0.2050 - binary_accuracy: 0.9249\n",
      "Epoch 79/100\n",
      "43/43 [==============================] - 0s 1ms/step - loss: 0.2090 - binary_accuracy: 0.9178\n",
      "Epoch 80/100\n",
      "43/43 [==============================] - 0s 1ms/step - loss: 0.2054 - binary_accuracy: 0.9225\n",
      "Epoch 81/100\n",
      "43/43 [==============================] - 0s 999us/step - loss: 0.2043 - binary_accuracy: 0.9249\n",
      "Epoch 82/100\n",
      "43/43 [==============================] - 0s 953us/step - loss: 0.2072 - binary_accuracy: 0.9249\n",
      "Epoch 83/100\n",
      "43/43 [==============================] - 0s 999us/step - loss: 0.2053 - binary_accuracy: 0.9272\n",
      "Epoch 84/100\n",
      "43/43 [==============================] - 0s 1ms/step - loss: 0.2044 - binary_accuracy: 0.9202\n",
      "Epoch 85/100\n",
      "43/43 [==============================] - 0s 976us/step - loss: 0.2016 - binary_accuracy: 0.9272\n",
      "Epoch 86/100\n",
      "43/43 [==============================] - 0s 1ms/step - loss: 0.2024 - binary_accuracy: 0.9272\n",
      "Epoch 87/100\n",
      "43/43 [==============================] - 0s 999us/step - loss: 0.2017 - binary_accuracy: 0.9225\n",
      "Epoch 88/100\n",
      "43/43 [==============================] - 0s 1ms/step - loss: 0.1981 - binary_accuracy: 0.9296\n",
      "Epoch 89/100\n",
      "43/43 [==============================] - 0s 1ms/step - loss: 0.1953 - binary_accuracy: 0.9296\n",
      "Epoch 90/100\n",
      "43/43 [==============================] - 0s 2ms/step - loss: 0.1968 - binary_accuracy: 0.9272\n",
      "Epoch 91/100\n",
      "43/43 [==============================] - 0s 1ms/step - loss: 0.1982 - binary_accuracy: 0.9343\n",
      "Epoch 92/100\n",
      "43/43 [==============================] - 0s 1ms/step - loss: 0.1980 - binary_accuracy: 0.9272\n",
      "Epoch 93/100\n",
      "43/43 [==============================] - 0s 906us/step - loss: 0.1946 - binary_accuracy: 0.9319\n",
      "Epoch 94/100\n",
      "43/43 [==============================] - 0s 1ms/step - loss: 0.1923 - binary_accuracy: 0.9272\n",
      "Epoch 95/100\n",
      "43/43 [==============================] - 0s 1ms/step - loss: 0.1933 - binary_accuracy: 0.9343\n",
      "Epoch 96/100\n",
      "43/43 [==============================] - 0s 1ms/step - loss: 0.1890 - binary_accuracy: 0.9343\n",
      "Epoch 97/100\n",
      "43/43 [==============================] - 0s 999us/step - loss: 0.1898 - binary_accuracy: 0.9343\n",
      "Epoch 98/100\n",
      "43/43 [==============================] - 0s 1ms/step - loss: 0.1942 - binary_accuracy: 0.9249\n",
      "Epoch 99/100\n",
      "43/43 [==============================] - 0s 1ms/step - loss: 0.1906 - binary_accuracy: 0.9249\n",
      "Epoch 100/100\n",
      "43/43 [==============================] - 0s 1ms/step - loss: 0.1939 - binary_accuracy: 0.9296\n"
     ]
    },
    {
     "data": {
      "text/plain": [
       "<tensorflow.python.keras.callbacks.History at 0x1d38fdfa670>"
      ]
     },
     "execution_count": 81,
     "metadata": {},
     "output_type": "execute_result"
    }
   ],
   "source": [
    "classificador.fit(previsores_treinamento, classe_treinamento,\n",
    "                  batch_size = 10, epochs = 100)"
   ]
  },
  {
   "cell_type": "code",
   "execution_count": 82,
   "id": "46ee965b-75e6-48c5-b217-cbc5622d9985",
   "metadata": {},
   "outputs": [
    {
     "data": {
      "text/plain": [
       "array([[8.9280063e-01],\n",
       "       [1.0092823e-05],\n",
       "       [5.0956190e-02],\n",
       "       [7.1003389e-01],\n",
       "       [2.0780444e-02]], dtype=float32)"
      ]
     },
     "execution_count": 82,
     "metadata": {},
     "output_type": "execute_result"
    }
   ],
   "source": [
    "pesos0 = classificador.layers[0].get_weights()\n",
    "#print(pesos0)\n",
    "#print(len(pesos0))\n",
    "pesos1 = classificador.layers[1].get_weights()\n",
    "pesos2 = classificador.layers[2].get_weights()\n",
    "\n",
    "previsoes = classificador.predict(previsores_teste)\n",
    "previsoes[0:5]"
   ]
  },
  {
   "cell_type": "code",
   "execution_count": 83,
   "id": "2475da4b-d1a1-4d3f-907c-10fd6fa23f13",
   "metadata": {},
   "outputs": [
    {
     "data": {
      "text/plain": [
       "array([[ True],\n",
       "       [False],\n",
       "       [False],\n",
       "       [ True],\n",
       "       [False]])"
      ]
     },
     "execution_count": 83,
     "metadata": {},
     "output_type": "execute_result"
    }
   ],
   "source": [
    "previsoes = (previsoes > 0.5)\n",
    "previsoes[0:5]"
   ]
  },
  {
   "cell_type": "code",
   "execution_count": 84,
   "id": "c4e1f1ba-523e-4fab-92e4-7bb9ac48b666",
   "metadata": {},
   "outputs": [
    {
     "data": {
      "text/plain": [
       "0.9090909090909091"
      ]
     },
     "execution_count": 84,
     "metadata": {},
     "output_type": "execute_result"
    }
   ],
   "source": [
    "from sklearn.metrics import confusion_matrix, accuracy_score\n",
    "precisao = accuracy_score(classe_teste, previsoes)\n",
    "precisao"
   ]
  },
  {
   "cell_type": "code",
   "execution_count": 85,
   "id": "6a602b9c-948e-4637-a7d7-a6c0e0e523f6",
   "metadata": {},
   "outputs": [
    {
     "data": {
      "text/plain": [
       "array([[47,  8],\n",
       "       [ 5, 83]], dtype=int64)"
      ]
     },
     "execution_count": 85,
     "metadata": {},
     "output_type": "execute_result"
    }
   ],
   "source": [
    "matriz = confusion_matrix(classe_teste, previsoes)\n",
    "matriz"
   ]
  },
  {
   "cell_type": "code",
   "execution_count": 86,
   "id": "94e14a3b-89ae-4813-995e-5c7e980ebf61",
   "metadata": {},
   "outputs": [
    {
     "data": {
      "text/plain": [
       "<AxesSubplot:>"
      ]
     },
     "execution_count": 86,
     "metadata": {},
     "output_type": "execute_result"
    },
    {
     "data": {
      "image/png": "[encoded data removed]",
      "text/plain": [
       "<Figure size 360x216 with 2 Axes>"
      ]
     },
     "metadata": {
      "needs_background": "light"
     },
     "output_type": "display_data"
    }
   ],
   "source": [
    "import seaborn as sn\n",
    "import matplotlib.pyplot as plt\n",
    "%matplotlib inline\n",
    "\n",
    "df_cm = pd.DataFrame(matriz, index = [i for i in \"01\"],\n",
    "                  columns = [i for i in \"01\"])\n",
    "plt.figure(figsize = (5,3))\n",
    "sn.set(font_scale=1) # for label size\n",
    "sn.heatmap(df_cm, annot=True, annot_kws={\"size\": 13})"
   ]
  },
  {
   "cell_type": "code",
   "execution_count": 87,
   "id": "aaaa8e50-6a3f-478d-905d-042b9b9a873b",
   "metadata": {},
   "outputs": [
    {
     "name": "stdout",
     "output_type": "stream",
     "text": [
      "5/5 [==============================] - 0s 1ms/step - loss: 0.2199 - binary_accuracy: 0.9091\n"
     ]
    },
    {
     "data": {
      "text/plain": [
       "[0.21986128389835358, 0.9090909361839294]"
      ]
     },
     "execution_count": 87,
     "metadata": {},
     "output_type": "execute_result"
    }
   ],
   "source": [
    "resultado = classificador.evaluate(previsores_teste, classe_teste)\n",
    "resultado"
   ]
  },
  {
   "cell_type": "code",
   "execution_count": null,
   "id": "f959060e-b46c-4818-8aea-a9f0ffabbeb7",
   "metadata": {},
   "outputs": [],
   "source": []
  }
 ],
 "metadata": {
  "kernelspec": {
   "display_name": "data_1",
   "language": "python",
   "name": "data_1"
  },
  "language_info": {
   "codemirror_mode": {
    "name": "ipython",
    "version": 3
   },
   "file_extension": ".py",
   "mimetype": "text/x-python",
   "name": "python",
   "nbconvert_exporter": "python",
   "pygments_lexer": "ipython3",
   "version": "3.8.10"
  }
 },
 "nbformat": 4,
 "nbformat_minor": 5
}
