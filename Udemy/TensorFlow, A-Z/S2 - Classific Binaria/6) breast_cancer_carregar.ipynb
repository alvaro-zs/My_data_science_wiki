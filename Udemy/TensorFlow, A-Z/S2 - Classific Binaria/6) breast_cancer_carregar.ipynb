{
 "cells": [
  {
   "cell_type": "code",
   "execution_count": 1,
   "id": "6716dbde-2a6c-48c1-a3fd-c38824f9de33",
   "metadata": {},
   "outputs": [],
   "source": [
    "import numpy as np\n",
    "import pandas as pd\n",
    "from keras.models import model_from_json"
   ]
  },
  {
   "cell_type": "code",
   "execution_count": 2,
   "id": "6fb3c029-8914-41cf-b513-7ebfb441ab04",
   "metadata": {},
   "outputs": [],
   "source": [
    "arquivo = open('classificador_breast.json', 'r')\n",
    "estrutura_rede = arquivo.read()\n",
    "arquivo.close()"
   ]
  },
  {
   "cell_type": "code",
   "execution_count": 3,
   "id": "d9e1d67b-f7fa-4c1a-80a1-809664b92140",
   "metadata": {},
   "outputs": [],
   "source": [
    "classificador = model_from_json(estrutura_rede)\n",
    "classificador.load_weights('classificador_breast.h5')"
   ]
  },
  {
   "cell_type": "code",
   "execution_count": 4,
   "id": "41a988bf-9cc7-4766-8b13-3beccdfae73b",
   "metadata": {},
   "outputs": [
    {
     "data": {
      "text/plain": [
       "array([[0.9987824]], dtype=float32)"
      ]
     },
     "execution_count": 4,
     "metadata": {},
     "output_type": "execute_result"
    }
   ],
   "source": [
    "novo = np.array([[15.80, 8.34, 118, 900, 0.10, 0.26, 0.08, 0.134, 0.178,\n",
    "                  0.20, 0.05, 1098, 0.87, 4500, 145.2, 0.005, 0.04, 0.05, 0.015,\n",
    "                  0.03, 0.007, 23.15, 16.64, 178.5, 2018, 0.14, 0.185,\n",
    "                  0.84, 158, 0.363]])\n",
    "previsao = classificador.predict(novo)\n",
    "previsao"
   ]
  },
  {
   "cell_type": "code",
   "execution_count": 5,
   "id": "6e48aeed-086d-4c21-8082-cc39ae54ae56",
   "metadata": {},
   "outputs": [
    {
     "data": {
      "text/plain": [
       "array([[ True]])"
      ]
     },
     "execution_count": 5,
     "metadata": {},
     "output_type": "execute_result"
    }
   ],
   "source": [
    "previsao = (previsao > 0.5)\n",
    "previsao"
   ]
  },
  {
   "cell_type": "code",
   "execution_count": 6,
   "id": "4fd84559-76cc-41e3-9add-2923b8207d85",
   "metadata": {},
   "outputs": [],
   "source": [
    "previsores = pd.read_csv('entradas_breast.csv')\n",
    "classe = pd.read_csv('saidas_breast.csv')"
   ]
  },
  {
   "cell_type": "code",
   "execution_count": 8,
   "id": "1d63a70c-9d5c-4e8a-90d4-6a34c2d052d8",
   "metadata": {},
   "outputs": [
    {
     "name": "stdout",
     "output_type": "stream",
     "text": [
      "18/18 [==============================] - 0s 1ms/step - loss: 0.1768 - binary_accuracy: 0.9350\n"
     ]
    }
   ],
   "source": [
    "classificador.compile(loss='binary_crossentropy', optimizer='adam', metrics=['binary_accuracy'])\n",
    "# You must compile your model before training/testing. Use `model.compile(optimizer, loss)`\n",
    "resultado = classificador.evaluate(previsores, classe)"
   ]
  },
  {
   "cell_type": "code",
   "execution_count": null,
   "id": "bcddbb20-ee5a-415f-a527-c44023858c12",
   "metadata": {},
   "outputs": [],
   "source": []
  }
 ],
 "metadata": {
  "kernelspec": {
   "display_name": "data_1",
   "language": "python",
   "name": "data_1"
  },
  "language_info": {
   "codemirror_mode": {
    "name": "ipython",
    "version": 3
   },
   "file_extension": ".py",
   "mimetype": "text/x-python",
   "name": "python",
   "nbconvert_exporter": "python",
   "pygments_lexer": "ipython3",
   "version": "3.8.10"
  }
 },
 "nbformat": 4,
 "nbformat_minor": 5
}
