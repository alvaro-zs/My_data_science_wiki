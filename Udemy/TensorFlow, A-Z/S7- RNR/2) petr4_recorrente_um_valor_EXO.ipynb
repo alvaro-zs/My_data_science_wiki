{
 "cells": [
  {
   "cell_type": "code",
   "execution_count": 1,
   "id": "f0c50c8a-0ec1-43f8-92a1-66a2023308ca",
   "metadata": {},
   "outputs": [],
   "source": [
    "from keras.models import Sequential\n",
    "from keras.layers import Dense, Dropout, LSTM\n",
    "from sklearn.preprocessing import MinMaxScaler\n",
    "import numpy as np\n",
    "import pandas as pd\n",
    "import matplotlib.pyplot as plt"
   ]
  },
  {
   "cell_type": "code",
   "execution_count": 2,
   "id": "237a9c01-14bf-4f01-b7b4-7bdb68d8abb5",
   "metadata": {},
   "outputs": [
    {
     "data": {
      "text/html": [
       "<div>\n",
       "<style scoped>\n",
       "    .dataframe tbody tr th:only-of-type {\n",
       "        vertical-align: middle;\n",
       "    }\n",
       "\n",
       "    .dataframe tbody tr th {\n",
       "        vertical-align: top;\n",
       "    }\n",
       "\n",
       "    .dataframe thead th {\n",
       "        text-align: right;\n",
       "    }\n",
       "</style>\n",
       "<table border=\"1\" class=\"dataframe\">\n",
       "  <thead>\n",
       "    <tr style=\"text-align: right;\">\n",
       "      <th></th>\n",
       "      <th>Date</th>\n",
       "      <th>Open</th>\n",
       "      <th>High</th>\n",
       "      <th>Low</th>\n",
       "      <th>Close</th>\n",
       "      <th>Adj Close</th>\n",
       "      <th>Volume</th>\n",
       "    </tr>\n",
       "  </thead>\n",
       "  <tbody>\n",
       "    <tr>\n",
       "      <th>0</th>\n",
       "      <td>2013-01-02</td>\n",
       "      <td>19.990000</td>\n",
       "      <td>20.209999</td>\n",
       "      <td>19.690001</td>\n",
       "      <td>19.690001</td>\n",
       "      <td>18.086271</td>\n",
       "      <td>30182600.0</td>\n",
       "    </tr>\n",
       "    <tr>\n",
       "      <th>1</th>\n",
       "      <td>2013-01-03</td>\n",
       "      <td>19.809999</td>\n",
       "      <td>20.400000</td>\n",
       "      <td>19.700001</td>\n",
       "      <td>20.400000</td>\n",
       "      <td>18.738441</td>\n",
       "      <td>30552600.0</td>\n",
       "    </tr>\n",
       "    <tr>\n",
       "      <th>2</th>\n",
       "      <td>2013-01-04</td>\n",
       "      <td>20.330000</td>\n",
       "      <td>20.620001</td>\n",
       "      <td>20.170000</td>\n",
       "      <td>20.430000</td>\n",
       "      <td>18.766001</td>\n",
       "      <td>36141000.0</td>\n",
       "    </tr>\n",
       "  </tbody>\n",
       "</table>\n",
       "</div>"
      ],
      "text/plain": [
       "         Date       Open       High        Low      Close  Adj Close  \\\n",
       "0  2013-01-02  19.990000  20.209999  19.690001  19.690001  18.086271   \n",
       "1  2013-01-03  19.809999  20.400000  19.700001  20.400000  18.738441   \n",
       "2  2013-01-04  20.330000  20.620001  20.170000  20.430000  18.766001   \n",
       "\n",
       "       Volume  \n",
       "0  30182600.0  \n",
       "1  30552600.0  \n",
       "2  36141000.0  "
      ]
     },
     "execution_count": 2,
     "metadata": {},
     "output_type": "execute_result"
    }
   ],
   "source": [
    "base = pd.read_csv('petr4_treinamento_ex.csv')\n",
    "base.head(3)"
   ]
  },
  {
   "cell_type": "code",
   "execution_count": 3,
   "id": "c216f17c-2ff6-4528-a61b-5933d2a95ddb",
   "metadata": {},
   "outputs": [
    {
     "data": {
      "text/html": [
       "<div>\n",
       "<style scoped>\n",
       "    .dataframe tbody tr th:only-of-type {\n",
       "        vertical-align: middle;\n",
       "    }\n",
       "\n",
       "    .dataframe tbody tr th {\n",
       "        vertical-align: top;\n",
       "    }\n",
       "\n",
       "    .dataframe thead th {\n",
       "        text-align: right;\n",
       "    }\n",
       "</style>\n",
       "<table border=\"1\" class=\"dataframe\">\n",
       "  <thead>\n",
       "    <tr style=\"text-align: right;\">\n",
       "      <th></th>\n",
       "      <th>Date</th>\n",
       "      <th>Open</th>\n",
       "      <th>High</th>\n",
       "      <th>Low</th>\n",
       "      <th>Close</th>\n",
       "      <th>Adj Close</th>\n",
       "      <th>Volume</th>\n",
       "    </tr>\n",
       "  </thead>\n",
       "  <tbody>\n",
       "    <tr>\n",
       "      <th>1342</th>\n",
       "      <td>2018-05-23</td>\n",
       "      <td>24.230000</td>\n",
       "      <td>24.48</td>\n",
       "      <td>23.27</td>\n",
       "      <td>23.270000</td>\n",
       "      <td>23.270000</td>\n",
       "      <td>74622500.0</td>\n",
       "    </tr>\n",
       "    <tr>\n",
       "      <th>1343</th>\n",
       "      <td>2018-05-24</td>\n",
       "      <td>20.049999</td>\n",
       "      <td>20.75</td>\n",
       "      <td>19.65</td>\n",
       "      <td>20.080000</td>\n",
       "      <td>20.080000</td>\n",
       "      <td>240343800.0</td>\n",
       "    </tr>\n",
       "    <tr>\n",
       "      <th>1344</th>\n",
       "      <td>2018-05-25</td>\n",
       "      <td>20.650000</td>\n",
       "      <td>21.27</td>\n",
       "      <td>19.66</td>\n",
       "      <td>19.799999</td>\n",
       "      <td>19.799999</td>\n",
       "      <td>131188100.0</td>\n",
       "    </tr>\n",
       "  </tbody>\n",
       "</table>\n",
       "</div>"
      ],
      "text/plain": [
       "            Date       Open   High    Low      Close  Adj Close       Volume\n",
       "1342  2018-05-23  24.230000  24.48  23.27  23.270000  23.270000   74622500.0\n",
       "1343  2018-05-24  20.049999  20.75  19.65  20.080000  20.080000  240343800.0\n",
       "1344  2018-05-25  20.650000  21.27  19.66  19.799999  19.799999  131188100.0"
      ]
     },
     "execution_count": 3,
     "metadata": {},
     "output_type": "execute_result"
    }
   ],
   "source": [
    "base.tail(3)"
   ]
  },
  {
   "cell_type": "code",
   "execution_count": 4,
   "id": "d6cf3a25-c367-4ab9-a9cd-4c419999b832",
   "metadata": {},
   "outputs": [],
   "source": [
    "base = base.dropna()\n",
    "base_treinamento = base.iloc[:, 1:2].values"
   ]
  },
  {
   "cell_type": "code",
   "execution_count": 5,
   "id": "3f4b8c2c-b9ae-4695-a8e9-aa29952b348f",
   "metadata": {},
   "outputs": [
    {
     "data": {
      "text/plain": [
       "(1342, 1)"
      ]
     },
     "execution_count": 5,
     "metadata": {},
     "output_type": "execute_result"
    }
   ],
   "source": [
    "base_treinamento.shape"
   ]
  },
  {
   "cell_type": "code",
   "execution_count": 6,
   "id": "f4de94c9-50ec-4119-bcde-d25b36c2b06d",
   "metadata": {},
   "outputs": [],
   "source": [
    "normalizador = MinMaxScaler(feature_range=(0,1))\n",
    "base_treinamento_normalizada = normalizador.fit_transform(base_treinamento)"
   ]
  },
  {
   "cell_type": "code",
   "execution_count": 7,
   "id": "3383d4b7-4b9d-4ba1-87b9-ed28280fa53d",
   "metadata": {},
   "outputs": [
    {
     "data": {
      "text/plain": [
       "(1252, 90)"
      ]
     },
     "execution_count": 7,
     "metadata": {},
     "output_type": "execute_result"
    }
   ],
   "source": [
    "previsores = []\n",
    "preco_real = []\n",
    "for i in range(90, 1342):\n",
    "    previsores.append(base_treinamento_normalizada[i-90:i, 0])\n",
    "    preco_real.append(base_treinamento_normalizada[i, 0])\n",
    "previsores, preco_real = np.array(previsores), np.array(preco_real)\n",
    "previsores.shape"
   ]
  },
  {
   "cell_type": "code",
   "execution_count": 8,
   "id": "4086187a-3510-4657-a877-66c88c462d9c",
   "metadata": {},
   "outputs": [
    {
     "data": {
      "text/plain": [
       "(1252, 90, 1)"
      ]
     },
     "execution_count": 8,
     "metadata": {},
     "output_type": "execute_result"
    }
   ],
   "source": [
    "previsores = np.reshape(previsores, (previsores.shape[0], previsores.shape[1], 1))\n",
    "previsores.shape"
   ]
  },
  {
   "cell_type": "code",
   "execution_count": 9,
   "id": "7af3aee2-4840-4b1d-905a-39d7313890a6",
   "metadata": {},
   "outputs": [
    {
     "name": "stdout",
     "output_type": "stream",
     "text": [
      "Model: \"sequential\"\n",
      "_________________________________________________________________\n",
      "Layer (type)                 Output Shape              Param #   \n",
      "=================================================================\n",
      "lstm (LSTM)                  (None, 90, 100)           40800     \n",
      "_________________________________________________________________\n",
      "dropout (Dropout)            (None, 90, 100)           0         \n",
      "_________________________________________________________________\n",
      "lstm_1 (LSTM)                (None, 90, 50)            30200     \n",
      "_________________________________________________________________\n",
      "dropout_1 (Dropout)          (None, 90, 50)            0         \n",
      "_________________________________________________________________\n",
      "lstm_2 (LSTM)                (None, 90, 50)            20200     \n",
      "_________________________________________________________________\n",
      "dropout_2 (Dropout)          (None, 90, 50)            0         \n",
      "_________________________________________________________________\n",
      "lstm_3 (LSTM)                (None, 50)                20200     \n",
      "_________________________________________________________________\n",
      "dropout_3 (Dropout)          (None, 50)                0         \n",
      "_________________________________________________________________\n",
      "dense (Dense)                (None, 1)                 51        \n",
      "=================================================================\n",
      "Total params: 111,451\n",
      "Trainable params: 111,451\n",
      "Non-trainable params: 0\n",
      "_________________________________________________________________\n"
     ]
    }
   ],
   "source": [
    "regressor = Sequential()\n",
    "regressor.add(LSTM(units = 100, return_sequences = True, input_shape = (previsores.shape[1], 1)))\n",
    "regressor.add(Dropout(0.3))\n",
    "\n",
    "regressor.add(LSTM(units = 50, return_sequences = True))\n",
    "regressor.add(Dropout(0.3))\n",
    "\n",
    "regressor.add(LSTM(units = 50, return_sequences = True))\n",
    "regressor.add(Dropout(0.3))\n",
    "\n",
    "regressor.add(LSTM(units = 50))\n",
    "regressor.add(Dropout(0.3))\n",
    "\n",
    "regressor.add(Dense(units = 1, activation = 'linear'))\n",
    "\n",
    "regressor.compile(optimizer = 'rmsprop', loss = 'mean_squared_error',\n",
    "                  metrics = ['mean_absolute_error'])\n",
    "regressor.summary()"
   ]
  },
  {
   "cell_type": "code",
   "execution_count": 10,
   "id": "6a2bb156-30a8-4931-8092-497c05ae3f8d",
   "metadata": {
    "scrolled": true,
    "tags": []
   },
   "outputs": [
    {
     "name": "stdout",
     "output_type": "stream",
     "text": [
      "Epoch 1/100\n",
      "40/40 [==============================] - 8s 192ms/step - loss: 0.0321 - mean_absolute_error: 0.1263\n",
      "Epoch 2/100\n",
      "40/40 [==============================] - 7s 184ms/step - loss: 0.0158 - mean_absolute_error: 0.0953\n",
      "Epoch 3/100\n",
      "40/40 [==============================] - 6s 160ms/step - loss: 0.0130 - mean_absolute_error: 0.0869\n",
      "Epoch 4/100\n",
      "40/40 [==============================] - 7s 174ms/step - loss: 0.0100 - mean_absolute_error: 0.0767\n",
      "Epoch 5/100\n",
      "40/40 [==============================] - 7s 166ms/step - loss: 0.0093 - mean_absolute_error: 0.0732\n",
      "Epoch 6/100\n",
      "40/40 [==============================] - 7s 181ms/step - loss: 0.0082 - mean_absolute_error: 0.0684\n",
      "Epoch 7/100\n",
      "40/40 [==============================] - 7s 185ms/step - loss: 0.0073 - mean_absolute_error: 0.0646\n",
      "Epoch 8/100\n",
      "40/40 [==============================] - 6s 161ms/step - loss: 0.0064 - mean_absolute_error: 0.0607\n",
      "Epoch 9/100\n",
      "40/40 [==============================] - 6s 154ms/step - loss: 0.0066 - mean_absolute_error: 0.0603 0s - loss: 0.0067 - mean_absolute_error: 0\n",
      "Epoch 10/100\n",
      "40/40 [==============================] - 7s 173ms/step - loss: 0.0060 - mean_absolute_error: 0.0591\n",
      "Epoch 11/100\n",
      "40/40 [==============================] - 7s 169ms/step - loss: 0.0058 - mean_absolute_error: 0.0571\n",
      "Epoch 12/100\n",
      "40/40 [==============================] - 6s 153ms/step - loss: 0.0057 - mean_absolute_error: 0.0575\n",
      "Epoch 13/100\n",
      "40/40 [==============================] - 6s 151ms/step - loss: 0.0048 - mean_absolute_error: 0.0515\n",
      "Epoch 14/100\n",
      "40/40 [==============================] - 6s 154ms/step - loss: 0.0048 - mean_absolute_error: 0.0521\n",
      "Epoch 15/100\n",
      "40/40 [==============================] - 7s 166ms/step - loss: 0.0046 - mean_absolute_error: 0.0516\n",
      "Epoch 16/100\n",
      "40/40 [==============================] - 6s 154ms/step - loss: 0.0041 - mean_absolute_error: 0.0483\n",
      "Epoch 17/100\n",
      "40/40 [==============================] - 6s 157ms/step - loss: 0.0039 - mean_absolute_error: 0.0479\n",
      "Epoch 18/100\n",
      "40/40 [==============================] - 6s 157ms/step - loss: 0.0035 - mean_absolute_error: 0.0463\n",
      "Epoch 19/100\n",
      "40/40 [==============================] - 6s 155ms/step - loss: 0.0039 - mean_absolute_error: 0.0471\n",
      "Epoch 20/100\n",
      "40/40 [==============================] - 6s 153ms/step - loss: 0.0038 - mean_absolute_error: 0.0471\n",
      "Epoch 21/100\n",
      "40/40 [==============================] - 6s 162ms/step - loss: 0.0035 - mean_absolute_error: 0.0452\n",
      "Epoch 22/100\n",
      "40/40 [==============================] - 6s 155ms/step - loss: 0.0036 - mean_absolute_error: 0.0458\n",
      "Epoch 23/100\n",
      "40/40 [==============================] - 6s 157ms/step - loss: 0.0033 - mean_absolute_error: 0.0439\n",
      "Epoch 24/100\n",
      "40/40 [==============================] - 6s 161ms/step - loss: 0.0033 - mean_absolute_error: 0.0438\n",
      "Epoch 25/100\n",
      "40/40 [==============================] - 7s 164ms/step - loss: 0.0031 - mean_absolute_error: 0.0427\n",
      "Epoch 26/100\n",
      "40/40 [==============================] - 6s 162ms/step - loss: 0.0028 - mean_absolute_error: 0.0399\n",
      "Epoch 27/100\n",
      "40/40 [==============================] - 6s 158ms/step - loss: 0.0030 - mean_absolute_error: 0.0413\n",
      "Epoch 28/100\n",
      "40/40 [==============================] - 6s 158ms/step - loss: 0.0029 - mean_absolute_error: 0.0409\n",
      "Epoch 29/100\n",
      "40/40 [==============================] - 6s 155ms/step - loss: 0.0028 - mean_absolute_error: 0.0404\n",
      "Epoch 30/100\n",
      "40/40 [==============================] - 6s 156ms/step - loss: 0.0027 - mean_absolute_error: 0.0392\n",
      "Epoch 31/100\n",
      "40/40 [==============================] - 6s 155ms/step - loss: 0.0028 - mean_absolute_error: 0.0400\n",
      "Epoch 32/100\n",
      "40/40 [==============================] - 6s 162ms/step - loss: 0.0026 - mean_absolute_error: 0.0388\n",
      "Epoch 33/100\n",
      "40/40 [==============================] - 6s 154ms/step - loss: 0.0026 - mean_absolute_error: 0.0386\n",
      "Epoch 34/100\n",
      "40/40 [==============================] - 6s 160ms/step - loss: 0.0024 - mean_absolute_error: 0.0368 3s - loss: 0.0028 - mea\n",
      "Epoch 35/100\n",
      "40/40 [==============================] - 7s 164ms/step - loss: 0.0027 - mean_absolute_error: 0.0388\n",
      "Epoch 36/100\n",
      "40/40 [==============================] - 6s 159ms/step - loss: 0.0024 - mean_absolute_error: 0.0374\n",
      "Epoch 37/100\n",
      "40/40 [==============================] - 6s 160ms/step - loss: 0.0024 - mean_absolute_error: 0.0367\n",
      "Epoch 38/100\n",
      "40/40 [==============================] - 7s 168ms/step - loss: 0.0024 - mean_absolute_error: 0.0366\n",
      "Epoch 39/100\n",
      "40/40 [==============================] - 7s 170ms/step - loss: 0.0023 - mean_absolute_error: 0.0363\n",
      "Epoch 40/100\n",
      "40/40 [==============================] - 6s 162ms/step - loss: 0.0022 - mean_absolute_error: 0.0353 2s - loss: 0.0022 - mean_absol\n",
      "Epoch 41/100\n",
      "40/40 [==============================] - 6s 159ms/step - loss: 0.0023 - mean_absolute_error: 0.0362\n",
      "Epoch 42/100\n",
      "40/40 [==============================] - 7s 165ms/step - loss: 0.0023 - mean_absolute_error: 0.0356 4s - loss: \n",
      "Epoch 43/100\n",
      "40/40 [==============================] - 6s 154ms/step - loss: 0.0021 - mean_absolute_error: 0.0339\n",
      "Epoch 44/100\n",
      "40/40 [==============================] - 6s 154ms/step - loss: 0.0022 - mean_absolute_error: 0.0356\n",
      "Epoch 45/100\n",
      "40/40 [==============================] - 6s 156ms/step - loss: 0.0020 - mean_absolute_error: 0.0338\n",
      "Epoch 46/100\n",
      "40/40 [==============================] - 7s 163ms/step - loss: 0.0021 - mean_absolute_error: 0.0353 0s - loss: 0.0022 - mean_absolute_error: \n",
      "Epoch 47/100\n",
      "40/40 [==============================] - 7s 165ms/step - loss: 0.0021 - mean_absolute_error: 0.0342\n",
      "Epoch 48/100\n",
      "40/40 [==============================] - 6s 154ms/step - loss: 0.0021 - mean_absolute_error: 0.0343\n",
      "Epoch 49/100\n",
      "40/40 [==============================] - 6s 161ms/step - loss: 0.0020 - mean_absolute_error: 0.0329\n",
      "Epoch 50/100\n",
      "40/40 [==============================] - 6s 160ms/step - loss: 0.0019 - mean_absolute_error: 0.0326\n",
      "Epoch 51/100\n",
      "40/40 [==============================] - 7s 164ms/step - loss: 0.0019 - mean_absolute_error: 0.0324\n",
      "Epoch 52/100\n",
      "40/40 [==============================] - 6s 154ms/step - loss: 0.0017 - mean_absolute_error: 0.0321\n",
      "Epoch 53/100\n",
      "40/40 [==============================] - 6s 156ms/step - loss: 0.0019 - mean_absolute_error: 0.0323\n",
      "Epoch 54/100\n",
      "40/40 [==============================] - 6s 156ms/step - loss: 0.0019 - mean_absolute_error: 0.0322\n",
      "Epoch 55/100\n",
      "40/40 [==============================] - 7s 167ms/step - loss: 0.0019 - mean_absolute_error: 0.0322\n",
      "Epoch 56/100\n",
      "40/40 [==============================] - 6s 156ms/step - loss: 0.0017 - mean_absolute_error: 0.0308\n",
      "Epoch 57/100\n",
      "40/40 [==============================] - 6s 157ms/step - loss: 0.0016 - mean_absolute_error: 0.0304\n",
      "Epoch 58/100\n",
      "40/40 [==============================] - 6s 153ms/step - loss: 0.0018 - mean_absolute_error: 0.0323\n",
      "Epoch 59/100\n",
      "40/40 [==============================] - 6s 158ms/step - loss: 0.0018 - mean_absolute_error: 0.0314\n",
      "Epoch 60/100\n",
      "40/40 [==============================] - 6s 156ms/step - loss: 0.0016 - mean_absolute_error: 0.0305\n",
      "Epoch 61/100\n",
      "40/40 [==============================] - 7s 169ms/step - loss: 0.0018 - mean_absolute_error: 0.0319\n",
      "Epoch 62/100\n",
      "40/40 [==============================] - 6s 154ms/step - loss: 0.0018 - mean_absolute_error: 0.0320\n",
      "Epoch 63/100\n",
      "40/40 [==============================] - 7s 163ms/step - loss: 0.0017 - mean_absolute_error: 0.0307\n",
      "Epoch 64/100\n",
      "40/40 [==============================] - 6s 157ms/step - loss: 0.0017 - mean_absolute_error: 0.0304\n",
      "Epoch 65/100\n",
      "40/40 [==============================] - 6s 156ms/step - loss: 0.0016 - mean_absolute_error: 0.0298\n",
      "Epoch 66/100\n",
      "40/40 [==============================] - 6s 160ms/step - loss: 0.0017 - mean_absolute_error: 0.0308\n",
      "Epoch 67/100\n",
      "40/40 [==============================] - 6s 154ms/step - loss: 0.0017 - mean_absolute_error: 0.0314\n",
      "Epoch 68/100\n",
      "40/40 [==============================] - 6s 159ms/step - loss: 0.0016 - mean_absolute_error: 0.0300\n",
      "Epoch 69/100\n",
      "40/40 [==============================] - 7s 170ms/step - loss: 0.0016 - mean_absolute_error: 0.0302\n",
      "Epoch 70/100\n",
      "40/40 [==============================] - 8s 211ms/step - loss: 0.0017 - mean_absolute_error: 0.0305\n",
      "Epoch 71/100\n",
      "40/40 [==============================] - 8s 192ms/step - loss: 0.0017 - mean_absolute_error: 0.0301\n",
      "Epoch 72/100\n",
      "40/40 [==============================] - 7s 175ms/step - loss: 0.0017 - mean_absolute_error: 0.0299\n",
      "Epoch 73/100\n",
      "40/40 [==============================] - 7s 178ms/step - loss: 0.0017 - mean_absolute_error: 0.0307\n",
      "Epoch 74/100\n",
      "40/40 [==============================] - 8s 189ms/step - loss: 0.0016 - mean_absolute_error: 0.0296\n",
      "Epoch 75/100\n",
      "40/40 [==============================] - 8s 199ms/step - loss: 0.0014 - mean_absolute_error: 0.0288\n",
      "Epoch 76/100\n",
      "40/40 [==============================] - 7s 175ms/step - loss: 0.0015 - mean_absolute_error: 0.0290\n",
      "Epoch 77/100\n",
      "40/40 [==============================] - 7s 174ms/step - loss: 0.0015 - mean_absolute_error: 0.0287\n",
      "Epoch 78/100\n",
      "40/40 [==============================] - 7s 170ms/step - loss: 0.0015 - mean_absolute_error: 0.0292 4s - loss:\n",
      "Epoch 79/100\n",
      "40/40 [==============================] - 6s 154ms/step - loss: 0.0015 - mean_absolute_error: 0.0283\n",
      "Epoch 80/100\n",
      "40/40 [==============================] - 6s 155ms/step - loss: 0.0015 - mean_absolute_error: 0.0283\n",
      "Epoch 81/100\n",
      "40/40 [==============================] - 6s 153ms/step - loss: 0.0016 - mean_absolute_error: 0.0298\n",
      "Epoch 82/100\n",
      "40/40 [==============================] - 6s 153ms/step - loss: 0.0014 - mean_absolute_error: 0.0276\n",
      "Epoch 83/100\n",
      "40/40 [==============================] - 6s 153ms/step - loss: 0.0015 - mean_absolute_error: 0.0292\n",
      "Epoch 84/100\n",
      "40/40 [==============================] - 6s 152ms/step - loss: 0.0014 - mean_absolute_error: 0.0284\n",
      "Epoch 85/100\n",
      "40/40 [==============================] - 6s 152ms/step - loss: 0.0015 - mean_absolute_error: 0.0287\n",
      "Epoch 86/100\n",
      "40/40 [==============================] - 6s 153ms/step - loss: 0.0015 - mean_absolute_error: 0.0291\n",
      "Epoch 87/100\n",
      "40/40 [==============================] - 6s 153ms/step - loss: 0.0015 - mean_absolute_error: 0.0282\n",
      "Epoch 88/100\n",
      "40/40 [==============================] - 6s 152ms/step - loss: 0.0014 - mean_absolute_error: 0.0279\n",
      "Epoch 89/100\n",
      "40/40 [==============================] - 6s 152ms/step - loss: 0.0014 - mean_absolute_error: 0.0278\n",
      "Epoch 90/100\n",
      "40/40 [==============================] - 6s 153ms/step - loss: 0.0016 - mean_absolute_error: 0.0286\n",
      "Epoch 91/100\n",
      "40/40 [==============================] - 6s 153ms/step - loss: 0.0014 - mean_absolute_error: 0.0274\n",
      "Epoch 92/100\n",
      "40/40 [==============================] - 6s 155ms/step - loss: 0.0013 - mean_absolute_error: 0.0270\n",
      "Epoch 93/100\n",
      "40/40 [==============================] - 6s 152ms/step - loss: 0.0014 - mean_absolute_error: 0.0277\n",
      "Epoch 94/100\n",
      "40/40 [==============================] - 7s 173ms/step - loss: 0.0013 - mean_absolute_error: 0.0269\n",
      "Epoch 95/100\n",
      "40/40 [==============================] - 7s 168ms/step - loss: 0.0013 - mean_absolute_error: 0.0265\n",
      "Epoch 96/100\n",
      "40/40 [==============================] - 7s 173ms/step - loss: 0.0014 - mean_absolute_error: 0.0274 5s - loss: 0.0\n",
      "Epoch 97/100\n",
      "40/40 [==============================] - 7s 174ms/step - loss: 0.0013 - mean_absolute_error: 0.0268 4s - loss: 0.0012 - mean_absolut - ETA: 2s - loss: 0.0013 - mean_absolute\n",
      "Epoch 98/100\n",
      "40/40 [==============================] - 7s 176ms/step - loss: 0.0015 - mean_absolute_error: 0.0290 4s - loss: 0.0014\n",
      "Epoch 99/100\n",
      "40/40 [==============================] - 7s 175ms/step - loss: 0.0014 - mean_absolute_error: 0.0274 4s - loss: 0.00\n",
      "Epoch 100/100\n",
      "40/40 [==============================] - 7s 165ms/step - loss: 0.0015 - mean_absolute_error: 0.0283 4s - loss: \n"
     ]
    },
    {
     "data": {
      "text/plain": [
       "<tensorflow.python.keras.callbacks.History at 0x2409fc668b0>"
      ]
     },
     "execution_count": 10,
     "metadata": {},
     "output_type": "execute_result"
    }
   ],
   "source": [
    "regressor.fit(previsores, preco_real, epochs = 100, batch_size = 32)"
   ]
  },
  {
   "cell_type": "code",
   "execution_count": 11,
   "id": "a63c1b44-1556-4622-b048-7da39134bd8c",
   "metadata": {},
   "outputs": [
    {
     "data": {
      "text/html": [
       "<div>\n",
       "<style scoped>\n",
       "    .dataframe tbody tr th:only-of-type {\n",
       "        vertical-align: middle;\n",
       "    }\n",
       "\n",
       "    .dataframe tbody tr th {\n",
       "        vertical-align: top;\n",
       "    }\n",
       "\n",
       "    .dataframe thead th {\n",
       "        text-align: right;\n",
       "    }\n",
       "</style>\n",
       "<table border=\"1\" class=\"dataframe\">\n",
       "  <thead>\n",
       "    <tr style=\"text-align: right;\">\n",
       "      <th></th>\n",
       "      <th>Date</th>\n",
       "      <th>Open</th>\n",
       "      <th>High</th>\n",
       "      <th>Low</th>\n",
       "      <th>Close</th>\n",
       "      <th>Adj Close</th>\n",
       "      <th>Volume</th>\n",
       "    </tr>\n",
       "  </thead>\n",
       "  <tbody>\n",
       "    <tr>\n",
       "      <th>0</th>\n",
       "      <td>2018-05-28</td>\n",
       "      <td>19.200001</td>\n",
       "      <td>19.200001</td>\n",
       "      <td>16.910000</td>\n",
       "      <td>16.910000</td>\n",
       "      <td>16.910000</td>\n",
       "      <td>134504900</td>\n",
       "    </tr>\n",
       "    <tr>\n",
       "      <th>1</th>\n",
       "      <td>2018-05-29</td>\n",
       "      <td>18.000000</td>\n",
       "      <td>19.440001</td>\n",
       "      <td>17.600000</td>\n",
       "      <td>19.299999</td>\n",
       "      <td>19.299999</td>\n",
       "      <td>181509800</td>\n",
       "    </tr>\n",
       "    <tr>\n",
       "      <th>2</th>\n",
       "      <td>2018-05-30</td>\n",
       "      <td>18.389999</td>\n",
       "      <td>19.969999</td>\n",
       "      <td>18.129999</td>\n",
       "      <td>18.980000</td>\n",
       "      <td>18.980000</td>\n",
       "      <td>125430000</td>\n",
       "    </tr>\n",
       "  </tbody>\n",
       "</table>\n",
       "</div>"
      ],
      "text/plain": [
       "         Date       Open       High        Low      Close  Adj Close  \\\n",
       "0  2018-05-28  19.200001  19.200001  16.910000  16.910000  16.910000   \n",
       "1  2018-05-29  18.000000  19.440001  17.600000  19.299999  19.299999   \n",
       "2  2018-05-30  18.389999  19.969999  18.129999  18.980000  18.980000   \n",
       "\n",
       "      Volume  \n",
       "0  134504900  \n",
       "1  181509800  \n",
       "2  125430000  "
      ]
     },
     "execution_count": 11,
     "metadata": {},
     "output_type": "execute_result"
    }
   ],
   "source": [
    "base_teste = pd.read_csv('petr4_teste_ex.csv')\n",
    "base_teste.head(3)"
   ]
  },
  {
   "cell_type": "code",
   "execution_count": 12,
   "id": "16fbc629-669c-415e-ab0b-4950a3810333",
   "metadata": {},
   "outputs": [
    {
     "data": {
      "text/html": [
       "<div>\n",
       "<style scoped>\n",
       "    .dataframe tbody tr th:only-of-type {\n",
       "        vertical-align: middle;\n",
       "    }\n",
       "\n",
       "    .dataframe tbody tr th {\n",
       "        vertical-align: top;\n",
       "    }\n",
       "\n",
       "    .dataframe thead th {\n",
       "        text-align: right;\n",
       "    }\n",
       "</style>\n",
       "<table border=\"1\" class=\"dataframe\">\n",
       "  <thead>\n",
       "    <tr style=\"text-align: right;\">\n",
       "      <th></th>\n",
       "      <th>Date</th>\n",
       "      <th>Open</th>\n",
       "      <th>High</th>\n",
       "      <th>Low</th>\n",
       "      <th>Close</th>\n",
       "      <th>Adj Close</th>\n",
       "      <th>Volume</th>\n",
       "    </tr>\n",
       "  </thead>\n",
       "  <tbody>\n",
       "    <tr>\n",
       "      <th>16</th>\n",
       "      <td>2018-06-20</td>\n",
       "      <td>15.84</td>\n",
       "      <td>16.48</td>\n",
       "      <td>15.80</td>\n",
       "      <td>16.209999</td>\n",
       "      <td>16.209999</td>\n",
       "      <td>88397300</td>\n",
       "    </tr>\n",
       "    <tr>\n",
       "      <th>17</th>\n",
       "      <td>2018-06-21</td>\n",
       "      <td>16.09</td>\n",
       "      <td>16.32</td>\n",
       "      <td>15.10</td>\n",
       "      <td>15.100000</td>\n",
       "      <td>15.100000</td>\n",
       "      <td>67884300</td>\n",
       "    </tr>\n",
       "    <tr>\n",
       "      <th>18</th>\n",
       "      <td>2018-06-22</td>\n",
       "      <td>15.41</td>\n",
       "      <td>15.68</td>\n",
       "      <td>15.01</td>\n",
       "      <td>15.110000</td>\n",
       "      <td>15.110000</td>\n",
       "      <td>52184500</td>\n",
       "    </tr>\n",
       "  </tbody>\n",
       "</table>\n",
       "</div>"
      ],
      "text/plain": [
       "          Date   Open   High    Low      Close  Adj Close    Volume\n",
       "16  2018-06-20  15.84  16.48  15.80  16.209999  16.209999  88397300\n",
       "17  2018-06-21  16.09  16.32  15.10  15.100000  15.100000  67884300\n",
       "18  2018-06-22  15.41  15.68  15.01  15.110000  15.110000  52184500"
      ]
     },
     "execution_count": 12,
     "metadata": {},
     "output_type": "execute_result"
    }
   ],
   "source": [
    "base_teste.tail(3)"
   ]
  },
  {
   "cell_type": "code",
   "execution_count": 13,
   "id": "96ec1f5f-4ae5-4385-b41a-2191344505c9",
   "metadata": {},
   "outputs": [
    {
     "data": {
      "text/plain": [
       "(19, 7)"
      ]
     },
     "execution_count": 13,
     "metadata": {},
     "output_type": "execute_result"
    }
   ],
   "source": [
    "base_teste.shape"
   ]
  },
  {
   "cell_type": "code",
   "execution_count": 14,
   "id": "80d9c81e-eff5-439d-a3d5-97726675bf03",
   "metadata": {},
   "outputs": [],
   "source": [
    "preco_real_teste = base_teste.iloc[:, 1:2].values"
   ]
  },
  {
   "cell_type": "code",
   "execution_count": 15,
   "id": "a599ff86-6a93-4a5d-a9b4-7fa0f6467791",
   "metadata": {},
   "outputs": [
    {
     "data": {
      "text/html": [
       "<div>\n",
       "<style scoped>\n",
       "    .dataframe tbody tr th:only-of-type {\n",
       "        vertical-align: middle;\n",
       "    }\n",
       "\n",
       "    .dataframe tbody tr th {\n",
       "        vertical-align: top;\n",
       "    }\n",
       "\n",
       "    .dataframe thead th {\n",
       "        text-align: right;\n",
       "    }\n",
       "</style>\n",
       "<table border=\"1\" class=\"dataframe\">\n",
       "  <thead>\n",
       "    <tr style=\"text-align: right;\">\n",
       "      <th></th>\n",
       "      <th>Date</th>\n",
       "      <th>Open</th>\n",
       "      <th>High</th>\n",
       "      <th>Low</th>\n",
       "      <th>Close</th>\n",
       "      <th>Adj Close</th>\n",
       "      <th>Volume</th>\n",
       "    </tr>\n",
       "  </thead>\n",
       "  <tbody>\n",
       "    <tr>\n",
       "      <th>0</th>\n",
       "      <td>2013-01-02</td>\n",
       "      <td>19.990000</td>\n",
       "      <td>20.209999</td>\n",
       "      <td>19.690001</td>\n",
       "      <td>19.690001</td>\n",
       "      <td>18.086271</td>\n",
       "      <td>30182600.0</td>\n",
       "    </tr>\n",
       "    <tr>\n",
       "      <th>1</th>\n",
       "      <td>2013-01-03</td>\n",
       "      <td>19.809999</td>\n",
       "      <td>20.400000</td>\n",
       "      <td>19.700001</td>\n",
       "      <td>20.400000</td>\n",
       "      <td>18.738441</td>\n",
       "      <td>30552600.0</td>\n",
       "    </tr>\n",
       "    <tr>\n",
       "      <th>2</th>\n",
       "      <td>2013-01-04</td>\n",
       "      <td>20.330000</td>\n",
       "      <td>20.620001</td>\n",
       "      <td>20.170000</td>\n",
       "      <td>20.430000</td>\n",
       "      <td>18.766001</td>\n",
       "      <td>36141000.0</td>\n",
       "    </tr>\n",
       "  </tbody>\n",
       "</table>\n",
       "</div>"
      ],
      "text/plain": [
       "         Date       Open       High        Low      Close  Adj Close  \\\n",
       "0  2013-01-02  19.990000  20.209999  19.690001  19.690001  18.086271   \n",
       "1  2013-01-03  19.809999  20.400000  19.700001  20.400000  18.738441   \n",
       "2  2013-01-04  20.330000  20.620001  20.170000  20.430000  18.766001   \n",
       "\n",
       "       Volume  \n",
       "0  30182600.0  \n",
       "1  30552600.0  \n",
       "2  36141000.0  "
      ]
     },
     "execution_count": 15,
     "metadata": {},
     "output_type": "execute_result"
    }
   ],
   "source": [
    "base.head(3)"
   ]
  },
  {
   "cell_type": "code",
   "execution_count": 16,
   "id": "61eeb2fe-61d1-4a5b-bd53-318f548ac307",
   "metadata": {},
   "outputs": [
    {
     "data": {
      "text/plain": [
       "0    19.990000\n",
       "1    19.809999\n",
       "2    20.330000\n",
       "Name: Open, dtype: float64"
      ]
     },
     "execution_count": 16,
     "metadata": {},
     "output_type": "execute_result"
    }
   ],
   "source": [
    "base_completa = pd.concat((base['Open'], base_teste['Open']), axis = 0)\n",
    "base_completa.head(3)"
   ]
  },
  {
   "cell_type": "code",
   "execution_count": 17,
   "id": "718598d4-018e-477d-ac9b-ab17bb89f844",
   "metadata": {},
   "outputs": [
    {
     "data": {
      "text/plain": [
       "16    15.84\n",
       "17    16.09\n",
       "18    15.41\n",
       "Name: Open, dtype: float64"
      ]
     },
     "execution_count": 17,
     "metadata": {},
     "output_type": "execute_result"
    }
   ],
   "source": [
    "base_completa.tail(3)"
   ]
  },
  {
   "cell_type": "code",
   "execution_count": 18,
   "id": "923aef31-49c4-48ef-97ac-77fbc273b67e",
   "metadata": {},
   "outputs": [],
   "source": [
    "entradas = base_completa[len(base_completa) - len(base_teste) - 90:].values\n",
    "entradas = entradas.reshape(-1, 1)\n",
    "entradas = normalizador.transform(entradas)"
   ]
  },
  {
   "cell_type": "code",
   "execution_count": 19,
   "id": "8459359c-5115-408a-a9c2-4f44085cb64d",
   "metadata": {},
   "outputs": [
    {
     "data": {
      "text/plain": [
       "(109, 1)"
      ]
     },
     "execution_count": 19,
     "metadata": {},
     "output_type": "execute_result"
    }
   ],
   "source": [
    "entradas.shape"
   ]
  },
  {
   "cell_type": "code",
   "execution_count": 20,
   "id": "1dcc3c16-ee3c-41dd-9538-7151e111d217",
   "metadata": {},
   "outputs": [
    {
     "data": {
      "text/plain": [
       "(19, 90)"
      ]
     },
     "execution_count": 20,
     "metadata": {},
     "output_type": "execute_result"
    }
   ],
   "source": [
    "X_teste = []\n",
    "for i in range(90, 109):\n",
    "    X_teste.append(entradas[i-90:i, 0])\n",
    "X_teste = np.array(X_teste)\n",
    "X_teste.shape"
   ]
  },
  {
   "cell_type": "code",
   "execution_count": 21,
   "id": "5645beee-9bab-4fa4-8468-0bd6bf98c4b3",
   "metadata": {},
   "outputs": [
    {
     "data": {
      "text/plain": [
       "(19, 90, 1)"
      ]
     },
     "execution_count": 21,
     "metadata": {},
     "output_type": "execute_result"
    }
   ],
   "source": [
    "X_teste = np.reshape(X_teste, (X_teste.shape[0], X_teste.shape[1], 1))\n",
    "X_teste.shape"
   ]
  },
  {
   "cell_type": "code",
   "execution_count": 22,
   "id": "e385acc1-f1e4-4f73-8327-c10008abf0e8",
   "metadata": {},
   "outputs": [
    {
     "data": {
      "text/plain": [
       "(19, 1)"
      ]
     },
     "execution_count": 22,
     "metadata": {},
     "output_type": "execute_result"
    }
   ],
   "source": [
    "previsoes = regressor.predict(X_teste)\n",
    "previsoes.shape"
   ]
  },
  {
   "cell_type": "code",
   "execution_count": 23,
   "id": "d1a80dba-6b6d-4a6a-a7fd-858ab6aa47ef",
   "metadata": {},
   "outputs": [],
   "source": [
    "previsoes = normalizador.inverse_transform(previsoes)"
   ]
  },
  {
   "cell_type": "code",
   "execution_count": 24,
   "id": "a068630f-2a5c-47c0-ab3f-0e3b17ec4903",
   "metadata": {},
   "outputs": [
    {
     "name": "stdout",
     "output_type": "stream",
     "text": [
      "16.497597\n",
      "16.379473684210524\n"
     ]
    }
   ],
   "source": [
    "print(previsoes.mean())\n",
    "print(preco_real_teste.mean())"
   ]
  },
  {
   "cell_type": "code",
   "execution_count": 25,
   "id": "51041b03-9fea-4f2b-befc-1de981294d9a",
   "metadata": {},
   "outputs": [
    {
     "data": {
      "image/png": "[encoded data removed]",
      "text/plain": [
       "<Figure size 432x288 with 1 Axes>"
      ]
     },
     "metadata": {
      "needs_background": "light"
     },
     "output_type": "display_data"
    }
   ],
   "source": [
    "plt.plot(preco_real_teste, color = 'red', label = 'Preço real')\n",
    "plt.plot(previsoes, color = 'blue', label = 'Previsões')\n",
    "plt.title('Previsão preço das ações')\n",
    "plt.xlabel('Tempo')\n",
    "plt.ylabel('Valor Yahoo')\n",
    "plt.legend()\n",
    "plt.show()"
   ]
  },
  {
   "cell_type": "code",
   "execution_count": null,
   "id": "1146301f-f92f-4dd5-912d-2aecc670ed3d",
   "metadata": {},
   "outputs": [],
   "source": []
  }
 ],
 "metadata": {
  "kernelspec": {
   "display_name": "data_1",
   "language": "python",
   "name": "data_1"
  },
  "language_info": {
   "codemirror_mode": {
    "name": "ipython",
    "version": 3
   },
   "file_extension": ".py",
   "mimetype": "text/x-python",
   "name": "python",
   "nbconvert_exporter": "python",
   "pygments_lexer": "ipython3",
   "version": "3.8.10"
  }
 },
 "nbformat": 4,
 "nbformat_minor": 5
}
