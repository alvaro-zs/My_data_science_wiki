{
 "cells": [
  {
   "cell_type": "code",
   "execution_count": 1,
   "id": "4119d6b4-bcb2-42e8-bb9f-00a3d6436516",
   "metadata": {},
   "outputs": [],
   "source": [
    "from keras.models import Sequential\n",
    "from keras.layers import Dense, Dropout, LSTM\n",
    "from sklearn.preprocessing import MinMaxScaler\n",
    "import numpy as np\n",
    "import pandas as pd\n",
    "import matplotlib.pyplot as plt\n",
    "from keras.callbacks import EarlyStopping, ReduceLROnPlateau, ModelCheckpoint"
   ]
  },
  {
   "cell_type": "code",
   "execution_count": 2,
   "id": "b3657288-24cf-4d2d-9b8d-3cbb7bd0120f",
   "metadata": {},
   "outputs": [
    {
     "data": {
      "text/html": [
       "<div>\n",
       "<style scoped>\n",
       "    .dataframe tbody tr th:only-of-type {\n",
       "        vertical-align: middle;\n",
       "    }\n",
       "\n",
       "    .dataframe tbody tr th {\n",
       "        vertical-align: top;\n",
       "    }\n",
       "\n",
       "    .dataframe thead th {\n",
       "        text-align: right;\n",
       "    }\n",
       "</style>\n",
       "<table border=\"1\" class=\"dataframe\">\n",
       "  <thead>\n",
       "    <tr style=\"text-align: right;\">\n",
       "      <th></th>\n",
       "      <th>Date</th>\n",
       "      <th>Open</th>\n",
       "      <th>High</th>\n",
       "      <th>Low</th>\n",
       "      <th>Close</th>\n",
       "      <th>Adj Close</th>\n",
       "      <th>Volume</th>\n",
       "    </tr>\n",
       "  </thead>\n",
       "  <tbody>\n",
       "    <tr>\n",
       "      <th>0</th>\n",
       "      <td>2013-01-02</td>\n",
       "      <td>19.990000</td>\n",
       "      <td>20.209999</td>\n",
       "      <td>19.690001</td>\n",
       "      <td>19.690001</td>\n",
       "      <td>18.086271</td>\n",
       "      <td>30182600.0</td>\n",
       "    </tr>\n",
       "    <tr>\n",
       "      <th>1</th>\n",
       "      <td>2013-01-03</td>\n",
       "      <td>19.809999</td>\n",
       "      <td>20.400000</td>\n",
       "      <td>19.700001</td>\n",
       "      <td>20.400000</td>\n",
       "      <td>18.738441</td>\n",
       "      <td>30552600.0</td>\n",
       "    </tr>\n",
       "    <tr>\n",
       "      <th>2</th>\n",
       "      <td>2013-01-04</td>\n",
       "      <td>20.330000</td>\n",
       "      <td>20.620001</td>\n",
       "      <td>20.170000</td>\n",
       "      <td>20.430000</td>\n",
       "      <td>18.766001</td>\n",
       "      <td>36141000.0</td>\n",
       "    </tr>\n",
       "  </tbody>\n",
       "</table>\n",
       "</div>"
      ],
      "text/plain": [
       "         Date       Open       High        Low      Close  Adj Close  \\\n",
       "0  2013-01-02  19.990000  20.209999  19.690001  19.690001  18.086271   \n",
       "1  2013-01-03  19.809999  20.400000  19.700001  20.400000  18.738441   \n",
       "2  2013-01-04  20.330000  20.620001  20.170000  20.430000  18.766001   \n",
       "\n",
       "       Volume  \n",
       "0  30182600.0  \n",
       "1  30552600.0  \n",
       "2  36141000.0  "
      ]
     },
     "execution_count": 2,
     "metadata": {},
     "output_type": "execute_result"
    }
   ],
   "source": [
    "base = pd.read_csv('petr4_treinamento.csv')\n",
    "base = base.dropna()\n",
    "base.head(3)"
   ]
  },
  {
   "cell_type": "code",
   "execution_count": 3,
   "id": "406d3821-4596-487a-a630-32fa49848140",
   "metadata": {},
   "outputs": [
    {
     "data": {
      "text/html": [
       "<div>\n",
       "<style scoped>\n",
       "    .dataframe tbody tr th:only-of-type {\n",
       "        vertical-align: middle;\n",
       "    }\n",
       "\n",
       "    .dataframe tbody tr th {\n",
       "        vertical-align: top;\n",
       "    }\n",
       "\n",
       "    .dataframe thead th {\n",
       "        text-align: right;\n",
       "    }\n",
       "</style>\n",
       "<table border=\"1\" class=\"dataframe\">\n",
       "  <thead>\n",
       "    <tr style=\"text-align: right;\">\n",
       "      <th></th>\n",
       "      <th>Date</th>\n",
       "      <th>Open</th>\n",
       "      <th>High</th>\n",
       "      <th>Low</th>\n",
       "      <th>Close</th>\n",
       "      <th>Adj Close</th>\n",
       "      <th>Volume</th>\n",
       "    </tr>\n",
       "  </thead>\n",
       "  <tbody>\n",
       "    <tr>\n",
       "      <th>1242</th>\n",
       "      <td>2017-12-27</td>\n",
       "      <td>15.99</td>\n",
       "      <td>16.139999</td>\n",
       "      <td>15.98</td>\n",
       "      <td>16.049999</td>\n",
       "      <td>16.017963</td>\n",
       "      <td>23552200.0</td>\n",
       "    </tr>\n",
       "    <tr>\n",
       "      <th>1243</th>\n",
       "      <td>2017-12-28</td>\n",
       "      <td>16.10</td>\n",
       "      <td>16.129999</td>\n",
       "      <td>16.00</td>\n",
       "      <td>16.100000</td>\n",
       "      <td>16.067865</td>\n",
       "      <td>19011500.0</td>\n",
       "    </tr>\n",
       "    <tr>\n",
       "      <th>1244</th>\n",
       "      <td>2017-12-29</td>\n",
       "      <td>16.10</td>\n",
       "      <td>16.100000</td>\n",
       "      <td>16.10</td>\n",
       "      <td>16.100000</td>\n",
       "      <td>16.067865</td>\n",
       "      <td>0.0</td>\n",
       "    </tr>\n",
       "  </tbody>\n",
       "</table>\n",
       "</div>"
      ],
      "text/plain": [
       "            Date   Open       High    Low      Close  Adj Close      Volume\n",
       "1242  2017-12-27  15.99  16.139999  15.98  16.049999  16.017963  23552200.0\n",
       "1243  2017-12-28  16.10  16.129999  16.00  16.100000  16.067865  19011500.0\n",
       "1244  2017-12-29  16.10  16.100000  16.10  16.100000  16.067865         0.0"
      ]
     },
     "execution_count": 3,
     "metadata": {},
     "output_type": "execute_result"
    }
   ],
   "source": [
    "base.tail(3)"
   ]
  },
  {
   "cell_type": "code",
   "execution_count": 4,
   "id": "dd490f76-6748-4685-9907-dba9562a6e8f",
   "metadata": {},
   "outputs": [],
   "source": [
    "base_treinamento = base.iloc[:, 1:7].values"
   ]
  },
  {
   "cell_type": "code",
   "execution_count": 5,
   "id": "770f1ffb-f37b-45c9-8739-5a88fa585ca4",
   "metadata": {},
   "outputs": [
    {
     "data": {
      "text/plain": [
       "array([[0.76501938],\n",
       "       [0.7562984 ],\n",
       "       [0.78149225],\n",
       "       ...,\n",
       "       [0.57122093],\n",
       "       [0.57655039],\n",
       "       [0.57655039]])"
      ]
     },
     "execution_count": 5,
     "metadata": {},
     "output_type": "execute_result"
    }
   ],
   "source": [
    "normalizador = MinMaxScaler(feature_range=(0,1))\n",
    "base_treinamento_normalizada = normalizador.fit_transform(base_treinamento)\n",
    "\n",
    "normalizador_previsao = MinMaxScaler(feature_range=(0,1))\n",
    "normalizador_previsao.fit_transform(base_treinamento[:,0:1])"
   ]
  },
  {
   "cell_type": "code",
   "execution_count": 6,
   "id": "1594516a-52f7-49de-9193-1c1da1460adc",
   "metadata": {},
   "outputs": [
    {
     "data": {
      "text/plain": [
       "(1242, 7)"
      ]
     },
     "execution_count": 6,
     "metadata": {},
     "output_type": "execute_result"
    }
   ],
   "source": [
    "base.shape"
   ]
  },
  {
   "cell_type": "code",
   "execution_count": 7,
   "id": "80e0217c-8a2d-4205-be0a-554ee5f7684a",
   "metadata": {},
   "outputs": [
    {
     "data": {
      "text/plain": [
       "(1242, 6)"
      ]
     },
     "execution_count": 7,
     "metadata": {},
     "output_type": "execute_result"
    }
   ],
   "source": [
    "base_treinamento_normalizada.shape"
   ]
  },
  {
   "cell_type": "code",
   "execution_count": 9,
   "id": "da18a3bb-2d5f-4cd5-b173-b65bca6ac0d9",
   "metadata": {},
   "outputs": [
    {
     "data": {
      "text/plain": [
       "(1152, 90, 6)"
      ]
     },
     "execution_count": 9,
     "metadata": {},
     "output_type": "execute_result"
    }
   ],
   "source": [
    "previsores = []\n",
    "preco_real = []\n",
    "for i in range(90, 1242):\n",
    "    previsores.append(base_treinamento_normalizada[i-90:i, 0:6])\n",
    "    preco_real.append(base_treinamento_normalizada[i, 0])\n",
    "previsores, preco_real = np.array(previsores), np.array(preco_real)\n",
    "previsores.shape"
   ]
  },
  {
   "cell_type": "code",
   "execution_count": 10,
   "id": "b6724b50-c52b-42ad-89ad-0f2c4db7b544",
   "metadata": {},
   "outputs": [
    {
     "name": "stdout",
     "output_type": "stream",
     "text": [
      "Model: \"sequential\"\n",
      "_________________________________________________________________\n",
      "Layer (type)                 Output Shape              Param #   \n",
      "=================================================================\n",
      "lstm (LSTM)                  (None, 90, 100)           42800     \n",
      "_________________________________________________________________\n",
      "dropout (Dropout)            (None, 90, 100)           0         \n",
      "_________________________________________________________________\n",
      "lstm_1 (LSTM)                (None, 90, 50)            30200     \n",
      "_________________________________________________________________\n",
      "dropout_1 (Dropout)          (None, 90, 50)            0         \n",
      "_________________________________________________________________\n",
      "lstm_2 (LSTM)                (None, 90, 50)            20200     \n",
      "_________________________________________________________________\n",
      "dropout_2 (Dropout)          (None, 90, 50)            0         \n",
      "_________________________________________________________________\n",
      "lstm_3 (LSTM)                (None, 50)                20200     \n",
      "_________________________________________________________________\n",
      "dropout_3 (Dropout)          (None, 50)                0         \n",
      "_________________________________________________________________\n",
      "dense (Dense)                (None, 1)                 51        \n",
      "=================================================================\n",
      "Total params: 113,451\n",
      "Trainable params: 113,451\n",
      "Non-trainable params: 0\n",
      "_________________________________________________________________\n"
     ]
    }
   ],
   "source": [
    "regressor = Sequential()\n",
    "regressor.add(LSTM(units = 100, return_sequences = True, input_shape = (previsores.shape[1], 6)))\n",
    "regressor.add(Dropout(0.3))\n",
    "\n",
    "regressor.add(LSTM(units = 50, return_sequences = True))\n",
    "regressor.add(Dropout(0.3))\n",
    "\n",
    "regressor.add(LSTM(units = 50, return_sequences = True))\n",
    "regressor.add(Dropout(0.3))\n",
    "\n",
    "regressor.add(LSTM(units = 50))\n",
    "regressor.add(Dropout(0.3))\n",
    "\n",
    "regressor.add(Dense(units = 1, activation = 'sigmoid'))\n",
    "\n",
    "regressor.compile(optimizer = 'adam', loss = 'mean_squared_error',\n",
    "                  metrics = ['mean_absolute_error'])\n",
    "\n",
    "regressor.summary()"
   ]
  },
  {
   "cell_type": "code",
   "execution_count": 11,
   "id": "ca88473d-0ee2-4bcd-91cb-e4906f3fb642",
   "metadata": {
    "scrolled": true,
    "tags": []
   },
   "outputs": [
    {
     "name": "stdout",
     "output_type": "stream",
     "text": [
      "Epoch 1/100\n",
      "36/36 [==============================] - ETA: 0s - loss: 0.0163 - mean_absolute_error: 0.0947\n",
      "Epoch 00001: loss improved from inf to 0.01627, saving model to pesos.h5\n",
      "36/36 [==============================] - 5s 144ms/step - loss: 0.0163 - mean_absolute_error: 0.0947\n",
      "Epoch 2/100\n",
      "36/36 [==============================] - ETA: 0s - loss: 0.0052 - mean_absolute_error: 0.0563\n",
      "Epoch 00002: loss improved from 0.01627 to 0.00516, saving model to pesos.h5\n",
      "36/36 [==============================] - 5s 136ms/step - loss: 0.0052 - mean_absolute_error: 0.0563\n",
      "Epoch 3/100\n",
      "36/36 [==============================] - ETA: 0s - loss: 0.0041 - mean_absolute_error: 0.0500\n",
      "Epoch 00003: loss improved from 0.00516 to 0.00409, saving model to pesos.h5\n",
      "36/36 [==============================] - 5s 136ms/step - loss: 0.0041 - mean_absolute_error: 0.0500\n",
      "Epoch 4/100\n",
      "36/36 [==============================] - ETA: 0s - loss: 0.0040 - mean_absolute_error: 0.0496\n",
      "Epoch 00004: loss improved from 0.00409 to 0.00397, saving model to pesos.h5\n",
      "36/36 [==============================] - 5s 143ms/step - loss: 0.0040 - mean_absolute_error: 0.0496\n",
      "Epoch 5/100\n",
      "36/36 [==============================] - ETA: 0s - loss: 0.0036 - mean_absolute_error: 0.0469\n",
      "Epoch 00005: loss improved from 0.00397 to 0.00363, saving model to pesos.h5\n",
      "36/36 [==============================] - 5s 138ms/step - loss: 0.0036 - mean_absolute_error: 0.0469\n",
      "Epoch 6/100\n",
      "36/36 [==============================] - ETA: 0s - loss: 0.0031 - mean_absolute_error: 0.0430\n",
      "Epoch 00006: loss improved from 0.00363 to 0.00311, saving model to pesos.h5\n",
      "36/36 [==============================] - 5s 138ms/step - loss: 0.0031 - mean_absolute_error: 0.0430\n",
      "Epoch 7/100\n",
      "36/36 [==============================] - ETA: 0s - loss: 0.0033 - mean_absolute_error: 0.0447\n",
      "Epoch 00007: loss did not improve from 0.00311\n",
      "36/36 [==============================] - 5s 137ms/step - loss: 0.0033 - mean_absolute_error: 0.0447\n",
      "Epoch 8/100\n",
      "36/36 [==============================] - ETA: 0s - loss: 0.0031 - mean_absolute_error: 0.0424\n",
      "Epoch 00008: loss improved from 0.00311 to 0.00305, saving model to pesos.h5\n",
      "36/36 [==============================] - 5s 138ms/step - loss: 0.0031 - mean_absolute_error: 0.0424\n",
      "Epoch 9/100\n",
      "36/36 [==============================] - ETA: 0s - loss: 0.0028 - mean_absolute_error: 0.0408\n",
      "Epoch 00009: loss improved from 0.00305 to 0.00280, saving model to pesos.h5\n",
      "36/36 [==============================] - 5s 137ms/step - loss: 0.0028 - mean_absolute_error: 0.0408\n",
      "Epoch 10/100\n",
      "36/36 [==============================] - ETA: 0s - loss: 0.0025 - mean_absolute_error: 0.0378\n",
      "Epoch 00010: loss improved from 0.00280 to 0.00246, saving model to pesos.h5\n",
      "36/36 [==============================] - 5s 144ms/step - loss: 0.0025 - mean_absolute_error: 0.0378\n",
      "Epoch 11/100\n",
      "36/36 [==============================] - ETA: 0s - loss: 0.0022 - mean_absolute_error: 0.0363\n",
      "Epoch 00011: loss improved from 0.00246 to 0.00225, saving model to pesos.h5\n",
      "36/36 [==============================] - 5s 140ms/step - loss: 0.0022 - mean_absolute_error: 0.0363\n",
      "Epoch 12/100\n",
      "36/36 [==============================] - ETA: 0s - loss: 0.0027 - mean_absolute_error: 0.0396\n",
      "Epoch 00012: loss did not improve from 0.00225\n",
      "36/36 [==============================] - 5s 136ms/step - loss: 0.0027 - mean_absolute_error: 0.0396\n",
      "Epoch 13/100\n",
      "36/36 [==============================] - ETA: 0s - loss: 0.0022 - mean_absolute_error: 0.0359\n",
      "Epoch 00013: loss improved from 0.00225 to 0.00221, saving model to pesos.h5\n",
      "36/36 [==============================] - 5s 138ms/step - loss: 0.0022 - mean_absolute_error: 0.0359\n",
      "Epoch 14/100\n",
      "36/36 [==============================] - ETA: 0s - loss: 0.0021 - mean_absolute_error: 0.0347\n",
      "Epoch 00014: loss improved from 0.00221 to 0.00205, saving model to pesos.h5\n",
      "36/36 [==============================] - 5s 143ms/step - loss: 0.0021 - mean_absolute_error: 0.0347\n",
      "Epoch 15/100\n",
      "36/36 [==============================] - ETA: 0s - loss: 0.0020 - mean_absolute_error: 0.0333\n",
      "Epoch 00015: loss improved from 0.00205 to 0.00195, saving model to pesos.h5\n",
      "36/36 [==============================] - 5s 139ms/step - loss: 0.0020 - mean_absolute_error: 0.0333\n",
      "Epoch 16/100\n",
      "36/36 [==============================] - ETA: 0s - loss: 0.0018 - mean_absolute_error: 0.0321\n",
      "Epoch 00016: loss improved from 0.00195 to 0.00178, saving model to pesos.h5\n",
      "36/36 [==============================] - 5s 141ms/step - loss: 0.0018 - mean_absolute_error: 0.0321\n",
      "Epoch 17/100\n",
      "36/36 [==============================] - ETA: 0s - loss: 0.0021 - mean_absolute_error: 0.0349\n",
      "Epoch 00017: loss did not improve from 0.00178\n",
      "36/36 [==============================] - 5s 136ms/step - loss: 0.0021 - mean_absolute_error: 0.0349\n",
      "Epoch 18/100\n",
      "36/36 [==============================] - ETA: 0s - loss: 0.0019 - mean_absolute_error: 0.0336\n",
      "Epoch 00018: loss did not improve from 0.00178\n",
      "36/36 [==============================] - 5s 140ms/step - loss: 0.0019 - mean_absolute_error: 0.0336\n",
      "Epoch 19/100\n",
      "36/36 [==============================] - ETA: 0s - loss: 0.0018 - mean_absolute_error: 0.0321\n",
      "Epoch 00019: loss improved from 0.00178 to 0.00176, saving model to pesos.h5\n",
      "36/36 [==============================] - 5s 144ms/step - loss: 0.0018 - mean_absolute_error: 0.0321\n",
      "Epoch 20/100\n",
      "36/36 [==============================] - ETA: 0s - loss: 0.0016 - mean_absolute_error: 0.0302\n",
      "Epoch 00020: loss improved from 0.00176 to 0.00158, saving model to pesos.h5\n",
      "36/36 [==============================] - 5s 136ms/step - loss: 0.0016 - mean_absolute_error: 0.0302\n",
      "Epoch 21/100\n",
      "36/36 [==============================] - ETA: 0s - loss: 0.0017 - mean_absolute_error: 0.0315\n",
      "Epoch 00021: loss did not improve from 0.00158\n",
      "36/36 [==============================] - 5s 140ms/step - loss: 0.0017 - mean_absolute_error: 0.0315\n",
      "Epoch 22/100\n",
      "36/36 [==============================] - ETA: 0s - loss: 0.0017 - mean_absolute_error: 0.0313\n",
      "Epoch 00022: loss did not improve from 0.00158\n",
      "36/36 [==============================] - 5s 146ms/step - loss: 0.0017 - mean_absolute_error: 0.0313\n",
      "Epoch 23/100\n",
      "36/36 [==============================] - ETA: 0s - loss: 0.0017 - mean_absolute_error: 0.0308\n",
      "Epoch 00023: loss did not improve from 0.00158\n",
      "36/36 [==============================] - 5s 137ms/step - loss: 0.0017 - mean_absolute_error: 0.0308\n",
      "Epoch 24/100\n",
      "36/36 [==============================] - ETA: 0s - loss: 0.0016 - mean_absolute_error: 0.0298\n",
      "Epoch 00024: loss improved from 0.00158 to 0.00157, saving model to pesos.h5\n",
      "36/36 [==============================] - 5s 138ms/step - loss: 0.0016 - mean_absolute_error: 0.0298\n",
      "Epoch 25/100\n",
      "36/36 [==============================] - ETA: 0s - loss: 0.0015 - mean_absolute_error: 0.0291\n",
      "Epoch 00025: ReduceLROnPlateau reducing learning rate to 0.00020000000949949026.\n",
      "\n",
      "Epoch 00025: loss improved from 0.00157 to 0.00153, saving model to pesos.h5\n",
      "36/36 [==============================] - 5s 137ms/step - loss: 0.0015 - mean_absolute_error: 0.0291\n",
      "Epoch 26/100\n",
      "36/36 [==============================] - ETA: 0s - loss: 0.0015 - mean_absolute_error: 0.0286\n",
      "Epoch 00026: loss improved from 0.00153 to 0.00150, saving model to pesos.h5\n",
      "36/36 [==============================] - 5s 138ms/step - loss: 0.0015 - mean_absolute_error: 0.0286\n",
      "Epoch 27/100\n",
      "36/36 [==============================] - ETA: 0s - loss: 0.0015 - mean_absolute_error: 0.0287\n",
      "Epoch 00027: loss improved from 0.00150 to 0.00145, saving model to pesos.h5\n",
      "36/36 [==============================] - 5s 138ms/step - loss: 0.0015 - mean_absolute_error: 0.0287\n",
      "Epoch 28/100\n",
      "36/36 [==============================] - ETA: 0s - loss: 0.0014 - mean_absolute_error: 0.0277\n",
      "Epoch 00028: loss improved from 0.00145 to 0.00137, saving model to pesos.h5\n",
      "36/36 [==============================] - 5s 141ms/step - loss: 0.0014 - mean_absolute_error: 0.0277\n",
      "Epoch 29/100\n",
      "36/36 [==============================] - ETA: 0s - loss: 0.0014 - mean_absolute_error: 0.0278\n",
      "Epoch 00029: loss improved from 0.00137 to 0.00135, saving model to pesos.h5\n",
      "36/36 [==============================] - 5s 137ms/step - loss: 0.0014 - mean_absolute_error: 0.0278\n",
      "Epoch 30/100\n",
      "36/36 [==============================] - ETA: 0s - loss: 0.0014 - mean_absolute_error: 0.0279\n",
      "Epoch 00030: loss did not improve from 0.00135\n",
      "36/36 [==============================] - 5s 147ms/step - loss: 0.0014 - mean_absolute_error: 0.0279\n",
      "Epoch 31/100\n",
      "36/36 [==============================] - ETA: 0s - loss: 0.0013 - mean_absolute_error: 0.0264\n",
      "Epoch 00031: loss improved from 0.00135 to 0.00128, saving model to pesos.h5\n",
      "36/36 [==============================] - 5s 136ms/step - loss: 0.0013 - mean_absolute_error: 0.0264\n",
      "Epoch 32/100\n",
      "36/36 [==============================] - ETA: 0s - loss: 0.0013 - mean_absolute_error: 0.0268\n",
      "Epoch 00032: loss did not improve from 0.00128\n",
      "36/36 [==============================] - 5s 139ms/step - loss: 0.0013 - mean_absolute_error: 0.0268\n",
      "Epoch 33/100\n",
      "36/36 [==============================] - ETA: 0s - loss: 0.0014 - mean_absolute_error: 0.0270\n",
      "Epoch 00033: loss did not improve from 0.00128\n",
      "36/36 [==============================] - 5s 136ms/step - loss: 0.0014 - mean_absolute_error: 0.0270\n",
      "Epoch 34/100\n",
      "36/36 [==============================] - ETA: 0s - loss: 0.0012 - mean_absolute_error: 0.0262\n",
      "Epoch 00034: loss improved from 0.00128 to 0.00125, saving model to pesos.h5\n",
      "36/36 [==============================] - 5s 141ms/step - loss: 0.0012 - mean_absolute_error: 0.0262\n",
      "Epoch 35/100\n",
      "36/36 [==============================] - ETA: 0s - loss: 0.0014 - mean_absolute_error: 0.0275\n",
      "Epoch 00035: loss did not improve from 0.00125\n",
      "36/36 [==============================] - 5s 140ms/step - loss: 0.0014 - mean_absolute_error: 0.0275\n",
      "Epoch 36/100\n",
      "36/36 [==============================] - ETA: 0s - loss: 0.0012 - mean_absolute_error: 0.0260\n",
      "Epoch 00036: loss improved from 0.00125 to 0.00121, saving model to pesos.h5\n",
      "36/36 [==============================] - 5s 136ms/step - loss: 0.0012 - mean_absolute_error: 0.0260\n",
      "Epoch 37/100\n",
      "36/36 [==============================] - ETA: 0s - loss: 0.0012 - mean_absolute_error: 0.0260\n",
      "Epoch 00037: loss did not improve from 0.00121\n",
      "36/36 [==============================] - 5s 134ms/step - loss: 0.0012 - mean_absolute_error: 0.0260\n",
      "Epoch 38/100\n",
      "36/36 [==============================] - ETA: 0s - loss: 0.0013 - mean_absolute_error: 0.0270\n",
      "Epoch 00038: loss did not improve from 0.00121\n",
      "36/36 [==============================] - 5s 141ms/step - loss: 0.0013 - mean_absolute_error: 0.0270\n",
      "Epoch 39/100\n",
      "36/36 [==============================] - ETA: 0s - loss: 0.0013 - mean_absolute_error: 0.0265\n",
      "Epoch 00039: ReduceLROnPlateau reducing learning rate to 4.0000001899898055e-05.\n",
      "\n",
      "Epoch 00039: loss did not improve from 0.00121\n",
      "36/36 [==============================] - 5s 135ms/step - loss: 0.0013 - mean_absolute_error: 0.0265\n",
      "Epoch 40/100\n",
      "36/36 [==============================] - ETA: 0s - loss: 0.0012 - mean_absolute_error: 0.0254\n",
      "Epoch 00040: loss improved from 0.00121 to 0.00118, saving model to pesos.h5\n",
      "36/36 [==============================] - 5s 143ms/step - loss: 0.0012 - mean_absolute_error: 0.0254\n",
      "Epoch 41/100\n",
      "36/36 [==============================] - ETA: 0s - loss: 0.0013 - mean_absolute_error: 0.0263\n",
      "Epoch 00041: loss did not improve from 0.00118\n",
      "36/36 [==============================] - 5s 140ms/step - loss: 0.0013 - mean_absolute_error: 0.0263\n",
      "Epoch 42/100\n",
      "36/36 [==============================] - ETA: 0s - loss: 0.0012 - mean_absolute_error: 0.0261\n",
      "Epoch 00042: loss did not improve from 0.00118\n",
      "36/36 [==============================] - 5s 134ms/step - loss: 0.0012 - mean_absolute_error: 0.0261\n",
      "Epoch 43/100\n",
      "36/36 [==============================] - ETA: 0s - loss: 0.0012 - mean_absolute_error: 0.0250\n",
      "Epoch 00043: loss improved from 0.00118 to 0.00116, saving model to pesos.h5\n",
      "36/36 [==============================] - 5s 137ms/step - loss: 0.0012 - mean_absolute_error: 0.0250\n",
      "Epoch 44/100\n",
      "36/36 [==============================] - ETA: 0s - loss: 0.0013 - mean_absolute_error: 0.0265\n",
      "Epoch 00044: ReduceLROnPlateau reducing learning rate to 8.000000525498762e-06.\n",
      "\n",
      "Epoch 00044: loss did not improve from 0.00116\n",
      "36/36 [==============================] - 5s 142ms/step - loss: 0.0013 - mean_absolute_error: 0.0265\n",
      "Epoch 45/100\n",
      "36/36 [==============================] - ETA: 0s - loss: 0.0012 - mean_absolute_error: 0.0259\n",
      "Epoch 00045: loss did not improve from 0.00116\n",
      "36/36 [==============================] - 5s 138ms/step - loss: 0.0012 - mean_absolute_error: 0.0259\n",
      "Epoch 46/100\n",
      "36/36 [==============================] - ETA: 0s - loss: 0.0012 - mean_absolute_error: 0.0252\n",
      "Epoch 00046: loss improved from 0.00116 to 0.00116, saving model to pesos.h5\n",
      "36/36 [==============================] - 5s 135ms/step - loss: 0.0012 - mean_absolute_error: 0.0252\n",
      "Epoch 47/100\n",
      "36/36 [==============================] - ETA: 0s - loss: 0.0012 - mean_absolute_error: 0.0258\n",
      "Epoch 00047: loss did not improve from 0.00116\n",
      "36/36 [==============================] - 5s 134ms/step - loss: 0.0012 - mean_absolute_error: 0.0258\n",
      "Epoch 48/100\n",
      "36/36 [==============================] - ETA: 0s - loss: 0.0012 - mean_absolute_error: 0.0262\n",
      "Epoch 00048: loss did not improve from 0.00116\n",
      "36/36 [==============================] - 5s 133ms/step - loss: 0.0012 - mean_absolute_error: 0.0262\n",
      "Epoch 49/100\n",
      "36/36 [==============================] - ETA: 0s - loss: 0.0012 - mean_absolute_error: 0.0252\n",
      "Epoch 00049: ReduceLROnPlateau reducing learning rate to 1.6000001778593287e-06.\n",
      "\n",
      "Epoch 00049: loss did not improve from 0.00116\n",
      "36/36 [==============================] - 5s 133ms/step - loss: 0.0012 - mean_absolute_error: 0.0252\n",
      "Epoch 50/100\n",
      "36/36 [==============================] - ETA: 0s - loss: 0.0012 - mean_absolute_error: 0.0253\n",
      "Epoch 00050: loss did not improve from 0.00116\n",
      "36/36 [==============================] - 5s 134ms/step - loss: 0.0012 - mean_absolute_error: 0.0253\n",
      "Epoch 51/100\n",
      "36/36 [==============================] - ETA: 0s - loss: 0.0012 - mean_absolute_error: 0.0264\n",
      "Epoch 00051: loss did not improve from 0.00116\n",
      "36/36 [==============================] - 5s 134ms/step - loss: 0.0012 - mean_absolute_error: 0.0264\n",
      "Epoch 52/100\n",
      "36/36 [==============================] - ETA: 0s - loss: 0.0012 - mean_absolute_error: 0.0259\n",
      "Epoch 00052: loss did not improve from 0.00116\n",
      "36/36 [==============================] - 5s 134ms/step - loss: 0.0012 - mean_absolute_error: 0.0259\n",
      "Epoch 53/100\n",
      "36/36 [==============================] - ETA: 0s - loss: 0.0012 - mean_absolute_error: 0.0254\n",
      "Epoch 00053: loss did not improve from 0.00116\n",
      "36/36 [==============================] - 5s 133ms/step - loss: 0.0012 - mean_absolute_error: 0.0254\n",
      "Epoch 54/100\n",
      "36/36 [==============================] - ETA: 0s - loss: 0.0012 - mean_absolute_error: 0.0260\n",
      "Epoch 00054: ReduceLROnPlateau reducing learning rate to 3.200000264769187e-07.\n",
      "\n",
      "Epoch 00054: loss did not improve from 0.00116\n",
      "36/36 [==============================] - 5s 134ms/step - loss: 0.0012 - mean_absolute_error: 0.0260\n",
      "Epoch 55/100\n",
      "36/36 [==============================] - ETA: 0s - loss: 0.0012 - mean_absolute_error: 0.0258\n",
      "Epoch 00055: loss did not improve from 0.00116\n",
      "36/36 [==============================] - 5s 142ms/step - loss: 0.0012 - mean_absolute_error: 0.0258\n",
      "Epoch 56/100\n",
      "36/36 [==============================] - ETA: 0s - loss: 0.0012 - mean_absolute_error: 0.0256\n",
      "Epoch 00056: loss did not improve from 0.00116\n",
      "36/36 [==============================] - 5s 135ms/step - loss: 0.0012 - mean_absolute_error: 0.0256\n",
      "Epoch 00056: early stopping\n"
     ]
    },
    {
     "data": {
      "text/plain": [
       "<tensorflow.python.keras.callbacks.History at 0x1bff6002d30>"
      ]
     },
     "execution_count": 11,
     "metadata": {},
     "output_type": "execute_result"
    }
   ],
   "source": [
    "es = EarlyStopping(monitor = 'loss', min_delta = 1e-10, patience = 10, verbose = 1)\n",
    "\n",
    "rlr = ReduceLROnPlateau(monitor = 'loss', factor = 0.2, patience = 5, verbose = 1)\n",
    "\n",
    "mcp = ModelCheckpoint(filepath = 'pesos.h5', monitor = 'loss', \n",
    "                      save_best_only = True, verbose = 1)\n",
    "\n",
    "regressor.fit(previsores, preco_real, epochs = 100, batch_size = 32,\n",
    "              callbacks = [es, rlr, mcp])"
   ]
  },
  {
   "cell_type": "code",
   "execution_count": 12,
   "id": "50b41db1-8258-45da-bc25-332444fb724d",
   "metadata": {},
   "outputs": [
    {
     "data": {
      "text/html": [
       "<div>\n",
       "<style scoped>\n",
       "    .dataframe tbody tr th:only-of-type {\n",
       "        vertical-align: middle;\n",
       "    }\n",
       "\n",
       "    .dataframe tbody tr th {\n",
       "        vertical-align: top;\n",
       "    }\n",
       "\n",
       "    .dataframe thead th {\n",
       "        text-align: right;\n",
       "    }\n",
       "</style>\n",
       "<table border=\"1\" class=\"dataframe\">\n",
       "  <thead>\n",
       "    <tr style=\"text-align: right;\">\n",
       "      <th></th>\n",
       "      <th>Date</th>\n",
       "      <th>Open</th>\n",
       "      <th>High</th>\n",
       "      <th>Low</th>\n",
       "      <th>Close</th>\n",
       "      <th>Adj Close</th>\n",
       "      <th>Volume</th>\n",
       "    </tr>\n",
       "  </thead>\n",
       "  <tbody>\n",
       "    <tr>\n",
       "      <th>0</th>\n",
       "      <td>2018-01-02</td>\n",
       "      <td>16.190001</td>\n",
       "      <td>16.549999</td>\n",
       "      <td>16.190001</td>\n",
       "      <td>16.549999</td>\n",
       "      <td>16.516966</td>\n",
       "      <td>33461800</td>\n",
       "    </tr>\n",
       "    <tr>\n",
       "      <th>1</th>\n",
       "      <td>2018-01-03</td>\n",
       "      <td>16.490000</td>\n",
       "      <td>16.719999</td>\n",
       "      <td>16.370001</td>\n",
       "      <td>16.700001</td>\n",
       "      <td>16.666668</td>\n",
       "      <td>55940900</td>\n",
       "    </tr>\n",
       "    <tr>\n",
       "      <th>2</th>\n",
       "      <td>2018-01-04</td>\n",
       "      <td>16.780001</td>\n",
       "      <td>16.959999</td>\n",
       "      <td>16.620001</td>\n",
       "      <td>16.730000</td>\n",
       "      <td>16.696608</td>\n",
       "      <td>37064900</td>\n",
       "    </tr>\n",
       "  </tbody>\n",
       "</table>\n",
       "</div>"
      ],
      "text/plain": [
       "         Date       Open       High        Low      Close  Adj Close    Volume\n",
       "0  2018-01-02  16.190001  16.549999  16.190001  16.549999  16.516966  33461800\n",
       "1  2018-01-03  16.490000  16.719999  16.370001  16.700001  16.666668  55940900\n",
       "2  2018-01-04  16.780001  16.959999  16.620001  16.730000  16.696608  37064900"
      ]
     },
     "execution_count": 12,
     "metadata": {},
     "output_type": "execute_result"
    }
   ],
   "source": [
    "base_teste = pd.read_csv('petr4_teste.csv')\n",
    "base_teste.head(3)"
   ]
  },
  {
   "cell_type": "code",
   "execution_count": 13,
   "id": "ce0724b7-4aae-43ce-9311-9ef33fe5685e",
   "metadata": {},
   "outputs": [
    {
     "data": {
      "text/html": [
       "<div>\n",
       "<style scoped>\n",
       "    .dataframe tbody tr th:only-of-type {\n",
       "        vertical-align: middle;\n",
       "    }\n",
       "\n",
       "    .dataframe tbody tr th {\n",
       "        vertical-align: top;\n",
       "    }\n",
       "\n",
       "    .dataframe thead th {\n",
       "        text-align: right;\n",
       "    }\n",
       "</style>\n",
       "<table border=\"1\" class=\"dataframe\">\n",
       "  <thead>\n",
       "    <tr style=\"text-align: right;\">\n",
       "      <th></th>\n",
       "      <th>Date</th>\n",
       "      <th>Open</th>\n",
       "      <th>High</th>\n",
       "      <th>Low</th>\n",
       "      <th>Close</th>\n",
       "      <th>Adj Close</th>\n",
       "      <th>Volume</th>\n",
       "    </tr>\n",
       "  </thead>\n",
       "  <tbody>\n",
       "    <tr>\n",
       "      <th>19</th>\n",
       "      <td>2018-01-29</td>\n",
       "      <td>19.67</td>\n",
       "      <td>20.049999</td>\n",
       "      <td>19.570000</td>\n",
       "      <td>19.850000</td>\n",
       "      <td>19.810381</td>\n",
       "      <td>55726200</td>\n",
       "    </tr>\n",
       "    <tr>\n",
       "      <th>20</th>\n",
       "      <td>2018-01-30</td>\n",
       "      <td>19.77</td>\n",
       "      <td>19.770000</td>\n",
       "      <td>19.360001</td>\n",
       "      <td>19.490000</td>\n",
       "      <td>19.451097</td>\n",
       "      <td>46203000</td>\n",
       "    </tr>\n",
       "    <tr>\n",
       "      <th>21</th>\n",
       "      <td>2018-01-31</td>\n",
       "      <td>19.74</td>\n",
       "      <td>19.930000</td>\n",
       "      <td>19.680000</td>\n",
       "      <td>19.700001</td>\n",
       "      <td>19.660681</td>\n",
       "      <td>41576600</td>\n",
       "    </tr>\n",
       "  </tbody>\n",
       "</table>\n",
       "</div>"
      ],
      "text/plain": [
       "          Date   Open       High        Low      Close  Adj Close    Volume\n",
       "19  2018-01-29  19.67  20.049999  19.570000  19.850000  19.810381  55726200\n",
       "20  2018-01-30  19.77  19.770000  19.360001  19.490000  19.451097  46203000\n",
       "21  2018-01-31  19.74  19.930000  19.680000  19.700001  19.660681  41576600"
      ]
     },
     "execution_count": 13,
     "metadata": {},
     "output_type": "execute_result"
    }
   ],
   "source": [
    "base_teste.tail(3)"
   ]
  },
  {
   "cell_type": "code",
   "execution_count": 14,
   "id": "bbfc77a2-044a-40ad-9712-f057e6929283",
   "metadata": {},
   "outputs": [],
   "source": [
    "preco_real_teste = base_teste.iloc[:, 1:2].values\n",
    "frames = [base, base_teste]\n",
    "base_completa = pd.concat(frames)\n",
    "base_completa = base_completa.drop('Date', axis = 1)"
   ]
  },
  {
   "cell_type": "code",
   "execution_count": 15,
   "id": "6d566dea-3be9-4f4e-91d6-496088339ca6",
   "metadata": {},
   "outputs": [],
   "source": [
    "entradas = base_completa[len(base_completa) - len(base_teste) - 90:].values\n",
    "entradas = normalizador.transform(entradas)"
   ]
  },
  {
   "cell_type": "code",
   "execution_count": 18,
   "id": "44e483bd-582e-4101-bfe2-a935496df53c",
   "metadata": {},
   "outputs": [
    {
     "data": {
      "text/plain": [
       "(22, 7)"
      ]
     },
     "execution_count": 18,
     "metadata": {},
     "output_type": "execute_result"
    }
   ],
   "source": [
    "base_teste.shape"
   ]
  },
  {
   "cell_type": "code",
   "execution_count": 16,
   "id": "88888f57-6cd6-42e9-92d8-c85b4c14a848",
   "metadata": {},
   "outputs": [
    {
     "data": {
      "text/plain": [
       "(112, 6)"
      ]
     },
     "execution_count": 16,
     "metadata": {},
     "output_type": "execute_result"
    }
   ],
   "source": [
    "entradas.shape"
   ]
  },
  {
   "cell_type": "code",
   "execution_count": 17,
   "id": "ff6a5a34-896b-48f5-8268-d684790276d8",
   "metadata": {},
   "outputs": [
    {
     "data": {
      "text/plain": [
       "(22, 90, 6)"
      ]
     },
     "execution_count": 17,
     "metadata": {},
     "output_type": "execute_result"
    }
   ],
   "source": [
    "X_teste = []\n",
    "for i in range(90, 112):\n",
    "    X_teste.append(entradas[i-90:i, 0:6])\n",
    "X_teste = np.array(X_teste)\n",
    "X_teste.shape"
   ]
  },
  {
   "cell_type": "code",
   "execution_count": 19,
   "id": "2381374f-7d73-415c-b982-17d432ee6134",
   "metadata": {},
   "outputs": [],
   "source": [
    "previsoes = regressor.predict(X_teste)\n",
    "previsoes = normalizador_previsao.inverse_transform(previsoes)"
   ]
  },
  {
   "cell_type": "code",
   "execution_count": 21,
   "id": "35c0dd23-12f4-461c-86bb-30991e83b7a2",
   "metadata": {},
   "outputs": [
    {
     "name": "stdout",
     "output_type": "stream",
     "text": [
      "17.62474\n",
      "17.87454563636364\n"
     ]
    }
   ],
   "source": [
    "print(previsoes.mean())\n",
    "print(preco_real_teste.mean())"
   ]
  },
  {
   "cell_type": "code",
   "execution_count": 23,
   "id": "97dc2132-f124-4f23-8228-26824a949b75",
   "metadata": {},
   "outputs": [
    {
     "data": {
      "image/png": "[encoded data removed]",
      "text/plain": [
       "<Figure size 432x288 with 1 Axes>"
      ]
     },
     "metadata": {
      "needs_background": "light"
     },
     "output_type": "display_data"
    }
   ],
   "source": [
    "plt.plot(preco_real_teste, color = 'red', label = 'Preço real')\n",
    "plt.plot(previsoes, color = 'blue', label = 'Previsões')\n",
    "plt.title('Previsão preço das ações')\n",
    "plt.xlabel('Tempo')\n",
    "plt.ylabel('Valor Yahoo')\n",
    "plt.legend()\n",
    "plt.show()"
   ]
  },
  {
   "cell_type": "code",
   "execution_count": null,
   "id": "65ef9890-7703-4062-a925-af5a51fa02f3",
   "metadata": {},
   "outputs": [],
   "source": []
  }
 ],
 "metadata": {
  "kernelspec": {
   "display_name": "data_1",
   "language": "python",
   "name": "data_1"
  },
  "language_info": {
   "codemirror_mode": {
    "name": "ipython",
    "version": 3
   },
   "file_extension": ".py",
   "mimetype": "text/x-python",
   "name": "python",
   "nbconvert_exporter": "python",
   "pygments_lexer": "ipython3",
   "version": "3.8.10"
  }
 },
 "nbformat": 4,
 "nbformat_minor": 5
}
