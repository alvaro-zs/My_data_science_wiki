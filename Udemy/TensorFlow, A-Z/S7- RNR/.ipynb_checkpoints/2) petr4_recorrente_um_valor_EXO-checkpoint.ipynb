{
 "cells": [
  {
   "cell_type": "code",
   "execution_count": 1,
   "id": "f0c50c8a-0ec1-43f8-92a1-66a2023308ca",
   "metadata": {},
   "outputs": [],
   "source": [
    "from keras.models import Sequential\n",
    "from keras.layers import Dense, Dropout, LSTM\n",
    "from sklearn.preprocessing import MinMaxScaler\n",
    "import numpy as np\n",
    "import pandas as pd\n",
    "import matplotlib.pyplot as plt"
   ]
  },
  {
   "cell_type": "code",
   "execution_count": 2,
   "id": "237a9c01-14bf-4f01-b7b4-7bdb68d8abb5",
   "metadata": {},
   "outputs": [
    {
     "data": {
      "text/html": [
       "<div>\n",
       "<style scoped>\n",
       "    .dataframe tbody tr th:only-of-type {\n",
       "        vertical-align: middle;\n",
       "    }\n",
       "\n",
       "    .dataframe tbody tr th {\n",
       "        vertical-align: top;\n",
       "    }\n",
       "\n",
       "    .dataframe thead th {\n",
       "        text-align: right;\n",
       "    }\n",
       "</style>\n",
       "<table border=\"1\" class=\"dataframe\">\n",
       "  <thead>\n",
       "    <tr style=\"text-align: right;\">\n",
       "      <th></th>\n",
       "      <th>Date</th>\n",
       "      <th>Open</th>\n",
       "      <th>High</th>\n",
       "      <th>Low</th>\n",
       "      <th>Close</th>\n",
       "      <th>Adj Close</th>\n",
       "      <th>Volume</th>\n",
       "    </tr>\n",
       "  </thead>\n",
       "  <tbody>\n",
       "    <tr>\n",
       "      <th>0</th>\n",
       "      <td>2013-01-02</td>\n",
       "      <td>19.990000</td>\n",
       "      <td>20.209999</td>\n",
       "      <td>19.690001</td>\n",
       "      <td>19.690001</td>\n",
       "      <td>18.086271</td>\n",
       "      <td>30182600.0</td>\n",
       "    </tr>\n",
       "    <tr>\n",
       "      <th>1</th>\n",
       "      <td>2013-01-03</td>\n",
       "      <td>19.809999</td>\n",
       "      <td>20.400000</td>\n",
       "      <td>19.700001</td>\n",
       "      <td>20.400000</td>\n",
       "      <td>18.738441</td>\n",
       "      <td>30552600.0</td>\n",
       "    </tr>\n",
       "    <tr>\n",
       "      <th>2</th>\n",
       "      <td>2013-01-04</td>\n",
       "      <td>20.330000</td>\n",
       "      <td>20.620001</td>\n",
       "      <td>20.170000</td>\n",
       "      <td>20.430000</td>\n",
       "      <td>18.766001</td>\n",
       "      <td>36141000.0</td>\n",
       "    </tr>\n",
       "  </tbody>\n",
       "</table>\n",
       "</div>"
      ],
      "text/plain": [
       "         Date       Open       High        Low      Close  Adj Close  \\\n",
       "0  2013-01-02  19.990000  20.209999  19.690001  19.690001  18.086271   \n",
       "1  2013-01-03  19.809999  20.400000  19.700001  20.400000  18.738441   \n",
       "2  2013-01-04  20.330000  20.620001  20.170000  20.430000  18.766001   \n",
       "\n",
       "       Volume  \n",
       "0  30182600.0  \n",
       "1  30552600.0  \n",
       "2  36141000.0  "
      ]
     },
     "execution_count": 2,
     "metadata": {},
     "output_type": "execute_result"
    }
   ],
   "source": [
    "base = pd.read_csv('petr4_treinamento.csv')\n",
    "base.head(3)"
   ]
  },
  {
   "cell_type": "code",
   "execution_count": 13,
   "id": "c216f17c-2ff6-4528-a61b-5933d2a95ddb",
   "metadata": {},
   "outputs": [
    {
     "data": {
      "text/html": [
       "<div>\n",
       "<style scoped>\n",
       "    .dataframe tbody tr th:only-of-type {\n",
       "        vertical-align: middle;\n",
       "    }\n",
       "\n",
       "    .dataframe tbody tr th {\n",
       "        vertical-align: top;\n",
       "    }\n",
       "\n",
       "    .dataframe thead th {\n",
       "        text-align: right;\n",
       "    }\n",
       "</style>\n",
       "<table border=\"1\" class=\"dataframe\">\n",
       "  <thead>\n",
       "    <tr style=\"text-align: right;\">\n",
       "      <th></th>\n",
       "      <th>Date</th>\n",
       "      <th>Open</th>\n",
       "      <th>High</th>\n",
       "      <th>Low</th>\n",
       "      <th>Close</th>\n",
       "      <th>Adj Close</th>\n",
       "      <th>Volume</th>\n",
       "    </tr>\n",
       "  </thead>\n",
       "  <tbody>\n",
       "    <tr>\n",
       "      <th>1242</th>\n",
       "      <td>2017-12-27</td>\n",
       "      <td>15.99</td>\n",
       "      <td>16.139999</td>\n",
       "      <td>15.98</td>\n",
       "      <td>16.049999</td>\n",
       "      <td>16.017963</td>\n",
       "      <td>23552200.0</td>\n",
       "    </tr>\n",
       "    <tr>\n",
       "      <th>1243</th>\n",
       "      <td>2017-12-28</td>\n",
       "      <td>16.10</td>\n",
       "      <td>16.129999</td>\n",
       "      <td>16.00</td>\n",
       "      <td>16.100000</td>\n",
       "      <td>16.067865</td>\n",
       "      <td>19011500.0</td>\n",
       "    </tr>\n",
       "    <tr>\n",
       "      <th>1244</th>\n",
       "      <td>2017-12-29</td>\n",
       "      <td>16.10</td>\n",
       "      <td>16.100000</td>\n",
       "      <td>16.10</td>\n",
       "      <td>16.100000</td>\n",
       "      <td>16.067865</td>\n",
       "      <td>0.0</td>\n",
       "    </tr>\n",
       "  </tbody>\n",
       "</table>\n",
       "</div>"
      ],
      "text/plain": [
       "            Date   Open       High    Low      Close  Adj Close      Volume\n",
       "1242  2017-12-27  15.99  16.139999  15.98  16.049999  16.017963  23552200.0\n",
       "1243  2017-12-28  16.10  16.129999  16.00  16.100000  16.067865  19011500.0\n",
       "1244  2017-12-29  16.10  16.100000  16.10  16.100000  16.067865         0.0"
      ]
     },
     "execution_count": 13,
     "metadata": {},
     "output_type": "execute_result"
    }
   ],
   "source": [
    "base.tail(3)"
   ]
  },
  {
   "cell_type": "code",
   "execution_count": 3,
   "id": "d6cf3a25-c367-4ab9-a9cd-4c419999b832",
   "metadata": {},
   "outputs": [],
   "source": [
    "base = base.dropna()\n",
    "base_treinamento = base.iloc[:, 1:2].values"
   ]
  },
  {
   "cell_type": "code",
   "execution_count": 8,
   "id": "3f4b8c2c-b9ae-4695-a8e9-aa29952b348f",
   "metadata": {},
   "outputs": [
    {
     "data": {
      "text/plain": [
       "(1242, 1)"
      ]
     },
     "execution_count": 8,
     "metadata": {},
     "output_type": "execute_result"
    }
   ],
   "source": [
    "base_treinamento.shape"
   ]
  },
  {
   "cell_type": "code",
   "execution_count": 4,
   "id": "f4de94c9-50ec-4119-bcde-d25b36c2b06d",
   "metadata": {},
   "outputs": [],
   "source": [
    "normalizador = MinMaxScaler(feature_range=(0,1))\n",
    "base_treinamento_normalizada = normalizador.fit_transform(base_treinamento)"
   ]
  },
  {
   "cell_type": "code",
   "execution_count": 5,
   "id": "3383d4b7-4b9d-4ba1-87b9-ed28280fa53d",
   "metadata": {},
   "outputs": [
    {
     "data": {
      "text/plain": [
       "(1152, 90)"
      ]
     },
     "execution_count": 5,
     "metadata": {},
     "output_type": "execute_result"
    }
   ],
   "source": [
    "previsores = []\n",
    "preco_real = []\n",
    "for i in range(90, 1242):\n",
    "    previsores.append(base_treinamento_normalizada[i-90:i, 0])\n",
    "    preco_real.append(base_treinamento_normalizada[i, 0])\n",
    "previsores, preco_real = np.array(previsores), np.array(preco_real)\n",
    "previsores.shape"
   ]
  },
  {
   "cell_type": "code",
   "execution_count": 6,
   "id": "4086187a-3510-4657-a877-66c88c462d9c",
   "metadata": {},
   "outputs": [
    {
     "data": {
      "text/plain": [
       "(1152, 90, 1)"
      ]
     },
     "execution_count": 6,
     "metadata": {},
     "output_type": "execute_result"
    }
   ],
   "source": [
    "previsores = np.reshape(previsores, (previsores.shape[0], previsores.shape[1], 1))\n",
    "previsores.shape"
   ]
  },
  {
   "cell_type": "code",
   "execution_count": 7,
   "id": "7af3aee2-4840-4b1d-905a-39d7313890a6",
   "metadata": {},
   "outputs": [
    {
     "name": "stdout",
     "output_type": "stream",
     "text": [
      "Model: \"sequential\"\n",
      "_________________________________________________________________\n",
      "Layer (type)                 Output Shape              Param #   \n",
      "=================================================================\n",
      "lstm (LSTM)                  (None, 90, 100)           40800     \n",
      "_________________________________________________________________\n",
      "dropout (Dropout)            (None, 90, 100)           0         \n",
      "_________________________________________________________________\n",
      "lstm_1 (LSTM)                (None, 90, 50)            30200     \n",
      "_________________________________________________________________\n",
      "dropout_1 (Dropout)          (None, 90, 50)            0         \n",
      "_________________________________________________________________\n",
      "lstm_2 (LSTM)                (None, 90, 50)            20200     \n",
      "_________________________________________________________________\n",
      "dropout_2 (Dropout)          (None, 90, 50)            0         \n",
      "_________________________________________________________________\n",
      "lstm_3 (LSTM)                (None, 50)                20200     \n",
      "_________________________________________________________________\n",
      "dropout_3 (Dropout)          (None, 50)                0         \n",
      "_________________________________________________________________\n",
      "dense (Dense)                (None, 1)                 51        \n",
      "=================================================================\n",
      "Total params: 111,451\n",
      "Trainable params: 111,451\n",
      "Non-trainable params: 0\n",
      "_________________________________________________________________\n"
     ]
    }
   ],
   "source": [
    "regressor = Sequential()\n",
    "regressor.add(LSTM(units = 100, return_sequences = True, input_shape = (previsores.shape[1], 1)))\n",
    "regressor.add(Dropout(0.3))\n",
    "\n",
    "regressor.add(LSTM(units = 50, return_sequences = True))\n",
    "regressor.add(Dropout(0.3))\n",
    "\n",
    "regressor.add(LSTM(units = 50, return_sequences = True))\n",
    "regressor.add(Dropout(0.3))\n",
    "\n",
    "regressor.add(LSTM(units = 50))\n",
    "regressor.add(Dropout(0.3))\n",
    "\n",
    "regressor.add(Dense(units = 1, activation = 'linear'))\n",
    "\n",
    "regressor.compile(optimizer = 'rmsprop', loss = 'mean_squared_error',\n",
    "                  metrics = ['mean_absolute_error'])\n",
    "regressor.summary()"
   ]
  },
  {
   "cell_type": "code",
   "execution_count": 9,
   "id": "6a2bb156-30a8-4931-8092-497c05ae3f8d",
   "metadata": {
    "scrolled": true,
    "tags": []
   },
   "outputs": [
    {
     "name": "stdout",
     "output_type": "stream",
     "text": [
      "Epoch 1/100\n",
      "36/36 [==============================] - 5s 147ms/step - loss: 0.0357 - mean_absolute_error: 0.1346\n",
      "Epoch 2/100\n",
      "36/36 [==============================] - 5s 143ms/step - loss: 0.0167 - mean_absolute_error: 0.1000\n",
      "Epoch 3/100\n",
      "36/36 [==============================] - 5s 141ms/step - loss: 0.0148 - mean_absolute_error: 0.0954\n",
      "Epoch 4/100\n",
      "36/36 [==============================] - 5s 138ms/step - loss: 0.0117 - mean_absolute_error: 0.0840\n",
      "Epoch 5/100\n",
      "36/36 [==============================] - 5s 140ms/step - loss: 0.0099 - mean_absolute_error: 0.0752\n",
      "Epoch 6/100\n",
      "36/36 [==============================] - 5s 140ms/step - loss: 0.0092 - mean_absolute_error: 0.0723\n",
      "Epoch 7/100\n",
      "36/36 [==============================] - 5s 137ms/step - loss: 0.0087 - mean_absolute_error: 0.0719\n",
      "Epoch 8/100\n",
      "36/36 [==============================] - 5s 137ms/step - loss: 0.0077 - mean_absolute_error: 0.0674\n",
      "Epoch 9/100\n",
      "36/36 [==============================] - 5s 137ms/step - loss: 0.0072 - mean_absolute_error: 0.0648\n",
      "Epoch 10/100\n",
      "36/36 [==============================] - 5s 137ms/step - loss: 0.0069 - mean_absolute_error: 0.0629\n",
      "Epoch 11/100\n",
      "36/36 [==============================] - 5s 136ms/step - loss: 0.0056 - mean_absolute_error: 0.0571\n",
      "Epoch 12/100\n",
      "36/36 [==============================] - 5s 136ms/step - loss: 0.0067 - mean_absolute_error: 0.0624\n",
      "Epoch 13/100\n",
      "36/36 [==============================] - 5s 136ms/step - loss: 0.0055 - mean_absolute_error: 0.0562\n",
      "Epoch 14/100\n",
      "36/36 [==============================] - 5s 136ms/step - loss: 0.0056 - mean_absolute_error: 0.0563\n",
      "Epoch 15/100\n",
      "36/36 [==============================] - 5s 136ms/step - loss: 0.0053 - mean_absolute_error: 0.0566\n",
      "Epoch 16/100\n",
      "36/36 [==============================] - 5s 137ms/step - loss: 0.0054 - mean_absolute_error: 0.0570\n",
      "Epoch 17/100\n",
      "36/36 [==============================] - 5s 138ms/step - loss: 0.0052 - mean_absolute_error: 0.0545\n",
      "Epoch 18/100\n",
      "36/36 [==============================] - 5s 137ms/step - loss: 0.0039 - mean_absolute_error: 0.0476\n",
      "Epoch 19/100\n",
      "36/36 [==============================] - 5s 142ms/step - loss: 0.0041 - mean_absolute_error: 0.0490\n",
      "Epoch 20/100\n",
      "36/36 [==============================] - 5s 141ms/step - loss: 0.0043 - mean_absolute_error: 0.0494\n",
      "Epoch 21/100\n",
      "36/36 [==============================] - 5s 139ms/step - loss: 0.0045 - mean_absolute_error: 0.0502\n",
      "Epoch 22/100\n",
      "36/36 [==============================] - 5s 137ms/step - loss: 0.0041 - mean_absolute_error: 0.0494\n",
      "Epoch 23/100\n",
      "36/36 [==============================] - 5s 137ms/step - loss: 0.0036 - mean_absolute_error: 0.0461\n",
      "Epoch 24/100\n",
      "36/36 [==============================] - 5s 137ms/step - loss: 0.0036 - mean_absolute_error: 0.0458\n",
      "Epoch 25/100\n",
      "36/36 [==============================] - 5s 138ms/step - loss: 0.0035 - mean_absolute_error: 0.0447\n",
      "Epoch 26/100\n",
      "36/36 [==============================] - 5s 140ms/step - loss: 0.0036 - mean_absolute_error: 0.0466\n",
      "Epoch 27/100\n",
      "36/36 [==============================] - 5s 139ms/step - loss: 0.0031 - mean_absolute_error: 0.0424\n",
      "Epoch 28/100\n",
      "36/36 [==============================] - 5s 138ms/step - loss: 0.0033 - mean_absolute_error: 0.0452\n",
      "Epoch 29/100\n",
      "36/36 [==============================] - 5s 139ms/step - loss: 0.0031 - mean_absolute_error: 0.0425\n",
      "Epoch 30/100\n",
      "36/36 [==============================] - 5s 139ms/step - loss: 0.0034 - mean_absolute_error: 0.0441\n",
      "Epoch 31/100\n",
      "36/36 [==============================] - 5s 140ms/step - loss: 0.0030 - mean_absolute_error: 0.0419\n",
      "Epoch 32/100\n",
      "36/36 [==============================] - 5s 139ms/step - loss: 0.0029 - mean_absolute_error: 0.0408\n",
      "Epoch 33/100\n",
      "36/36 [==============================] - 5s 140ms/step - loss: 0.0032 - mean_absolute_error: 0.0428\n",
      "Epoch 34/100\n",
      "36/36 [==============================] - 5s 140ms/step - loss: 0.0032 - mean_absolute_error: 0.0435\n",
      "Epoch 35/100\n",
      "36/36 [==============================] - 5s 139ms/step - loss: 0.0030 - mean_absolute_error: 0.0409\n",
      "Epoch 36/100\n",
      "36/36 [==============================] - 5s 140ms/step - loss: 0.0027 - mean_absolute_error: 0.0395\n",
      "Epoch 37/100\n",
      "36/36 [==============================] - 5s 137ms/step - loss: 0.0029 - mean_absolute_error: 0.0400\n",
      "Epoch 38/100\n",
      "36/36 [==============================] - 5s 137ms/step - loss: 0.0026 - mean_absolute_error: 0.0391\n",
      "Epoch 39/100\n",
      "36/36 [==============================] - 5s 144ms/step - loss: 0.0026 - mean_absolute_error: 0.0392\n",
      "Epoch 40/100\n",
      "36/36 [==============================] - 6s 155ms/step - loss: 0.0027 - mean_absolute_error: 0.0395\n",
      "Epoch 41/100\n",
      "36/36 [==============================] - 5s 144ms/step - loss: 0.0025 - mean_absolute_error: 0.0375\n",
      "Epoch 42/100\n",
      "36/36 [==============================] - 5s 140ms/step - loss: 0.0025 - mean_absolute_error: 0.0378\n",
      "Epoch 43/100\n",
      "36/36 [==============================] - 5s 144ms/step - loss: 0.0025 - mean_absolute_error: 0.0379\n",
      "Epoch 44/100\n",
      "36/36 [==============================] - 5s 135ms/step - loss: 0.0025 - mean_absolute_error: 0.0385\n",
      "Epoch 45/100\n",
      "36/36 [==============================] - 5s 139ms/step - loss: 0.0025 - mean_absolute_error: 0.0385\n",
      "Epoch 46/100\n",
      "36/36 [==============================] - 5s 140ms/step - loss: 0.0025 - mean_absolute_error: 0.0380\n",
      "Epoch 47/100\n",
      "36/36 [==============================] - 5s 136ms/step - loss: 0.0023 - mean_absolute_error: 0.0368\n",
      "Epoch 48/100\n",
      "36/36 [==============================] - 5s 135ms/step - loss: 0.0023 - mean_absolute_error: 0.0370\n",
      "Epoch 49/100\n",
      "36/36 [==============================] - 5s 135ms/step - loss: 0.0021 - mean_absolute_error: 0.0355\n",
      "Epoch 50/100\n",
      "36/36 [==============================] - 5s 138ms/step - loss: 0.0022 - mean_absolute_error: 0.0362\n",
      "Epoch 51/100\n",
      "36/36 [==============================] - 5s 140ms/step - loss: 0.0021 - mean_absolute_error: 0.0349\n",
      "Epoch 52/100\n",
      "36/36 [==============================] - 5s 145ms/step - loss: 0.0023 - mean_absolute_error: 0.0356\n",
      "Epoch 53/100\n",
      "36/36 [==============================] - 5s 136ms/step - loss: 0.0023 - mean_absolute_error: 0.0361\n",
      "Epoch 54/100\n",
      "36/36 [==============================] - 5s 141ms/step - loss: 0.0020 - mean_absolute_error: 0.0341\n",
      "Epoch 55/100\n",
      "36/36 [==============================] - 5s 137ms/step - loss: 0.0020 - mean_absolute_error: 0.0343\n",
      "Epoch 56/100\n",
      "36/36 [==============================] - 5s 143ms/step - loss: 0.0022 - mean_absolute_error: 0.0354\n",
      "Epoch 57/100\n",
      "36/36 [==============================] - 5s 141ms/step - loss: 0.0021 - mean_absolute_error: 0.0341\n",
      "Epoch 58/100\n",
      "36/36 [==============================] - 5s 142ms/step - loss: 0.0020 - mean_absolute_error: 0.0341\n",
      "Epoch 59/100\n",
      "36/36 [==============================] - 5s 147ms/step - loss: 0.0020 - mean_absolute_error: 0.0340\n",
      "Epoch 60/100\n",
      "36/36 [==============================] - 5s 137ms/step - loss: 0.0020 - mean_absolute_error: 0.0338\n",
      "Epoch 61/100\n",
      "36/36 [==============================] - 5s 134ms/step - loss: 0.0019 - mean_absolute_error: 0.0326\n",
      "Epoch 62/100\n",
      "36/36 [==============================] - 5s 135ms/step - loss: 0.0021 - mean_absolute_error: 0.0338\n",
      "Epoch 63/100\n",
      "36/36 [==============================] - 5s 135ms/step - loss: 0.0018 - mean_absolute_error: 0.0318\n",
      "Epoch 64/100\n",
      "36/36 [==============================] - 5s 143ms/step - loss: 0.0019 - mean_absolute_error: 0.0336\n",
      "Epoch 65/100\n",
      "36/36 [==============================] - 5s 137ms/step - loss: 0.0018 - mean_absolute_error: 0.0320\n",
      "Epoch 66/100\n",
      "36/36 [==============================] - 5s 136ms/step - loss: 0.0018 - mean_absolute_error: 0.0324\n",
      "Epoch 67/100\n",
      "36/36 [==============================] - 5s 147ms/step - loss: 0.0019 - mean_absolute_error: 0.0330\n",
      "Epoch 68/100\n",
      "36/36 [==============================] - 5s 145ms/step - loss: 0.0018 - mean_absolute_error: 0.0327\n",
      "Epoch 69/100\n",
      "36/36 [==============================] - 5s 143ms/step - loss: 0.0017 - mean_absolute_error: 0.0317\n",
      "Epoch 70/100\n",
      "36/36 [==============================] - 5s 137ms/step - loss: 0.0020 - mean_absolute_error: 0.0337\n",
      "Epoch 71/100\n",
      "36/36 [==============================] - 5s 136ms/step - loss: 0.0020 - mean_absolute_error: 0.0327\n",
      "Epoch 72/100\n",
      "36/36 [==============================] - 5s 136ms/step - loss: 0.0018 - mean_absolute_error: 0.0317\n",
      "Epoch 73/100\n",
      "36/36 [==============================] - 5s 140ms/step - loss: 0.0018 - mean_absolute_error: 0.0319\n",
      "Epoch 74/100\n",
      "36/36 [==============================] - 5s 142ms/step - loss: 0.0017 - mean_absolute_error: 0.0317\n",
      "Epoch 75/100\n",
      "36/36 [==============================] - 5s 142ms/step - loss: 0.0018 - mean_absolute_error: 0.0318\n",
      "Epoch 76/100\n",
      "36/36 [==============================] - 5s 137ms/step - loss: 0.0017 - mean_absolute_error: 0.0312\n",
      "Epoch 77/100\n",
      "36/36 [==============================] - 5s 136ms/step - loss: 0.0016 - mean_absolute_error: 0.0298\n",
      "Epoch 78/100\n",
      "36/36 [==============================] - 5s 136ms/step - loss: 0.0018 - mean_absolute_error: 0.0320\n",
      "Epoch 79/100\n",
      "36/36 [==============================] - 5s 136ms/step - loss: 0.0016 - mean_absolute_error: 0.0309\n",
      "Epoch 80/100\n",
      "36/36 [==============================] - 5s 137ms/step - loss: 0.0016 - mean_absolute_error: 0.0299\n",
      "Epoch 81/100\n",
      "36/36 [==============================] - 5s 135ms/step - loss: 0.0017 - mean_absolute_error: 0.0305\n",
      "Epoch 82/100\n",
      "36/36 [==============================] - 5s 137ms/step - loss: 0.0016 - mean_absolute_error: 0.0301\n",
      "Epoch 83/100\n",
      "36/36 [==============================] - 5s 135ms/step - loss: 0.0015 - mean_absolute_error: 0.0293\n",
      "Epoch 84/100\n",
      "36/36 [==============================] - 5s 135ms/step - loss: 0.0017 - mean_absolute_error: 0.0312\n",
      "Epoch 85/100\n",
      "36/36 [==============================] - 5s 135ms/step - loss: 0.0017 - mean_absolute_error: 0.0305\n",
      "Epoch 86/100\n",
      "36/36 [==============================] - 5s 136ms/step - loss: 0.0018 - mean_absolute_error: 0.0315\n",
      "Epoch 87/100\n",
      "36/36 [==============================] - 5s 144ms/step - loss: 0.0015 - mean_absolute_error: 0.0284\n",
      "Epoch 88/100\n",
      "36/36 [==============================] - 5s 141ms/step - loss: 0.0017 - mean_absolute_error: 0.0305\n",
      "Epoch 89/100\n",
      "36/36 [==============================] - 5s 143ms/step - loss: 0.0015 - mean_absolute_error: 0.0296\n",
      "Epoch 90/100\n",
      "36/36 [==============================] - 5s 143ms/step - loss: 0.0016 - mean_absolute_error: 0.0299\n",
      "Epoch 91/100\n",
      "36/36 [==============================] - 5s 140ms/step - loss: 0.0016 - mean_absolute_error: 0.0307\n",
      "Epoch 92/100\n",
      "36/36 [==============================] - 5s 141ms/step - loss: 0.0015 - mean_absolute_error: 0.0291\n",
      "Epoch 93/100\n",
      "36/36 [==============================] - 5s 146ms/step - loss: 0.0015 - mean_absolute_error: 0.0287\n",
      "Epoch 94/100\n",
      "36/36 [==============================] - 5s 143ms/step - loss: 0.0015 - mean_absolute_error: 0.0291\n",
      "Epoch 95/100\n",
      "36/36 [==============================] - 5s 140ms/step - loss: 0.0015 - mean_absolute_error: 0.0293\n",
      "Epoch 96/100\n",
      "36/36 [==============================] - 5s 138ms/step - loss: 0.0017 - mean_absolute_error: 0.0304\n",
      "Epoch 97/100\n",
      "36/36 [==============================] - 5s 138ms/step - loss: 0.0016 - mean_absolute_error: 0.0297\n",
      "Epoch 98/100\n",
      "36/36 [==============================] - 5s 139ms/step - loss: 0.0015 - mean_absolute_error: 0.0287\n",
      "Epoch 99/100\n",
      "36/36 [==============================] - 5s 146ms/step - loss: 0.0018 - mean_absolute_error: 0.0312\n",
      "Epoch 100/100\n",
      "36/36 [==============================] - 5s 137ms/step - loss: 0.0014 - mean_absolute_error: 0.0282\n"
     ]
    },
    {
     "data": {
      "text/plain": [
       "<tensorflow.python.keras.callbacks.History at 0x2543f29f880>"
      ]
     },
     "execution_count": 9,
     "metadata": {},
     "output_type": "execute_result"
    }
   ],
   "source": [
    "regressor.fit(previsores, preco_real, epochs = 100, batch_size = 32)"
   ]
  },
  {
   "cell_type": "code",
   "execution_count": 10,
   "id": "a63c1b44-1556-4622-b048-7da39134bd8c",
   "metadata": {},
   "outputs": [
    {
     "data": {
      "text/html": [
       "<div>\n",
       "<style scoped>\n",
       "    .dataframe tbody tr th:only-of-type {\n",
       "        vertical-align: middle;\n",
       "    }\n",
       "\n",
       "    .dataframe tbody tr th {\n",
       "        vertical-align: top;\n",
       "    }\n",
       "\n",
       "    .dataframe thead th {\n",
       "        text-align: right;\n",
       "    }\n",
       "</style>\n",
       "<table border=\"1\" class=\"dataframe\">\n",
       "  <thead>\n",
       "    <tr style=\"text-align: right;\">\n",
       "      <th></th>\n",
       "      <th>Date</th>\n",
       "      <th>Open</th>\n",
       "      <th>High</th>\n",
       "      <th>Low</th>\n",
       "      <th>Close</th>\n",
       "      <th>Adj Close</th>\n",
       "      <th>Volume</th>\n",
       "    </tr>\n",
       "  </thead>\n",
       "  <tbody>\n",
       "    <tr>\n",
       "      <th>0</th>\n",
       "      <td>2018-01-02</td>\n",
       "      <td>16.190001</td>\n",
       "      <td>16.549999</td>\n",
       "      <td>16.190001</td>\n",
       "      <td>16.549999</td>\n",
       "      <td>16.516966</td>\n",
       "      <td>33461800</td>\n",
       "    </tr>\n",
       "    <tr>\n",
       "      <th>1</th>\n",
       "      <td>2018-01-03</td>\n",
       "      <td>16.490000</td>\n",
       "      <td>16.719999</td>\n",
       "      <td>16.370001</td>\n",
       "      <td>16.700001</td>\n",
       "      <td>16.666668</td>\n",
       "      <td>55940900</td>\n",
       "    </tr>\n",
       "    <tr>\n",
       "      <th>2</th>\n",
       "      <td>2018-01-04</td>\n",
       "      <td>16.780001</td>\n",
       "      <td>16.959999</td>\n",
       "      <td>16.620001</td>\n",
       "      <td>16.730000</td>\n",
       "      <td>16.696608</td>\n",
       "      <td>37064900</td>\n",
       "    </tr>\n",
       "  </tbody>\n",
       "</table>\n",
       "</div>"
      ],
      "text/plain": [
       "         Date       Open       High        Low      Close  Adj Close    Volume\n",
       "0  2018-01-02  16.190001  16.549999  16.190001  16.549999  16.516966  33461800\n",
       "1  2018-01-03  16.490000  16.719999  16.370001  16.700001  16.666668  55940900\n",
       "2  2018-01-04  16.780001  16.959999  16.620001  16.730000  16.696608  37064900"
      ]
     },
     "execution_count": 10,
     "metadata": {},
     "output_type": "execute_result"
    }
   ],
   "source": [
    "base_teste = pd.read_csv('petr4_teste.csv')\n",
    "base_teste.head(3)"
   ]
  },
  {
   "cell_type": "code",
   "execution_count": 12,
   "id": "16fbc629-669c-415e-ab0b-4950a3810333",
   "metadata": {},
   "outputs": [
    {
     "data": {
      "text/html": [
       "<div>\n",
       "<style scoped>\n",
       "    .dataframe tbody tr th:only-of-type {\n",
       "        vertical-align: middle;\n",
       "    }\n",
       "\n",
       "    .dataframe tbody tr th {\n",
       "        vertical-align: top;\n",
       "    }\n",
       "\n",
       "    .dataframe thead th {\n",
       "        text-align: right;\n",
       "    }\n",
       "</style>\n",
       "<table border=\"1\" class=\"dataframe\">\n",
       "  <thead>\n",
       "    <tr style=\"text-align: right;\">\n",
       "      <th></th>\n",
       "      <th>Date</th>\n",
       "      <th>Open</th>\n",
       "      <th>High</th>\n",
       "      <th>Low</th>\n",
       "      <th>Close</th>\n",
       "      <th>Adj Close</th>\n",
       "      <th>Volume</th>\n",
       "    </tr>\n",
       "  </thead>\n",
       "  <tbody>\n",
       "    <tr>\n",
       "      <th>19</th>\n",
       "      <td>2018-01-29</td>\n",
       "      <td>19.67</td>\n",
       "      <td>20.049999</td>\n",
       "      <td>19.570000</td>\n",
       "      <td>19.850000</td>\n",
       "      <td>19.810381</td>\n",
       "      <td>55726200</td>\n",
       "    </tr>\n",
       "    <tr>\n",
       "      <th>20</th>\n",
       "      <td>2018-01-30</td>\n",
       "      <td>19.77</td>\n",
       "      <td>19.770000</td>\n",
       "      <td>19.360001</td>\n",
       "      <td>19.490000</td>\n",
       "      <td>19.451097</td>\n",
       "      <td>46203000</td>\n",
       "    </tr>\n",
       "    <tr>\n",
       "      <th>21</th>\n",
       "      <td>2018-01-31</td>\n",
       "      <td>19.74</td>\n",
       "      <td>19.930000</td>\n",
       "      <td>19.680000</td>\n",
       "      <td>19.700001</td>\n",
       "      <td>19.660681</td>\n",
       "      <td>41576600</td>\n",
       "    </tr>\n",
       "  </tbody>\n",
       "</table>\n",
       "</div>"
      ],
      "text/plain": [
       "          Date   Open       High        Low      Close  Adj Close    Volume\n",
       "19  2018-01-29  19.67  20.049999  19.570000  19.850000  19.810381  55726200\n",
       "20  2018-01-30  19.77  19.770000  19.360001  19.490000  19.451097  46203000\n",
       "21  2018-01-31  19.74  19.930000  19.680000  19.700001  19.660681  41576600"
      ]
     },
     "execution_count": 12,
     "metadata": {},
     "output_type": "execute_result"
    }
   ],
   "source": [
    "base_teste.tail(3)"
   ]
  },
  {
   "cell_type": "code",
   "execution_count": 24,
   "id": "96ec1f5f-4ae5-4385-b41a-2191344505c9",
   "metadata": {},
   "outputs": [
    {
     "data": {
      "text/plain": [
       "(22, 7)"
      ]
     },
     "execution_count": 24,
     "metadata": {},
     "output_type": "execute_result"
    }
   ],
   "source": [
    "base_teste.shape"
   ]
  },
  {
   "cell_type": "code",
   "execution_count": 11,
   "id": "80d9c81e-eff5-439d-a3d5-97726675bf03",
   "metadata": {},
   "outputs": [],
   "source": [
    "preco_real_teste = base_teste.iloc[:, 1:2].values"
   ]
  },
  {
   "cell_type": "code",
   "execution_count": 16,
   "id": "a599ff86-6a93-4a5d-a9b4-7fa0f6467791",
   "metadata": {},
   "outputs": [
    {
     "data": {
      "text/html": [
       "<div>\n",
       "<style scoped>\n",
       "    .dataframe tbody tr th:only-of-type {\n",
       "        vertical-align: middle;\n",
       "    }\n",
       "\n",
       "    .dataframe tbody tr th {\n",
       "        vertical-align: top;\n",
       "    }\n",
       "\n",
       "    .dataframe thead th {\n",
       "        text-align: right;\n",
       "    }\n",
       "</style>\n",
       "<table border=\"1\" class=\"dataframe\">\n",
       "  <thead>\n",
       "    <tr style=\"text-align: right;\">\n",
       "      <th></th>\n",
       "      <th>Date</th>\n",
       "      <th>Open</th>\n",
       "      <th>High</th>\n",
       "      <th>Low</th>\n",
       "      <th>Close</th>\n",
       "      <th>Adj Close</th>\n",
       "      <th>Volume</th>\n",
       "    </tr>\n",
       "  </thead>\n",
       "  <tbody>\n",
       "    <tr>\n",
       "      <th>0</th>\n",
       "      <td>2013-01-02</td>\n",
       "      <td>19.990000</td>\n",
       "      <td>20.209999</td>\n",
       "      <td>19.690001</td>\n",
       "      <td>19.690001</td>\n",
       "      <td>18.086271</td>\n",
       "      <td>30182600.0</td>\n",
       "    </tr>\n",
       "    <tr>\n",
       "      <th>1</th>\n",
       "      <td>2013-01-03</td>\n",
       "      <td>19.809999</td>\n",
       "      <td>20.400000</td>\n",
       "      <td>19.700001</td>\n",
       "      <td>20.400000</td>\n",
       "      <td>18.738441</td>\n",
       "      <td>30552600.0</td>\n",
       "    </tr>\n",
       "    <tr>\n",
       "      <th>2</th>\n",
       "      <td>2013-01-04</td>\n",
       "      <td>20.330000</td>\n",
       "      <td>20.620001</td>\n",
       "      <td>20.170000</td>\n",
       "      <td>20.430000</td>\n",
       "      <td>18.766001</td>\n",
       "      <td>36141000.0</td>\n",
       "    </tr>\n",
       "  </tbody>\n",
       "</table>\n",
       "</div>"
      ],
      "text/plain": [
       "         Date       Open       High        Low      Close  Adj Close  \\\n",
       "0  2013-01-02  19.990000  20.209999  19.690001  19.690001  18.086271   \n",
       "1  2013-01-03  19.809999  20.400000  19.700001  20.400000  18.738441   \n",
       "2  2013-01-04  20.330000  20.620001  20.170000  20.430000  18.766001   \n",
       "\n",
       "       Volume  \n",
       "0  30182600.0  \n",
       "1  30552600.0  \n",
       "2  36141000.0  "
      ]
     },
     "execution_count": 16,
     "metadata": {},
     "output_type": "execute_result"
    }
   ],
   "source": [
    "base.head(3)"
   ]
  },
  {
   "cell_type": "code",
   "execution_count": 14,
   "id": "61eeb2fe-61d1-4a5b-bd53-318f548ac307",
   "metadata": {},
   "outputs": [
    {
     "data": {
      "text/plain": [
       "0    19.990000\n",
       "1    19.809999\n",
       "2    20.330000\n",
       "Name: Open, dtype: float64"
      ]
     },
     "execution_count": 14,
     "metadata": {},
     "output_type": "execute_result"
    }
   ],
   "source": [
    "base_completa = pd.concat((base['Open'], base_teste['Open']), axis = 0)\n",
    "base_completa.head(3)"
   ]
  },
  {
   "cell_type": "code",
   "execution_count": 15,
   "id": "718598d4-018e-477d-ac9b-ab17bb89f844",
   "metadata": {},
   "outputs": [
    {
     "data": {
      "text/plain": [
       "19    19.67\n",
       "20    19.77\n",
       "21    19.74\n",
       "Name: Open, dtype: float64"
      ]
     },
     "execution_count": 15,
     "metadata": {},
     "output_type": "execute_result"
    }
   ],
   "source": [
    "base_completa.tail(3)"
   ]
  },
  {
   "cell_type": "code",
   "execution_count": 17,
   "id": "923aef31-49c4-48ef-97ac-77fbc273b67e",
   "metadata": {},
   "outputs": [],
   "source": [
    "entradas = base_completa[len(base_completa) - len(base_teste) - 90:].values\n",
    "entradas = entradas.reshape(-1, 1)\n",
    "entradas = normalizador.transform(entradas)"
   ]
  },
  {
   "cell_type": "code",
   "execution_count": 18,
   "id": "8459359c-5115-408a-a9c2-4f44085cb64d",
   "metadata": {},
   "outputs": [
    {
     "data": {
      "text/plain": [
       "(112, 1)"
      ]
     },
     "execution_count": 18,
     "metadata": {},
     "output_type": "execute_result"
    }
   ],
   "source": [
    "entradas.shape"
   ]
  },
  {
   "cell_type": "code",
   "execution_count": 19,
   "id": "1dcc3c16-ee3c-41dd-9538-7151e111d217",
   "metadata": {},
   "outputs": [
    {
     "data": {
      "text/plain": [
       "(22, 90)"
      ]
     },
     "execution_count": 19,
     "metadata": {},
     "output_type": "execute_result"
    }
   ],
   "source": [
    "X_teste = []\n",
    "for i in range(90, 112):\n",
    "    X_teste.append(entradas[i-90:i, 0])\n",
    "X_teste = np.array(X_teste)\n",
    "X_teste.shape"
   ]
  },
  {
   "cell_type": "code",
   "execution_count": 20,
   "id": "5645beee-9bab-4fa4-8468-0bd6bf98c4b3",
   "metadata": {},
   "outputs": [
    {
     "data": {
      "text/plain": [
       "(22, 90, 1)"
      ]
     },
     "execution_count": 20,
     "metadata": {},
     "output_type": "execute_result"
    }
   ],
   "source": [
    "X_teste = np.reshape(X_teste, (X_teste.shape[0], X_teste.shape[1], 1))\n",
    "X_teste.shape"
   ]
  },
  {
   "cell_type": "code",
   "execution_count": 21,
   "id": "e385acc1-f1e4-4f73-8327-c10008abf0e8",
   "metadata": {},
   "outputs": [
    {
     "data": {
      "text/plain": [
       "(22, 1)"
      ]
     },
     "execution_count": 21,
     "metadata": {},
     "output_type": "execute_result"
    }
   ],
   "source": [
    "previsoes = regressor.predict(X_teste)\n",
    "previsoes.shape"
   ]
  },
  {
   "cell_type": "code",
   "execution_count": 22,
   "id": "d1a80dba-6b6d-4a6a-a7fd-858ab6aa47ef",
   "metadata": {},
   "outputs": [],
   "source": [
    "previsoes = normalizador.inverse_transform(previsoes)"
   ]
  },
  {
   "cell_type": "code",
   "execution_count": 23,
   "id": "a068630f-2a5c-47c0-ab3f-0e3b17ec4903",
   "metadata": {},
   "outputs": [
    {
     "name": "stdout",
     "output_type": "stream",
     "text": [
      "17.121475\n",
      "17.87454563636364\n"
     ]
    }
   ],
   "source": [
    "print(previsoes.mean())\n",
    "print(preco_real_teste.mean())"
   ]
  },
  {
   "cell_type": "code",
   "execution_count": 25,
   "id": "51041b03-9fea-4f2b-befc-1de981294d9a",
   "metadata": {},
   "outputs": [
    {
     "data": {
      "image/png": "[encoded data removed]",
      "text/plain": [
       "<Figure size 432x288 with 1 Axes>"
      ]
     },
     "metadata": {
      "needs_background": "light"
     },
     "output_type": "display_data"
    }
   ],
   "source": [
    "plt.plot(preco_real_teste, color = 'red', label = 'Preço real')\n",
    "plt.plot(previsoes, color = 'blue', label = 'Previsões')\n",
    "plt.title('Previsão preço das ações')\n",
    "plt.xlabel('Tempo')\n",
    "plt.ylabel('Valor Yahoo')\n",
    "plt.legend()\n",
    "plt.show()"
   ]
  }
 ],
 "metadata": {
  "kernelspec": {
   "display_name": "data_1",
   "language": "python",
   "name": "data_1"
  },
  "language_info": {
   "codemirror_mode": {
    "name": "ipython",
    "version": 3
   },
   "file_extension": ".py",
   "mimetype": "text/x-python",
   "name": "python",
   "nbconvert_exporter": "python",
   "pygments_lexer": "ipython3",
   "version": "3.8.10"
  }
 },
 "nbformat": 4,
 "nbformat_minor": 5
}
