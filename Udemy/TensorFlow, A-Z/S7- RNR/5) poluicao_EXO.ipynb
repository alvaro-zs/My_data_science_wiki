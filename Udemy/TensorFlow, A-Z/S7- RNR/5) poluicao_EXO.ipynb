{
 "cells": [
  {
   "cell_type": "code",
   "execution_count": 5,
   "id": "71e89422-208e-44cc-916c-14011d7b0eb7",
   "metadata": {},
   "outputs": [],
   "source": [
    "from keras.models import Sequential\n",
    "from keras.layers import Dense, Dropout, LSTM\n",
    "from sklearn.preprocessing import MinMaxScaler\n",
    "import numpy as np\n",
    "import pandas as pd\n",
    "import matplotlib.pyplot as plt"
   ]
  },
  {
   "cell_type": "code",
   "execution_count": 6,
   "id": "2566699f-d86b-4044-95fb-2b3f3942e544",
   "metadata": {},
   "outputs": [
    {
     "data": {
      "text/html": [
       "<div>\n",
       "<style scoped>\n",
       "    .dataframe tbody tr th:only-of-type {\n",
       "        vertical-align: middle;\n",
       "    }\n",
       "\n",
       "    .dataframe tbody tr th {\n",
       "        vertical-align: top;\n",
       "    }\n",
       "\n",
       "    .dataframe thead th {\n",
       "        text-align: right;\n",
       "    }\n",
       "</style>\n",
       "<table border=\"1\" class=\"dataframe\">\n",
       "  <thead>\n",
       "    <tr style=\"text-align: right;\">\n",
       "      <th></th>\n",
       "      <th>No</th>\n",
       "      <th>year</th>\n",
       "      <th>month</th>\n",
       "      <th>day</th>\n",
       "      <th>hour</th>\n",
       "      <th>pm2.5</th>\n",
       "      <th>DEWP</th>\n",
       "      <th>TEMP</th>\n",
       "      <th>PRES</th>\n",
       "      <th>cbwd</th>\n",
       "      <th>Iws</th>\n",
       "      <th>Is</th>\n",
       "      <th>Ir</th>\n",
       "    </tr>\n",
       "  </thead>\n",
       "  <tbody>\n",
       "    <tr>\n",
       "      <th>24</th>\n",
       "      <td>25</td>\n",
       "      <td>2010</td>\n",
       "      <td>1</td>\n",
       "      <td>2</td>\n",
       "      <td>0</td>\n",
       "      <td>129.0</td>\n",
       "      <td>-16</td>\n",
       "      <td>-4.0</td>\n",
       "      <td>1020.0</td>\n",
       "      <td>SE</td>\n",
       "      <td>1.79</td>\n",
       "      <td>0</td>\n",
       "      <td>0</td>\n",
       "    </tr>\n",
       "    <tr>\n",
       "      <th>25</th>\n",
       "      <td>26</td>\n",
       "      <td>2010</td>\n",
       "      <td>1</td>\n",
       "      <td>2</td>\n",
       "      <td>1</td>\n",
       "      <td>148.0</td>\n",
       "      <td>-15</td>\n",
       "      <td>-4.0</td>\n",
       "      <td>1020.0</td>\n",
       "      <td>SE</td>\n",
       "      <td>2.68</td>\n",
       "      <td>0</td>\n",
       "      <td>0</td>\n",
       "    </tr>\n",
       "    <tr>\n",
       "      <th>26</th>\n",
       "      <td>27</td>\n",
       "      <td>2010</td>\n",
       "      <td>1</td>\n",
       "      <td>2</td>\n",
       "      <td>2</td>\n",
       "      <td>159.0</td>\n",
       "      <td>-11</td>\n",
       "      <td>-5.0</td>\n",
       "      <td>1021.0</td>\n",
       "      <td>SE</td>\n",
       "      <td>3.57</td>\n",
       "      <td>0</td>\n",
       "      <td>0</td>\n",
       "    </tr>\n",
       "  </tbody>\n",
       "</table>\n",
       "</div>"
      ],
      "text/plain": [
       "    No  year  month  day  hour  pm2.5  DEWP  TEMP    PRES cbwd   Iws  Is  Ir\n",
       "24  25  2010      1    2     0  129.0   -16  -4.0  1020.0   SE  1.79   0   0\n",
       "25  26  2010      1    2     1  148.0   -15  -4.0  1020.0   SE  2.68   0   0\n",
       "26  27  2010      1    2     2  159.0   -11  -5.0  1021.0   SE  3.57   0   0"
      ]
     },
     "execution_count": 6,
     "metadata": {},
     "output_type": "execute_result"
    }
   ],
   "source": [
    "base = pd.read_csv('poluicao.csv')\n",
    "base = base.dropna()\n",
    "base.head(3)"
   ]
  },
  {
   "cell_type": "code",
   "execution_count": 7,
   "id": "6365160c-d921-4348-a219-da1e39e026db",
   "metadata": {},
   "outputs": [
    {
     "data": {
      "text/html": [
       "<div>\n",
       "<style scoped>\n",
       "    .dataframe tbody tr th:only-of-type {\n",
       "        vertical-align: middle;\n",
       "    }\n",
       "\n",
       "    .dataframe tbody tr th {\n",
       "        vertical-align: top;\n",
       "    }\n",
       "\n",
       "    .dataframe thead th {\n",
       "        text-align: right;\n",
       "    }\n",
       "</style>\n",
       "<table border=\"1\" class=\"dataframe\">\n",
       "  <thead>\n",
       "    <tr style=\"text-align: right;\">\n",
       "      <th></th>\n",
       "      <th>No</th>\n",
       "      <th>year</th>\n",
       "      <th>month</th>\n",
       "      <th>day</th>\n",
       "      <th>hour</th>\n",
       "      <th>pm2.5</th>\n",
       "      <th>DEWP</th>\n",
       "      <th>TEMP</th>\n",
       "      <th>PRES</th>\n",
       "      <th>cbwd</th>\n",
       "      <th>Iws</th>\n",
       "      <th>Is</th>\n",
       "      <th>Ir</th>\n",
       "    </tr>\n",
       "  </thead>\n",
       "  <tbody>\n",
       "    <tr>\n",
       "      <th>43821</th>\n",
       "      <td>43822</td>\n",
       "      <td>2014</td>\n",
       "      <td>12</td>\n",
       "      <td>31</td>\n",
       "      <td>21</td>\n",
       "      <td>10.0</td>\n",
       "      <td>-22</td>\n",
       "      <td>-3.0</td>\n",
       "      <td>1034.0</td>\n",
       "      <td>NW</td>\n",
       "      <td>242.70</td>\n",
       "      <td>0</td>\n",
       "      <td>0</td>\n",
       "    </tr>\n",
       "    <tr>\n",
       "      <th>43822</th>\n",
       "      <td>43823</td>\n",
       "      <td>2014</td>\n",
       "      <td>12</td>\n",
       "      <td>31</td>\n",
       "      <td>22</td>\n",
       "      <td>8.0</td>\n",
       "      <td>-22</td>\n",
       "      <td>-4.0</td>\n",
       "      <td>1034.0</td>\n",
       "      <td>NW</td>\n",
       "      <td>246.72</td>\n",
       "      <td>0</td>\n",
       "      <td>0</td>\n",
       "    </tr>\n",
       "    <tr>\n",
       "      <th>43823</th>\n",
       "      <td>43824</td>\n",
       "      <td>2014</td>\n",
       "      <td>12</td>\n",
       "      <td>31</td>\n",
       "      <td>23</td>\n",
       "      <td>12.0</td>\n",
       "      <td>-21</td>\n",
       "      <td>-3.0</td>\n",
       "      <td>1034.0</td>\n",
       "      <td>NW</td>\n",
       "      <td>249.85</td>\n",
       "      <td>0</td>\n",
       "      <td>0</td>\n",
       "    </tr>\n",
       "  </tbody>\n",
       "</table>\n",
       "</div>"
      ],
      "text/plain": [
       "          No  year  month  day  hour  pm2.5  DEWP  TEMP    PRES cbwd     Iws  \\\n",
       "43821  43822  2014     12   31    21   10.0   -22  -3.0  1034.0   NW  242.70   \n",
       "43822  43823  2014     12   31    22    8.0   -22  -4.0  1034.0   NW  246.72   \n",
       "43823  43824  2014     12   31    23   12.0   -21  -3.0  1034.0   NW  249.85   \n",
       "\n",
       "       Is  Ir  \n",
       "43821   0   0  \n",
       "43822   0   0  \n",
       "43823   0   0  "
      ]
     },
     "execution_count": 7,
     "metadata": {},
     "output_type": "execute_result"
    }
   ],
   "source": [
    "base.tail(3)"
   ]
  },
  {
   "cell_type": "code",
   "execution_count": 10,
   "id": "679eff50-5493-45d3-94f8-2a2bf419d4f1",
   "metadata": {},
   "outputs": [],
   "source": [
    "columns = ['No', 'year', 'month', 'day', 'hour', 'cbwd']\n",
    "base = base.drop(columns, 1)"
   ]
  },
  {
   "cell_type": "code",
   "execution_count": 11,
   "id": "cc27212f-3da2-4f1d-9d29-d1561c1cc3c3",
   "metadata": {},
   "outputs": [
    {
     "data": {
      "text/plain": [
       "[<matplotlib.lines.Line2D at 0x21c271f1730>]"
      ]
     },
     "execution_count": 11,
     "metadata": {},
     "output_type": "execute_result"
    },
    {
     "data": {
      "image/png": "[encoded data removed]",
      "text/plain": [
       "<Figure size 432x288 with 1 Axes>"
      ]
     },
     "metadata": {
      "needs_background": "light"
     },
     "output_type": "display_data"
    }
   ],
   "source": [
    "plt.plot(base['pm2.5'])"
   ]
  },
  {
   "cell_type": "code",
   "execution_count": 14,
   "id": "e6887e77-a70c-4f55-a030-85d8137eff1c",
   "metadata": {},
   "outputs": [
    {
     "data": {
      "text/html": [
       "<div>\n",
       "<style scoped>\n",
       "    .dataframe tbody tr th:only-of-type {\n",
       "        vertical-align: middle;\n",
       "    }\n",
       "\n",
       "    .dataframe tbody tr th {\n",
       "        vertical-align: top;\n",
       "    }\n",
       "\n",
       "    .dataframe thead th {\n",
       "        text-align: right;\n",
       "    }\n",
       "</style>\n",
       "<table border=\"1\" class=\"dataframe\">\n",
       "  <thead>\n",
       "    <tr style=\"text-align: right;\">\n",
       "      <th></th>\n",
       "      <th>pm2.5</th>\n",
       "      <th>DEWP</th>\n",
       "      <th>TEMP</th>\n",
       "      <th>PRES</th>\n",
       "      <th>Iws</th>\n",
       "      <th>Is</th>\n",
       "      <th>Ir</th>\n",
       "    </tr>\n",
       "  </thead>\n",
       "  <tbody>\n",
       "    <tr>\n",
       "      <th>0</th>\n",
       "      <td>129.0</td>\n",
       "      <td>-16</td>\n",
       "      <td>-4.0</td>\n",
       "      <td>1020.0</td>\n",
       "      <td>1.79</td>\n",
       "      <td>0</td>\n",
       "      <td>0</td>\n",
       "    </tr>\n",
       "    <tr>\n",
       "      <th>1</th>\n",
       "      <td>148.0</td>\n",
       "      <td>-15</td>\n",
       "      <td>-4.0</td>\n",
       "      <td>1020.0</td>\n",
       "      <td>2.68</td>\n",
       "      <td>0</td>\n",
       "      <td>0</td>\n",
       "    </tr>\n",
       "    <tr>\n",
       "      <th>2</th>\n",
       "      <td>159.0</td>\n",
       "      <td>-11</td>\n",
       "      <td>-5.0</td>\n",
       "      <td>1021.0</td>\n",
       "      <td>3.57</td>\n",
       "      <td>0</td>\n",
       "      <td>0</td>\n",
       "    </tr>\n",
       "    <tr>\n",
       "      <th>3</th>\n",
       "      <td>181.0</td>\n",
       "      <td>-7</td>\n",
       "      <td>-5.0</td>\n",
       "      <td>1022.0</td>\n",
       "      <td>5.36</td>\n",
       "      <td>1</td>\n",
       "      <td>0</td>\n",
       "    </tr>\n",
       "    <tr>\n",
       "      <th>4</th>\n",
       "      <td>138.0</td>\n",
       "      <td>-7</td>\n",
       "      <td>-5.0</td>\n",
       "      <td>1022.0</td>\n",
       "      <td>6.25</td>\n",
       "      <td>2</td>\n",
       "      <td>0</td>\n",
       "    </tr>\n",
       "  </tbody>\n",
       "</table>\n",
       "</div>"
      ],
      "text/plain": [
       "   pm2.5  DEWP  TEMP    PRES   Iws  Is  Ir\n",
       "0  129.0   -16  -4.0  1020.0  1.79   0   0\n",
       "1  148.0   -15  -4.0  1020.0  2.68   0   0\n",
       "2  159.0   -11  -5.0  1021.0  3.57   0   0\n",
       "3  181.0    -7  -5.0  1022.0  5.36   1   0\n",
       "4  138.0    -7  -5.0  1022.0  6.25   2   0"
      ]
     },
     "execution_count": 14,
     "metadata": {},
     "output_type": "execute_result"
    }
   ],
   "source": [
    "base = base.dropna().reset_index(drop=True)\n",
    "base.head()"
   ]
  },
  {
   "cell_type": "code",
   "execution_count": 15,
   "id": "972c2242-98db-4d33-a980-31dab2e6f440",
   "metadata": {},
   "outputs": [
    {
     "data": {
      "text/plain": [
       "(41757, 7)"
      ]
     },
     "execution_count": 15,
     "metadata": {},
     "output_type": "execute_result"
    }
   ],
   "source": [
    "base.shape"
   ]
  },
  {
   "cell_type": "code",
   "execution_count": 17,
   "id": "09cf7993-031b-47a1-af26-3875a02ee016",
   "metadata": {},
   "outputs": [
    {
     "data": {
      "text/plain": [
       "33406"
      ]
     },
     "execution_count": 17,
     "metadata": {},
     "output_type": "execute_result"
    }
   ],
   "source": [
    "import math\n",
    "index_test = math.ceil(41757*0.8)\n",
    "index_test"
   ]
  },
  {
   "cell_type": "code",
   "execution_count": 18,
   "id": "d9793fa4-4fc8-4c27-84cc-5e35afe37953",
   "metadata": {},
   "outputs": [],
   "source": [
    "base_treinamento = base.iloc[:index_test, 0:7].values"
   ]
  },
  {
   "cell_type": "code",
   "execution_count": 19,
   "id": "5f429cd0-c1e9-4c9c-974f-d79b3f992c52",
   "metadata": {},
   "outputs": [],
   "source": [
    "normalizador = MinMaxScaler(feature_range=(0,1))\n",
    "base_treinamento_normalizada = normalizador.fit_transform(base_treinamento)"
   ]
  },
  {
   "cell_type": "code",
   "execution_count": 32,
   "id": "e2ef699c-bf1d-40fd-99fa-d205ac951985",
   "metadata": {},
   "outputs": [
    {
     "data": {
      "text/plain": [
       "array([[0.12977867],\n",
       "       [0.14889336],\n",
       "       [0.15995976],\n",
       "       ...,\n",
       "       [0.25150905],\n",
       "       [0.15995976],\n",
       "       [0.12474849]])"
      ]
     },
     "execution_count": 32,
     "metadata": {},
     "output_type": "execute_result"
    }
   ],
   "source": [
    "normalizador_previsao = MinMaxScaler(feature_range=(0,1))\n",
    "normalizador_previsao.fit_transform(base_treinamento[:,0:1])"
   ]
  },
  {
   "cell_type": "code",
   "execution_count": 20,
   "id": "907ee65d-a4ef-4587-adea-56d07469eb68",
   "metadata": {},
   "outputs": [
    {
     "data": {
      "text/plain": [
       "(33406, 7)"
      ]
     },
     "execution_count": 20,
     "metadata": {},
     "output_type": "execute_result"
    }
   ],
   "source": [
    "base_treinamento_normalizada.shape"
   ]
  },
  {
   "cell_type": "code",
   "execution_count": 22,
   "id": "57d84339-e293-4bbb-a6a2-07bf0134be65",
   "metadata": {},
   "outputs": [],
   "source": [
    "timesteps = 10"
   ]
  },
  {
   "cell_type": "code",
   "execution_count": 23,
   "id": "494199ce-e7a5-4259-8489-ce3b179b759d",
   "metadata": {},
   "outputs": [
    {
     "data": {
      "text/plain": [
       "(33396, 10, 7)"
      ]
     },
     "execution_count": 23,
     "metadata": {},
     "output_type": "execute_result"
    }
   ],
   "source": [
    "previsores = []\n",
    "preco_real = []\n",
    "for i in range(timesteps, len(base_treinamento_normalizada)):\n",
    "    previsores.append(base_treinamento_normalizada[i-10:i, 0:7])\n",
    "    preco_real.append(base_treinamento_normalizada[i, 0])\n",
    "previsores, preco_real = np.array(previsores), np.array(preco_real)\n",
    "previsores.shape"
   ]
  },
  {
   "cell_type": "code",
   "execution_count": 24,
   "id": "0d4b01b6-d159-4a0a-9b56-41b3f721c60e",
   "metadata": {},
   "outputs": [
    {
     "name": "stdout",
     "output_type": "stream",
     "text": [
      "Model: \"sequential\"\n",
      "_________________________________________________________________\n",
      "Layer (type)                 Output Shape              Param #   \n",
      "=================================================================\n",
      "lstm (LSTM)                  (None, 10, 100)           43200     \n",
      "_________________________________________________________________\n",
      "dropout (Dropout)            (None, 10, 100)           0         \n",
      "_________________________________________________________________\n",
      "lstm_1 (LSTM)                (None, 10, 50)            30200     \n",
      "_________________________________________________________________\n",
      "dropout_1 (Dropout)          (None, 10, 50)            0         \n",
      "_________________________________________________________________\n",
      "lstm_2 (LSTM)                (None, 10, 50)            20200     \n",
      "_________________________________________________________________\n",
      "dropout_2 (Dropout)          (None, 10, 50)            0         \n",
      "_________________________________________________________________\n",
      "lstm_3 (LSTM)                (None, 50)                20200     \n",
      "_________________________________________________________________\n",
      "dropout_3 (Dropout)          (None, 50)                0         \n",
      "_________________________________________________________________\n",
      "dense (Dense)                (None, 1)                 51        \n",
      "=================================================================\n",
      "Total params: 113,851\n",
      "Trainable params: 113,851\n",
      "Non-trainable params: 0\n",
      "_________________________________________________________________\n"
     ]
    }
   ],
   "source": [
    "regressor = Sequential()\n",
    "regressor.add(LSTM(units = 100, return_sequences = True, input_shape = (previsores.shape[1], 7)))\n",
    "regressor.add(Dropout(0.3))\n",
    "\n",
    "regressor.add(LSTM(units = 50, return_sequences = True))\n",
    "regressor.add(Dropout(0.3))\n",
    "\n",
    "regressor.add(LSTM(units = 50, return_sequences = True))\n",
    "regressor.add(Dropout(0.3))\n",
    "\n",
    "regressor.add(LSTM(units = 50))\n",
    "regressor.add(Dropout(0.3))\n",
    "\n",
    "regressor.add(Dense(units = 1, activation = 'sigmoid'))\n",
    "\n",
    "regressor.compile(optimizer = 'RMSprop', loss = 'mean_squared_error',\n",
    "                  metrics = ['mean_absolute_error'])\n",
    "\n",
    "regressor.summary()"
   ]
  },
  {
   "cell_type": "code",
   "execution_count": 25,
   "id": "87726918-ebce-47f8-aa8d-348dfcca8561",
   "metadata": {
    "scrolled": true,
    "tags": []
   },
   "outputs": [
    {
     "name": "stdout",
     "output_type": "stream",
     "text": [
      "Epoch 1/100\n",
      "1044/1044 [==============================] - 26s 25ms/step - loss: 0.0045 - mean_absolute_error: 0.0449\n",
      "Epoch 2/100\n",
      "1044/1044 [==============================] - 25s 24ms/step - loss: 0.0014 - mean_absolute_error: 0.0259\n",
      "Epoch 3/100\n",
      "1044/1044 [==============================] - 25s 24ms/step - loss: 0.0011 - mean_absolute_error: 0.0220\n",
      "Epoch 4/100\n",
      "1044/1044 [==============================] - 24s 23ms/step - loss: 9.5905e-04 - mean_absolute_error: 0.0206 0s - loss: 9.5883e-04 - mean_absolute_erro\n",
      "Epoch 5/100\n",
      "1044/1044 [==============================] - 26s 25ms/step - loss: 8.9805e-04 - mean_absolute_error: 0.0196\n",
      "Epoch 6/100\n",
      "1044/1044 [==============================] - 25s 24ms/step - loss: 8.5112e-04 - mean_absolute_error: 0.0190\n",
      "Epoch 7/100\n",
      "1044/1044 [==============================] - 25s 24ms/step - loss: 8.1722e-04 - mean_absolute_error: 0.0185\n",
      "Epoch 8/100\n",
      "1044/1044 [==============================] - 24s 23ms/step - loss: 8.0777e-04 - mean_absolute_error: 0.0181\n",
      "Epoch 9/100\n",
      "1044/1044 [==============================] - 25s 24ms/step - loss: 7.8244e-04 - mean_absolute_error: 0.0177\n",
      "Epoch 10/100\n",
      "1044/1044 [==============================] - 27s 26ms/step - loss: 7.7340e-04 - mean_absolute_error: 0.0175\n",
      "Epoch 11/100\n",
      "1044/1044 [==============================] - 28s 27ms/step - loss: 7.5820e-04 - mean_absolute_error: 0.0173\n",
      "Epoch 12/100\n",
      "1044/1044 [==============================] - 31s 30ms/step - loss: 7.5181e-04 - mean_absolute_error: 0.0171\n",
      "Epoch 13/100\n",
      "1044/1044 [==============================] - 27s 25ms/step - loss: 7.4072e-04 - mean_absolute_error: 0.0169 2s - loss: 7.4422e-04 - mean_absolute_error: - ETA: 2s - loss: 7\n",
      "Epoch 14/100\n",
      "1044/1044 [==============================] - 27s 26ms/step - loss: 7.3542e-04 - mean_absolute_error: 0.0168 1s - loss: 7.3418e-04 - mean\n",
      "Epoch 15/100\n",
      "1044/1044 [==============================] - 26s 25ms/step - loss: 7.2389e-04 - mean_absolute_error: 0.0167\n",
      "Epoch 16/100\n",
      "1044/1044 [==============================] - 24s 23ms/step - loss: 7.1494e-04 - mean_absolute_error: 0.0165 2s - loss: 7.2513e-\n",
      "Epoch 17/100\n",
      "1044/1044 [==============================] - 25s 24ms/step - loss: 7.1430e-04 - mean_absolute_error: 0.0164\n",
      "Epoch 18/100\n",
      "1044/1044 [==============================] - 24s 23ms/step - loss: 7.0672e-04 - mean_absolute_error: 0.0163\n",
      "Epoch 19/100\n",
      "1044/1044 [==============================] - 25s 24ms/step - loss: 7.0055e-04 - mean_absolute_error: 0.0162\n",
      "Epoch 20/100\n",
      "1044/1044 [==============================] - 24s 23ms/step - loss: 7.0924e-04 - mean_absolute_error: 0.0161\n",
      "Epoch 21/100\n",
      "1044/1044 [==============================] - 24s 23ms/step - loss: 6.9886e-04 - mean_absolute_error: 0.0161\n",
      "Epoch 22/100\n",
      "1044/1044 [==============================] - 24s 23ms/step - loss: 6.8741e-04 - mean_absolute_error: 0.0160\n",
      "Epoch 23/100\n",
      "1044/1044 [==============================] - 24s 23ms/step - loss: 6.8552e-04 - mean_absolute_error: 0.0160\n",
      "Epoch 24/100\n",
      "1044/1044 [==============================] - 24s 23ms/step - loss: 6.9565e-04 - mean_absolute_error: 0.0159\n",
      "Epoch 25/100\n",
      "1044/1044 [==============================] - 25s 24ms/step - loss: 6.8990e-04 - mean_absolute_error: 0.0159 1s - loss: 6.9088e-04 -\n",
      "Epoch 26/100\n",
      "1044/1044 [==============================] - 25s 24ms/step - loss: 6.7970e-04 - mean_absolute_error: 0.0158\n",
      "Epoch 27/100\n",
      "1044/1044 [==============================] - 25s 24ms/step - loss: 6.8942e-04 - mean_absolute_error: 0.0158\n",
      "Epoch 28/100\n",
      "1044/1044 [==============================] - 24s 23ms/step - loss: 6.7802e-04 - mean_absolute_error: 0.0158\n",
      "Epoch 29/100\n",
      "1044/1044 [==============================] - 25s 24ms/step - loss: 6.6640e-04 - mean_absolute_error: 0.0157\n",
      "Epoch 30/100\n",
      "1044/1044 [==============================] - 25s 24ms/step - loss: 6.7099e-04 - mean_absolute_error: 0.0157\n",
      "Epoch 31/100\n",
      "1044/1044 [==============================] - 25s 24ms/step - loss: 6.8133e-04 - mean_absolute_error: 0.0157\n",
      "Epoch 32/100\n",
      "1044/1044 [==============================] - 24s 23ms/step - loss: 6.8294e-04 - mean_absolute_error: 0.0158\n",
      "Epoch 33/100\n",
      "1044/1044 [==============================] - 24s 23ms/step - loss: 6.6511e-04 - mean_absolute_error: 0.0156\n",
      "Epoch 34/100\n",
      "1044/1044 [==============================] - 24s 23ms/step - loss: 6.6920e-04 - mean_absolute_error: 0.0156\n",
      "Epoch 35/100\n",
      "1044/1044 [==============================] - 24s 23ms/step - loss: 6.6646e-04 - mean_absolute_error: 0.0157\n",
      "Epoch 36/100\n",
      "1044/1044 [==============================] - 24s 23ms/step - loss: 6.6927e-04 - mean_absolute_error: 0.0156\n",
      "Epoch 37/100\n",
      "1044/1044 [==============================] - 25s 24ms/step - loss: 6.6995e-04 - mean_absolute_error: 0.0156\n",
      "Epoch 38/100\n",
      "1044/1044 [==============================] - 25s 24ms/step - loss: 6.6793e-04 - mean_absolute_error: 0.0155\n",
      "Epoch 39/100\n",
      "1044/1044 [==============================] - 24s 23ms/step - loss: 6.7083e-04 - mean_absolute_error: 0.0156\n",
      "Epoch 40/100\n",
      "1044/1044 [==============================] - 25s 24ms/step - loss: 6.4984e-04 - mean_absolute_error: 0.0154\n",
      "Epoch 41/100\n",
      "1044/1044 [==============================] - 24s 23ms/step - loss: 6.6485e-04 - mean_absolute_error: 0.0155\n",
      "Epoch 42/100\n",
      "1044/1044 [==============================] - 24s 23ms/step - loss: 6.5963e-04 - mean_absolute_error: 0.0155\n",
      "Epoch 43/100\n",
      "1044/1044 [==============================] - 24s 23ms/step - loss: 6.5859e-04 - mean_absolute_error: 0.0154\n",
      "Epoch 44/100\n",
      "1044/1044 [==============================] - 24s 23ms/step - loss: 6.4188e-04 - mean_absolute_error: 0.0153\n",
      "Epoch 45/100\n",
      "1044/1044 [==============================] - 24s 23ms/step - loss: 6.5986e-04 - mean_absolute_error: 0.0154\n",
      "Epoch 46/100\n",
      "1044/1044 [==============================] - 24s 23ms/step - loss: 6.5596e-04 - mean_absolute_error: 0.0154\n",
      "Epoch 47/100\n",
      "1044/1044 [==============================] - 24s 23ms/step - loss: 6.5635e-04 - mean_absolute_error: 0.0154 0s - loss: 6.4869e-04 - mean_absolute_error: 0.0\n",
      "Epoch 48/100\n",
      "1044/1044 [==============================] - 24s 23ms/step - loss: 6.4607e-04 - mean_absolute_error: 0.0153\n",
      "Epoch 49/100\n",
      "1044/1044 [==============================] - 24s 23ms/step - loss: 6.3747e-04 - mean_absolute_error: 0.0153\n",
      "Epoch 50/100\n",
      "1044/1044 [==============================] - 26s 25ms/step - loss: 6.3276e-04 - mean_absolute_error: 0.0152\n",
      "Epoch 51/100\n",
      "1044/1044 [==============================] - 26s 25ms/step - loss: 6.4770e-04 - mean_absolute_error: 0.0153\n",
      "Epoch 52/100\n",
      "1044/1044 [==============================] - 26s 25ms/step - loss: 6.4231e-04 - mean_absolute_error: 0.0152\n",
      "Epoch 53/100\n",
      "1044/1044 [==============================] - 25s 24ms/step - loss: 6.5006e-04 - mean_absolute_error: 0.0153\n",
      "Epoch 54/100\n",
      "1044/1044 [==============================] - 24s 23ms/step - loss: 6.4500e-04 - mean_absolute_error: 0.0152\n",
      "Epoch 55/100\n",
      "1044/1044 [==============================] - 26s 25ms/step - loss: 6.3967e-04 - mean_absolute_error: 0.0152\n",
      "Epoch 56/100\n",
      "1044/1044 [==============================] - 24s 23ms/step - loss: 6.4810e-04 - mean_absolute_error: 0.0152\n",
      "Epoch 57/100\n",
      "1044/1044 [==============================] - 24s 23ms/step - loss: 6.4772e-04 - mean_absolute_error: 0.0153\n",
      "Epoch 58/100\n",
      "1044/1044 [==============================] - 24s 23ms/step - loss: 6.4896e-04 - mean_absolute_error: 0.0152\n",
      "Epoch 59/100\n",
      "1044/1044 [==============================] - 24s 23ms/step - loss: 6.3938e-04 - mean_absolute_error: 0.0152\n",
      "Epoch 60/100\n",
      "1044/1044 [==============================] - 24s 23ms/step - loss: 6.3551e-04 - mean_absolute_error: 0.0152\n",
      "Epoch 61/100\n",
      "1044/1044 [==============================] - 25s 24ms/step - loss: 6.4074e-04 - mean_absolute_error: 0.0152\n",
      "Epoch 62/100\n",
      "1044/1044 [==============================] - 24s 23ms/step - loss: 6.3164e-04 - mean_absolute_error: 0.0151\n",
      "Epoch 63/100\n",
      "1044/1044 [==============================] - 24s 23ms/step - loss: 6.3911e-04 - mean_absolute_error: 0.0152\n",
      "Epoch 64/100\n",
      "1044/1044 [==============================] - 25s 24ms/step - loss: 6.3989e-04 - mean_absolute_error: 0.0152\n",
      "Epoch 65/100\n",
      "1044/1044 [==============================] - 25s 24ms/step - loss: 6.3755e-04 - mean_absolute_error: 0.0152 2s - loss: \n",
      "Epoch 66/100\n",
      "1044/1044 [==============================] - 31s 30ms/step - loss: 6.4266e-04 - mean_absolute_error: 0.0152\n",
      "Epoch 67/100\n",
      "1044/1044 [==============================] - 28s 27ms/step - loss: 6.3510e-04 - mean_absolute_error: 0.0152 1s - loss: 6.3947e-04 - mean\n",
      "Epoch 68/100\n",
      "1044/1044 [==============================] - 25s 24ms/step - loss: 6.3902e-04 - mean_absolute_error: 0.0151\n",
      "Epoch 69/100\n",
      "1044/1044 [==============================] - 27s 26ms/step - loss: 6.2882e-04 - mean_absolute_error: 0.0151\n",
      "Epoch 70/100\n",
      "1044/1044 [==============================] - 25s 24ms/step - loss: 6.3522e-04 - mean_absolute_error: 0.0151\n",
      "Epoch 71/100\n",
      "1044/1044 [==============================] - 25s 24ms/step - loss: 6.2400e-04 - mean_absolute_error: 0.0151\n",
      "Epoch 72/100\n",
      "1044/1044 [==============================] - 24s 23ms/step - loss: 6.3414e-04 - mean_absolute_error: 0.0151\n",
      "Epoch 73/100\n",
      "1044/1044 [==============================] - 24s 23ms/step - loss: 6.1941e-04 - mean_absolute_error: 0.0150\n",
      "Epoch 74/100\n",
      "1044/1044 [==============================] - 24s 23ms/step - loss: 6.3377e-04 - mean_absolute_error: 0.0151\n",
      "Epoch 75/100\n",
      "1044/1044 [==============================] - 24s 23ms/step - loss: 6.2696e-04 - mean_absolute_error: 0.0151\n",
      "Epoch 76/100\n",
      "1044/1044 [==============================] - 24s 23ms/step - loss: 6.1547e-04 - mean_absolute_error: 0.0151\n",
      "Epoch 77/100\n",
      "1044/1044 [==============================] - 25s 23ms/step - loss: 6.1989e-04 - mean_absolute_error: 0.0151\n",
      "Epoch 78/100\n",
      "1044/1044 [==============================] - 24s 23ms/step - loss: 6.1574e-04 - mean_absolute_error: 0.0151\n",
      "Epoch 79/100\n",
      "1044/1044 [==============================] - 24s 23ms/step - loss: 6.3396e-04 - mean_absolute_error: 0.0150\n",
      "Epoch 80/100\n",
      "1044/1044 [==============================] - 24s 23ms/step - loss: 6.2240e-04 - mean_absolute_error: 0.0150\n",
      "Epoch 81/100\n",
      "1044/1044 [==============================] - 24s 23ms/step - loss: 6.2261e-04 - mean_absolute_error: 0.0150\n",
      "Epoch 82/100\n",
      "1044/1044 [==============================] - 26s 25ms/step - loss: 6.2537e-04 - mean_absolute_error: 0.0150  - ETA: 2s - loss: 6.098\n",
      "Epoch 83/100\n",
      "1044/1044 [==============================] - 24s 23ms/step - loss: 6.1509e-04 - mean_absolute_error: 0.0150\n",
      "Epoch 84/100\n",
      "1044/1044 [==============================] - 24s 23ms/step - loss: 6.2006e-04 - mean_absolute_error: 0.0150\n",
      "Epoch 85/100\n",
      "1044/1044 [==============================] - 24s 23ms/step - loss: 6.2482e-04 - mean_absolute_error: 0.0151\n",
      "Epoch 86/100\n",
      "1044/1044 [==============================] - 24s 23ms/step - loss: 6.1171e-04 - mean_absolute_error: 0.0150\n",
      "Epoch 87/100\n",
      "1044/1044 [==============================] - 24s 23ms/step - loss: 6.1292e-04 - mean_absolute_error: 0.0149\n",
      "Epoch 88/100\n",
      "1044/1044 [==============================] - 24s 23ms/step - loss: 6.2087e-04 - mean_absolute_error: 0.0150\n",
      "Epoch 89/100\n",
      "1044/1044 [==============================] - 24s 23ms/step - loss: 6.1466e-04 - mean_absolute_error: 0.0150\n",
      "Epoch 90/100\n",
      "1044/1044 [==============================] - 25s 24ms/step - loss: 6.1459e-04 - mean_absolute_error: 0.0150\n",
      "Epoch 91/100\n",
      "1044/1044 [==============================] - 24s 23ms/step - loss: 6.2133e-04 - mean_absolute_error: 0.0150\n",
      "Epoch 92/100\n",
      "1044/1044 [==============================] - 25s 24ms/step - loss: 6.1411e-04 - mean_absolute_error: 0.0149\n",
      "Epoch 93/100\n",
      "1044/1044 [==============================] - 25s 24ms/step - loss: 6.1679e-04 - mean_absolute_error: 0.0150\n",
      "Epoch 94/100\n",
      "1044/1044 [==============================] - 25s 24ms/step - loss: 6.1869e-04 - mean_absolute_error: 0.0149\n",
      "Epoch 95/100\n",
      "1044/1044 [==============================] - 26s 25ms/step - loss: 6.2286e-04 - mean_absolute_error: 0.0150\n",
      "Epoch 96/100\n",
      "1044/1044 [==============================] - 34s 32ms/step - loss: 6.1705e-04 - mean_absolute_error: 0.0149\n",
      "Epoch 97/100\n",
      "1044/1044 [==============================] - 28s 27ms/step - loss: 6.1000e-04 - mean_absolute_error: 0.0149\n",
      "Epoch 98/100\n",
      "1044/1044 [==============================] - 25s 23ms/step - loss: 6.1017e-04 - mean_absolute_error: 0.0149\n",
      "Epoch 99/100\n",
      "1044/1044 [==============================] - 26s 25ms/step - loss: 6.0519e-04 - mean_absolute_error: 0.0148\n",
      "Epoch 100/100\n",
      "1044/1044 [==============================] - 25s 24ms/step - loss: 6.0340e-04 - mean_absolute_error: 0.0149\n"
     ]
    },
    {
     "data": {
      "text/plain": [
       "<tensorflow.python.keras.callbacks.History at 0x21c2c2ec730>"
      ]
     },
     "execution_count": 25,
     "metadata": {},
     "output_type": "execute_result"
    }
   ],
   "source": [
    "regressor.fit(previsores, preco_real, epochs = 100, batch_size = 32)"
   ]
  },
  {
   "cell_type": "code",
   "execution_count": 26,
   "id": "08c3c515-c809-4dc2-889a-41272ef40b78",
   "metadata": {},
   "outputs": [],
   "source": [
    "preco_real_teste = base.iloc[index_test:, 0:1].values"
   ]
  },
  {
   "cell_type": "code",
   "execution_count": 27,
   "id": "ee679c9b-f416-4516-b7dd-836ea34b28ff",
   "metadata": {},
   "outputs": [],
   "source": [
    "entradas = base[index_test - timesteps:].values\n",
    "entradas = normalizador.transform(entradas)"
   ]
  },
  {
   "cell_type": "code",
   "execution_count": 28,
   "id": "600cf8da-1886-4310-a4c4-ab4b25c256b5",
   "metadata": {},
   "outputs": [
    {
     "data": {
      "text/plain": [
       "(8361, 7)"
      ]
     },
     "execution_count": 28,
     "metadata": {},
     "output_type": "execute_result"
    }
   ],
   "source": [
    "entradas.shape"
   ]
  },
  {
   "cell_type": "code",
   "execution_count": 29,
   "id": "762e4c09-762d-4b7a-844d-69410c547102",
   "metadata": {},
   "outputs": [
    {
     "data": {
      "text/plain": [
       "(8351, 10, 7)"
      ]
     },
     "execution_count": 29,
     "metadata": {},
     "output_type": "execute_result"
    }
   ],
   "source": [
    "X_teste = []\n",
    "for i in range(timesteps, len(entradas)):\n",
    "    X_teste.append(entradas[i-timesteps:i, 0:7])\n",
    "X_teste = np.array(X_teste)\n",
    "X_teste.shape"
   ]
  },
  {
   "cell_type": "code",
   "execution_count": 33,
   "id": "4143395f-9169-4f5a-80fe-19f03eb287e9",
   "metadata": {},
   "outputs": [
    {
     "data": {
      "text/plain": [
       "(8351, 1)"
      ]
     },
     "execution_count": 33,
     "metadata": {},
     "output_type": "execute_result"
    }
   ],
   "source": [
    "previsoes = regressor.predict(X_teste)\n",
    "previsoes = normalizador_previsao.inverse_transform(previsoes)\n",
    "previsoes.shape"
   ]
  },
  {
   "cell_type": "code",
   "execution_count": 34,
   "id": "53ab8a01-2511-4fa2-9bb1-9d1a13c0b2e1",
   "metadata": {},
   "outputs": [
    {
     "name": "stdout",
     "output_type": "stream",
     "text": [
      "95.52174\n",
      "97.75308346305832\n"
     ]
    }
   ],
   "source": [
    "print(previsoes.mean())\n",
    "print(preco_real_teste.mean())"
   ]
  },
  {
   "cell_type": "code",
   "execution_count": 54,
   "id": "e187e420-3755-41e0-a8b3-322a7867daa2",
   "metadata": {},
   "outputs": [
    {
     "data": {
      "image/png": "[encoded data removed]",
      "text/plain": [
       "<Figure size 432x288 with 1 Axes>"
      ]
     },
     "metadata": {
      "needs_background": "light"
     },
     "output_type": "display_data"
    }
   ],
   "source": [
    "plt.plot(preco_real_teste, color = 'red', label = 'Preço real')\n",
    "plt.plot(previsoes, color = 'blue', label = 'Previsões')\n",
    "plt.title('Previsão preço das ações')\n",
    "plt.xlabel('Tempo')\n",
    "plt.ylabel('Valor Yahoo')\n",
    "plt.legend()\n",
    "plt.show()"
   ]
  },
  {
   "cell_type": "code",
   "execution_count": 55,
   "id": "967ce825-61e8-4d26-8f8a-22507f06da80",
   "metadata": {},
   "outputs": [
    {
     "data": {
      "image/png": "[encoded data removed]",
      "text/plain": [
       "<Figure size 432x288 with 1 Axes>"
      ]
     },
     "metadata": {
      "needs_background": "light"
     },
     "output_type": "display_data"
    }
   ],
   "source": [
    "inicio = 3000\n",
    "fim = inicio + 1080\n",
    "plt.plot(preco_real_teste[inicio:fim], color = 'red', label = 'Preço real')\n",
    "plt.plot(previsoes[inicio:fim], color = 'blue', label = 'Previsões')\n",
    "plt.title('Previsão preço das ações')\n",
    "plt.xlabel('Tempo')\n",
    "plt.ylabel('Valor Yahoo')\n",
    "plt.legend()\n",
    "plt.show()"
   ]
  },
  {
   "cell_type": "code",
   "execution_count": null,
   "id": "2c9f8df9-f591-4ab5-892f-16ca4f9cfdfb",
   "metadata": {},
   "outputs": [],
   "source": []
  }
 ],
 "metadata": {
  "kernelspec": {
   "display_name": "data_1",
   "language": "python",
   "name": "data_1"
  },
  "language_info": {
   "codemirror_mode": {
    "name": "ipython",
    "version": 3
   },
   "file_extension": ".py",
   "mimetype": "text/x-python",
   "name": "python",
   "nbconvert_exporter": "python",
   "pygments_lexer": "ipython3",
   "version": "3.8.10"
  }
 },
 "nbformat": 4,
 "nbformat_minor": 5
}
