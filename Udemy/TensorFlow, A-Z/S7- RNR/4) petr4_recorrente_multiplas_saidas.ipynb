{
 "cells": [
  {
   "cell_type": "code",
   "execution_count": 1,
   "id": "3d64e5fb-53e4-4c4f-b2a4-38a72688653a",
   "metadata": {},
   "outputs": [],
   "source": [
    "from keras.models import Sequential\n",
    "from keras.layers import Dense, Dropout, LSTM\n",
    "from sklearn.preprocessing import MinMaxScaler\n",
    "import numpy as np\n",
    "import pandas as pd\n",
    "import matplotlib.pyplot as plt"
   ]
  },
  {
   "cell_type": "code",
   "execution_count": 2,
   "id": "e72ef75c-efb3-4b64-b9cd-eabc0d1d215b",
   "metadata": {},
   "outputs": [
    {
     "data": {
      "text/html": [
       "<div>\n",
       "<style scoped>\n",
       "    .dataframe tbody tr th:only-of-type {\n",
       "        vertical-align: middle;\n",
       "    }\n",
       "\n",
       "    .dataframe tbody tr th {\n",
       "        vertical-align: top;\n",
       "    }\n",
       "\n",
       "    .dataframe thead th {\n",
       "        text-align: right;\n",
       "    }\n",
       "</style>\n",
       "<table border=\"1\" class=\"dataframe\">\n",
       "  <thead>\n",
       "    <tr style=\"text-align: right;\">\n",
       "      <th></th>\n",
       "      <th>Date</th>\n",
       "      <th>Open</th>\n",
       "      <th>High</th>\n",
       "      <th>Low</th>\n",
       "      <th>Close</th>\n",
       "      <th>Adj Close</th>\n",
       "      <th>Volume</th>\n",
       "    </tr>\n",
       "  </thead>\n",
       "  <tbody>\n",
       "    <tr>\n",
       "      <th>0</th>\n",
       "      <td>2013-01-02</td>\n",
       "      <td>19.990000</td>\n",
       "      <td>20.209999</td>\n",
       "      <td>19.690001</td>\n",
       "      <td>19.690001</td>\n",
       "      <td>18.086271</td>\n",
       "      <td>30182600.0</td>\n",
       "    </tr>\n",
       "    <tr>\n",
       "      <th>1</th>\n",
       "      <td>2013-01-03</td>\n",
       "      <td>19.809999</td>\n",
       "      <td>20.400000</td>\n",
       "      <td>19.700001</td>\n",
       "      <td>20.400000</td>\n",
       "      <td>18.738441</td>\n",
       "      <td>30552600.0</td>\n",
       "    </tr>\n",
       "    <tr>\n",
       "      <th>2</th>\n",
       "      <td>2013-01-04</td>\n",
       "      <td>20.330000</td>\n",
       "      <td>20.620001</td>\n",
       "      <td>20.170000</td>\n",
       "      <td>20.430000</td>\n",
       "      <td>18.766001</td>\n",
       "      <td>36141000.0</td>\n",
       "    </tr>\n",
       "  </tbody>\n",
       "</table>\n",
       "</div>"
      ],
      "text/plain": [
       "         Date       Open       High        Low      Close  Adj Close  \\\n",
       "0  2013-01-02  19.990000  20.209999  19.690001  19.690001  18.086271   \n",
       "1  2013-01-03  19.809999  20.400000  19.700001  20.400000  18.738441   \n",
       "2  2013-01-04  20.330000  20.620001  20.170000  20.430000  18.766001   \n",
       "\n",
       "       Volume  \n",
       "0  30182600.0  \n",
       "1  30552600.0  \n",
       "2  36141000.0  "
      ]
     },
     "execution_count": 2,
     "metadata": {},
     "output_type": "execute_result"
    }
   ],
   "source": [
    "base = pd.read_csv('petr4_treinamento.csv')\n",
    "base = base.dropna()\n",
    "base.head(3)"
   ]
  },
  {
   "cell_type": "code",
   "execution_count": 3,
   "id": "57eb1bb7-dd44-40ff-a1fa-2fda58ba71cc",
   "metadata": {},
   "outputs": [
    {
     "data": {
      "text/html": [
       "<div>\n",
       "<style scoped>\n",
       "    .dataframe tbody tr th:only-of-type {\n",
       "        vertical-align: middle;\n",
       "    }\n",
       "\n",
       "    .dataframe tbody tr th {\n",
       "        vertical-align: top;\n",
       "    }\n",
       "\n",
       "    .dataframe thead th {\n",
       "        text-align: right;\n",
       "    }\n",
       "</style>\n",
       "<table border=\"1\" class=\"dataframe\">\n",
       "  <thead>\n",
       "    <tr style=\"text-align: right;\">\n",
       "      <th></th>\n",
       "      <th>Date</th>\n",
       "      <th>Open</th>\n",
       "      <th>High</th>\n",
       "      <th>Low</th>\n",
       "      <th>Close</th>\n",
       "      <th>Adj Close</th>\n",
       "      <th>Volume</th>\n",
       "    </tr>\n",
       "  </thead>\n",
       "  <tbody>\n",
       "    <tr>\n",
       "      <th>1242</th>\n",
       "      <td>2017-12-27</td>\n",
       "      <td>15.99</td>\n",
       "      <td>16.139999</td>\n",
       "      <td>15.98</td>\n",
       "      <td>16.049999</td>\n",
       "      <td>16.017963</td>\n",
       "      <td>23552200.0</td>\n",
       "    </tr>\n",
       "    <tr>\n",
       "      <th>1243</th>\n",
       "      <td>2017-12-28</td>\n",
       "      <td>16.10</td>\n",
       "      <td>16.129999</td>\n",
       "      <td>16.00</td>\n",
       "      <td>16.100000</td>\n",
       "      <td>16.067865</td>\n",
       "      <td>19011500.0</td>\n",
       "    </tr>\n",
       "    <tr>\n",
       "      <th>1244</th>\n",
       "      <td>2017-12-29</td>\n",
       "      <td>16.10</td>\n",
       "      <td>16.100000</td>\n",
       "      <td>16.10</td>\n",
       "      <td>16.100000</td>\n",
       "      <td>16.067865</td>\n",
       "      <td>0.0</td>\n",
       "    </tr>\n",
       "  </tbody>\n",
       "</table>\n",
       "</div>"
      ],
      "text/plain": [
       "            Date   Open       High    Low      Close  Adj Close      Volume\n",
       "1242  2017-12-27  15.99  16.139999  15.98  16.049999  16.017963  23552200.0\n",
       "1243  2017-12-28  16.10  16.129999  16.00  16.100000  16.067865  19011500.0\n",
       "1244  2017-12-29  16.10  16.100000  16.10  16.100000  16.067865         0.0"
      ]
     },
     "execution_count": 3,
     "metadata": {},
     "output_type": "execute_result"
    }
   ],
   "source": [
    "base.tail(3)"
   ]
  },
  {
   "cell_type": "code",
   "execution_count": 4,
   "id": "437e577f-a098-4b03-9e8f-8bd6cffc823c",
   "metadata": {},
   "outputs": [],
   "source": [
    "base_treinamento = base.iloc[:, 1:2].values\n",
    "base_valor_maximo = base.iloc[:, 2:3].values"
   ]
  },
  {
   "cell_type": "code",
   "execution_count": 5,
   "id": "6eba8236-62d1-4e01-801b-c4a4ad6202ef",
   "metadata": {},
   "outputs": [],
   "source": [
    "normalizador = MinMaxScaler(feature_range=(0,1))\n",
    "base_treinamento_normalizada = normalizador.fit_transform(base_treinamento)\n",
    "base_valor_maximo_normalizada = normalizador.fit_transform(base_valor_maximo)"
   ]
  },
  {
   "cell_type": "code",
   "execution_count": 7,
   "id": "037442ad-227a-462f-ba97-ed4fd8fdbfcb",
   "metadata": {},
   "outputs": [
    {
     "name": "stdout",
     "output_type": "stream",
     "text": [
      "(1242, 1)\n",
      "(1242, 1)\n"
     ]
    }
   ],
   "source": [
    "print(base_treinamento_normalizada.shape)\n",
    "print(base_valor_maximo_normalizada.shape)"
   ]
  },
  {
   "cell_type": "code",
   "execution_count": 8,
   "id": "92a32500-e73e-493c-9653-b811a4cc1499",
   "metadata": {},
   "outputs": [
    {
     "data": {
      "text/plain": [
       "(1152, 90)"
      ]
     },
     "execution_count": 8,
     "metadata": {},
     "output_type": "execute_result"
    }
   ],
   "source": [
    "previsores = []\n",
    "preco_real1 = []\n",
    "preco_real2 = []\n",
    "for i in range(90, 1242):\n",
    "    previsores.append(base_treinamento_normalizada[i-90:i, 0])\n",
    "    preco_real1.append(base_treinamento_normalizada[i, 0])\n",
    "    preco_real2.append(base_valor_maximo_normalizada[i, 0])\n",
    "previsores, preco_real1, preco_real2 = np.array(previsores), np.array(preco_real1), np.array(preco_real2)\n",
    "previsores.shape"
   ]
  },
  {
   "cell_type": "code",
   "execution_count": 9,
   "id": "d11f7e61-9a06-45dc-9ee7-d5fb551b1ae0",
   "metadata": {},
   "outputs": [
    {
     "data": {
      "text/plain": [
       "(1152, 90, 1)"
      ]
     },
     "execution_count": 9,
     "metadata": {},
     "output_type": "execute_result"
    }
   ],
   "source": [
    "previsores = np.reshape(previsores, (previsores.shape[0], previsores.shape[1], 1))\n",
    "previsores.shape"
   ]
  },
  {
   "cell_type": "code",
   "execution_count": 10,
   "id": "af27c242-79e7-47cb-a723-c9785868f955",
   "metadata": {},
   "outputs": [],
   "source": [
    "preco_real = np.column_stack((preco_real1, preco_real2))"
   ]
  },
  {
   "cell_type": "code",
   "execution_count": 11,
   "id": "584bc7b1-ec7f-4e81-a1c1-4c9652d5f994",
   "metadata": {},
   "outputs": [
    {
     "name": "stdout",
     "output_type": "stream",
     "text": [
      "Model: \"sequential\"\n",
      "_________________________________________________________________\n",
      "Layer (type)                 Output Shape              Param #   \n",
      "=================================================================\n",
      "lstm (LSTM)                  (None, 90, 100)           40800     \n",
      "_________________________________________________________________\n",
      "dropout (Dropout)            (None, 90, 100)           0         \n",
      "_________________________________________________________________\n",
      "lstm_1 (LSTM)                (None, 90, 50)            30200     \n",
      "_________________________________________________________________\n",
      "dropout_1 (Dropout)          (None, 90, 50)            0         \n",
      "_________________________________________________________________\n",
      "lstm_2 (LSTM)                (None, 90, 50)            20200     \n",
      "_________________________________________________________________\n",
      "dropout_2 (Dropout)          (None, 90, 50)            0         \n",
      "_________________________________________________________________\n",
      "lstm_3 (LSTM)                (None, 50)                20200     \n",
      "_________________________________________________________________\n",
      "dropout_3 (Dropout)          (None, 50)                0         \n",
      "_________________________________________________________________\n",
      "dense (Dense)                (None, 2)                 102       \n",
      "=================================================================\n",
      "Total params: 111,502\n",
      "Trainable params: 111,502\n",
      "Non-trainable params: 0\n",
      "_________________________________________________________________\n"
     ]
    }
   ],
   "source": [
    "regressor = Sequential()\n",
    "regressor.add(LSTM(units = 100, return_sequences = True, input_shape = (previsores.shape[1], 1)))\n",
    "regressor.add(Dropout(0.3))\n",
    "\n",
    "regressor.add(LSTM(units = 50, return_sequences = True))\n",
    "regressor.add(Dropout(0.3))\n",
    "\n",
    "regressor.add(LSTM(units = 50, return_sequences = True))\n",
    "regressor.add(Dropout(0.3))\n",
    "\n",
    "regressor.add(LSTM(units = 50))\n",
    "regressor.add(Dropout(0.3))\n",
    "\n",
    "regressor.add(Dense(units = 2, activation = 'linear'))\n",
    "\n",
    "regressor.compile(optimizer = 'rmsprop', loss = 'mean_squared_error',\n",
    "                  metrics = ['mean_absolute_error'])\n",
    "\n",
    "regressor.summary()"
   ]
  },
  {
   "cell_type": "code",
   "execution_count": 12,
   "id": "cc3ed367-d706-4071-8ad1-8e1f6333f152",
   "metadata": {
    "scrolled": true,
    "tags": []
   },
   "outputs": [
    {
     "name": "stdout",
     "output_type": "stream",
     "text": [
      "Epoch 1/100\n",
      "36/36 [==============================] - 5s 145ms/step - loss: 0.0346 - mean_absolute_error: 0.1388\n",
      "Epoch 2/100\n",
      "36/36 [==============================] - 5s 143ms/step - loss: 0.0168 - mean_absolute_error: 0.1006\n",
      "Epoch 3/100\n",
      "36/36 [==============================] - 5s 139ms/step - loss: 0.0151 - mean_absolute_error: 0.0954\n",
      "Epoch 4/100\n",
      "36/36 [==============================] - 5s 139ms/step - loss: 0.0118 - mean_absolute_error: 0.0836\n",
      "Epoch 5/100\n",
      "36/36 [==============================] - 5s 138ms/step - loss: 0.0110 - mean_absolute_error: 0.0810\n",
      "Epoch 6/100\n",
      "36/36 [==============================] - 5s 135ms/step - loss: 0.0107 - mean_absolute_error: 0.0790\n",
      "Epoch 7/100\n",
      "36/36 [==============================] - 5s 138ms/step - loss: 0.0098 - mean_absolute_error: 0.0753\n",
      "Epoch 8/100\n",
      "36/36 [==============================] - 5s 136ms/step - loss: 0.0094 - mean_absolute_error: 0.0734\n",
      "Epoch 9/100\n",
      "36/36 [==============================] - 5s 136ms/step - loss: 0.0082 - mean_absolute_error: 0.0694\n",
      "Epoch 10/100\n",
      "36/36 [==============================] - 5s 135ms/step - loss: 0.0066 - mean_absolute_error: 0.0612\n",
      "Epoch 11/100\n",
      "36/36 [==============================] - 5s 135ms/step - loss: 0.0071 - mean_absolute_error: 0.0642\n",
      "Epoch 12/100\n",
      "36/36 [==============================] - 5s 138ms/step - loss: 0.0072 - mean_absolute_error: 0.0649\n",
      "Epoch 13/100\n",
      "36/36 [==============================] - 5s 135ms/step - loss: 0.0061 - mean_absolute_error: 0.0586\n",
      "Epoch 14/100\n",
      "36/36 [==============================] - 5s 134ms/step - loss: 0.0062 - mean_absolute_error: 0.0597\n",
      "Epoch 15/100\n",
      "36/36 [==============================] - 5s 135ms/step - loss: 0.0055 - mean_absolute_error: 0.0564\n",
      "Epoch 16/100\n",
      "36/36 [==============================] - 5s 136ms/step - loss: 0.0058 - mean_absolute_error: 0.0579\n",
      "Epoch 17/100\n",
      "36/36 [==============================] - 5s 136ms/step - loss: 0.0052 - mean_absolute_error: 0.0548\n",
      "Epoch 18/100\n",
      "36/36 [==============================] - 5s 134ms/step - loss: 0.0052 - mean_absolute_error: 0.0531\n",
      "Epoch 19/100\n",
      "36/36 [==============================] - 5s 141ms/step - loss: 0.0046 - mean_absolute_error: 0.0514\n",
      "Epoch 20/100\n",
      "36/36 [==============================] - 5s 141ms/step - loss: 0.0046 - mean_absolute_error: 0.0520\n",
      "Epoch 21/100\n",
      "36/36 [==============================] - 5s 139ms/step - loss: 0.0048 - mean_absolute_error: 0.0520\n",
      "Epoch 22/100\n",
      "36/36 [==============================] - 5s 138ms/step - loss: 0.0038 - mean_absolute_error: 0.0475\n",
      "Epoch 23/100\n",
      "36/36 [==============================] - 5s 135ms/step - loss: 0.0040 - mean_absolute_error: 0.0475\n",
      "Epoch 24/100\n",
      "36/36 [==============================] - 5s 143ms/step - loss: 0.0043 - mean_absolute_error: 0.0499\n",
      "Epoch 25/100\n",
      "36/36 [==============================] - 5s 136ms/step - loss: 0.0036 - mean_absolute_error: 0.0463\n",
      "Epoch 26/100\n",
      "36/36 [==============================] - 5s 134ms/step - loss: 0.0036 - mean_absolute_error: 0.0459\n",
      "Epoch 27/100\n",
      "36/36 [==============================] - 5s 133ms/step - loss: 0.0035 - mean_absolute_error: 0.0455\n",
      "Epoch 28/100\n",
      "36/36 [==============================] - 5s 135ms/step - loss: 0.0034 - mean_absolute_error: 0.0449\n",
      "Epoch 29/100\n",
      "36/36 [==============================] - 5s 134ms/step - loss: 0.0033 - mean_absolute_error: 0.0437\n",
      "Epoch 30/100\n",
      "36/36 [==============================] - 5s 133ms/step - loss: 0.0034 - mean_absolute_error: 0.0447\n",
      "Epoch 31/100\n",
      "36/36 [==============================] - 5s 134ms/step - loss: 0.0033 - mean_absolute_error: 0.0426\n",
      "Epoch 32/100\n",
      "36/36 [==============================] - 5s 136ms/step - loss: 0.0030 - mean_absolute_error: 0.0414\n",
      "Epoch 33/100\n",
      "36/36 [==============================] - 5s 133ms/step - loss: 0.0029 - mean_absolute_error: 0.0414\n",
      "Epoch 34/100\n",
      "36/36 [==============================] - 5s 135ms/step - loss: 0.0030 - mean_absolute_error: 0.0404\n",
      "Epoch 35/100\n",
      "36/36 [==============================] - 5s 138ms/step - loss: 0.0028 - mean_absolute_error: 0.0400\n",
      "Epoch 36/100\n",
      "36/36 [==============================] - 5s 137ms/step - loss: 0.0031 - mean_absolute_error: 0.0414\n",
      "Epoch 37/100\n",
      "36/36 [==============================] - 5s 135ms/step - loss: 0.0025 - mean_absolute_error: 0.0380\n",
      "Epoch 38/100\n",
      "36/36 [==============================] - 6s 159ms/step - loss: 0.0027 - mean_absolute_error: 0.0398\n",
      "Epoch 39/100\n",
      "36/36 [==============================] - 6s 166ms/step - loss: 0.0028 - mean_absolute_error: 0.0400\n",
      "Epoch 40/100\n",
      "36/36 [==============================] - 6s 163ms/step - loss: 0.0026 - mean_absolute_error: 0.0396\n",
      "Epoch 41/100\n",
      "36/36 [==============================] - 6s 155ms/step - loss: 0.0026 - mean_absolute_error: 0.0384\n",
      "Epoch 42/100\n",
      "36/36 [==============================] - 5s 137ms/step - loss: 0.0024 - mean_absolute_error: 0.0376\n",
      "Epoch 43/100\n",
      "36/36 [==============================] - 5s 137ms/step - loss: 0.0022 - mean_absolute_error: 0.0369\n",
      "Epoch 44/100\n",
      "36/36 [==============================] - 5s 145ms/step - loss: 0.0026 - mean_absolute_error: 0.0386 2s - loss: 0.0031 - mean_abs\n",
      "Epoch 45/100\n",
      "36/36 [==============================] - 5s 140ms/step - loss: 0.0022 - mean_absolute_error: 0.0350\n",
      "Epoch 46/100\n",
      "36/36 [==============================] - 5s 152ms/step - loss: 0.0024 - mean_absolute_error: 0.0380\n",
      "Epoch 47/100\n",
      "36/36 [==============================] - 5s 134ms/step - loss: 0.0027 - mean_absolute_error: 0.0388\n",
      "Epoch 48/100\n",
      "36/36 [==============================] - 5s 133ms/step - loss: 0.0022 - mean_absolute_error: 0.0353\n",
      "Epoch 49/100\n",
      "36/36 [==============================] - 5s 148ms/step - loss: 0.0023 - mean_absolute_error: 0.0352\n",
      "Epoch 50/100\n",
      "36/36 [==============================] - 5s 145ms/step - loss: 0.0023 - mean_absolute_error: 0.0362\n",
      "Epoch 51/100\n",
      "36/36 [==============================] - 5s 133ms/step - loss: 0.0022 - mean_absolute_error: 0.0352\n",
      "Epoch 52/100\n",
      "36/36 [==============================] - 5s 131ms/step - loss: 0.0022 - mean_absolute_error: 0.0351\n",
      "Epoch 53/100\n",
      "36/36 [==============================] - 5s 132ms/step - loss: 0.0021 - mean_absolute_error: 0.0349\n",
      "Epoch 54/100\n",
      "36/36 [==============================] - 5s 137ms/step - loss: 0.0019 - mean_absolute_error: 0.0336\n",
      "Epoch 55/100\n",
      "36/36 [==============================] - 5s 135ms/step - loss: 0.0021 - mean_absolute_error: 0.0343\n",
      "Epoch 56/100\n",
      "36/36 [==============================] - 5s 146ms/step - loss: 0.0021 - mean_absolute_error: 0.0347\n",
      "Epoch 57/100\n",
      "36/36 [==============================] - 5s 138ms/step - loss: 0.0019 - mean_absolute_error: 0.0329\n",
      "Epoch 58/100\n",
      "36/36 [==============================] - 5s 141ms/step - loss: 0.0020 - mean_absolute_error: 0.0344\n",
      "Epoch 59/100\n",
      "36/36 [==============================] - 5s 147ms/step - loss: 0.0021 - mean_absolute_error: 0.0340\n",
      "Epoch 60/100\n",
      "36/36 [==============================] - 5s 153ms/step - loss: 0.0020 - mean_absolute_error: 0.0334\n",
      "Epoch 61/100\n",
      "36/36 [==============================] - 5s 150ms/step - loss: 0.0019 - mean_absolute_error: 0.0332\n",
      "Epoch 62/100\n",
      "36/36 [==============================] - 5s 150ms/step - loss: 0.0020 - mean_absolute_error: 0.0334\n",
      "Epoch 63/100\n",
      "36/36 [==============================] - 6s 153ms/step - loss: 0.0020 - mean_absolute_error: 0.0333\n",
      "Epoch 64/100\n",
      "36/36 [==============================] - 5s 146ms/step - loss: 0.0018 - mean_absolute_error: 0.0327\n",
      "Epoch 65/100\n",
      "36/36 [==============================] - 6s 154ms/step - loss: 0.0019 - mean_absolute_error: 0.0326\n",
      "Epoch 66/100\n",
      "36/36 [==============================] - 5s 150ms/step - loss: 0.0019 - mean_absolute_error: 0.0330\n",
      "Epoch 67/100\n",
      "36/36 [==============================] - 5s 150ms/step - loss: 0.0018 - mean_absolute_error: 0.0316\n",
      "Epoch 68/100\n",
      "36/36 [==============================] - 5s 152ms/step - loss: 0.0019 - mean_absolute_error: 0.0331\n",
      "Epoch 69/100\n",
      "36/36 [==============================] - 5s 150ms/step - loss: 0.0020 - mean_absolute_error: 0.0329\n",
      "Epoch 70/100\n",
      "36/36 [==============================] - 5s 148ms/step - loss: 0.0018 - mean_absolute_error: 0.0323\n",
      "Epoch 71/100\n",
      "36/36 [==============================] - 5s 150ms/step - loss: 0.0018 - mean_absolute_error: 0.0317\n",
      "Epoch 72/100\n",
      "36/36 [==============================] - 5s 151ms/step - loss: 0.0017 - mean_absolute_error: 0.0313\n",
      "Epoch 73/100\n",
      "36/36 [==============================] - 5s 150ms/step - loss: 0.0016 - mean_absolute_error: 0.0301\n",
      "Epoch 74/100\n",
      "36/36 [==============================] - 5s 149ms/step - loss: 0.0019 - mean_absolute_error: 0.0320\n",
      "Epoch 75/100\n",
      "36/36 [==============================] - 5s 151ms/step - loss: 0.0018 - mean_absolute_error: 0.0327\n",
      "Epoch 76/100\n",
      "36/36 [==============================] - 6s 155ms/step - loss: 0.0019 - mean_absolute_error: 0.0325\n",
      "Epoch 77/100\n",
      "36/36 [==============================] - 5s 151ms/step - loss: 0.0016 - mean_absolute_error: 0.0308\n",
      "Epoch 78/100\n",
      "36/36 [==============================] - 5s 149ms/step - loss: 0.0016 - mean_absolute_error: 0.0301\n",
      "Epoch 79/100\n",
      "36/36 [==============================] - 5s 150ms/step - loss: 0.0016 - mean_absolute_error: 0.0301\n",
      "Epoch 80/100\n",
      "36/36 [==============================] - 5s 149ms/step - loss: 0.0018 - mean_absolute_error: 0.0312\n",
      "Epoch 81/100\n",
      "36/36 [==============================] - 5s 149ms/step - loss: 0.0016 - mean_absolute_error: 0.0301\n",
      "Epoch 82/100\n",
      "36/36 [==============================] - 5s 150ms/step - loss: 0.0017 - mean_absolute_error: 0.0311\n",
      "Epoch 83/100\n",
      "36/36 [==============================] - 5s 149ms/step - loss: 0.0017 - mean_absolute_error: 0.0312\n",
      "Epoch 84/100\n",
      "36/36 [==============================] - 5s 152ms/step - loss: 0.0015 - mean_absolute_error: 0.0294\n",
      "Epoch 85/100\n",
      "36/36 [==============================] - 5s 148ms/step - loss: 0.0017 - mean_absolute_error: 0.0309\n",
      "Epoch 86/100\n",
      "36/36 [==============================] - 5s 151ms/step - loss: 0.0017 - mean_absolute_error: 0.0302 2s - loss: 8.759\n",
      "Epoch 87/100\n",
      "36/36 [==============================] - 5s 150ms/step - loss: 0.0016 - mean_absolute_error: 0.0303\n",
      "Epoch 88/100\n",
      "36/36 [==============================] - 5s 152ms/step - loss: 0.0018 - mean_absolute_error: 0.0313\n",
      "Epoch 89/100\n",
      "36/36 [==============================] - 5s 150ms/step - loss: 0.0016 - mean_absolute_error: 0.0298\n",
      "Epoch 90/100\n",
      "36/36 [==============================] - 5s 152ms/step - loss: 0.0016 - mean_absolute_error: 0.0298\n",
      "Epoch 91/100\n",
      "36/36 [==============================] - 5s 149ms/step - loss: 0.0016 - mean_absolute_error: 0.0301\n",
      "Epoch 92/100\n",
      "36/36 [==============================] - 5s 151ms/step - loss: 0.0016 - mean_absolute_error: 0.0294\n",
      "Epoch 93/100\n",
      "36/36 [==============================] - 5s 152ms/step - loss: 0.0015 - mean_absolute_error: 0.0296\n",
      "Epoch 94/100\n",
      "36/36 [==============================] - 5s 151ms/step - loss: 0.0016 - mean_absolute_error: 0.0293\n",
      "Epoch 95/100\n",
      "36/36 [==============================] - 6s 160ms/step - loss: 0.0017 - mean_absolute_error: 0.0298\n",
      "Epoch 96/100\n",
      "36/36 [==============================] - 5s 152ms/step - loss: 0.0014 - mean_absolute_error: 0.0284\n",
      "Epoch 97/100\n",
      "36/36 [==============================] - 5s 150ms/step - loss: 0.0016 - mean_absolute_error: 0.0301\n",
      "Epoch 98/100\n",
      "36/36 [==============================] - 5s 151ms/step - loss: 0.0015 - mean_absolute_error: 0.0291\n",
      "Epoch 99/100\n",
      "36/36 [==============================] - 5s 150ms/step - loss: 0.0016 - mean_absolute_error: 0.0296\n",
      "Epoch 100/100\n",
      "36/36 [==============================] - 6s 155ms/step - loss: 0.0016 - mean_absolute_error: 0.0299\n"
     ]
    },
    {
     "data": {
      "text/plain": [
       "<tensorflow.python.keras.callbacks.History at 0x2c82ce68040>"
      ]
     },
     "execution_count": 12,
     "metadata": {},
     "output_type": "execute_result"
    }
   ],
   "source": [
    "regressor.fit(previsores, preco_real, epochs = 100, batch_size = 32)"
   ]
  },
  {
   "cell_type": "code",
   "execution_count": 13,
   "id": "0f1505f4-c423-4b6e-85d8-9911d6e56f98",
   "metadata": {},
   "outputs": [
    {
     "data": {
      "text/html": [
       "<div>\n",
       "<style scoped>\n",
       "    .dataframe tbody tr th:only-of-type {\n",
       "        vertical-align: middle;\n",
       "    }\n",
       "\n",
       "    .dataframe tbody tr th {\n",
       "        vertical-align: top;\n",
       "    }\n",
       "\n",
       "    .dataframe thead th {\n",
       "        text-align: right;\n",
       "    }\n",
       "</style>\n",
       "<table border=\"1\" class=\"dataframe\">\n",
       "  <thead>\n",
       "    <tr style=\"text-align: right;\">\n",
       "      <th></th>\n",
       "      <th>Date</th>\n",
       "      <th>Open</th>\n",
       "      <th>High</th>\n",
       "      <th>Low</th>\n",
       "      <th>Close</th>\n",
       "      <th>Adj Close</th>\n",
       "      <th>Volume</th>\n",
       "    </tr>\n",
       "  </thead>\n",
       "  <tbody>\n",
       "    <tr>\n",
       "      <th>0</th>\n",
       "      <td>2018-01-02</td>\n",
       "      <td>16.190001</td>\n",
       "      <td>16.549999</td>\n",
       "      <td>16.190001</td>\n",
       "      <td>16.549999</td>\n",
       "      <td>16.516966</td>\n",
       "      <td>33461800</td>\n",
       "    </tr>\n",
       "    <tr>\n",
       "      <th>1</th>\n",
       "      <td>2018-01-03</td>\n",
       "      <td>16.490000</td>\n",
       "      <td>16.719999</td>\n",
       "      <td>16.370001</td>\n",
       "      <td>16.700001</td>\n",
       "      <td>16.666668</td>\n",
       "      <td>55940900</td>\n",
       "    </tr>\n",
       "    <tr>\n",
       "      <th>2</th>\n",
       "      <td>2018-01-04</td>\n",
       "      <td>16.780001</td>\n",
       "      <td>16.959999</td>\n",
       "      <td>16.620001</td>\n",
       "      <td>16.730000</td>\n",
       "      <td>16.696608</td>\n",
       "      <td>37064900</td>\n",
       "    </tr>\n",
       "  </tbody>\n",
       "</table>\n",
       "</div>"
      ],
      "text/plain": [
       "         Date       Open       High        Low      Close  Adj Close    Volume\n",
       "0  2018-01-02  16.190001  16.549999  16.190001  16.549999  16.516966  33461800\n",
       "1  2018-01-03  16.490000  16.719999  16.370001  16.700001  16.666668  55940900\n",
       "2  2018-01-04  16.780001  16.959999  16.620001  16.730000  16.696608  37064900"
      ]
     },
     "execution_count": 13,
     "metadata": {},
     "output_type": "execute_result"
    }
   ],
   "source": [
    "base_teste = pd.read_csv('petr4_teste.csv')\n",
    "base_teste.head(3)"
   ]
  },
  {
   "cell_type": "code",
   "execution_count": 14,
   "id": "e39f7637-6089-42a8-bbe8-191407a35bcb",
   "metadata": {},
   "outputs": [
    {
     "data": {
      "text/html": [
       "<div>\n",
       "<style scoped>\n",
       "    .dataframe tbody tr th:only-of-type {\n",
       "        vertical-align: middle;\n",
       "    }\n",
       "\n",
       "    .dataframe tbody tr th {\n",
       "        vertical-align: top;\n",
       "    }\n",
       "\n",
       "    .dataframe thead th {\n",
       "        text-align: right;\n",
       "    }\n",
       "</style>\n",
       "<table border=\"1\" class=\"dataframe\">\n",
       "  <thead>\n",
       "    <tr style=\"text-align: right;\">\n",
       "      <th></th>\n",
       "      <th>Date</th>\n",
       "      <th>Open</th>\n",
       "      <th>High</th>\n",
       "      <th>Low</th>\n",
       "      <th>Close</th>\n",
       "      <th>Adj Close</th>\n",
       "      <th>Volume</th>\n",
       "    </tr>\n",
       "  </thead>\n",
       "  <tbody>\n",
       "    <tr>\n",
       "      <th>19</th>\n",
       "      <td>2018-01-29</td>\n",
       "      <td>19.67</td>\n",
       "      <td>20.049999</td>\n",
       "      <td>19.570000</td>\n",
       "      <td>19.850000</td>\n",
       "      <td>19.810381</td>\n",
       "      <td>55726200</td>\n",
       "    </tr>\n",
       "    <tr>\n",
       "      <th>20</th>\n",
       "      <td>2018-01-30</td>\n",
       "      <td>19.77</td>\n",
       "      <td>19.770000</td>\n",
       "      <td>19.360001</td>\n",
       "      <td>19.490000</td>\n",
       "      <td>19.451097</td>\n",
       "      <td>46203000</td>\n",
       "    </tr>\n",
       "    <tr>\n",
       "      <th>21</th>\n",
       "      <td>2018-01-31</td>\n",
       "      <td>19.74</td>\n",
       "      <td>19.930000</td>\n",
       "      <td>19.680000</td>\n",
       "      <td>19.700001</td>\n",
       "      <td>19.660681</td>\n",
       "      <td>41576600</td>\n",
       "    </tr>\n",
       "  </tbody>\n",
       "</table>\n",
       "</div>"
      ],
      "text/plain": [
       "          Date   Open       High        Low      Close  Adj Close    Volume\n",
       "19  2018-01-29  19.67  20.049999  19.570000  19.850000  19.810381  55726200\n",
       "20  2018-01-30  19.77  19.770000  19.360001  19.490000  19.451097  46203000\n",
       "21  2018-01-31  19.74  19.930000  19.680000  19.700001  19.660681  41576600"
      ]
     },
     "execution_count": 14,
     "metadata": {},
     "output_type": "execute_result"
    }
   ],
   "source": [
    "base_teste.tail(3)"
   ]
  },
  {
   "cell_type": "raw",
   "id": "968f8bb0-5ff2-48f0-8907-2fccfac377e2",
   "metadata": {},
   "source": [
    "preco_real_teste = base_teste.iloc[:, 1:2].values"
   ]
  },
  {
   "cell_type": "code",
   "execution_count": 16,
   "id": "f93c0341-4590-4387-8e1f-05716ef46a83",
   "metadata": {},
   "outputs": [],
   "source": [
    "preco_real_open = base_teste.iloc[:, 1:2].values\n",
    "preco_real_high = base_teste.iloc[:, 2:3].values"
   ]
  },
  {
   "cell_type": "code",
   "execution_count": 17,
   "id": "f7efb94f-0b6f-4574-b9d8-e93b1b9dcdcd",
   "metadata": {},
   "outputs": [],
   "source": [
    "base_completa = pd.concat((base['Open'], base_teste['Open']), axis = 0)"
   ]
  },
  {
   "cell_type": "code",
   "execution_count": 18,
   "id": "89a4beda-5afa-411e-b37f-57a9dcb6ddb1",
   "metadata": {},
   "outputs": [
    {
     "data": {
      "text/plain": [
       "(112, 1)"
      ]
     },
     "execution_count": 18,
     "metadata": {},
     "output_type": "execute_result"
    }
   ],
   "source": [
    "entradas = base_completa[len(base_completa) - len(base_teste) - 90:].values\n",
    "entradas = entradas.reshape(-1, 1)\n",
    "entradas = normalizador.transform(entradas)\n",
    "entradas.shape"
   ]
  },
  {
   "cell_type": "code",
   "execution_count": 19,
   "id": "f7e622e9-43b0-4a25-9b48-ef04caa54d9c",
   "metadata": {},
   "outputs": [
    {
     "data": {
      "text/plain": [
       "(22, 90)"
      ]
     },
     "execution_count": 19,
     "metadata": {},
     "output_type": "execute_result"
    }
   ],
   "source": [
    "X_teste = []\n",
    "for i in range(90, 112):\n",
    "    X_teste.append(entradas[i-90:i, 0])\n",
    "X_teste = np.array(X_teste)\n",
    "X_teste.shape"
   ]
  },
  {
   "cell_type": "code",
   "execution_count": 20,
   "id": "a1e24cc7-979b-4d3e-932e-804e7025345d",
   "metadata": {},
   "outputs": [
    {
     "data": {
      "text/plain": [
       "(22, 90, 1)"
      ]
     },
     "execution_count": 20,
     "metadata": {},
     "output_type": "execute_result"
    }
   ],
   "source": [
    "X_teste = np.reshape(X_teste, (X_teste.shape[0], X_teste.shape[1], 1))\n",
    "X_teste.shape"
   ]
  },
  {
   "cell_type": "code",
   "execution_count": 21,
   "id": "69d22843-2b75-4f22-bef2-6d10e71b9ae4",
   "metadata": {},
   "outputs": [
    {
     "data": {
      "text/plain": [
       "(22, 2)"
      ]
     },
     "execution_count": 21,
     "metadata": {},
     "output_type": "execute_result"
    }
   ],
   "source": [
    "previsoes = regressor.predict(X_teste)\n",
    "previsoes = normalizador.inverse_transform(previsoes)\n",
    "previsoes.shape"
   ]
  },
  {
   "cell_type": "code",
   "execution_count": 25,
   "id": "c541f792-95c0-4b2d-a489-e4a42a0a197b",
   "metadata": {},
   "outputs": [
    {
     "data": {
      "image/png": "[encoded data removed]",
      "text/plain": [
       "<Figure size 432x288 with 1 Axes>"
      ]
     },
     "metadata": {
      "needs_background": "light"
     },
     "output_type": "display_data"
    }
   ],
   "source": [
    "plt.plot(preco_real_open, color = 'red', label = 'Preço abertura real')\n",
    "plt.plot(preco_real_high, color = 'black', label = 'Preço alta real')\n",
    "\n",
    "plt.plot(previsoes[:, 0], color = 'blue', label = 'Previsões abertura')\n",
    "plt.plot(previsoes[:, 1], color = 'orange', label = 'Previsões alta')\n",
    "\n",
    "plt.title('Previsão preço das ações')\n",
    "plt.xlabel('Tempo')\n",
    "plt.ylabel('Valor Yahoo')\n",
    "plt.legend()\n",
    "plt.show()"
   ]
  },
  {
   "cell_type": "code",
   "execution_count": null,
   "id": "8b037d65-8471-4e7d-afb2-5a716f8f674e",
   "metadata": {},
   "outputs": [],
   "source": []
  }
 ],
 "metadata": {
  "kernelspec": {
   "display_name": "data_1",
   "language": "python",
   "name": "data_1"
  },
  "language_info": {
   "codemirror_mode": {
    "name": "ipython",
    "version": 3
   },
   "file_extension": ".py",
   "mimetype": "text/x-python",
   "name": "python",
   "nbconvert_exporter": "python",
   "pygments_lexer": "ipython3",
   "version": "3.8.10"
  }
 },
 "nbformat": 4,
 "nbformat_minor": 5
}
