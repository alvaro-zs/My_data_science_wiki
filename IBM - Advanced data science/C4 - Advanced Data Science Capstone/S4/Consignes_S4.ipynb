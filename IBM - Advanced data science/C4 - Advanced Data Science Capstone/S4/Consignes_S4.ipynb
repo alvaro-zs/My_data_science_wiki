{
 "cells": [
  {
   "cell_type": "markdown",
   "id": "1f936742-7f89-49d7-ab66-91caf58d94d2",
   "metadata": {},
   "source": [
    "* Use Case\n",
    "* Data Set\n",
    "* Data Quality Assessment\n",
    "* Data Exploration (e.g. correlation between columns)\n",
    "* Data Visualization (e.g. value distribution of columns)\n",
    "* At least one Feature Engineering (e.g. imputing missing values) applied\n",
    "* Selection and justification of Model Performance Indicator (e.g. F1 score)\n",
    "* At least one traditional Machine Learning Algorithm and one DeepLearning Algorithm applied and demonstrated\n",
    "* Model performance between different feature engineerings  and models compared and documented"
   ]
  },
  {
   "cell_type": "code",
   "execution_count": null,
   "id": "64000931-2bf1-4c32-8e36-32d847768b59",
   "metadata": {},
   "outputs": [],
   "source": []
  }
 ],
 "metadata": {
  "kernelspec": {
   "display_name": "data_1",
   "language": "python",
   "name": "data_1"
  },
  "language_info": {
   "codemirror_mode": {
    "name": "ipython",
    "version": 3
   },
   "file_extension": ".py",
   "mimetype": "text/x-python",
   "name": "python",
   "nbconvert_exporter": "python",
   "pygments_lexer": "ipython3",
   "version": "3.8.10"
  }
 },
 "nbformat": 4,
 "nbformat_minor": 5
}
