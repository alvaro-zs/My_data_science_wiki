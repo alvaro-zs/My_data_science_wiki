{
 "cells": [
  {
   "cell_type": "code",
   "execution_count": 26,
   "id": "a9135edb-afee-4c65-97fc-d73a1fbfbb31",
   "metadata": {},
   "outputs": [],
   "source": [
    "import pandas as pd"
   ]
  },
  {
   "cell_type": "code",
   "execution_count": 27,
   "id": "d612080b-edc2-49b6-b3a2-936e6fa06f27",
   "metadata": {},
   "outputs": [
    {
     "data": {
      "text/html": [
       "<div>\n",
       "<style scoped>\n",
       "    .dataframe tbody tr th:only-of-type {\n",
       "        vertical-align: middle;\n",
       "    }\n",
       "\n",
       "    .dataframe tbody tr th {\n",
       "        vertical-align: top;\n",
       "    }\n",
       "\n",
       "    .dataframe thead th {\n",
       "        text-align: right;\n",
       "    }\n",
       "</style>\n",
       "<table border=\"1\" class=\"dataframe\">\n",
       "  <thead>\n",
       "    <tr style=\"text-align: right;\">\n",
       "      <th></th>\n",
       "      <th>Date</th>\n",
       "      <th>Open</th>\n",
       "      <th>High</th>\n",
       "      <th>Low</th>\n",
       "      <th>Close</th>\n",
       "      <th>Adj Close</th>\n",
       "      <th>Volume</th>\n",
       "    </tr>\n",
       "  </thead>\n",
       "  <tbody>\n",
       "    <tr>\n",
       "      <th>0</th>\n",
       "      <td>2000-09-01</td>\n",
       "      <td>277.000000</td>\n",
       "      <td>277.000000</td>\n",
       "      <td>277.000000</td>\n",
       "      <td>277.000000</td>\n",
       "      <td>277.000000</td>\n",
       "      <td>0.0</td>\n",
       "    </tr>\n",
       "    <tr>\n",
       "      <th>1</th>\n",
       "      <td>2000-09-04</td>\n",
       "      <td>NaN</td>\n",
       "      <td>NaN</td>\n",
       "      <td>NaN</td>\n",
       "      <td>NaN</td>\n",
       "      <td>NaN</td>\n",
       "      <td>NaN</td>\n",
       "    </tr>\n",
       "    <tr>\n",
       "      <th>2</th>\n",
       "      <td>2000-09-05</td>\n",
       "      <td>275.799988</td>\n",
       "      <td>275.799988</td>\n",
       "      <td>275.799988</td>\n",
       "      <td>275.799988</td>\n",
       "      <td>275.799988</td>\n",
       "      <td>2.0</td>\n",
       "    </tr>\n",
       "  </tbody>\n",
       "</table>\n",
       "</div>"
      ],
      "text/plain": [
       "         Date        Open        High         Low       Close   Adj Close  \\\n",
       "0  2000-09-01  277.000000  277.000000  277.000000  277.000000  277.000000   \n",
       "1  2000-09-04         NaN         NaN         NaN         NaN         NaN   \n",
       "2  2000-09-05  275.799988  275.799988  275.799988  275.799988  275.799988   \n",
       "\n",
       "   Volume  \n",
       "0     0.0  \n",
       "1     NaN  \n",
       "2     2.0  "
      ]
     },
     "execution_count": 27,
     "metadata": {},
     "output_type": "execute_result"
    }
   ],
   "source": [
    "data_set = pd.read_csv('GC_larger.csv')\n",
    "data_set.head(3)"
   ]
  },
  {
   "cell_type": "code",
   "execution_count": 28,
   "id": "f2fa35a1-c539-442c-aed0-5d68247faa2b",
   "metadata": {},
   "outputs": [
    {
     "data": {
      "text/html": [
       "<div>\n",
       "<style scoped>\n",
       "    .dataframe tbody tr th:only-of-type {\n",
       "        vertical-align: middle;\n",
       "    }\n",
       "\n",
       "    .dataframe tbody tr th {\n",
       "        vertical-align: top;\n",
       "    }\n",
       "\n",
       "    .dataframe thead th {\n",
       "        text-align: right;\n",
       "    }\n",
       "</style>\n",
       "<table border=\"1\" class=\"dataframe\">\n",
       "  <thead>\n",
       "    <tr style=\"text-align: right;\">\n",
       "      <th></th>\n",
       "      <th>Date</th>\n",
       "      <th>Open</th>\n",
       "      <th>High</th>\n",
       "      <th>Low</th>\n",
       "      <th>Close</th>\n",
       "      <th>Adj Close</th>\n",
       "      <th>Volume</th>\n",
       "    </tr>\n",
       "  </thead>\n",
       "  <tbody>\n",
       "    <tr>\n",
       "      <th>5313</th>\n",
       "      <td>2021-07-15</td>\n",
       "      <td>1831.599976</td>\n",
       "      <td>1833.000000</td>\n",
       "      <td>1823.400024</td>\n",
       "      <td>1828.400024</td>\n",
       "      <td>1828.400024</td>\n",
       "      <td>99.0</td>\n",
       "    </tr>\n",
       "    <tr>\n",
       "      <th>5314</th>\n",
       "      <td>2021-07-16</td>\n",
       "      <td>1830.099976</td>\n",
       "      <td>1831.400024</td>\n",
       "      <td>1814.500000</td>\n",
       "      <td>1814.500000</td>\n",
       "      <td>1814.500000</td>\n",
       "      <td>78.0</td>\n",
       "    </tr>\n",
       "    <tr>\n",
       "      <th>5315</th>\n",
       "      <td>2021-07-19</td>\n",
       "      <td>1803.300049</td>\n",
       "      <td>1813.400024</td>\n",
       "      <td>1803.300049</td>\n",
       "      <td>1808.699951</td>\n",
       "      <td>1808.699951</td>\n",
       "      <td>78.0</td>\n",
       "    </tr>\n",
       "  </tbody>\n",
       "</table>\n",
       "</div>"
      ],
      "text/plain": [
       "            Date         Open         High          Low        Close  \\\n",
       "5313  2021-07-15  1831.599976  1833.000000  1823.400024  1828.400024   \n",
       "5314  2021-07-16  1830.099976  1831.400024  1814.500000  1814.500000   \n",
       "5315  2021-07-19  1803.300049  1813.400024  1803.300049  1808.699951   \n",
       "\n",
       "        Adj Close  Volume  \n",
       "5313  1828.400024    99.0  \n",
       "5314  1814.500000    78.0  \n",
       "5315  1808.699951    78.0  "
      ]
     },
     "execution_count": 28,
     "metadata": {},
     "output_type": "execute_result"
    }
   ],
   "source": [
    "data_set.tail(3)"
   ]
  },
  {
   "cell_type": "code",
   "execution_count": 29,
   "id": "39dede1b-9063-46e0-8301-d3957e433942",
   "metadata": {},
   "outputs": [
    {
     "data": {
      "text/plain": [
       "Date           0\n",
       "Open         112\n",
       "High         112\n",
       "Low          112\n",
       "Close        112\n",
       "Adj Close    112\n",
       "Volume       112\n",
       "dtype: int64"
      ]
     },
     "execution_count": 29,
     "metadata": {},
     "output_type": "execute_result"
    }
   ],
   "source": [
    "data_set.isnull().sum()"
   ]
  },
  {
   "cell_type": "code",
   "execution_count": 30,
   "id": "789c5e34-9544-4c6b-86ea-ce670ee58478",
   "metadata": {},
   "outputs": [],
   "source": [
    "data_set = data_set.dropna().reset_index(drop=True)"
   ]
  },
  {
   "cell_type": "code",
   "execution_count": 31,
   "id": "8ec63d6f-3ac1-4a27-a6b0-261256538185",
   "metadata": {},
   "outputs": [],
   "source": [
    "from sklearn.preprocessing import MinMaxScaler\n",
    "import numpy as np\n",
    "import pandas as pd\n",
    "import matplotlib.pyplot as plt"
   ]
  },
  {
   "cell_type": "code",
   "execution_count": 32,
   "id": "2515d71e-46ef-44a5-85a9-2be44327483f",
   "metadata": {},
   "outputs": [],
   "source": [
    "index_test = int(len(data_set)*0.8) + (len(data_set)%0.8> 0)\n",
    "timesteps = 7\n",
    "index_test = 4096+timesteps"
   ]
  },
  {
   "cell_type": "code",
   "execution_count": 33,
   "id": "357f2231-980b-4e8f-97aa-8829a1e33cf1",
   "metadata": {},
   "outputs": [
    {
     "data": {
      "text/plain": [
       "(4103, 1)"
      ]
     },
     "execution_count": 33,
     "metadata": {},
     "output_type": "execute_result"
    }
   ],
   "source": [
    "base_treinamento = data_set.iloc[:index_test, 1:2].values\n",
    "base_treinamento.shape"
   ]
  },
  {
   "cell_type": "code",
   "execution_count": 34,
   "id": "bba6dfa9-14f0-4039-8a81-3b8dbb7cccde",
   "metadata": {},
   "outputs": [
    {
     "name": "stdout",
     "output_type": "stream",
     "text": [
      "(4103, 1)\n"
     ]
    }
   ],
   "source": [
    "normalizador = MinMaxScaler(feature_range=(0,1))\n",
    "base_treinamento_normalizada = normalizador.fit_transform(base_treinamento)\n",
    "print(base_treinamento_normalizada.shape)"
   ]
  },
  {
   "cell_type": "code",
   "execution_count": 35,
   "id": "77f93a59-201d-46cf-8e0e-1a18300a1c62",
   "metadata": {},
   "outputs": [
    {
     "name": "stdout",
     "output_type": "stream",
     "text": [
      "(4096, 7)\n",
      "(4096,)\n"
     ]
    }
   ],
   "source": [
    "previsores = []\n",
    "preco_real = []\n",
    "timesteps = 7\n",
    "for i in range(timesteps, len(base_treinamento_normalizada)):\n",
    "    previsores.append(base_treinamento_normalizada[i-timesteps:i, 0])\n",
    "    preco_real.append(base_treinamento_normalizada[i, 0])\n",
    "previsores, preco_real = np.array(previsores), np.array(preco_real)\n",
    "print(previsores.shape)\n",
    "print(preco_real.shape)"
   ]
  },
  {
   "cell_type": "code",
   "execution_count": 36,
   "id": "d53b9279-3393-4033-9075-cea7249d6bf0",
   "metadata": {},
   "outputs": [
    {
     "data": {
      "text/plain": [
       "(4096, 7, 1)"
      ]
     },
     "execution_count": 36,
     "metadata": {},
     "output_type": "execute_result"
    }
   ],
   "source": [
    "previsores = np.reshape(previsores, (previsores.shape[0], previsores.shape[1], 1))\n",
    "previsores.shape"
   ]
  },
  {
   "cell_type": "code",
   "execution_count": 37,
   "id": "420b5ab4-2ca1-44b5-a144-7a16e26abc2f",
   "metadata": {},
   "outputs": [],
   "source": [
    "from keras.models import Sequential\n",
    "from keras.layers import Dense, Dropout, LSTM, Activation\n",
    "from keras.layers import Convolution1D, MaxPooling1D, Flatten,  Embedding\n",
    "from keras.layers.normalization import BatchNormalization\n",
    "from keras_self_attention import SeqSelfAttention\n",
    "import keras"
   ]
  },
  {
   "cell_type": "code",
   "execution_count": 38,
   "id": "c917b073-d992-4add-92d5-c66a16ef2e42",
   "metadata": {},
   "outputs": [
    {
     "name": "stdout",
     "output_type": "stream",
     "text": [
      "Model: \"sequential_3\"\n",
      "_________________________________________________________________\n",
      "Layer (type)                 Output Shape              Param #   \n",
      "=================================================================\n",
      "lstm_3 (LSTM)                (None, 7, 100)            40800     \n",
      "_________________________________________________________________\n",
      "conv1d_3 (Conv1D)            (None, 6, 128)            25728     \n",
      "_________________________________________________________________\n",
      "max_pooling1d_3 (MaxPooling1 (None, 3, 128)            0         \n",
      "_________________________________________________________________\n",
      "flatten_2 (Flatten)          (None, 384)               0         \n",
      "_________________________________________________________________\n",
      "activation_6 (Activation)    (None, 384)               0         \n",
      "_________________________________________________________________\n",
      "dense_3 (Dense)              (None, 1)                 385       \n",
      "_________________________________________________________________\n",
      "activation_7 (Activation)    (None, 1)                 0         \n",
      "=================================================================\n",
      "Total params: 66,913\n",
      "Trainable params: 66,913\n",
      "Non-trainable params: 0\n",
      "_________________________________________________________________\n"
     ]
    }
   ],
   "source": [
    "# Initialising the LSTM Model with MAE Loss-Function\n",
    "# Using Functional API\n",
    "\n",
    "model=Sequential()\n",
    "\n",
    "model.add(LSTM(100, input_shape=(timesteps,1)   , return_sequences=True))\n",
    "\n",
    "model.add(Convolution1D(filters=128, kernel_size=(2), padding='valid', activation='relu', strides=1, input_shape=(timesteps,1)))\n",
    "\n",
    "model.add(MaxPooling1D(pool_size = (2)))\n",
    "\n",
    "model.add(Flatten())\n",
    "#model.add(Dropout(0.25))\n",
    "model.add(Activation('relu')) # ReLU : y = max(0,x)\n",
    "\n",
    "model.add(Dense(units = 1))\n",
    "\n",
    "model.add(Activation('linear')) # ReLU : y = max(0,x)\n",
    "\n",
    "#Compiling\n",
    "model.compile(optimizer='RMSprop', loss = 'mse')\n",
    "#Model summary\n",
    "model.summary()"
   ]
  },
  {
   "cell_type": "code",
   "execution_count": 39,
   "id": "f925f792-77d4-45e4-9015-492116c8067a",
   "metadata": {
    "scrolled": true,
    "tags": []
   },
   "outputs": [
    {
     "name": "stdout",
     "output_type": "stream",
     "text": [
      "Epoch 1/200\n",
      "256/256 [==============================] - 1s 5ms/step - loss: 0.0032\n",
      "Epoch 2/200\n",
      "256/256 [==============================] - 1s 5ms/step - loss: 0.0011\n",
      "Epoch 3/200\n",
      "256/256 [==============================] - 1s 5ms/step - loss: 8.4892e-04\n",
      "Epoch 4/200\n",
      "256/256 [==============================] - 1s 5ms/step - loss: 7.1973e-04\n",
      "Epoch 5/200\n",
      "256/256 [==============================] - 1s 5ms/step - loss: 6.2079e-04\n",
      "Epoch 6/200\n",
      "256/256 [==============================] - 1s 5ms/step - loss: 5.5969e-04\n",
      "Epoch 7/200\n",
      "256/256 [==============================] - 1s 5ms/step - loss: 5.1872e-04\n",
      "Epoch 8/200\n",
      "256/256 [==============================] - 1s 5ms/step - loss: 4.8411e-04\n",
      "Epoch 9/200\n",
      "256/256 [==============================] - 1s 5ms/step - loss: 4.8997e-04\n",
      "Epoch 10/200\n",
      "256/256 [==============================] - 1s 5ms/step - loss: 4.3619e-04\n",
      "Epoch 11/200\n",
      "256/256 [==============================] - 1s 5ms/step - loss: 4.2695e-04\n",
      "Epoch 12/200\n",
      "256/256 [==============================] - 1s 5ms/step - loss: 3.8972e-04\n",
      "Epoch 13/200\n",
      "256/256 [==============================] - 1s 5ms/step - loss: 3.7438e-04\n",
      "Epoch 14/200\n",
      "256/256 [==============================] - 1s 5ms/step - loss: 3.5115e-04\n",
      "Epoch 15/200\n",
      "256/256 [==============================] - 1s 5ms/step - loss: 3.5922e-04\n",
      "Epoch 16/200\n",
      "256/256 [==============================] - 1s 5ms/step - loss: 3.4349e-04\n",
      "Epoch 17/200\n",
      "256/256 [==============================] - 1s 5ms/step - loss: 3.1707e-04\n",
      "Epoch 18/200\n",
      "256/256 [==============================] - 1s 5ms/step - loss: 3.0380e-04\n",
      "Epoch 19/200\n",
      "256/256 [==============================] - 1s 5ms/step - loss: 2.8974e-04\n",
      "Epoch 20/200\n",
      "256/256 [==============================] - 1s 5ms/step - loss: 2.7963e-04\n",
      "Epoch 21/200\n",
      "256/256 [==============================] - 1s 5ms/step - loss: 2.7555e-04\n",
      "Epoch 22/200\n",
      "256/256 [==============================] - 1s 5ms/step - loss: 2.6232e-04\n",
      "Epoch 23/200\n",
      "256/256 [==============================] - 1s 5ms/step - loss: 2.5033e-04\n",
      "Epoch 24/200\n",
      "256/256 [==============================] - 1s 5ms/step - loss: 2.5572e-04\n",
      "Epoch 25/200\n",
      "256/256 [==============================] - 1s 5ms/step - loss: 2.3329e-04\n",
      "Epoch 26/200\n",
      "256/256 [==============================] - 1s 5ms/step - loss: 2.3967e-04\n",
      "Epoch 27/200\n",
      "256/256 [==============================] - 1s 5ms/step - loss: 2.2411e-04\n",
      "Epoch 28/200\n",
      "256/256 [==============================] - 1s 5ms/step - loss: 2.2025e-04\n",
      "Epoch 29/200\n",
      "256/256 [==============================] - 1s 5ms/step - loss: 2.0864e-04\n",
      "Epoch 30/200\n",
      "256/256 [==============================] - 1s 5ms/step - loss: 2.0813e-04\n",
      "Epoch 31/200\n",
      "256/256 [==============================] - 1s 5ms/step - loss: 2.0094e-04\n",
      "Epoch 32/200\n",
      "256/256 [==============================] - 1s 4ms/step - loss: 2.0193e-04\n",
      "Epoch 33/200\n",
      "256/256 [==============================] - 1s 4ms/step - loss: 1.9957e-04\n",
      "Epoch 34/200\n",
      "256/256 [==============================] - 1s 5ms/step - loss: 1.9941e-04\n",
      "Epoch 35/200\n",
      "256/256 [==============================] - 1s 5ms/step - loss: 1.8619e-04\n",
      "Epoch 36/200\n",
      "256/256 [==============================] - 1s 5ms/step - loss: 1.8840e-04\n",
      "Epoch 37/200\n",
      "256/256 [==============================] - 1s 5ms/step - loss: 1.8121e-04\n",
      "Epoch 38/200\n",
      "256/256 [==============================] - 2s 6ms/step - loss: 1.8461e-04\n",
      "Epoch 39/200\n",
      "256/256 [==============================] - 1s 5ms/step - loss: 1.8461e-04\n",
      "Epoch 40/200\n",
      "256/256 [==============================] - 1s 5ms/step - loss: 1.7398e-04\n",
      "Epoch 41/200\n",
      "256/256 [==============================] - 1s 5ms/step - loss: 1.7612e-04\n",
      "Epoch 42/200\n",
      "256/256 [==============================] - 1s 5ms/step - loss: 1.7336e-04\n",
      "Epoch 43/200\n",
      "256/256 [==============================] - 1s 5ms/step - loss: 1.7480e-04\n",
      "Epoch 44/200\n",
      "256/256 [==============================] - 1s 4ms/step - loss: 1.7256e-04\n",
      "Epoch 45/200\n",
      "256/256 [==============================] - 1s 5ms/step - loss: 1.7801e-04\n",
      "Epoch 46/200\n",
      "256/256 [==============================] - 1s 5ms/step - loss: 1.6699e-04\n",
      "Epoch 47/200\n",
      "256/256 [==============================] - 1s 5ms/step - loss: 1.6446e-04\n",
      "Epoch 48/200\n",
      "256/256 [==============================] - 1s 5ms/step - loss: 1.7242e-04\n",
      "Epoch 49/200\n",
      "256/256 [==============================] - 1s 6ms/step - loss: 1.6138e-04\n",
      "Epoch 50/200\n",
      "256/256 [==============================] - 1s 5ms/step - loss: 1.6294e-04\n",
      "Epoch 51/200\n",
      "256/256 [==============================] - 1s 5ms/step - loss: 1.5355e-04\n",
      "Epoch 52/200\n",
      "256/256 [==============================] - 1s 6ms/step - loss: 1.5689e-04\n",
      "Epoch 53/200\n",
      "256/256 [==============================] - 1s 5ms/step - loss: 1.5970e-04\n",
      "Epoch 54/200\n",
      "256/256 [==============================] - 1s 6ms/step - loss: 1.5912e-04\n",
      "Epoch 55/200\n",
      "256/256 [==============================] - 1s 5ms/step - loss: 1.6015e-04\n",
      "Epoch 56/200\n",
      "256/256 [==============================] - 1s 5ms/step - loss: 1.5377e-04\n",
      "Epoch 57/200\n",
      "256/256 [==============================] - 1s 5ms/step - loss: 1.5765e-04\n",
      "Epoch 58/200\n",
      "256/256 [==============================] - 1s 5ms/step - loss: 1.5654e-04\n",
      "Epoch 59/200\n",
      "256/256 [==============================] - 1s 5ms/step - loss: 1.5275e-04\n",
      "Epoch 60/200\n",
      "256/256 [==============================] - 1s 5ms/step - loss: 1.4869e-04\n",
      "Epoch 61/200\n",
      "256/256 [==============================] - 1s 5ms/step - loss: 1.5478e-04\n",
      "Epoch 62/200\n",
      "256/256 [==============================] - 1s 5ms/step - loss: 1.5158e-04A: \n",
      "Epoch 63/200\n",
      "256/256 [==============================] - 1s 5ms/step - loss: 1.4621e-04\n",
      "Epoch 64/200\n",
      "256/256 [==============================] - 1s 5ms/step - loss: 1.4893e-04\n",
      "Epoch 65/200\n",
      "256/256 [==============================] - 1s 5ms/step - loss: 1.4900e-04\n",
      "Epoch 66/200\n",
      "256/256 [==============================] - 1s 5ms/step - loss: 1.4773e-04\n",
      "Epoch 67/200\n",
      "256/256 [==============================] - 1s 5ms/step - loss: 1.5577e-04\n",
      "Epoch 68/200\n",
      "256/256 [==============================] - 1s 5ms/step - loss: 1.5128e-04\n",
      "Epoch 69/200\n",
      "256/256 [==============================] - 1s 5ms/step - loss: 1.4395e-04\n",
      "Epoch 70/200\n",
      "256/256 [==============================] - 1s 5ms/step - loss: 1.4715e-04\n",
      "Epoch 71/200\n",
      "256/256 [==============================] - 1s 5ms/step - loss: 1.3886e-04\n",
      "Epoch 72/200\n",
      "256/256 [==============================] - 1s 5ms/step - loss: 1.4165e-04\n",
      "Epoch 73/200\n",
      "256/256 [==============================] - 1s 5ms/step - loss: 1.4099e-04\n",
      "Epoch 74/200\n",
      "256/256 [==============================] - 1s 5ms/step - loss: 1.4435e-04\n",
      "Epoch 75/200\n",
      "256/256 [==============================] - 1s 5ms/step - loss: 1.3694e-04\n",
      "Epoch 76/200\n",
      "256/256 [==============================] - 1s 5ms/step - loss: 1.3885e-04\n",
      "Epoch 77/200\n",
      "256/256 [==============================] - 1s 5ms/step - loss: 1.3957e-04\n",
      "Epoch 78/200\n",
      "256/256 [==============================] - 1s 5ms/step - loss: 1.3923e-04\n",
      "Epoch 79/200\n",
      "256/256 [==============================] - 1s 5ms/step - loss: 1.3826e-04\n",
      "Epoch 80/200\n",
      "256/256 [==============================] - 1s 5ms/step - loss: 1.4103e-04A:\n",
      "Epoch 81/200\n",
      "256/256 [==============================] - 1s 5ms/step - loss: 1.3574e-04\n",
      "Epoch 82/200\n",
      "256/256 [==============================] - 1s 5ms/step - loss: 1.3479e-04\n",
      "Epoch 83/200\n",
      "256/256 [==============================] - 1s 4ms/step - loss: 1.3487e-04\n",
      "Epoch 84/200\n",
      "256/256 [==============================] - 1s 5ms/step - loss: 1.3428e-04\n",
      "Epoch 85/200\n",
      "256/256 [==============================] - 1s 5ms/step - loss: 1.3305e-04\n",
      "Epoch 86/200\n",
      "256/256 [==============================] - 1s 5ms/step - loss: 1.3919e-04\n",
      "Epoch 87/200\n",
      "256/256 [==============================] - 1s 5ms/step - loss: 1.3320e-04\n",
      "Epoch 88/200\n",
      "256/256 [==============================] - 1s 5ms/step - loss: 1.3310e-04\n",
      "Epoch 89/200\n",
      "256/256 [==============================] - 1s 5ms/step - loss: 1.3562e-04\n",
      "Epoch 90/200\n",
      "256/256 [==============================] - 1s 5ms/step - loss: 1.3429e-04\n",
      "Epoch 91/200\n",
      "256/256 [==============================] - 1s 5ms/step - loss: 1.2855e-04\n",
      "Epoch 92/200\n",
      "256/256 [==============================] - 1s 5ms/step - loss: 1.2923e-04\n",
      "Epoch 93/200\n",
      "256/256 [==============================] - 1s 5ms/step - loss: 1.2990e-04\n",
      "Epoch 94/200\n",
      "256/256 [==============================] - 1s 5ms/step - loss: 1.2519e-04\n",
      "Epoch 95/200\n",
      "256/256 [==============================] - 1s 5ms/step - loss: 1.2626e-04\n",
      "Epoch 96/200\n",
      "256/256 [==============================] - 1s 6ms/step - loss: 1.3077e-04\n",
      "Epoch 97/200\n",
      "256/256 [==============================] - 1s 6ms/step - loss: 1.3514e-04\n",
      "Epoch 98/200\n",
      "256/256 [==============================] - 1s 5ms/step - loss: 1.2277e-04\n",
      "Epoch 99/200\n",
      "256/256 [==============================] - 1s 5ms/step - loss: 1.2211e-04\n",
      "Epoch 100/200\n",
      "256/256 [==============================] - 1s 5ms/step - loss: 1.2391e-04\n",
      "Epoch 101/200\n",
      "256/256 [==============================] - 1s 5ms/step - loss: 1.2678e-04\n",
      "Epoch 102/200\n",
      "256/256 [==============================] - 1s 5ms/step - loss: 1.2471e-04\n",
      "Epoch 103/200\n",
      "256/256 [==============================] - 1s 5ms/step - loss: 1.2241e-04\n",
      "Epoch 104/200\n",
      "256/256 [==============================] - 1s 5ms/step - loss: 1.2357e-04\n",
      "Epoch 105/200\n",
      "256/256 [==============================] - 1s 5ms/step - loss: 1.2088e-04\n",
      "Epoch 106/200\n",
      "256/256 [==============================] - 1s 5ms/step - loss: 1.2833e-04\n",
      "Epoch 107/200\n",
      "256/256 [==============================] - 1s 5ms/step - loss: 1.2231e-04\n",
      "Epoch 108/200\n",
      "256/256 [==============================] - 1s 5ms/step - loss: 1.2084e-04\n",
      "Epoch 109/200\n",
      "256/256 [==============================] - 1s 5ms/step - loss: 1.2579e-04\n",
      "Epoch 110/200\n",
      "256/256 [==============================] - 1s 5ms/step - loss: 1.1618e-04\n",
      "Epoch 111/200\n",
      "256/256 [==============================] - 1s 5ms/step - loss: 1.2337e-04\n",
      "Epoch 112/200\n",
      "256/256 [==============================] - 1s 5ms/step - loss: 1.2708e-04\n",
      "Epoch 113/200\n",
      "256/256 [==============================] - 1s 5ms/step - loss: 1.2290e-04\n",
      "Epoch 114/200\n",
      "256/256 [==============================] - 1s 5ms/step - loss: 1.2295e-04\n",
      "Epoch 115/200\n",
      "256/256 [==============================] - 1s 5ms/step - loss: 1.1531e-04\n",
      "Epoch 116/200\n",
      "256/256 [==============================] - 1s 5ms/step - loss: 1.1833e-04\n",
      "Epoch 117/200\n",
      "256/256 [==============================] - 1s 4ms/step - loss: 1.1645e-04\n",
      "Epoch 118/200\n",
      "256/256 [==============================] - 1s 5ms/step - loss: 1.2057e-04\n",
      "Epoch 119/200\n",
      "256/256 [==============================] - 1s 5ms/step - loss: 1.1547e-04\n",
      "Epoch 120/200\n",
      "256/256 [==============================] - 1s 5ms/step - loss: 1.1455e-04\n",
      "Epoch 121/200\n",
      "256/256 [==============================] - 1s 5ms/step - loss: 1.1968e-04\n",
      "Epoch 122/200\n",
      "256/256 [==============================] - 1s 5ms/step - loss: 1.1577e-04\n",
      "Epoch 123/200\n",
      "256/256 [==============================] - 1s 5ms/step - loss: 1.1846e-04\n",
      "Epoch 124/200\n",
      "256/256 [==============================] - 1s 5ms/step - loss: 1.1759e-04\n",
      "Epoch 125/200\n",
      "256/256 [==============================] - 1s 5ms/step - loss: 1.1356e-04\n",
      "Epoch 126/200\n",
      "256/256 [==============================] - 1s 5ms/step - loss: 1.1496e-04\n",
      "Epoch 127/200\n",
      "256/256 [==============================] - 1s 5ms/step - loss: 1.1528e-04\n",
      "Epoch 128/200\n",
      "256/256 [==============================] - 1s 4ms/step - loss: 1.1220e-04\n",
      "Epoch 129/200\n",
      "256/256 [==============================] - 1s 4ms/step - loss: 1.1588e-04\n",
      "Epoch 130/200\n",
      "256/256 [==============================] - 1s 5ms/step - loss: 1.1030e-04\n",
      "Epoch 131/200\n",
      "256/256 [==============================] - 1s 6ms/step - loss: 1.0836e-04\n",
      "Epoch 132/200\n",
      "256/256 [==============================] - 1s 5ms/step - loss: 1.1330e-04\n",
      "Epoch 133/200\n",
      "256/256 [==============================] - 1s 5ms/step - loss: 1.0911e-04\n",
      "Epoch 134/200\n",
      "256/256 [==============================] - 1s 5ms/step - loss: 1.0846e-04\n",
      "Epoch 135/200\n",
      "256/256 [==============================] - 1s 5ms/step - loss: 1.1050e-04\n",
      "Epoch 136/200\n",
      "256/256 [==============================] - 1s 5ms/step - loss: 1.1451e-04\n",
      "Epoch 137/200\n",
      "256/256 [==============================] - 1s 5ms/step - loss: 1.1006e-04\n",
      "Epoch 138/200\n",
      "256/256 [==============================] - 1s 5ms/step - loss: 1.1296e-04\n",
      "Epoch 139/200\n",
      "256/256 [==============================] - 1s 5ms/step - loss: 1.1281e-04\n",
      "Epoch 140/200\n",
      "256/256 [==============================] - 1s 5ms/step - loss: 1.1079e-04\n",
      "Epoch 141/200\n",
      "256/256 [==============================] - 1s 5ms/step - loss: 1.1067e-04\n",
      "Epoch 142/200\n",
      "256/256 [==============================] - 1s 5ms/step - loss: 1.1136e-04\n",
      "Epoch 143/200\n",
      "256/256 [==============================] - 1s 5ms/step - loss: 1.0832e-04\n",
      "Epoch 144/200\n",
      "256/256 [==============================] - 1s 5ms/step - loss: 1.1522e-04\n",
      "Epoch 145/200\n",
      "256/256 [==============================] - 1s 5ms/step - loss: 1.0732e-04\n",
      "Epoch 146/200\n",
      "256/256 [==============================] - 1s 4ms/step - loss: 1.0554e-04\n",
      "Epoch 147/200\n",
      "256/256 [==============================] - 1s 5ms/step - loss: 1.0992e-04\n",
      "Epoch 148/200\n",
      "256/256 [==============================] - 1s 5ms/step - loss: 1.0605e-04\n",
      "Epoch 149/200\n",
      "256/256 [==============================] - 1s 5ms/step - loss: 1.0737e-04\n",
      "Epoch 150/200\n",
      "256/256 [==============================] - 1s 4ms/step - loss: 1.0993e-04\n",
      "Epoch 151/200\n",
      "256/256 [==============================] - 1s 4ms/step - loss: 1.0470e-04\n",
      "Epoch 152/200\n",
      "256/256 [==============================] - 1s 5ms/step - loss: 1.1243e-04\n",
      "Epoch 153/200\n",
      "256/256 [==============================] - 1s 5ms/step - loss: 1.0485e-04\n",
      "Epoch 154/200\n",
      "256/256 [==============================] - 1s 4ms/step - loss: 1.0712e-04\n",
      "Epoch 155/200\n",
      "256/256 [==============================] - 1s 4ms/step - loss: 1.0566e-04\n",
      "Epoch 156/200\n",
      "256/256 [==============================] - 1s 4ms/step - loss: 1.0836e-04\n",
      "Epoch 157/200\n",
      "256/256 [==============================] - 1s 5ms/step - loss: 1.0881e-04\n",
      "Epoch 158/200\n",
      "256/256 [==============================] - 1s 5ms/step - loss: 1.0392e-04\n",
      "Epoch 159/200\n",
      "256/256 [==============================] - 1s 5ms/step - loss: 1.0811e-04\n",
      "Epoch 160/200\n",
      "256/256 [==============================] - 1s 5ms/step - loss: 1.0673e-04\n",
      "Epoch 161/200\n",
      "256/256 [==============================] - 1s 5ms/step - loss: 1.0874e-04\n",
      "Epoch 162/200\n",
      "256/256 [==============================] - 1s 5ms/step - loss: 1.0297e-04\n",
      "Epoch 163/200\n",
      "256/256 [==============================] - 1s 4ms/step - loss: 1.0852e-04A: \n",
      "Epoch 164/200\n",
      "256/256 [==============================] - 1s 5ms/step - loss: 1.0589e-04\n",
      "Epoch 165/200\n",
      "256/256 [==============================] - 1s 5ms/step - loss: 1.0420e-04\n",
      "Epoch 166/200\n",
      "256/256 [==============================] - 1s 5ms/step - loss: 1.0549e-04\n",
      "Epoch 167/200\n",
      "256/256 [==============================] - 1s 5ms/step - loss: 1.0572e-04\n",
      "Epoch 168/200\n",
      "256/256 [==============================] - 1s 5ms/step - loss: 1.0328e-04A: \n",
      "Epoch 169/200\n",
      "256/256 [==============================] - 1s 5ms/step - loss: 1.0190e-04\n",
      "Epoch 170/200\n",
      "256/256 [==============================] - 1s 5ms/step - loss: 1.0030e-04\n",
      "Epoch 171/200\n",
      "256/256 [==============================] - 1s 5ms/step - loss: 1.0642e-04\n",
      "Epoch 172/200\n",
      "256/256 [==============================] - 1s 5ms/step - loss: 1.0358e-04\n",
      "Epoch 173/200\n",
      "256/256 [==============================] - 1s 5ms/step - loss: 1.0166e-04\n",
      "Epoch 174/200\n",
      "256/256 [==============================] - 1s 5ms/step - loss: 1.0101e-04\n",
      "Epoch 175/200\n",
      "256/256 [==============================] - 1s 5ms/step - loss: 1.0096e-04\n",
      "Epoch 176/200\n",
      "256/256 [==============================] - 1s 4ms/step - loss: 1.0255e-04\n",
      "Epoch 177/200\n",
      "256/256 [==============================] - 1s 5ms/step - loss: 1.0052e-04\n",
      "Epoch 178/200\n",
      "256/256 [==============================] - 1s 5ms/step - loss: 1.0222e-04\n",
      "Epoch 179/200\n",
      "256/256 [==============================] - 1s 5ms/step - loss: 1.0250e-04\n",
      "Epoch 180/200\n",
      "256/256 [==============================] - 1s 5ms/step - loss: 9.9855e-05\n",
      "Epoch 181/200\n",
      "256/256 [==============================] - 1s 4ms/step - loss: 1.0345e-04\n",
      "Epoch 182/200\n",
      "256/256 [==============================] - 1s 5ms/step - loss: 1.0293e-04\n",
      "Epoch 183/200\n",
      "256/256 [==============================] - 1s 5ms/step - loss: 9.8574e-05\n",
      "Epoch 184/200\n",
      "256/256 [==============================] - 1s 5ms/step - loss: 9.7657e-05\n",
      "Epoch 185/200\n",
      "256/256 [==============================] - 1s 5ms/step - loss: 9.6846e-05\n",
      "Epoch 186/200\n",
      "256/256 [==============================] - 1s 5ms/step - loss: 1.0348e-04\n",
      "Epoch 187/200\n",
      "256/256 [==============================] - 1s 5ms/step - loss: 9.9333e-05\n",
      "Epoch 188/200\n",
      "256/256 [==============================] - 1s 5ms/step - loss: 1.0213e-04\n",
      "Epoch 189/200\n",
      "256/256 [==============================] - 1s 5ms/step - loss: 1.0091e-04\n",
      "Epoch 190/200\n",
      "256/256 [==============================] - 1s 5ms/step - loss: 1.0020e-04\n",
      "Epoch 191/200\n",
      "256/256 [==============================] - 1s 4ms/step - loss: 9.7107e-05\n",
      "Epoch 192/200\n",
      "256/256 [==============================] - 1s 4ms/step - loss: 9.9019e-05\n",
      "Epoch 193/200\n",
      "256/256 [==============================] - 1s 5ms/step - loss: 9.8243e-05\n",
      "Epoch 194/200\n",
      "256/256 [==============================] - 1s 4ms/step - loss: 9.9403e-05\n",
      "Epoch 195/200\n",
      "256/256 [==============================] - 1s 5ms/step - loss: 9.9189e-05\n",
      "Epoch 196/200\n",
      "256/256 [==============================] - 1s 5ms/step - loss: 9.7715e-05\n",
      "Epoch 197/200\n",
      "256/256 [==============================] - 1s 5ms/step - loss: 9.8692e-05\n",
      "Epoch 198/200\n",
      "256/256 [==============================] - 1s 5ms/step - loss: 9.7099e-05\n",
      "Epoch 199/200\n",
      "256/256 [==============================] - 1s 5ms/step - loss: 9.6660e-05A: \n",
      "Epoch 200/200\n",
      "256/256 [==============================] - 1s 5ms/step - loss: 9.6305e-05\n"
     ]
    },
    {
     "data": {
      "text/plain": [
       "<tensorflow.python.keras.callbacks.History at 0x203ff10f430>"
      ]
     },
     "execution_count": 39,
     "metadata": {},
     "output_type": "execute_result"
    }
   ],
   "source": [
    "model.fit(previsores, preco_real, epochs = 200, batch_size = 16)"
   ]
  },
  {
   "cell_type": "code",
   "execution_count": 40,
   "id": "38cf84a9-3899-48ba-a7f1-5104f86f2041",
   "metadata": {},
   "outputs": [],
   "source": [
    "preco_real_open = data_set.iloc[ index_test:, 1:2].values"
   ]
  },
  {
   "cell_type": "code",
   "execution_count": 41,
   "id": "bf43979e-6087-48d5-9d26-566ad1e95e9f",
   "metadata": {},
   "outputs": [
    {
     "data": {
      "text/plain": [
       "(1108, 1)"
      ]
     },
     "execution_count": 41,
     "metadata": {},
     "output_type": "execute_result"
    }
   ],
   "source": [
    "entradas = data_set.iloc[ index_test-timesteps:, 1:2].values\n",
    "\n",
    "entradas = entradas.reshape(-1, 1)\n",
    "entradas = normalizador.transform(entradas)\n",
    "entradas.shape"
   ]
  },
  {
   "cell_type": "code",
   "execution_count": 42,
   "id": "8abcd6ed-8e7d-4222-9275-36d5b1f66eea",
   "metadata": {},
   "outputs": [
    {
     "data": {
      "text/plain": [
       "(1101, 7)"
      ]
     },
     "execution_count": 42,
     "metadata": {},
     "output_type": "execute_result"
    }
   ],
   "source": [
    "X_teste = []\n",
    "for i in range(timesteps, len(entradas)):\n",
    "    X_teste.append(entradas[i-timesteps:i, 0])\n",
    "X_teste = np.array(X_teste)\n",
    "X_teste.shape"
   ]
  },
  {
   "cell_type": "code",
   "execution_count": 43,
   "id": "f6b3c706-c8c4-4b4d-8ca0-e1332ae94bf6",
   "metadata": {},
   "outputs": [
    {
     "data": {
      "text/plain": [
       "(1101, 7, 1)"
      ]
     },
     "execution_count": 43,
     "metadata": {},
     "output_type": "execute_result"
    }
   ],
   "source": [
    "X_teste = np.reshape(X_teste, (X_teste.shape[0], X_teste.shape[1], 1))\n",
    "X_teste.shape"
   ]
  },
  {
   "cell_type": "code",
   "execution_count": 44,
   "id": "53d28b47-5406-4361-ab54-4f2a8cc4ed5e",
   "metadata": {},
   "outputs": [
    {
     "data": {
      "text/plain": [
       "(1101, 1)"
      ]
     },
     "execution_count": 44,
     "metadata": {},
     "output_type": "execute_result"
    }
   ],
   "source": [
    "previsoes = model.predict(X_teste)\n",
    "previsoes.shape"
   ]
  },
  {
   "cell_type": "code",
   "execution_count": 45,
   "id": "2543edd4-96a8-4702-a7e2-7a4c3f8834b4",
   "metadata": {},
   "outputs": [
    {
     "data": {
      "text/plain": [
       "(1101, 1)"
      ]
     },
     "execution_count": 45,
     "metadata": {},
     "output_type": "execute_result"
    }
   ],
   "source": [
    "previsoes = normalizador.inverse_transform(previsoes)\n",
    "previsoes.shape"
   ]
  },
  {
   "cell_type": "code",
   "execution_count": 46,
   "id": "157d8f6c-00fe-40fd-90ac-5b6d81242cf5",
   "metadata": {},
   "outputs": [
    {
     "data": {
      "image/png": "[encoded data removed]",
      "text/plain": [
       "<Figure size 432x288 with 1 Axes>"
      ]
     },
     "metadata": {
      "needs_background": "light"
     },
     "output_type": "display_data"
    }
   ],
   "source": [
    "plt.plot(preco_real_open, color = 'red', label = 'Preço abertura real')\n",
    "\n",
    "plt.plot(previsoes[:, 0], color = 'blue', label = 'Previsões abertura')\n",
    "\n",
    "\n",
    "plt.title('Previsão preço das ações')\n",
    "plt.xlabel('Tempo')\n",
    "plt.ylabel('Valor Yahoo')\n",
    "plt.legend()\n",
    "plt.show()"
   ]
  },
  {
   "cell_type": "code",
   "execution_count": 47,
   "id": "883fe030-dabb-477b-830c-03de1987c58f",
   "metadata": {},
   "outputs": [],
   "source": [
    "from sklearn.metrics import mean_squared_error\n",
    "from sklearn.metrics import mean_absolute_error"
   ]
  },
  {
   "cell_type": "code",
   "execution_count": 48,
   "id": "63016576-0c9b-46a7-b081-3ba80fd934d9",
   "metadata": {},
   "outputs": [
    {
     "name": "stdout",
     "output_type": "stream",
     "text": [
      "302.5557461220169\n",
      "12.091578572852802\n"
     ]
    }
   ],
   "source": [
    "print(mean_squared_error(preco_real_open, previsoes[:, 0]))\n",
    "print(mean_absolute_error(preco_real_open, previsoes[:, 0]))"
   ]
  },
  {
   "cell_type": "code",
   "execution_count": null,
   "id": "c269d5c5-a18d-4e01-809a-51c76a05786d",
   "metadata": {},
   "outputs": [],
   "source": []
  }
 ],
 "metadata": {
  "kernelspec": {
   "display_name": "data_1",
   "language": "python",
   "name": "data_1"
  },
  "language_info": {
   "codemirror_mode": {
    "name": "ipython",
    "version": 3
   },
   "file_extension": ".py",
   "mimetype": "text/x-python",
   "name": "python",
   "nbconvert_exporter": "python",
   "pygments_lexer": "ipython3",
   "version": "3.8.10"
  }
 },
 "nbformat": 4,
 "nbformat_minor": 5
}
