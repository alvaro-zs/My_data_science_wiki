{
 "cells": [
  {
   "cell_type": "code",
   "execution_count": 15,
   "id": "a9135edb-afee-4c65-97fc-d73a1fbfbb31",
   "metadata": {},
   "outputs": [],
   "source": [
    "import pandas as pd"
   ]
  },
  {
   "cell_type": "code",
   "execution_count": 16,
   "id": "d612080b-edc2-49b6-b3a2-936e6fa06f27",
   "metadata": {},
   "outputs": [
    {
     "data": {
      "text/html": [
       "<div>\n",
       "<style scoped>\n",
       "    .dataframe tbody tr th:only-of-type {\n",
       "        vertical-align: middle;\n",
       "    }\n",
       "\n",
       "    .dataframe tbody tr th {\n",
       "        vertical-align: top;\n",
       "    }\n",
       "\n",
       "    .dataframe thead th {\n",
       "        text-align: right;\n",
       "    }\n",
       "</style>\n",
       "<table border=\"1\" class=\"dataframe\">\n",
       "  <thead>\n",
       "    <tr style=\"text-align: right;\">\n",
       "      <th></th>\n",
       "      <th>Date</th>\n",
       "      <th>Open</th>\n",
       "      <th>High</th>\n",
       "      <th>Low</th>\n",
       "      <th>Close</th>\n",
       "      <th>Adj Close</th>\n",
       "      <th>Volume</th>\n",
       "    </tr>\n",
       "  </thead>\n",
       "  <tbody>\n",
       "    <tr>\n",
       "      <th>0</th>\n",
       "      <td>2000-09-01</td>\n",
       "      <td>277.000000</td>\n",
       "      <td>277.000000</td>\n",
       "      <td>277.000000</td>\n",
       "      <td>277.000000</td>\n",
       "      <td>277.000000</td>\n",
       "      <td>0.0</td>\n",
       "    </tr>\n",
       "    <tr>\n",
       "      <th>1</th>\n",
       "      <td>2000-09-04</td>\n",
       "      <td>NaN</td>\n",
       "      <td>NaN</td>\n",
       "      <td>NaN</td>\n",
       "      <td>NaN</td>\n",
       "      <td>NaN</td>\n",
       "      <td>NaN</td>\n",
       "    </tr>\n",
       "    <tr>\n",
       "      <th>2</th>\n",
       "      <td>2000-09-05</td>\n",
       "      <td>275.799988</td>\n",
       "      <td>275.799988</td>\n",
       "      <td>275.799988</td>\n",
       "      <td>275.799988</td>\n",
       "      <td>275.799988</td>\n",
       "      <td>2.0</td>\n",
       "    </tr>\n",
       "  </tbody>\n",
       "</table>\n",
       "</div>"
      ],
      "text/plain": [
       "         Date        Open        High         Low       Close   Adj Close  \\\n",
       "0  2000-09-01  277.000000  277.000000  277.000000  277.000000  277.000000   \n",
       "1  2000-09-04         NaN         NaN         NaN         NaN         NaN   \n",
       "2  2000-09-05  275.799988  275.799988  275.799988  275.799988  275.799988   \n",
       "\n",
       "   Volume  \n",
       "0     0.0  \n",
       "1     NaN  \n",
       "2     2.0  "
      ]
     },
     "execution_count": 16,
     "metadata": {},
     "output_type": "execute_result"
    }
   ],
   "source": [
    "data_set = pd.read_csv('GC_larger.csv')\n",
    "data_set.head(3)"
   ]
  },
  {
   "cell_type": "code",
   "execution_count": 17,
   "id": "f2fa35a1-c539-442c-aed0-5d68247faa2b",
   "metadata": {},
   "outputs": [
    {
     "data": {
      "text/html": [
       "<div>\n",
       "<style scoped>\n",
       "    .dataframe tbody tr th:only-of-type {\n",
       "        vertical-align: middle;\n",
       "    }\n",
       "\n",
       "    .dataframe tbody tr th {\n",
       "        vertical-align: top;\n",
       "    }\n",
       "\n",
       "    .dataframe thead th {\n",
       "        text-align: right;\n",
       "    }\n",
       "</style>\n",
       "<table border=\"1\" class=\"dataframe\">\n",
       "  <thead>\n",
       "    <tr style=\"text-align: right;\">\n",
       "      <th></th>\n",
       "      <th>Date</th>\n",
       "      <th>Open</th>\n",
       "      <th>High</th>\n",
       "      <th>Low</th>\n",
       "      <th>Close</th>\n",
       "      <th>Adj Close</th>\n",
       "      <th>Volume</th>\n",
       "    </tr>\n",
       "  </thead>\n",
       "  <tbody>\n",
       "    <tr>\n",
       "      <th>5313</th>\n",
       "      <td>2021-07-15</td>\n",
       "      <td>1831.599976</td>\n",
       "      <td>1833.000000</td>\n",
       "      <td>1823.400024</td>\n",
       "      <td>1828.400024</td>\n",
       "      <td>1828.400024</td>\n",
       "      <td>99.0</td>\n",
       "    </tr>\n",
       "    <tr>\n",
       "      <th>5314</th>\n",
       "      <td>2021-07-16</td>\n",
       "      <td>1830.099976</td>\n",
       "      <td>1831.400024</td>\n",
       "      <td>1814.500000</td>\n",
       "      <td>1814.500000</td>\n",
       "      <td>1814.500000</td>\n",
       "      <td>78.0</td>\n",
       "    </tr>\n",
       "    <tr>\n",
       "      <th>5315</th>\n",
       "      <td>2021-07-19</td>\n",
       "      <td>1803.300049</td>\n",
       "      <td>1813.400024</td>\n",
       "      <td>1803.300049</td>\n",
       "      <td>1808.699951</td>\n",
       "      <td>1808.699951</td>\n",
       "      <td>78.0</td>\n",
       "    </tr>\n",
       "  </tbody>\n",
       "</table>\n",
       "</div>"
      ],
      "text/plain": [
       "            Date         Open         High          Low        Close  \\\n",
       "5313  2021-07-15  1831.599976  1833.000000  1823.400024  1828.400024   \n",
       "5314  2021-07-16  1830.099976  1831.400024  1814.500000  1814.500000   \n",
       "5315  2021-07-19  1803.300049  1813.400024  1803.300049  1808.699951   \n",
       "\n",
       "        Adj Close  Volume  \n",
       "5313  1828.400024    99.0  \n",
       "5314  1814.500000    78.0  \n",
       "5315  1808.699951    78.0  "
      ]
     },
     "execution_count": 17,
     "metadata": {},
     "output_type": "execute_result"
    }
   ],
   "source": [
    "data_set.tail(3)"
   ]
  },
  {
   "cell_type": "code",
   "execution_count": 18,
   "id": "39dede1b-9063-46e0-8301-d3957e433942",
   "metadata": {},
   "outputs": [
    {
     "data": {
      "text/plain": [
       "Date           0\n",
       "Open         112\n",
       "High         112\n",
       "Low          112\n",
       "Close        112\n",
       "Adj Close    112\n",
       "Volume       112\n",
       "dtype: int64"
      ]
     },
     "execution_count": 18,
     "metadata": {},
     "output_type": "execute_result"
    }
   ],
   "source": [
    "data_set.isnull().sum()"
   ]
  },
  {
   "cell_type": "code",
   "execution_count": 19,
   "id": "789c5e34-9544-4c6b-86ea-ce670ee58478",
   "metadata": {},
   "outputs": [],
   "source": [
    "data_set = data_set.dropna().reset_index(drop=True)"
   ]
  },
  {
   "cell_type": "code",
   "execution_count": 20,
   "id": "8ec63d6f-3ac1-4a27-a6b0-261256538185",
   "metadata": {},
   "outputs": [],
   "source": [
    "from sklearn.preprocessing import MinMaxScaler\n",
    "import numpy as np\n",
    "import pandas as pd\n",
    "import matplotlib.pyplot as plt"
   ]
  },
  {
   "cell_type": "code",
   "execution_count": 25,
   "id": "2515d71e-46ef-44a5-85a9-2be44327483f",
   "metadata": {},
   "outputs": [],
   "source": [
    "index_test = int(len(data_set)*0.8) + (len(data_set)%0.8> 0)\n",
    "index_test=4096+timesteps"
   ]
  },
  {
   "cell_type": "code",
   "execution_count": 26,
   "id": "357f2231-980b-4e8f-97aa-8829a1e33cf1",
   "metadata": {},
   "outputs": [
    {
     "data": {
      "text/plain": [
       "(4103, 1)"
      ]
     },
     "execution_count": 26,
     "metadata": {},
     "output_type": "execute_result"
    }
   ],
   "source": [
    "base_treinamento = data_set.iloc[:index_test, 1:2].values\n",
    "base_treinamento.shape"
   ]
  },
  {
   "cell_type": "code",
   "execution_count": 27,
   "id": "bba6dfa9-14f0-4039-8a81-3b8dbb7cccde",
   "metadata": {},
   "outputs": [
    {
     "name": "stdout",
     "output_type": "stream",
     "text": [
      "(4103, 1)\n"
     ]
    }
   ],
   "source": [
    "normalizador = MinMaxScaler(feature_range=(0,1))\n",
    "base_treinamento_normalizada = normalizador.fit_transform(base_treinamento)\n",
    "print(base_treinamento_normalizada.shape)"
   ]
  },
  {
   "cell_type": "code",
   "execution_count": 28,
   "id": "77f93a59-201d-46cf-8e0e-1a18300a1c62",
   "metadata": {},
   "outputs": [
    {
     "name": "stdout",
     "output_type": "stream",
     "text": [
      "(4096, 7)\n",
      "(4096,)\n"
     ]
    }
   ],
   "source": [
    "previsores = []\n",
    "preco_real = []\n",
    "timesteps = 7\n",
    "for i in range(timesteps, len(base_treinamento_normalizada)):\n",
    "    previsores.append(base_treinamento_normalizada[i-timesteps:i, 0])\n",
    "    preco_real.append(base_treinamento_normalizada[i, 0])\n",
    "previsores, preco_real = np.array(previsores), np.array(preco_real)\n",
    "print(previsores.shape)\n",
    "print(preco_real.shape)"
   ]
  },
  {
   "cell_type": "code",
   "execution_count": 29,
   "id": "d53b9279-3393-4033-9075-cea7249d6bf0",
   "metadata": {},
   "outputs": [
    {
     "data": {
      "text/plain": [
       "(4096, 7, 1)"
      ]
     },
     "execution_count": 29,
     "metadata": {},
     "output_type": "execute_result"
    }
   ],
   "source": [
    "previsores = np.reshape(previsores, (previsores.shape[0], previsores.shape[1], 1))\n",
    "previsores.shape"
   ]
  },
  {
   "cell_type": "code",
   "execution_count": 30,
   "id": "420b5ab4-2ca1-44b5-a144-7a16e26abc2f",
   "metadata": {},
   "outputs": [],
   "source": [
    "from keras.models import Sequential\n",
    "from keras.layers import Dense, Dropout, LSTM, Activation\n",
    "from keras.layers import Convolution1D, MaxPooling1D, Flatten,  Embedding\n",
    "from keras.layers.normalization import BatchNormalization\n",
    "from keras_self_attention import SeqSelfAttention\n",
    "import keras"
   ]
  },
  {
   "cell_type": "code",
   "execution_count": 31,
   "id": "c917b073-d992-4add-92d5-c66a16ef2e42",
   "metadata": {},
   "outputs": [
    {
     "name": "stdout",
     "output_type": "stream",
     "text": [
      "Model: \"sequential_1\"\n",
      "_________________________________________________________________\n",
      "Layer (type)                 Output Shape              Param #   \n",
      "=================================================================\n",
      "lstm_1 (LSTM)                (None, 100)               40800     \n",
      "_________________________________________________________________\n",
      "dense_1 (Dense)              (None, 1)                 101       \n",
      "=================================================================\n",
      "Total params: 40,901\n",
      "Trainable params: 40,901\n",
      "Non-trainable params: 0\n",
      "_________________________________________________________________\n"
     ]
    }
   ],
   "source": [
    "# Initialising the LSTM Model with MAE Loss-Function\n",
    "# Using Functional API\n",
    "\n",
    "model=Sequential()\n",
    "\n",
    "model.add(LSTM(100, activation='relu', input_shape=(timesteps,1)))\n",
    "\n",
    "\n",
    "model.add(Dense(units = 1, activation='linear'))\n",
    "\n",
    "#Compiling\n",
    "model.compile(optimizer='RMSprop', loss = 'mse')\n",
    "#Model summary\n",
    "model.summary()"
   ]
  },
  {
   "cell_type": "code",
   "execution_count": null,
   "id": "f925f792-77d4-45e4-9015-492116c8067a",
   "metadata": {
    "scrolled": true,
    "tags": []
   },
   "outputs": [
    {
     "name": "stdout",
     "output_type": "stream",
     "text": [
      "Epoch 1/200\n",
      "256/256 [==============================] - 1s 4ms/step - loss: 0.0060\n",
      "Epoch 2/200\n",
      "256/256 [==============================] - 1s 4ms/step - loss: 6.4955e-04\n",
      "Epoch 3/200\n",
      "256/256 [==============================] - ETA: 0s - loss: 5.6209e-0 - 1s 4ms/step - loss: 5.5197e-04\n",
      "Epoch 4/200\n",
      "256/256 [==============================] - 1s 4ms/step - loss: 5.1022e-04\n",
      "Epoch 5/200\n",
      "256/256 [==============================] - 1s 4ms/step - loss: 4.5201e-04\n",
      "Epoch 6/200\n",
      "256/256 [==============================] - 1s 4ms/step - loss: 4.1055e-04\n",
      "Epoch 7/200\n",
      "256/256 [==============================] - 1s 4ms/step - loss: 3.9688e-04\n",
      "Epoch 8/200\n",
      "256/256 [==============================] - 1s 4ms/step - loss: 3.2683e-04\n",
      "Epoch 9/200\n",
      "256/256 [==============================] - 1s 4ms/step - loss: 3.1637e-04\n",
      "Epoch 10/200\n",
      "256/256 [==============================] - 1s 4ms/step - loss: 2.9015e-04\n",
      "Epoch 11/200\n",
      "256/256 [==============================] - 1s 4ms/step - loss: 2.8037e-04\n",
      "Epoch 12/200\n",
      "256/256 [==============================] - 1s 4ms/step - loss: 2.4872e-04\n",
      "Epoch 13/200\n",
      "256/256 [==============================] - 1s 4ms/step - loss: 2.2965e-04\n",
      "Epoch 14/200\n",
      "256/256 [==============================] - 1s 4ms/step - loss: 2.2477e-04\n",
      "Epoch 15/200\n",
      "256/256 [==============================] - 1s 4ms/step - loss: 2.0909e-04\n",
      "Epoch 16/200\n",
      "256/256 [==============================] - 1s 4ms/step - loss: 1.9513e-04\n",
      "Epoch 17/200\n",
      "256/256 [==============================] - 1s 4ms/step - loss: 1.8605e-04\n",
      "Epoch 18/200\n",
      "256/256 [==============================] - 1s 4ms/step - loss: 1.8395e-04\n",
      "Epoch 19/200\n",
      "256/256 [==============================] - 1s 4ms/step - loss: 1.7639e-04\n",
      "Epoch 20/200\n",
      "256/256 [==============================] - 1s 4ms/step - loss: 1.6964e-04\n",
      "Epoch 21/200\n",
      "256/256 [==============================] - 1s 4ms/step - loss: 1.5842e-04\n",
      "Epoch 22/200\n",
      "256/256 [==============================] - 1s 4ms/step - loss: 1.5808e-04\n",
      "Epoch 23/200\n",
      "256/256 [==============================] - 1s 4ms/step - loss: 1.5004e-04\n",
      "Epoch 24/200\n",
      "256/256 [==============================] - 1s 4ms/step - loss: 1.3884e-04\n",
      "Epoch 25/200\n",
      "256/256 [==============================] - 1s 4ms/step - loss: 1.4187e-04\n",
      "Epoch 26/200\n",
      "256/256 [==============================] - 1s 3ms/step - loss: 1.3842e-04\n",
      "Epoch 27/200\n",
      "256/256 [==============================] - 1s 4ms/step - loss: 1.3791e-04\n",
      "Epoch 28/200\n",
      "256/256 [==============================] - 1s 4ms/step - loss: 1.2625e-04\n",
      "Epoch 29/200\n",
      "256/256 [==============================] - 1s 4ms/step - loss: 1.3042e-04\n",
      "Epoch 30/200\n",
      "256/256 [==============================] - 1s 4ms/step - loss: 1.2452e-04\n",
      "Epoch 31/200\n",
      "256/256 [==============================] - 1s 4ms/step - loss: 1.2204e-04\n",
      "Epoch 32/200\n",
      "256/256 [==============================] - 1s 3ms/step - loss: 1.2164e-04\n",
      "Epoch 33/200\n",
      "256/256 [==============================] - 1s 3ms/step - loss: 1.1889e-04\n",
      "Epoch 34/200\n",
      "256/256 [==============================] - 1s 3ms/step - loss: 1.1655e-04\n",
      "Epoch 35/200\n",
      "256/256 [==============================] - 1s 3ms/step - loss: 1.1321e-04\n",
      "Epoch 36/200\n",
      "256/256 [==============================] - 1s 4ms/step - loss: 1.1463e-04\n",
      "Epoch 37/200\n",
      "256/256 [==============================] - 1s 4ms/step - loss: 1.1118e-04\n",
      "Epoch 38/200\n",
      "256/256 [==============================] - 1s 4ms/step - loss: 1.0647e-04\n",
      "Epoch 39/200\n",
      "256/256 [==============================] - 1s 4ms/step - loss: 1.0284e-04\n",
      "Epoch 40/200\n",
      "256/256 [==============================] - 1s 4ms/step - loss: 1.0421e-04\n",
      "Epoch 41/200\n",
      "256/256 [==============================] - 1s 5ms/step - loss: 1.0973e-04\n",
      "Epoch 42/200\n",
      "256/256 [==============================] - 1s 4ms/step - loss: 9.9735e-05\n",
      "Epoch 43/200\n",
      "256/256 [==============================] - 1s 4ms/step - loss: 1.0243e-04\n",
      "Epoch 44/200\n",
      "256/256 [==============================] - 1s 4ms/step - loss: 9.7698e-05\n",
      "Epoch 45/200\n",
      "256/256 [==============================] - 1s 4ms/step - loss: 9.9981e-05\n",
      "Epoch 46/200\n",
      "256/256 [==============================] - 1s 4ms/step - loss: 9.9233e-05\n",
      "Epoch 47/200\n",
      "256/256 [==============================] - 1s 4ms/step - loss: 9.5564e-05\n",
      "Epoch 48/200\n",
      "256/256 [==============================] - 1s 4ms/step - loss: 9.6109e-05\n",
      "Epoch 49/200\n",
      "256/256 [==============================] - 1s 4ms/step - loss: 9.4787e-05\n",
      "Epoch 50/200\n",
      "256/256 [==============================] - 1s 4ms/step - loss: 9.4868e-05\n",
      "Epoch 51/200\n",
      "256/256 [==============================] - 1s 4ms/step - loss: 9.1463e-05\n",
      "Epoch 52/200\n",
      "256/256 [==============================] - 1s 4ms/step - loss: 9.4159e-05\n",
      "Epoch 53/200\n",
      "256/256 [==============================] - 1s 4ms/step - loss: 9.1632e-05\n",
      "Epoch 54/200\n",
      "256/256 [==============================] - 1s 4ms/step - loss: 9.4323e-05\n",
      "Epoch 55/200\n",
      "256/256 [==============================] - 1s 4ms/step - loss: 9.0154e-05\n",
      "Epoch 56/200\n",
      "256/256 [==============================] - 1s 4ms/step - loss: 9.1256e-05\n",
      "Epoch 57/200\n",
      "256/256 [==============================] - 1s 4ms/step - loss: 8.9409e-05\n",
      "Epoch 58/200\n",
      "256/256 [==============================] - 1s 4ms/step - loss: 8.7470e-05\n",
      "Epoch 59/200\n",
      "256/256 [==============================] - 1s 4ms/step - loss: 9.0128e-05\n",
      "Epoch 60/200\n",
      "256/256 [==============================] - 1s 4ms/step - loss: 8.5908e-05\n",
      "Epoch 61/200\n",
      "256/256 [==============================] - 1s 4ms/step - loss: 8.8369e-05\n",
      "Epoch 62/200\n",
      "256/256 [==============================] - 1s 4ms/step - loss: 8.5841e-05\n",
      "Epoch 63/200\n",
      "256/256 [==============================] - 1s 4ms/step - loss: 8.3304e-05\n",
      "Epoch 64/200\n",
      "256/256 [==============================] - 1s 4ms/step - loss: 8.6472e-05\n",
      "Epoch 65/200\n",
      "256/256 [==============================] - 1s 4ms/step - loss: 8.6894e-05\n",
      "Epoch 66/200\n",
      "256/256 [==============================] - 1s 4ms/step - loss: 8.5357e-05\n",
      "Epoch 67/200\n",
      "256/256 [==============================] - 1s 4ms/step - loss: 8.5027e-05\n",
      "Epoch 68/200\n",
      "256/256 [==============================] - 1s 4ms/step - loss: 8.3633e-05\n",
      "Epoch 69/200\n",
      "256/256 [==============================] - 1s 4ms/step - loss: 8.3337e-05\n",
      "Epoch 70/200\n",
      "256/256 [==============================] - 1s 4ms/step - loss: 8.5627e-05\n",
      "Epoch 71/200\n",
      "256/256 [==============================] - 1s 4ms/step - loss: 8.7074e-05\n",
      "Epoch 72/200\n",
      "256/256 [==============================] - 1s 4ms/step - loss: 8.0376e-05\n",
      "Epoch 73/200\n",
      "256/256 [==============================] - 1s 4ms/step - loss: 8.4010e-05\n",
      "Epoch 74/200\n",
      "256/256 [==============================] - 1s 4ms/step - loss: 8.3776e-05\n",
      "Epoch 75/200\n",
      "256/256 [==============================] - 1s 4ms/step - loss: 8.0046e-05\n",
      "Epoch 76/200\n",
      "256/256 [==============================] - 1s 4ms/step - loss: 8.2325e-05\n",
      "Epoch 77/200\n",
      "256/256 [==============================] - 1s 4ms/step - loss: 8.0105e-05\n",
      "Epoch 78/200\n",
      "256/256 [==============================] - 1s 4ms/step - loss: 8.3123e-05\n",
      "Epoch 79/200\n",
      "256/256 [==============================] - 1s 4ms/step - loss: 8.5640e-05\n",
      "Epoch 80/200\n",
      "256/256 [==============================] - 1s 4ms/step - loss: 8.1525e-05\n",
      "Epoch 81/200\n",
      "256/256 [==============================] - 1s 4ms/step - loss: 8.3079e-05\n",
      "Epoch 82/200\n",
      "256/256 [==============================] - 1s 4ms/step - loss: 8.0281e-05\n",
      "Epoch 83/200\n",
      "256/256 [==============================] - 1s 4ms/step - loss: 7.9639e-05\n",
      "Epoch 84/200\n",
      "256/256 [==============================] - 1s 4ms/step - loss: 8.4431e-05\n",
      "Epoch 85/200\n",
      "256/256 [==============================] - 1s 4ms/step - loss: 8.0749e-05\n",
      "Epoch 86/200\n",
      "256/256 [==============================] - 1s 4ms/step - loss: 8.0704e-05\n",
      "Epoch 87/200\n",
      "256/256 [==============================] - 1s 4ms/step - loss: 7.7207e-05\n",
      "Epoch 88/200\n",
      "256/256 [==============================] - 1s 4ms/step - loss: 7.9058e-05\n",
      "Epoch 89/200\n",
      "256/256 [==============================] - 1s 4ms/step - loss: 7.7874e-05\n",
      "Epoch 90/200\n",
      "256/256 [==============================] - 1s 4ms/step - loss: 7.7992e-05\n",
      "Epoch 91/200\n",
      "256/256 [==============================] - 1s 4ms/step - loss: 7.8719e-05\n",
      "Epoch 92/200\n",
      "256/256 [==============================] - 1s 4ms/step - loss: 7.7608e-05\n",
      "Epoch 93/200\n",
      "256/256 [==============================] - 1s 4ms/step - loss: 8.1747e-05\n",
      "Epoch 94/200\n",
      "256/256 [==============================] - 1s 4ms/step - loss: 7.7345e-05\n",
      "Epoch 95/200\n",
      "256/256 [==============================] - 1s 4ms/step - loss: 7.8019e-05\n",
      "Epoch 96/200\n",
      "256/256 [==============================] - 1s 4ms/step - loss: 7.8684e-05\n",
      "Epoch 97/200\n",
      "256/256 [==============================] - 1s 4ms/step - loss: 7.8181e-05\n",
      "Epoch 98/200\n",
      "256/256 [==============================] - 1s 4ms/step - loss: 7.5865e-05\n",
      "Epoch 99/200\n",
      "256/256 [==============================] - 1s 4ms/step - loss: 7.8810e-05\n",
      "Epoch 100/200\n",
      "256/256 [==============================] - 1s 4ms/step - loss: 7.8070e-05\n",
      "Epoch 101/200\n",
      "256/256 [==============================] - 1s 4ms/step - loss: 8.1164e-05\n",
      "Epoch 102/200\n",
      "256/256 [==============================] - 1s 4ms/step - loss: 7.6380e-05\n",
      "Epoch 103/200\n",
      "256/256 [==============================] - 1s 4ms/step - loss: 7.6716e-05\n",
      "Epoch 104/200\n",
      "256/256 [==============================] - 1s 4ms/step - loss: 7.7357e-05\n",
      "Epoch 105/200\n",
      "256/256 [==============================] - 1s 4ms/step - loss: 7.6414e-05\n",
      "Epoch 106/200\n",
      "256/256 [==============================] - 1s 4ms/step - loss: 7.7278e-05\n",
      "Epoch 107/200\n",
      "256/256 [==============================] - 1s 4ms/step - loss: 7.6929e-05\n",
      "Epoch 108/200\n",
      "256/256 [==============================] - 1s 4ms/step - loss: 7.5289e-05\n",
      "Epoch 109/200\n",
      "256/256 [==============================] - 1s 4ms/step - loss: 7.5283e-05\n",
      "Epoch 110/200\n",
      "256/256 [==============================] - 1s 4ms/step - loss: 7.5672e-05\n",
      "Epoch 111/200\n",
      "256/256 [==============================] - 1s 4ms/step - loss: 7.6429e-05\n",
      "Epoch 112/200\n",
      "256/256 [==============================] - 1s 4ms/step - loss: 7.7014e-05\n",
      "Epoch 113/200\n",
      "256/256 [==============================] - 1s 4ms/step - loss: 7.5270e-05\n",
      "Epoch 114/200\n",
      "256/256 [==============================] - 1s 4ms/step - loss: 7.5646e-05\n",
      "Epoch 115/200\n",
      "256/256 [==============================] - 1s 4ms/step - loss: 7.4987e-05\n",
      "Epoch 116/200\n",
      "256/256 [==============================] - 1s 4ms/step - loss: 7.6679e-05\n",
      "Epoch 117/200\n",
      "256/256 [==============================] - 1s 4ms/step - loss: 7.5076e-05\n",
      "Epoch 118/200\n",
      "256/256 [==============================] - 1s 4ms/step - loss: 7.5272e-05\n",
      "Epoch 119/200\n",
      "256/256 [==============================] - 1s 4ms/step - loss: 7.4623e-05\n",
      "Epoch 120/200\n",
      "256/256 [==============================] - 1s 4ms/step - loss: 7.5190e-05\n",
      "Epoch 121/200\n",
      "256/256 [==============================] - 1s 4ms/step - loss: 7.3799e-05\n",
      "Epoch 122/200\n",
      "256/256 [==============================] - 1s 4ms/step - loss: 7.2500e-05\n",
      "Epoch 123/200\n",
      "256/256 [==============================] - 1s 4ms/step - loss: 7.5426e-05\n",
      "Epoch 124/200\n",
      "256/256 [==============================] - 1s 4ms/step - loss: 7.4626e-05\n",
      "Epoch 125/200\n",
      "256/256 [==============================] - 1s 4ms/step - loss: 7.1177e-05\n",
      "Epoch 126/200\n",
      "256/256 [==============================] - 1s 4ms/step - loss: 7.6528e-05\n",
      "Epoch 127/200\n",
      "256/256 [==============================] - 1s 4ms/step - loss: 7.0571e-05\n",
      "Epoch 128/200\n",
      "256/256 [==============================] - 1s 4ms/step - loss: 7.3748e-05\n",
      "Epoch 129/200\n",
      "256/256 [==============================] - 1s 4ms/step - loss: 7.2903e-05\n",
      "Epoch 130/200\n",
      "256/256 [==============================] - 1s 4ms/step - loss: 7.4587e-05\n",
      "Epoch 131/200\n",
      "256/256 [==============================] - 1s 4ms/step - loss: 7.3318e-05\n",
      "Epoch 132/200\n",
      "256/256 [==============================] - 1s 4ms/step - loss: 7.3854e-05\n",
      "Epoch 133/200\n",
      "256/256 [==============================] - 1s 4ms/step - loss: 7.2489e-05\n",
      "Epoch 134/200\n",
      "256/256 [==============================] - 1s 4ms/step - loss: 7.2357e-05\n",
      "Epoch 135/200\n",
      "256/256 [==============================] - 1s 4ms/step - loss: 7.3363e-05\n",
      "Epoch 136/200\n",
      "256/256 [==============================] - 1s 4ms/step - loss: 7.2934e-05\n",
      "Epoch 137/200\n",
      "256/256 [==============================] - 1s 4ms/step - loss: 7.1714e-05\n",
      "Epoch 138/200\n",
      "256/256 [==============================] - 1s 4ms/step - loss: 7.0979e-05\n",
      "Epoch 139/200\n",
      "256/256 [==============================] - 1s 4ms/step - loss: 7.2957e-05\n",
      "Epoch 140/200\n",
      "256/256 [==============================] - 1s 4ms/step - loss: 7.2763e-05\n",
      "Epoch 141/200\n",
      "256/256 [==============================] - 1s 4ms/step - loss: 7.1321e-05\n",
      "Epoch 142/200\n",
      "256/256 [==============================] - 1s 4ms/step - loss: 7.2366e-05\n",
      "Epoch 143/200\n",
      "256/256 [==============================] - 1s 4ms/step - loss: 7.1007e-05\n",
      "Epoch 144/200\n",
      "256/256 [==============================] - 1s 4ms/step - loss: 7.3398e-05\n",
      "Epoch 145/200\n",
      "256/256 [==============================] - 1s 4ms/step - loss: 7.1936e-05\n",
      "Epoch 146/200\n",
      "256/256 [==============================] - 1s 4ms/step - loss: 7.3762e-05\n",
      "Epoch 147/200\n",
      "256/256 [==============================] - 1s 4ms/step - loss: 7.0601e-05\n",
      "Epoch 148/200\n",
      "256/256 [==============================] - 1s 4ms/step - loss: 7.1394e-05\n",
      "Epoch 149/200\n",
      "256/256 [==============================] - 1s 4ms/step - loss: 6.9606e-05\n",
      "Epoch 150/200\n",
      "256/256 [==============================] - ETA: 0s - loss: 7.1022e-0 - 1s 4ms/step - loss: 7.0580e-05\n",
      "Epoch 151/200\n",
      "256/256 [==============================] - 1s 4ms/step - loss: 7.1670e-05\n",
      "Epoch 152/200\n",
      "256/256 [==============================] - 1s 4ms/step - loss: 7.0982e-05\n",
      "Epoch 153/200\n",
      "256/256 [==============================] - 1s 4ms/step - loss: 7.0514e-05\n",
      "Epoch 154/200\n",
      "256/256 [==============================] - 1s 4ms/step - loss: 6.9865e-05\n",
      "Epoch 155/200\n",
      "256/256 [==============================] - 1s 4ms/step - loss: 7.0478e-05\n",
      "Epoch 156/200\n",
      "256/256 [==============================] - 1s 4ms/step - loss: 6.9524e-05\n",
      "Epoch 157/200\n",
      "256/256 [==============================] - 1s 4ms/step - loss: 7.1367e-05\n",
      "Epoch 158/200\n",
      "256/256 [==============================] - 1s 4ms/step - loss: 6.9812e-05\n",
      "Epoch 159/200\n",
      "256/256 [==============================] - 1s 4ms/step - loss: 7.0739e-05\n",
      "Epoch 160/200\n",
      "256/256 [==============================] - 1s 4ms/step - loss: 7.0092e-05\n",
      "Epoch 161/200\n",
      "256/256 [==============================] - 1s 4ms/step - loss: 7.0220e-05\n",
      "Epoch 162/200\n",
      "256/256 [==============================] - 1s 4ms/step - loss: 7.0811e-05\n",
      "Epoch 163/200\n",
      "256/256 [==============================] - 1s 4ms/step - loss: 6.9964e-05\n",
      "Epoch 164/200\n",
      "256/256 [==============================] - 1s 4ms/step - loss: 7.0893e-05\n",
      "Epoch 165/200\n",
      "256/256 [==============================] - 1s 4ms/step - loss: 6.9507e-05\n",
      "Epoch 166/200\n",
      "256/256 [==============================] - 1s 4ms/step - loss: 7.0149e-05\n",
      "Epoch 167/200\n",
      "256/256 [==============================] - 1s 4ms/step - loss: 7.0159e-05\n",
      "Epoch 168/200\n",
      "256/256 [==============================] - 1s 4ms/step - loss: 7.0306e-05\n",
      "Epoch 169/200\n",
      "256/256 [==============================] - 1s 4ms/step - loss: 7.0099e-05\n",
      "Epoch 170/200\n",
      "256/256 [==============================] - 1s 4ms/step - loss: 6.7931e-05\n",
      "Epoch 171/200\n",
      "256/256 [==============================] - 1s 4ms/step - loss: 6.9139e-05\n",
      "Epoch 172/200\n",
      "256/256 [==============================] - 1s 4ms/step - loss: 7.0850e-05\n",
      "Epoch 173/200\n",
      "256/256 [==============================] - 1s 4ms/step - loss: 6.9049e-05\n",
      "Epoch 174/200\n",
      "212/256 [=======================>......] - ETA: 0s - loss: 7.2745e-05"
     ]
    }
   ],
   "source": [
    "model.fit(previsores, preco_real, epochs = 200, batch_size = 16)"
   ]
  },
  {
   "cell_type": "code",
   "execution_count": 15,
   "id": "38cf84a9-3899-48ba-a7f1-5104f86f2041",
   "metadata": {},
   "outputs": [],
   "source": [
    "preco_real_open = data_set.iloc[ index_test:, 1:2].values"
   ]
  },
  {
   "cell_type": "code",
   "execution_count": 16,
   "id": "bf43979e-6087-48d5-9d26-566ad1e95e9f",
   "metadata": {},
   "outputs": [
    {
     "data": {
      "text/plain": [
       "(1047, 1)"
      ]
     },
     "execution_count": 16,
     "metadata": {},
     "output_type": "execute_result"
    }
   ],
   "source": [
    "entradas = data_set.iloc[ index_test-timesteps:, 1:2].values\n",
    "\n",
    "entradas = entradas.reshape(-1, 1)\n",
    "entradas = normalizador.transform(entradas)\n",
    "entradas.shape"
   ]
  },
  {
   "cell_type": "code",
   "execution_count": 17,
   "id": "8abcd6ed-8e7d-4222-9275-36d5b1f66eea",
   "metadata": {},
   "outputs": [
    {
     "data": {
      "text/plain": [
       "(1040, 7)"
      ]
     },
     "execution_count": 17,
     "metadata": {},
     "output_type": "execute_result"
    }
   ],
   "source": [
    "X_teste = []\n",
    "for i in range(timesteps, len(entradas)):\n",
    "    X_teste.append(entradas[i-timesteps:i, 0])\n",
    "X_teste = np.array(X_teste)\n",
    "X_teste.shape"
   ]
  },
  {
   "cell_type": "code",
   "execution_count": 18,
   "id": "f6b3c706-c8c4-4b4d-8ca0-e1332ae94bf6",
   "metadata": {},
   "outputs": [
    {
     "data": {
      "text/plain": [
       "(1040, 7, 1)"
      ]
     },
     "execution_count": 18,
     "metadata": {},
     "output_type": "execute_result"
    }
   ],
   "source": [
    "X_teste = np.reshape(X_teste, (X_teste.shape[0], X_teste.shape[1], 1))\n",
    "X_teste.shape"
   ]
  },
  {
   "cell_type": "code",
   "execution_count": 21,
   "id": "53d28b47-5406-4361-ab54-4f2a8cc4ed5e",
   "metadata": {},
   "outputs": [
    {
     "data": {
      "text/plain": [
       "(1040, 1)"
      ]
     },
     "execution_count": 21,
     "metadata": {},
     "output_type": "execute_result"
    }
   ],
   "source": [
    "previsoes = model.predict(X_teste)\n",
    "previsoes.shape"
   ]
  },
  {
   "cell_type": "code",
   "execution_count": 22,
   "id": "2543edd4-96a8-4702-a7e2-7a4c3f8834b4",
   "metadata": {},
   "outputs": [
    {
     "data": {
      "text/plain": [
       "(1040, 1)"
      ]
     },
     "execution_count": 22,
     "metadata": {},
     "output_type": "execute_result"
    }
   ],
   "source": [
    "previsoes = normalizador.inverse_transform(previsoes)\n",
    "previsoes.shape"
   ]
  },
  {
   "cell_type": "code",
   "execution_count": 23,
   "id": "157d8f6c-00fe-40fd-90ac-5b6d81242cf5",
   "metadata": {},
   "outputs": [
    {
     "data": {
      "image/png": "[encoded data removed]",
      "text/plain": [
       "<Figure size 432x288 with 1 Axes>"
      ]
     },
     "metadata": {
      "needs_background": "light"
     },
     "output_type": "display_data"
    }
   ],
   "source": [
    "plt.plot(preco_real_open, color = 'red', label = 'Preço abertura real')\n",
    "\n",
    "plt.plot(previsoes[:, 0], color = 'blue', label = 'Previsões abertura')\n",
    "\n",
    "\n",
    "plt.title('Previsão preço das ações')\n",
    "plt.xlabel('Tempo')\n",
    "plt.ylabel('Valor Yahoo')\n",
    "plt.legend()\n",
    "plt.show()"
   ]
  },
  {
   "cell_type": "code",
   "execution_count": 25,
   "id": "883fe030-dabb-477b-830c-03de1987c58f",
   "metadata": {},
   "outputs": [],
   "source": [
    "from sklearn.metrics import mean_squared_error\n",
    "from sklearn.metrics import mean_absolute_error"
   ]
  },
  {
   "cell_type": "code",
   "execution_count": 26,
   "id": "63016576-0c9b-46a7-b081-3ba80fd934d9",
   "metadata": {},
   "outputs": [
    {
     "name": "stdout",
     "output_type": "stream",
     "text": [
      "667.560042808444\n",
      "21.08630757801983\n"
     ]
    }
   ],
   "source": [
    "print(mean_squared_error(preco_real_open, previsoes[:, 0]))\n",
    "print(mean_absolute_error(preco_real_open, previsoes[:, 0]))"
   ]
  },
  {
   "cell_type": "code",
   "execution_count": 56,
   "id": "c57f3c3d-9186-48f3-a8dc-eaea78da25e0",
   "metadata": {},
   "outputs": [
    {
     "name": "stdout",
     "output_type": "stream",
     "text": [
      "245.03891500112027\n",
      "10.393528172678787\n"
     ]
    }
   ],
   "source": [
    "print(mean_squared_error(preco_real_open, previsoes[:, 0]))\n",
    "print(mean_absolute_error(preco_real_open, previsoes[:, 0]))"
   ]
  },
  {
   "cell_type": "code",
   "execution_count": null,
   "id": "c269d5c5-a18d-4e01-809a-51c76a05786d",
   "metadata": {},
   "outputs": [],
   "source": []
  }
 ],
 "metadata": {
  "kernelspec": {
   "display_name": "data_1",
   "language": "python",
   "name": "data_1"
  },
  "language_info": {
   "codemirror_mode": {
    "name": "ipython",
    "version": 3
   },
   "file_extension": ".py",
   "mimetype": "text/x-python",
   "name": "python",
   "nbconvert_exporter": "python",
   "pygments_lexer": "ipython3",
   "version": "3.8.10"
  }
 },
 "nbformat": 4,
 "nbformat_minor": 5
}
