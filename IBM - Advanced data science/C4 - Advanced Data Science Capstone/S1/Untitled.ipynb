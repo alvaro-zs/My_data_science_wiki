{
 "cells": [
  {
   "cell_type": "markdown",
   "id": "347c6b03-c9e0-43c9-b355-6826f2a522a3",
   "metadata": {},
   "source": [
    "- Identify quality issues (e.g. missing values, wrong measurements, …)\n",
    "\n",
    "- Assess feature quality – how relevant is a certain measurement (e.g. use correlation matrix)\n",
    "\n",
    "- Get an idea on the value distribution of your data using statistical measures and visualizations"
   ]
  },
  {
   "cell_type": "markdown",
   "id": "23dcbfde-912b-451a-b66a-ad528bde6c53",
   "metadata": {},
   "source": [
    "https://github.com/IBM/skillsnetwork/tree/master/coursera_capstone/guidelines"
   ]
  },
  {
   "cell_type": "code",
   "execution_count": null,
   "id": "e3a2f8ba-da08-4f2a-ade8-e5dfa39361fe",
   "metadata": {},
   "outputs": [],
   "source": []
  }
 ],
 "metadata": {
  "kernelspec": {
   "display_name": "data_1",
   "language": "python",
   "name": "data_1"
  },
  "language_info": {
   "codemirror_mode": {
    "name": "ipython",
    "version": 3
   },
   "file_extension": ".py",
   "mimetype": "text/x-python",
   "name": "python",
   "nbconvert_exporter": "python",
   "pygments_lexer": "ipython3",
   "version": "3.8.10"
  }
 },
 "nbformat": 4,
 "nbformat_minor": 5
}
