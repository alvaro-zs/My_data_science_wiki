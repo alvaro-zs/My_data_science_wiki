{
 "cells": [
  {
   "cell_type": "markdown",
   "id": "bda211c2-02af-4c87-a5a0-5eeac636ee40",
   "metadata": {},
   "source": [
    "#### This document is very important to read. It describes the process model and architectural decision guidelines to be followed throughout the capstone"
   ]
  },
  {
   "cell_type": "markdown",
   "id": "2581027a-e61a-4851-8d64-b63769a1e9b0",
   "metadata": {},
   "source": [
    "https://developer.ibm.com/articles/the-lightweight-ibm-cloud-garage-method-for-data-science/"
   ]
  },
  {
   "cell_type": "markdown",
   "id": "b86c425a-4e0b-43ba-8a58-1d117086c5a3",
   "metadata": {},
   "source": [
    "## Datasets Sources"
   ]
  },
  {
   "cell_type": "markdown",
   "id": "5cf9a88e-2b05-44b3-9d50-569bec24b059",
   "metadata": {},
   "source": [
    "* https://opendata.cityofnewyork.us/\n",
    "* https://www.kaggle.com/datasets\n",
    "* https://github.com/awesomedata/awesome-public-datasets"
   ]
  },
  {
   "cell_type": "markdown",
   "id": "568dcb81-29a3-4657-a870-91b48e30bedc",
   "metadata": {},
   "source": [
    "Examples from the IBM Call for Code Challenge\n",
    "\n",
    "https://developer.ibm.com/callforcode/"
   ]
  },
  {
   "cell_type": "markdown",
   "id": "c193caf1-ef2a-4fbb-9d7e-935807886595",
   "metadata": {},
   "source": [
    "## Data Cleaning"
   ]
  },
  {
   "cell_type": "markdown",
   "id": "0a71849c-807d-420b-909c-174f43a03596",
   "metadata": {},
   "source": [
    "Data types Are data types of columns matching their content? E.g. is age stored as integer and not as string?  \n",
    "\n",
    "·      Ranges Does the value distribution of values in a column make sense? Use stats (e.g. min, max, mean, standard deviation) and visualizations (e.g. box-plot, histogram) for help  \n",
    "\n",
    "·      Emptiness Are all values non-null where mandatory? E.g. client IDs  \n",
    "\n",
    "·      Uniqueness Are duplicates present where undesired? E.g. client IDs  \n",
    "\n",
    "·      Set memberships Are only allowed values chosen for categorical or ordinal fields? E.g. Female, Male, Unknown  \n",
    "\n",
    "·      Foreign key set memberships Are only allowed values chosen as field? E.g. ZIP code  \n",
    "\n",
    "·      Regular expressions Some files need to stick to a pattern expressed by a regular expression. E.g. a lower-case character followed by 6 digits  \n",
    "\n",
    "·      Cross-field validation Some fields can impact validity of other fields. E.g. a male person can’t be pregnant   "
   ]
  },
  {
   "cell_type": "markdown",
   "id": "dca47b9e-c684-4a25-8174-51d90f2c1245",
   "metadata": {},
   "source": [
    "## Feature Engineering"
   ]
  },
  {
   "cell_type": "markdown",
   "id": "447328d4-f35a-42e1-b3c3-679ff1df7061",
   "metadata": {},
   "source": [
    "Feature Creation and Feature Engineering is one of the most important tasks in machine learning since it hugely impacts model performance. This also holds for deep learning, although to a lesser extent. Features can be changed or new features can be created from existing ones\n",
    "\n",
    "The following none exhaustive list gives you some guidelines for feature transformation:\n",
    "\n",
    "·      **Imputing** Some algorithms are very sensitive to missing values. Therefore, imputing allows for filling of empty fields based on its value distribution  \n",
    "\n",
    "·      **Imputed time-series quantization** Time series often contain streams with measurements at different timestamps. Therefore, it is beneficial to quantize measurements to a common “heart beat” and impute the corresponding values. This can be done by sampling from the source time series distributions on the respective quantized time steps  \n",
    "\n",
    "·      **Scaling / Normalizing / Centering** Some algorithms are very sensitive differences in value ranges for individual fields. Therefore, it is best practice to center data around zero and scale values to a standard deviation of one  \n",
    "\n",
    "·      **Filtering** Sometimes imputing values doesn’t perform well, therefore deletion of low quality records is a better strategy  \n",
    "\n",
    "·      **Discretizing** Continuous fields might confuse the model, e.g. a discrete set of age ranges sometimes performs better than continuous values, especially on smaller amounts of data and with simpler models \n",
    "\n",
    " \n",
    "\n",
    "The following none exhaustive list gives you some guidelines for feature creation:\n",
    "\n",
    " \n",
    "\n",
    "·      **One-hot-encoding** Categorical integer features should be transformed into “one-hot” vectors. In relational terms this results in addition of additional columns – one columns for each distinct category  \n",
    "\n",
    "·      **Time-to-Frequency transformation** Time-series (and sometimes also sequence data) is recorded in the time domain but can easily transformed into the frequency domain e.g. using FFT (Fast Fourier Transformation)  \n",
    "\n",
    "·      **Month-From-Date** Creating an additional feature containing the month independent from data captures seasonal aspects. Sometimes further discretization in to quarters helps as well  \n",
    "\n",
    "·      **Aggregate-on-Target** Simply aggregating fields the target variable (or even other fields) can improve performance, e.g. count number of data points per ZIP code or take the median of all values by geographical region"
   ]
  },
  {
   "cell_type": "markdown",
   "id": "66f4388c-7bf2-4b73-aa77-3583ba60cb35",
   "metadata": {},
   "source": [
    "## Model Evaluation"
   ]
  },
  {
   "cell_type": "markdown",
   "id": "881d051f-2f33-4248-b913-00fcb8f33897",
   "metadata": {},
   "source": [
    "Classification:\n",
    "\n",
    " \n",
    "\n",
    "·      Confusion Matrix\n",
    "\n",
    "·      Accuracy\n",
    "\n",
    "·      Precision\n",
    "\n",
    "·      Recall\n",
    "\n",
    "·      Specificity\n",
    "\n",
    "·      True positive rate\n",
    "\n",
    "·      True negative rate\n",
    "\n",
    "·      False positive rate\n",
    "\n",
    "·      False negative rate\n",
    "\n",
    "·      F1-score\n",
    "\n",
    "·      Gain and Lift\n",
    "\n",
    "·      Kolomogorov Smirnov\n",
    "\n",
    "·      Area Under ROC\n",
    "\n",
    "·      Gini Coefficient\n",
    "\n",
    "·      Concordant – Discordant ratio\n",
    "\n",
    " \n",
    "\n",
    "Regression:\n",
    "\n",
    " \n",
    "\n",
    "·      Root Mean Squared Error (RMSE)\n",
    "\n",
    "·      Mean Squared Error\n",
    "\n",
    "·      Mean Absolute Error (MAE)\n",
    "\n",
    "·      R-Squared\n",
    "\n",
    "·      Relative Squared Error\n",
    "\n",
    "·      Relative Absolute Error\n",
    "\n",
    "·      Sum of Differences\n",
    "\n",
    "·      ACF plot of residuals\n",
    "\n",
    "·      Histogram of residuals\n",
    "\n",
    "·      Residual plots against predictors\n",
    "\n",
    "·      Residual plots against fitted values\n",
    "\n",
    " \n",
    "\n",
    " \n",
    "\n",
    "Clustering:\n",
    "\n",
    " \n",
    "\n",
    "·      Adjusted Rand index\n",
    "\n",
    "·      Mutual Information\n",
    "\n",
    "·      Homogeneity completeness\n",
    "\n",
    "·      V-measure\n",
    "\n",
    "·      Fowlkes-Mallows\n",
    "\n",
    "·      Silhouette Coefficient Calinski-Harabaz¶"
   ]
  },
  {
   "cell_type": "code",
   "execution_count": null,
   "id": "9d493415-1b67-4392-b368-4473d0691fc5",
   "metadata": {},
   "outputs": [],
   "source": []
  }
 ],
 "metadata": {
  "kernelspec": {
   "display_name": "data_1",
   "language": "python",
   "name": "data_1"
  },
  "language_info": {
   "codemirror_mode": {
    "name": "ipython",
    "version": 3
   },
   "file_extension": ".py",
   "mimetype": "text/x-python",
   "name": "python",
   "nbconvert_exporter": "python",
   "pygments_lexer": "ipython3",
   "version": "3.8.10"
  }
 },
 "nbformat": 4,
 "nbformat_minor": 5
}
