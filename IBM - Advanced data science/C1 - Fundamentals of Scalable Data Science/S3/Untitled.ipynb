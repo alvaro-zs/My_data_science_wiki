{
 "cells": [
  {
   "cell_type": "code",
   "execution_count": 3,
   "id": "b14c6914-1c09-4fbf-a67f-570b8e9b7b09",
   "metadata": {},
   "outputs": [],
   "source": [
    "list = [1,2,4,5,34,1,32,4,34,2,1,3]"
   ]
  },
  {
   "cell_type": "code",
   "execution_count": 4,
   "id": "74ed3ac4-38c3-4f68-b96d-20e09ff03cf5",
   "metadata": {},
   "outputs": [
    {
     "data": {
      "text/plain": [
       "[1, 2, 4, 5, 34, 1, 32, 4, 34, 2, 1, 3]"
      ]
     },
     "execution_count": 4,
     "metadata": {},
     "output_type": "execute_result"
    }
   ],
   "source": [
    "list"
   ]
  },
  {
   "cell_type": "code",
   "execution_count": 5,
   "id": "dffb1b23-ac57-4341-b096-e1f0a843bbda",
   "metadata": {},
   "outputs": [
    {
     "data": {
      "text/plain": [
       "12"
      ]
     },
     "execution_count": 5,
     "metadata": {},
     "output_type": "execute_result"
    }
   ],
   "source": [
    "len(list)"
   ]
  },
  {
   "cell_type": "code",
   "execution_count": 7,
   "id": "91c69233-0455-4f55-a1ba-f8db8df9d391",
   "metadata": {},
   "outputs": [
    {
     "data": {
      "text/plain": [
       "10.25"
      ]
     },
     "execution_count": 7,
     "metadata": {},
     "output_type": "execute_result"
    }
   ],
   "source": [
    "sum(list) / len(list)"
   ]
  },
  {
   "cell_type": "code",
   "execution_count": 8,
   "id": "775174f7-a83d-40e7-a44f-5d85e5ab69d4",
   "metadata": {},
   "outputs": [],
   "source": [
    "import statistics"
   ]
  },
  {
   "cell_type": "code",
   "execution_count": 9,
   "id": "f3056367-8d21-4773-b777-de19b2f2c956",
   "metadata": {},
   "outputs": [
    {
     "data": {
      "text/plain": [
       "3.5"
      ]
     },
     "execution_count": 9,
     "metadata": {},
     "output_type": "execute_result"
    }
   ],
   "source": [
    "statistics.median(list)"
   ]
  },
  {
   "cell_type": "code",
   "execution_count": 10,
   "id": "6ed9eb8a-bbb5-4b77-8f0f-f00809494539",
   "metadata": {},
   "outputs": [],
   "source": [
    "list = [34,1,23,4,3,3,12,4,3,1]"
   ]
  },
  {
   "cell_type": "code",
   "execution_count": 11,
   "id": "c4d9ea1e-30c5-4a38-bd19-426e10c7e781",
   "metadata": {},
   "outputs": [
    {
     "data": {
      "text/plain": [
       "11.133532932342526"
      ]
     },
     "execution_count": 11,
     "metadata": {},
     "output_type": "execute_result"
    }
   ],
   "source": [
    "statistics.stdev(list)"
   ]
  },
  {
   "cell_type": "code",
   "execution_count": 12,
   "id": "7766218c-fe7d-4d51-beca-30c2e3f7d252",
   "metadata": {},
   "outputs": [],
   "source": [
    "from scipy.stats import kurtosis"
   ]
  },
  {
   "cell_type": "code",
   "execution_count": 13,
   "id": "4e23c8db-4036-48b9-a094-f32216038f52",
   "metadata": {},
   "outputs": [],
   "source": [
    "item = [34,1,23,4,3,3,12,4,3,1]"
   ]
  },
  {
   "cell_type": "code",
   "execution_count": 14,
   "id": "8300f5d0-8cba-4bcd-86e4-8684861dedf9",
   "metadata": {},
   "outputs": [
    {
     "data": {
      "text/plain": [
       "0.663124005193275"
      ]
     },
     "execution_count": 14,
     "metadata": {},
     "output_type": "execute_result"
    }
   ],
   "source": [
    "kurtosis(item)"
   ]
  },
  {
   "cell_type": "code",
   "execution_count": 15,
   "id": "c3c0c546-fd87-4fe4-a178-7c0be608966e",
   "metadata": {},
   "outputs": [],
   "source": [
    "from scipy.stats import skew"
   ]
  },
  {
   "cell_type": "code",
   "execution_count": 16,
   "id": "d63a499a-a964-41d4-b153-6a19d928fa16",
   "metadata": {},
   "outputs": [
    {
     "data": {
      "text/plain": [
       "1.4549069329913997"
      ]
     },
     "execution_count": 16,
     "metadata": {},
     "output_type": "execute_result"
    }
   ],
   "source": [
    "item = [34,1,23,4,3,3,12,4,3,1]\n",
    "skew(item)"
   ]
  },
  {
   "cell_type": "code",
   "execution_count": 17,
   "id": "8e92af9d-f7a6-43f3-85ad-1b161d1fc01b",
   "metadata": {},
   "outputs": [],
   "source": [
    "item1 = [1,2,3,4,5,6,7,8,9,10]\n",
    "item2 = [7,6,5,4,5,6,7,8,9,10]"
   ]
  },
  {
   "cell_type": "code",
   "execution_count": 18,
   "id": "8a2c8134-ca5e-4b93-a1f0-91e23548d4c4",
   "metadata": {},
   "outputs": [],
   "source": [
    "from  scipy.stats import pearsonr"
   ]
  },
  {
   "cell_type": "code",
   "execution_count": 19,
   "id": "413b1a02-7af8-4a55-b7e7-c07327e084d3",
   "metadata": {},
   "outputs": [
    {
     "data": {
      "text/plain": [
       "(0.709272912083725, 0.02161702934962524)"
      ]
     },
     "execution_count": 19,
     "metadata": {},
     "output_type": "execute_result"
    }
   ],
   "source": [
    "pearsonr(item1, item2)"
   ]
  },
  {
   "cell_type": "code",
   "execution_count": 20,
   "id": "5598e76a-cd3d-4279-9f8b-2c2cb4243e9b",
   "metadata": {},
   "outputs": [],
   "source": [
    "import numpy"
   ]
  },
  {
   "cell_type": "code",
   "execution_count": 21,
   "id": "5319fd13-8ae5-442c-9253-7f86b1b518b3",
   "metadata": {},
   "outputs": [
    {
     "name": "stdout",
     "output_type": "stream",
     "text": [
      "3.6500000000000004\n"
     ]
    }
   ],
   "source": [
    "Covariance = numpy.cov(item1, item2, bias=True)[0][1]\n",
    "print(Covariance)"
   ]
  },
  {
   "cell_type": "code",
   "execution_count": null,
   "id": "de297e20-1e84-459b-a564-4f54c345174a",
   "metadata": {},
   "outputs": [],
   "source": []
  }
 ],
 "metadata": {
  "kernelspec": {
   "display_name": "data_test1",
   "language": "python",
   "name": "data_test1"
  },
  "language_info": {
   "codemirror_mode": {
    "name": "ipython",
    "version": 3
   },
   "file_extension": ".py",
   "mimetype": "text/x-python",
   "name": "python",
   "nbconvert_exporter": "python",
   "pygments_lexer": "ipython3",
   "version": "3.9.4"
  }
 },
 "nbformat": 4,
 "nbformat_minor": 5
}
