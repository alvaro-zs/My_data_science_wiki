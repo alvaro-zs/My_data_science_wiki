{
 "cells": [
  {
   "cell_type": "markdown",
   "id": "5da57395-63e5-4a89-ba7d-021b30a856aa",
   "metadata": {},
   "source": [
    "https://github.com/IBM/skillsnetwork/wiki/Watson-Studio-Setup"
   ]
  },
  {
   "cell_type": "markdown",
   "id": "72f95e23-ecd4-4d69-9bc0-ed295fe77576",
   "metadata": {},
   "source": [
    "https://databricks.com/glossary/what-is-parquet"
   ]
  },
  {
   "cell_type": "markdown",
   "id": "45da48da-3342-44d7-a5ab-2c29fd84b58f",
   "metadata": {},
   "source": [
    "https://parquet.apache.org/documentation/latest/"
   ]
  },
  {
   "cell_type": "markdown",
   "id": "e9b7f6d9-cb6f-459b-8874-75068c281739",
   "metadata": {},
   "source": [
    "https://www.youtube.com/watch?v=MZNjmfx4LMc&ab_channel=DataWorksSummit"
   ]
  },
  {
   "cell_type": "markdown",
   "id": "3115281d-94c4-48b5-b030-a1f262ffe8b9",
   "metadata": {},
   "source": [
    "Warmup Assignment\n",
    "In this exercise you will just submit a ping to the grader in order to make sure the exercise and grading environment is setup correctly.\n",
    "We have to install a little library in order to submit to coursera"
   ]
  },
  {
   "cell_type": "code",
   "execution_count": 5,
   "id": "94b9dac5-4f9a-46e6-ac04-d8435c172008",
   "metadata": {},
   "outputs": [],
   "source": [
    "import requests, json\n",
    "import zipfile\n",
    "import os\n",
    "\n",
    "def submit(submitterEmail,secret,key,submission_part, all_parts, data):\n",
    "        submission = {\n",
    "                    \"assignmentKey\": key,\n",
    "                    \"submitterEmail\":  submitterEmail,\n",
    "                    \"secret\":  secret,\n",
    "                    \"parts\": {}\n",
    "                  }\n",
    "        for part in all_parts:\n",
    "            if part == submission_part:\n",
    "                submission[\"parts\"][part] = {\"output\": data}\n",
    "            else:\n",
    "                submission[\"parts\"][part] = dict()\n",
    "        response = requests.post('https://www.coursera.org/api/onDemandProgrammingScriptSubmissions.v1', data=json.dumps(submission))\n",
    "        if response.status_code == 201:\n",
    "            print (\"Submission successful, please check on the coursera grader page for the status\")\n",
    "            print (\"-------------------------\")\n",
    "            print (response.text)\n",
    "            print (\"-------------------------\")\n",
    "        else:\n",
    "            print (\"Something went wrong, please have a look at the reponse of the grader\")\n",
    "            print (\"-------------------------\")\n",
    "            print (response.text)\n",
    "            print (\"-------------------------\")\n",
    "            \n",
    "def submitAll(submitterEmail,secret,key,parts_and_data):\n",
    "        submission = {\n",
    "                    \"assignmentKey\": key,\n",
    "                    \"submitterEmail\":  submitterEmail,\n",
    "                    \"secret\":  secret,\n",
    "                    \"parts\": {}\n",
    "                  }\n",
    "        for part, output in parts_and_data.items():\n",
    "            if output is not None:\n",
    "                submission[\"parts\"][part] = {\"output\": output}\n",
    "            else:\n",
    "                submission[\"parts\"][part] = dict()\n",
    "        response = requests.post('https://www.coursera.org/api/onDemandProgrammingScriptSubmissions.v1', data=json.dumps(submission))\n",
    "        if response.status_code == 201:\n",
    "            print (\"Submission successful, please check on the coursera grader page for the status\")\n",
    "            print (\"-------------------------\")\n",
    "            print (response.text)\n",
    "            print (\"-------------------------\")\n",
    "        else:\n",
    "            print (\"Something went wrong, please have a look at the reponse of the grader\")\n",
    "            print (\"-------------------------\")\n",
    "            print (response.text)\n",
    "            print (\"-------------------------\")\n",
    "\n",
    "\n",
    "def zipit(target, path):\n",
    "    zipf = zipfile.ZipFile(target, 'w', zipfile.ZIP_DEFLATED)\n",
    "    for root, dirs, files in os.walk(path):\n",
    "        for file in files:\n",
    "            zipf.write(os.path.join(root, file))\n",
    "    zipf.close()"
   ]
  },
  {
   "cell_type": "code",
   "execution_count": 6,
   "id": "c44f6474-6c14-4a0d-bdb7-68e23affe68d",
   "metadata": {},
   "outputs": [
    {
     "name": "stdout",
     "output_type": "stream",
     "text": [
      "Submission successful, please check on the coursera grader page for the status\n",
      "-------------------------\n",
      "{\"elements\":[{\"itemId\":\"MV2rL\",\"id\":\"sUpST4RAEeawAApvKZgcCQ~MV2rL~tpOEDMJdEeuMOxLSjfX30w\",\"courseId\":\"sUpST4RAEeawAApvKZgcCQ\"}],\"paging\":{},\"linked\":{}}\n",
      "-------------------------\n"
     ]
    }
   ],
   "source": [
    "import json\n",
    "\n",
    "key = \"RrIb4SHNEeiLcw7AkKxwaA\"\n",
    "part = \"zetaj\"\n",
    "email = 'alvarojzsanchez@gmail.com'###_YOUR_CODE_GOES_HERE_###\n",
    "token = 'pDuTzLHGC7uvWW41' ###_YOUR_CODE_GOES_HERE_### #you can obtain it from the grader page on Coursera (have a look here if you need more information https://youtu.be/GcDo0Rwe06U?t=276)\n",
    "\n",
    "\n",
    "submit(email, token, key, part, [part], json.dumps(23)) "
   ]
  },
  {
   "cell_type": "code",
   "execution_count": null,
   "id": "61c91a24-8ebc-4ed6-a4d7-96c3794080fb",
   "metadata": {},
   "outputs": [],
   "source": []
  }
 ],
 "metadata": {
  "kernelspec": {
   "display_name": "data_test1",
   "language": "python",
   "name": "data_test1"
  },
  "language_info": {
   "codemirror_mode": {
    "name": "ipython",
    "version": 3
   },
   "file_extension": ".py",
   "mimetype": "text/x-python",
   "name": "python",
   "nbconvert_exporter": "python",
   "pygments_lexer": "ipython3",
   "version": "3.9.4"
  }
 },
 "nbformat": 4,
 "nbformat_minor": 5
}
